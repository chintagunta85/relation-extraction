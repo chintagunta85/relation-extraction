{
 "cells": [
  {
   "cell_type": "markdown",
   "metadata": {},
   "source": [
    "Given e1_pos, e2_pos, sentence. Update the sentence to say DRUG and OTHER_DRUG and update the positions"
   ]
  },
  {
   "cell_type": "markdown",
   "metadata": {},
   "source": [
    "'The bear_e1 ran home_e2 to_e2 the mountains'"
   ]
  },
  {
   "cell_type": "code",
   "execution_count": 28,
   "metadata": {},
   "outputs": [],
   "source": [
    "%load_ext autoreload"
   ]
  },
  {
   "cell_type": "code",
   "execution_count": 36,
   "metadata": {},
   "outputs": [
    {
     "name": "stdout",
     "output_type": "stream",
     "text": [
      "[nltk_data] Downloading package wordnet to\n",
      "[nltk_data]     /afs/csail.mit.edu/u/g/geeticka/nltk_data...\n",
      "[nltk_data]   Package wordnet is already up-to-date!\n"
     ]
    }
   ],
   "source": [
    "%autoreload\n",
    "import sys\n",
    "sys.path.append('..')\n",
    "import relation_extraction.data.utils as utils\n",
    "import os\n",
    "\n",
    "RESOURCE_PATH = \"/data/medg/misc/semeval_2010/medical-data/DDICorpus/pre-processed/extraction/\"\n",
    "def res(path): return os.path.join(RESOURCE_PATH, path)"
   ]
  },
  {
   "cell_type": "code",
   "execution_count": 1,
   "metadata": {},
   "outputs": [],
   "source": [
    "sentence = 'The bear ran home to the mountains'"
   ]
  },
  {
   "cell_type": "code",
   "execution_count": 2,
   "metadata": {},
   "outputs": [],
   "source": [
    "e1_pos = (1,1)\n",
    "e2_pos = (3,4)"
   ]
  },
  {
   "cell_type": "code",
   "execution_count": 18,
   "metadata": {},
   "outputs": [],
   "source": [
    "# given a tokenized and splitted sentence\n",
    "def sentence_replace(sentence, positions, string_update):\n",
    "    return sentence[:positions[0]] + [string_update] + sentence[positions[1]+1:]"
   ]
  },
  {
   "cell_type": "code",
   "execution_count": 20,
   "metadata": {},
   "outputs": [
    {
     "data": {
      "text/plain": [
       "['The', 'bear', 'ran', 'DRUG', 'the', 'mountains']"
      ]
     },
     "execution_count": 20,
     "metadata": {},
     "output_type": "execute_result"
    }
   ],
   "source": [
    "sentence_replace(['The', 'bear', 'ran', 'home', 'to', 'the', 'mountains'], (3,4), 'DRUG')"
   ]
  },
  {
   "cell_type": "code",
   "execution_count": 24,
   "metadata": {},
   "outputs": [],
   "source": [
    "# sentence is the sentence to update and entity positions is a list of entity positions\n",
    "def per_sentence_replacement_ddi(sentence, entity_positions):\n",
    "    # if entity position is updated, then all positions after it also have to be updated\n",
    "    sentence = sentence.split() # no need to do this for the code\n",
    "    \n",
    "    e0_pos = entity_positions[0]\n",
    "    sentence = sentence_replace(sentence, e0_pos, 'DRUG1')\n",
    "    new_e0_pos = (e0_pos[0], e0_pos[0])\n",
    "   \n",
    "    entity_positions[0] = new_e0_pos\n",
    "    diff = e0_pos[1] - e0_pos[0] # if the entity is 2 word, then move every other e_pos down by 1\n",
    "    if diff > 0:\n",
    "        for i in range(1, len(entity_positions)):\n",
    "            e_pos = entity_positions[i]\n",
    "            if e_pos[0] > e0_pos[1]:\n",
    "                entity_positions[i] = (entity_positions[i][0] - diff, entity_positions[i][1] - diff)\n",
    "     \n",
    "    e1_pos = entity_positions[1]\n",
    "    sentence = sentence_replace(sentence, e1_pos, 'DRUG2')\n",
    "    new_e1_pos = (e1_pos[0], e1_pos[0])\n",
    "    \n",
    "    entity_positions[1] = new_e1_pos\n",
    "    diff = e1_pos[1] - e1_pos[0]\n",
    "    if diff > 0 and len(entity_positions) > 2:\n",
    "        for i in range(2, len(entity_positions)):\n",
    "            e_pos = entity_positions[i]\n",
    "            if e_pos[0] > e1_pos[1]:\n",
    "                entity_positions[i] = (entity_positions[i][0] - diff, entity_positions[i][1] - diff)\n",
    "    # then should handle for the case when there are more than entity 1 and entity 2 i.e. drug0 (any other drug)\n",
    "    return sentence, entity_positions"
   ]
  },
  {
   "cell_type": "code",
   "execution_count": 27,
   "metadata": {},
   "outputs": [
    {
     "data": {
      "text/plain": [
       "(['The', 'DRUG0', 'DRUG1', 'the', 'mountains'], [(1, 1), (2, 2)])"
      ]
     },
     "execution_count": 27,
     "metadata": {},
     "output_type": "execute_result"
    }
   ],
   "source": [
    "per_entity_replacement('The bear ran home to the mountains', [(1,2), (3,4)])"
   ]
  },
  {
   "cell_type": "code",
   "execution_count": 41,
   "metadata": {},
   "outputs": [],
   "source": [
    "train_data = open(res('train.txt'))\n",
    "\n",
    "train_data = utils.split_data_cut_sentence(train_data)"
   ]
  },
  {
   "cell_type": "code",
   "execution_count": 42,
   "metadata": {},
   "outputs": [],
   "source": [
    "new_train_data = utils.replace_by_drug_ddi(train_data)"
   ]
  },
  {
   "cell_type": "code",
   "execution_count": 48,
   "metadata": {},
   "outputs": [
    {
     "name": "stdout",
     "output_type": "stream",
     "text": [
      "22 8106\n",
      "['in', 'some', 'patients', ',', 'the', 'administration', 'of', 'indocin', 'can', 'reduce', 'the', 'diuretic', ',', 'natriuretic', ',', 'and', 'antihypertensive', 'effects', 'of', 'DRUG1', '.', 'DRUG2'] (19, 19) (26, 26)\n",
      "24 8107\n",
      "['in', 'some', 'patients', ',', 'the', 'administration', 'of', 'indocin', 'can', 'reduce', 'the', 'diuretic', ',', 'natriuretic', ',', 'and', 'antihypertensive', 'effects', 'of', 'loop', ',', 'DRUG1', '.', 'DRUG2'] (21, 21) (26, 26)\n",
      "37 9302\n",
      "['non', '-', 'steroidal', 'anti', '-', 'inflammatory', 'drugs', ':', 'in', 'some', 'patients', ',', 'the', 'administration', 'of', 'a', 'non', '-', 'steroidal', 'anti', '-', 'inflammatory', 'agent', 'can', 'reduce', 'the', 'diuretic', ',', 'natriuretic', ',', 'and', 'antihypertensive', 'effects', 'of', 'DRUG1', '.', 'DRUG2'] (34, 34) (40, 40)\n",
      "39 9303\n",
      "['non', '-', 'steroidal', 'anti', '-', 'inflammatory', 'drugs', ':', 'in', 'some', 'patients', ',', 'the', 'administration', 'of', 'a', 'non', '-', 'steroidal', 'anti', '-', 'inflammatory', 'agent', 'can', 'reduce', 'the', 'diuretic', ',', 'natriuretic', ',', 'and', 'antihypertensive', 'effects', 'of', 'loop', ',', 'DRUG1', '.', 'DRUG2'] (36, 36) (40, 40)\n",
      "25 11168\n",
      "['(', 'in', 'some', 'patients', ',', 'the', 'steroidal', 'anti', '-', 'inflammatory', 'agent', 'can', 'reduce', 'the', 'diuretic', ',', 'natriuretic', ',', 'and', 'antihypertensive', 'effects', 'of', 'DRUG1', '.', 'DRUG2'] (22, 22) (28, 28)\n",
      "27 11169\n",
      "['(', 'in', 'some', 'patients', ',', 'the', 'steroidal', 'anti', '-', 'inflammatory', 'agent', 'can', 'reduce', 'the', 'diuretic', ',', 'natriuretic', ',', 'and', 'antihypertensive', 'effects', 'of', 'loop', ',', 'DRUG1', '.', 'DRUG2'] (24, 24) (28, 28)\n",
      "26 12433\n",
      "['in', 'some', 'patients', ',', 'the', 'administration', 'of', 'a', 'non-', 'steroidal', 'antiinflammatory', 'agent', 'can', 'reduce', 'the', 'diuretic', ',', 'natriuretic', ',', 'and', 'antihypertensive', 'effects', 'of', 'DRUG1', '.', 'DRUG2'] (23, 23) (28, 28)\n",
      "28 12434\n",
      "['in', 'some', 'patients', ',', 'the', 'administration', 'of', 'a', 'non-', 'steroidal', 'antiinflammatory', 'agent', 'can', 'reduce', 'the', 'diuretic', ',', 'natriuretic', ',', 'and', 'antihypertensive', 'effects', 'of', 'loop', ',', 'DRUG1', '.', 'DRUG2'] (25, 25) (28, 28)\n",
      "29 12694\n",
      "['in', 'some', 'patients', ',', 'the', 'administration', 'of', 'a', 'non', '-', 'steroidal', 'anti', '-', 'inflammatory', 'agent', 'can', 'reduce', 'the', 'diuretic', ',', 'natriuretic', ',', 'and', 'antihypertensive', 'effects', 'of', 'DRUG1', '.', 'DRUG2'] (26, 26) (32, 32)\n",
      "31 12695\n",
      "['in', 'some', 'patients', ',', 'the', 'administration', 'of', 'a', 'non', '-', 'steroidal', 'anti', '-', 'inflammatory', 'agent', 'can', 'reduce', 'the', 'diuretic', ',', 'natriuretic', ',', 'and', 'antihypertensive', 'effects', 'of', 'loop', ',', 'DRUG1', '.', 'DRUG2'] (28, 28) (32, 32)\n",
      "38 16996\n",
      "['-', 'non', '-', 'steroidal', 'anti', '-', 'inflammatory', 'drugs', ':', 'in', 'some', 'patients', ',', 'the', 'administration', 'of', 'a', 'non', '-', 'steroidal', 'anti', '-', 'inflammatory', 'agent', 'can', 'reduce', 'the', 'diuretic', ',', 'natriuretic', ',', 'and', 'antihypertensive', 'effects', 'of', 'DRUG1', '.', 'DRUG2'] (35, 35) (41, 41)\n",
      "40 16997\n",
      "['-', 'non', '-', 'steroidal', 'anti', '-', 'inflammatory', 'drugs', ':', 'in', 'some', 'patients', ',', 'the', 'administration', 'of', 'a', 'non', '-', 'steroidal', 'anti', '-', 'inflammatory', 'agent', 'can', 'reduce', 'the', 'diuretic', ',', 'natriuretic', ',', 'and', 'antihypertensive', 'effects', 'of', 'loop', ',', 'DRUG1', '.', 'DRUG2'] (37, 37) (41, 41)\n"
     ]
    }
   ],
   "source": [
    "indexes = []\n",
    "sentences, relations, e1_pos, e2_pos = new_train_data\n",
    "for i in range(len(sentences)):\n",
    "    sent = sentences[i]\n",
    "    pos1 = e1_pos[i]\n",
    "    pos2 = e2_pos[i]\n",
    "    sentence_len = len(sent)\n",
    "    if(pos1[0] >= sentence_len or pos2[0] >= sentence_len):\n",
    "        print(len(sent), i)\n",
    "        indexes.append(i)\n",
    "        print(sent, pos1, pos2)"
   ]
  },
  {
   "cell_type": "code",
   "execution_count": 49,
   "metadata": {},
   "outputs": [
    {
     "name": "stdout",
     "output_type": "stream",
     "text": [
      "['in', 'some', 'patients', ',', 'the', 'administration', 'of', 'indocin', 'can', 'reduce', 'the', 'diuretic', ',', 'natriuretic', ',', 'and', 'antihypertensive', 'effects', 'of', 'loop', ',', 'potassium', '-', 'sparing', ',', 'and', 'thiazide', 'diuretics', '.'] (19, 27) (26, 27)\n",
      "['in', 'some', 'patients', ',', 'the', 'administration', 'of', 'indocin', 'can', 'reduce', 'the', 'diuretic', ',', 'natriuretic', ',', 'and', 'antihypertensive', 'effects', 'of', 'loop', ',', 'potassium', '-', 'sparing', ',', 'and', 'thiazide', 'diuretics', '.'] (21, 27) (26, 27)\n",
      "['non', '-', 'steroidal', 'anti', '-', 'inflammatory', 'drugs', ':', 'in', 'some', 'patients', ',', 'the', 'administration', 'of', 'a', 'non', '-', 'steroidal', 'anti', '-', 'inflammatory', 'agent', 'can', 'reduce', 'the', 'diuretic', ',', 'natriuretic', ',', 'and', 'antihypertensive', 'effects', 'of', 'loop', ',', 'potassium', '-', 'sparing', 'and', 'thiazide', 'diuretics', '.'] (34, 41) (40, 41)\n",
      "['non', '-', 'steroidal', 'anti', '-', 'inflammatory', 'drugs', ':', 'in', 'some', 'patients', ',', 'the', 'administration', 'of', 'a', 'non', '-', 'steroidal', 'anti', '-', 'inflammatory', 'agent', 'can', 'reduce', 'the', 'diuretic', ',', 'natriuretic', ',', 'and', 'antihypertensive', 'effects', 'of', 'loop', ',', 'potassium', '-', 'sparing', 'and', 'thiazide', 'diuretics', '.'] (36, 41) (40, 41)\n",
      "['(', 'in', 'some', 'patients', ',', 'the', 'steroidal', 'anti', '-', 'inflammatory', 'agent', 'can', 'reduce', 'the', 'diuretic', ',', 'natriuretic', ',', 'and', 'antihypertensive', 'effects', 'of', 'loop', ',', 'potassium', 'sparing', ',', 'and', 'thiazide', 'diuretics', '.'] (22, 29) (28, 29)\n",
      "['(', 'in', 'some', 'patients', ',', 'the', 'steroidal', 'anti', '-', 'inflammatory', 'agent', 'can', 'reduce', 'the', 'diuretic', ',', 'natriuretic', ',', 'and', 'antihypertensive', 'effects', 'of', 'loop', ',', 'potassium', 'sparing', ',', 'and', 'thiazide', 'diuretics', '.'] (24, 29) (28, 29)\n",
      "['in', 'some', 'patients', ',', 'the', 'administration', 'of', 'a', 'non-', 'steroidal', 'antiinflammatory', 'agent', 'can', 'reduce', 'the', 'diuretic', ',', 'natriuretic', ',', 'and', 'antihypertensive', 'effects', 'of', 'loop', ',', 'potassium-', 'sparing', 'and', 'thiazide', 'diuretics', '.'] (23, 29) (28, 29)\n",
      "['in', 'some', 'patients', ',', 'the', 'administration', 'of', 'a', 'non-', 'steroidal', 'antiinflammatory', 'agent', 'can', 'reduce', 'the', 'diuretic', ',', 'natriuretic', ',', 'and', 'antihypertensive', 'effects', 'of', 'loop', ',', 'potassium-', 'sparing', 'and', 'thiazide', 'diuretics', '.'] (25, 29) (28, 29)\n",
      "['in', 'some', 'patients', ',', 'the', 'administration', 'of', 'a', 'non', '-', 'steroidal', 'anti', '-', 'inflammatory', 'agent', 'can', 'reduce', 'the', 'diuretic', ',', 'natriuretic', ',', 'and', 'antihypertensive', 'effects', 'of', 'loop', ',', 'potassium', '-', 'sparing', 'and', 'thiazide', 'diuretics', '.'] (26, 33) (32, 33)\n",
      "['in', 'some', 'patients', ',', 'the', 'administration', 'of', 'a', 'non', '-', 'steroidal', 'anti', '-', 'inflammatory', 'agent', 'can', 'reduce', 'the', 'diuretic', ',', 'natriuretic', ',', 'and', 'antihypertensive', 'effects', 'of', 'loop', ',', 'potassium', '-', 'sparing', 'and', 'thiazide', 'diuretics', '.'] (28, 33) (32, 33)\n",
      "['-', 'non', '-', 'steroidal', 'anti', '-', 'inflammatory', 'drugs', ':', 'in', 'some', 'patients', ',', 'the', 'administration', 'of', 'a', 'non', '-', 'steroidal', 'anti', '-', 'inflammatory', 'agent', 'can', 'reduce', 'the', 'diuretic', ',', 'natriuretic', ',', 'and', 'antihypertensive', 'effects', 'of', 'loop', ',', 'potassium', '-', 'sparing', 'and', 'thiazide', 'diuretics', '.'] (35, 42) (41, 42)\n",
      "['-', 'non', '-', 'steroidal', 'anti', '-', 'inflammatory', 'drugs', ':', 'in', 'some', 'patients', ',', 'the', 'administration', 'of', 'a', 'non', '-', 'steroidal', 'anti', '-', 'inflammatory', 'agent', 'can', 'reduce', 'the', 'diuretic', ',', 'natriuretic', ',', 'and', 'antihypertensive', 'effects', 'of', 'loop', ',', 'potassium', '-', 'sparing', 'and', 'thiazide', 'diuretics', '.'] (37, 42) (41, 42)\n"
     ]
    }
   ],
   "source": [
    "sentences, relations, e1_pos, e2_pos = train_data\n",
    "for i in range(len(sentences)):\n",
    "    if i in indexes:\n",
    "        print(sentences[i], e1_pos[i], e2_pos[i])"
   ]
  },
  {
   "cell_type": "code",
   "execution_count": null,
   "metadata": {},
   "outputs": [],
   "source": []
  }
 ],
 "metadata": {
  "kernelspec": {
   "display_name": "Python 3",
   "language": "python",
   "name": "python3"
  },
  "language_info": {
   "codemirror_mode": {
    "name": "ipython",
    "version": 3
   },
   "file_extension": ".py",
   "mimetype": "text/x-python",
   "name": "python",
   "nbconvert_exporter": "python",
   "pygments_lexer": "ipython3",
   "version": "3.6.6"
  }
 },
 "nbformat": 4,
 "nbformat_minor": 2
}
