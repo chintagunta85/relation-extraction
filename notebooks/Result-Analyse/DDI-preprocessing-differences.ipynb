{
 "cells": [
  {
   "cell_type": "code",
   "execution_count": 1,
   "metadata": {},
   "outputs": [],
   "source": [
    "%load_ext autoreload"
   ]
  },
  {
   "cell_type": "code",
   "execution_count": 2,
   "metadata": {},
   "outputs": [],
   "source": [
    "%autoreload\n",
    "\n",
    "from scipy.stats import ttest_rel"
   ]
  },
  {
   "cell_type": "code",
   "execution_count": 4,
   "metadata": {},
   "outputs": [],
   "source": [
    "def paired_ttest(score1, score2):\n",
    "    all_three_macroF1_score1 = [x for x in zip(*score1)]\n",
    "    all_three_macroF1_score2 = [x for x in zip(*score2)]\n",
    "    ttests = [ttest_rel(macro_f1_score1, macro_f1_score2) \n",
    "            for macro_f1_score1, macro_f1_score2 in zip(all_three_macroF1_score1, all_three_macroF1_score2)]\n",
    "    print('5 way evaluation with none: \\t', ttests[0])\n",
    "    print('5 way evaluation without none: \\t', ttests[1])\n",
    "    print('2 way evaluation: \\t\\t', ttests[2])"
   ]
  },
  {
   "cell_type": "markdown",
   "metadata": {},
   "source": [
    "Unfiltered dataset F1 score"
   ]
  },
  {
   "cell_type": "code",
   "execution_count": 7,
   "metadata": {},
   "outputs": [],
   "source": [
    "# model ID 1c77fe3f-1b74-4f71-9620-285857e533b5 on harrison\n",
    "unfiltered = [(76.01, 71.47, 83.04), (75.86, 71.12, 84.35), \n",
    "              (77.04, 72.73, 82.75), (76.67, 72.17, 84.23), (74.85, 69.95, 83.37)]"
   ]
  },
  {
   "cell_type": "code",
   "execution_count": 8,
   "metadata": {},
   "outputs": [],
   "source": [
    "# model ID 28b59613-4a68-4952-9b3c-ee744c81ba1b on harrison\n",
    "#dataset needed to be filtered before applying drug blinding\n",
    "filtered = [(76.71, 72.06, 85.58), (77.65, 73.4, 84.13), \n",
    "            (79.69, 75.84, 85.41), (76.02, 71.44, 83.15), (76.54, 72.07, 83.14)]"
   ]
  },
  {
   "cell_type": "code",
   "execution_count": 10,
   "metadata": {},
   "outputs": [
    {
     "name": "stdout",
     "output_type": "stream",
     "text": [
      "5 way evaluation with none: \t Ttest_relResult(statistic=-2.1923855326135966, pvalue=0.09344294734324492)\n",
      "5 way evaluation without none: \t Ttest_relResult(statistic=-2.1520518561167417, pvalue=0.09775632471450965)\n",
      "2 way evaluation: \t\t Ttest_relResult(statistic=-0.9436224699375803, pvalue=0.39879235539251634)\n"
     ]
    }
   ],
   "source": [
    "paired_ttest(unfiltered, filtered)"
   ]
  },
  {
   "cell_type": "markdown",
   "metadata": {},
   "source": [
    "No statistically significant difference between performance on the filtered vs unfiltered dataset"
   ]
  },
  {
   "cell_type": "code",
   "execution_count": 9,
   "metadata": {},
   "outputs": [],
   "source": [
    "# model ID 770f36c1-6c9f-4274-a8fd-fadcdead3a76\n",
    "# filtered model and applying drug blinding to this\n",
    "filtered_drug_blinding =  [(78.94, 74.81, 85.95), (77.85, 73.65, 84.02), \n",
    "                           (78.97, 74.95, 85.08), (77.77, 73.55, 84.32), (77.47, 73.15, 83.71)]"
   ]
  },
  {
   "cell_type": "code",
   "execution_count": 11,
   "metadata": {},
   "outputs": [
    {
     "name": "stdout",
     "output_type": "stream",
     "text": [
      "5 way evaluation with none: \t Ttest_relResult(statistic=-1.6586303238408608, pvalue=0.17252941138704356)\n",
      "5 way evaluation without none: \t Ttest_relResult(statistic=-1.63390469558884, pvalue=0.17761727556669168)\n",
      "2 way evaluation: \t\t Ttest_relResult(statistic=-1.2651515151515176, pvalue=0.27449887756471075)\n"
     ]
    }
   ],
   "source": [
    "paired_ttest(filtered, filtered_drug_blinding)"
   ]
  },
  {
   "cell_type": "markdown",
   "metadata": {},
   "source": [
    "No statistically significant difference between the performance on the filtered vs filtered with drug blinding dataset. Does this mean that the 61 vs 63% difference in the performance on the test data may not be significant"
   ]
  },
  {
   "cell_type": "code",
   "execution_count": 12,
   "metadata": {},
   "outputs": [
    {
     "name": "stdout",
     "output_type": "stream",
     "text": [
      "5 way evaluation with none: \t Ttest_relResult(statistic=-6.686191722820705, pvalue=0.00260193190468295)\n",
      "5 way evaluation without none: \t Ttest_relResult(statistic=-7.133755704673987, pvalue=0.002041851833604785)\n",
      "2 way evaluation: \t\t Ttest_relResult(statistic=-1.6453684042286179, pvalue=0.17523916135247553)\n"
     ]
    }
   ],
   "source": [
    "paired_ttest(unfiltered, filtered_drug_blinding)"
   ]
  },
  {
   "cell_type": "markdown",
   "metadata": {},
   "source": [
    "### But there is a statistically significant difference between the performance on the unfiltered dataset vs the filtered drug blinding dataset. It seems like loose evaluation does not care about this though"
   ]
  },
  {
   "cell_type": "code",
   "execution_count": null,
   "metadata": {},
   "outputs": [],
   "source": []
  }
 ],
 "metadata": {
  "kernelspec": {
   "display_name": "Python 3",
   "language": "python",
   "name": "python3"
  },
  "language_info": {
   "codemirror_mode": {
    "name": "ipython",
    "version": 3
   },
   "file_extension": ".py",
   "mimetype": "text/x-python",
   "name": "python",
   "nbconvert_exporter": "python",
   "pygments_lexer": "ipython3",
   "version": "3.6.6"
  }
 },
 "nbformat": 4,
 "nbformat_minor": 2
}
