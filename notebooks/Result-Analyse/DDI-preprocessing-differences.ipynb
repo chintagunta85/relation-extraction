{
 "cells": [
  {
   "cell_type": "code",
   "execution_count": 1,
   "metadata": {},
   "outputs": [],
   "source": [
    "%load_ext autoreload"
   ]
  },
  {
   "cell_type": "code",
   "execution_count": 2,
   "metadata": {},
   "outputs": [],
   "source": [
    "%autoreload\n",
    "\n",
    "from scipy.stats import ttest_rel"
   ]
  },
  {
   "cell_type": "code",
   "execution_count": 4,
   "metadata": {},
   "outputs": [],
   "source": [
    "def paired_ttest(score1, score2):\n",
    "    all_three_macroF1_score1 = [x for x in zip(*score1)]\n",
    "    all_three_macroF1_score2 = [x for x in zip(*score2)]\n",
    "    ttests = [ttest_rel(macro_f1_score1, macro_f1_score2) \n",
    "            for macro_f1_score1, macro_f1_score2 in zip(all_three_macroF1_score1, all_three_macroF1_score2)]\n",
    "    print('5 way evaluation with none: \\t', ttests[0])\n",
    "    print('5 way evaluation without none: \\t', ttests[1])\n",
    "    print('2 way evaluation: \\t\\t', ttests[2])"
   ]
  },
  {
   "cell_type": "markdown",
   "metadata": {},
   "source": [
    "Unfiltered dataset F1 score"
   ]
  },
  {
   "cell_type": "code",
   "execution_count": 7,
   "metadata": {},
   "outputs": [],
   "source": [
    "# model ID 1c77fe3f-1b74-4f71-9620-285857e533b5 on harrison\n",
    "unfiltered = [(76.01, 71.47, 83.04), (75.86, 71.12, 84.35), \n",
    "              (77.04, 72.73, 82.75), (76.67, 72.17, 84.23), (74.85, 69.95, 83.37)]"
   ]
  },
  {
   "cell_type": "code",
   "execution_count": 8,
   "metadata": {},
   "outputs": [],
   "source": [
    "# model ID 28b59613-4a68-4952-9b3c-ee744c81ba1b on harrison\n",
    "#dataset needed to be filtered before applying drug blinding\n",
    "filtered = [(76.71, 72.06, 85.58), (77.65, 73.4, 84.13), \n",
    "            (79.69, 75.84, 85.41), (76.02, 71.44, 83.15), (76.54, 72.07, 83.14)]"
   ]
  },
  {
   "cell_type": "code",
   "execution_count": 10,
   "metadata": {},
   "outputs": [
    {
     "name": "stdout",
     "output_type": "stream",
     "text": [
      "5 way evaluation with none: \t Ttest_relResult(statistic=-2.1923855326135966, pvalue=0.09344294734324492)\n",
      "5 way evaluation without none: \t Ttest_relResult(statistic=-2.1520518561167417, pvalue=0.09775632471450965)\n",
      "2 way evaluation: \t\t Ttest_relResult(statistic=-0.9436224699375803, pvalue=0.39879235539251634)\n"
     ]
    }
   ],
   "source": [
    "paired_ttest(unfiltered, filtered)"
   ]
  },
  {
   "cell_type": "markdown",
   "metadata": {},
   "source": [
    "No statistically significant difference between performance on the filtered vs unfiltered dataset"
   ]
  },
  {
   "cell_type": "code",
   "execution_count": 9,
   "metadata": {},
   "outputs": [],
   "source": [
    "# model ID 770f36c1-6c9f-4274-a8fd-fadcdead3a76\n",
    "# filtered model and applying drug blinding to this\n",
    "filtered_drug_blinding =  [(78.94, 74.81, 85.95), (77.85, 73.65, 84.02), \n",
    "                           (78.97, 74.95, 85.08), (77.77, 73.55, 84.32), (77.47, 73.15, 83.71)]"
   ]
  },
  {
   "cell_type": "code",
   "execution_count": 11,
   "metadata": {},
   "outputs": [
    {
     "name": "stdout",
     "output_type": "stream",
     "text": [
      "5 way evaluation with none: \t Ttest_relResult(statistic=-1.6586303238408608, pvalue=0.17252941138704356)\n",
      "5 way evaluation without none: \t Ttest_relResult(statistic=-1.63390469558884, pvalue=0.17761727556669168)\n",
      "2 way evaluation: \t\t Ttest_relResult(statistic=-1.2651515151515176, pvalue=0.27449887756471075)\n"
     ]
    }
   ],
   "source": [
    "paired_ttest(filtered, filtered_drug_blinding)"
   ]
  },
  {
   "cell_type": "markdown",
   "metadata": {},
   "source": [
    "No statistically significant difference between the performance on the filtered vs filtered with drug blinding dataset. Does this mean that the 61 vs 63% difference in the performance on the test data may not be significant"
   ]
  },
  {
   "cell_type": "code",
   "execution_count": 12,
   "metadata": {},
   "outputs": [
    {
     "name": "stdout",
     "output_type": "stream",
     "text": [
      "5 way evaluation with none: \t Ttest_relResult(statistic=-6.686191722820705, pvalue=0.00260193190468295)\n",
      "5 way evaluation without none: \t Ttest_relResult(statistic=-7.133755704673987, pvalue=0.002041851833604785)\n",
      "2 way evaluation: \t\t Ttest_relResult(statistic=-1.6453684042286179, pvalue=0.17523916135247553)\n"
     ]
    }
   ],
   "source": [
    "paired_ttest(unfiltered, filtered_drug_blinding)"
   ]
  },
  {
   "cell_type": "markdown",
   "metadata": {},
   "source": [
    "another run with the filtered model"
   ]
  },
  {
   "cell_type": "markdown",
   "metadata": {},
   "source": [
    "; 77.79 +- 1.26, 73.53 +- 1.52, 84.48 +- 1.12\n",
    "Model ID 8aa5ea07-34e7-44e3-8231-4273b997d1dd on harrison\n",
    "\n"
   ]
  },
  {
   "cell_type": "markdown",
   "metadata": {},
   "source": [
    "On test data (63.17, 55.9, 79.84); model ID 5f9e3908-f6ce-4ac8-bc7d-6f312dd17df0\n",
    " On harrison\n"
   ]
  },
  {
   "cell_type": "code",
   "execution_count": 16,
   "metadata": {},
   "outputs": [],
   "source": [
    "filtered2 = [(77.6, 73.12, 86.2), (77.71, 73.48, 84.16), \n",
    "             (80.11, 76.36, 85.31), (76.35, 71.84, 83.57), (77.17, 72.86, 83.17)]\n"
   ]
  },
  {
   "cell_type": "code",
   "execution_count": 17,
   "metadata": {},
   "outputs": [
    {
     "name": "stdout",
     "output_type": "stream",
     "text": [
      "5 way evaluation with none: \t Ttest_relResult(statistic=-3.0143304704296154, pvalue=0.03938217195198861)\n",
      "5 way evaluation without none: \t Ttest_relResult(statistic=-3.0208934545146544, pvalue=0.039128869247090525)\n",
      "2 way evaluation: \t\t Ttest_relResult(statistic=-1.172589826315229, pvalue=0.30602710850218656)\n"
     ]
    }
   ],
   "source": [
    "paired_ttest(unfiltered, filtered2)"
   ]
  },
  {
   "cell_type": "markdown",
   "metadata": {},
   "source": [
    "this time it is statistically significant"
   ]
  },
  {
   "cell_type": "markdown",
   "metadata": {},
   "source": [
    "### But there is a statistically significant difference between the performance on the unfiltered dataset vs the filtered drug blinding dataset. It seems like loose evaluation does not care about this though"
   ]
  },
  {
   "cell_type": "markdown",
   "metadata": {},
   "source": [
    "# Drug blinding first, then tokenization"
   ]
  },
  {
   "cell_type": "markdown",
   "metadata": {},
   "source": [
    "Full drug blinding and replacing the numbers"
   ]
  },
  {
   "cell_type": "code",
   "execution_count": 19,
   "metadata": {},
   "outputs": [],
   "source": [
    "full_drug_blinding = [(80.32, 76.28, 88.72), (79.31, 75.11, 87.66), \n",
    "                      (82.16, 78.59, 88.73), (79.23, 74.99, 87.39), (81.08, 77.35, 87.23)]"
   ]
  },
  {
   "cell_type": "code",
   "execution_count": 20,
   "metadata": {},
   "outputs": [
    {
     "name": "stdout",
     "output_type": "stream",
     "text": [
      "5 way evaluation with none: \t Ttest_relResult(statistic=-6.792753009174252, pvalue=0.0024529422600901383)\n",
      "5 way evaluation without none: \t Ttest_relResult(statistic=-6.343791687297138, pvalue=0.0031624990097236807)\n",
      "2 way evaluation: \t\t Ttest_relResult(statistic=-7.3545150501672225, pvalue=0.0018206078451200737)\n"
     ]
    }
   ],
   "source": [
    "paired_ttest(unfiltered, full_drug_blinding)"
   ]
  },
  {
   "cell_type": "code",
   "execution_count": 21,
   "metadata": {},
   "outputs": [],
   "source": [
    "partial_drug_blinding = [(80.35, 76.4, 87.71), (77.87, 73.47, 85.82), \n",
    "                         (81.08, 77.33, 87.57), (76.93, 72.21, 86.18), (81.45, 77.79, 87.51)]"
   ]
  },
  {
   "cell_type": "code",
   "execution_count": 22,
   "metadata": {},
   "outputs": [
    {
     "name": "stdout",
     "output_type": "stream",
     "text": [
      "5 way evaluation with none: \t Ttest_relResult(statistic=-3.195513081722387, pvalue=0.03304189528052198)\n",
      "5 way evaluation without none: \t Ttest_relResult(statistic=-3.014990111951321, pvalue=0.03935662604265713)\n",
      "2 way evaluation: \t\t Ttest_relResult(statistic=-4.821552239779191, pvalue=0.008513401836436401)\n"
     ]
    }
   ],
   "source": [
    "paired_ttest(unfiltered, partial_drug_blinding)"
   ]
  },
  {
   "cell_type": "code",
   "execution_count": 23,
   "metadata": {},
   "outputs": [
    {
     "name": "stdout",
     "output_type": "stream",
     "text": [
      "5 way evaluation with none: \t Ttest_relResult(statistic=1.8119243683806907, pvalue=0.14422426435919258)\n",
      "5 way evaluation without none: \t Ttest_relResult(statistic=1.734507313221919, pvalue=0.1578483520345006)\n",
      "2 way evaluation: \t\t Ttest_relResult(statistic=2.844369953605479, pvalue=0.04666076246893745)\n"
     ]
    }
   ],
   "source": [
    "paired_ttest(full_drug_blinding, partial_drug_blinding)"
   ]
  },
  {
   "cell_type": "markdown",
   "metadata": {},
   "source": [
    "keep using full drug blinding"
   ]
  },
  {
   "cell_type": "code",
   "execution_count": null,
   "metadata": {},
   "outputs": [],
   "source": []
  }
 ],
 "metadata": {
  "kernelspec": {
   "display_name": "Python 3",
   "language": "python",
   "name": "python3"
  },
  "language_info": {
   "codemirror_mode": {
    "name": "ipython",
    "version": 3
   },
   "file_extension": ".py",
   "mimetype": "text/x-python",
   "name": "python",
   "nbconvert_exporter": "python",
   "pygments_lexer": "ipython3",
   "version": "3.6.6"
  }
 },
 "nbformat": 4,
 "nbformat_minor": 2
}
