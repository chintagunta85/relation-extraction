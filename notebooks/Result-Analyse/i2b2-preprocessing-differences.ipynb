{
 "cells": [
  {
   "cell_type": "markdown",
   "metadata": {},
   "source": [
    "# Differences that pre-processing cause to the baseline model in i2b2 data"
   ]
  },
  {
   "cell_type": "markdown",
   "metadata": {},
   "source": [
    "for reference, command that was run within scripts/ was ```CUDA_VISIBLE_DEVICES=<device_no> python main.py --<cross_validate/use_test> --dataset=i2b2 --preprocessing_type=<entity_blinding/punct_digit/punct_stop_digit> --num_epoches=100 --lr_values 0.001 0.0001 --lr_boundaries 70```\n",
    "This was gotten after preliminary hyperparameter tuning"
   ]
  },
  {
   "cell_type": "code",
   "execution_count": 23,
   "metadata": {},
   "outputs": [],
   "source": [
    "from scipy.stats import ttest_rel\n",
    "def paired_ttest(score1, score2):\n",
    "    all_three_macroF1_score1 = [x for x in zip(*score1)]\n",
    "    all_three_macroF1_score2 = [x for x in zip(*score2)]\n",
    "    ttests = [ttest_rel(macro_f1_score1, macro_f1_score2) \n",
    "            for macro_f1_score1, macro_f1_score2 in zip(all_three_macroF1_score1, all_three_macroF1_score2)]\n",
    "    print('8 way evaluation: \\t', ttests[0])\n",
    "    print('Problem-Treatment: \\t', ttests[1])\n",
    "    print('Problem-Test: \\t\\t', ttests[2])\n",
    "    print('Problem-Problem: \\t\\t', ttests[3])"
   ]
  },
  {
   "cell_type": "markdown",
   "metadata": {},
   "source": [
    "## First compare the cross validated score differences"
   ]
  },
  {
   "cell_type": "code",
   "execution_count": 2,
   "metadata": {},
   "outputs": [],
   "source": [
    "baseline_test = (84.37, 68.76, 90.68, 90.6)\n",
    "# model ID 6198ab41-3183-40f3-9254-d86a2b26e4ed on gray"
   ]
  },
  {
   "cell_type": "code",
   "execution_count": 15,
   "metadata": {},
   "outputs": [],
   "source": [
    "# Still need to run this baseline\n",
    "#baseline = currently running on harrison Feb 15, 2019\n",
    "# temp baseline for now\n",
    "# baseline = [(90.35, 84.26, 92.58, 92.86), (88.71, 77.25, 92.89, 93.27), (89.57, 81.2, 92.55, 93.16), \n",
    "#             (86.16, 75.21, 89.89, 91.82), (87.79, 78.66, 92.47, 89.47)]\n",
    "baseline = [(89.65, 83.48, 91.88, 92.04), (88.47, 79.31, 91.69, 92.31), (90.52, 83.62, 92.59, 94.02), \n",
    "            (88.07, 78.79, 92.35, 90.35), (88.73, 81.67, 92.11, 90.52)]\n",
    "# model ID de365f82-b85d-415a-acb5-c43d7e7f4040 on gray"
   ]
  },
  {
   "cell_type": "code",
   "execution_count": 16,
   "metadata": {},
   "outputs": [],
   "source": [
    "entity_blinding = [(92.94, 86.21, 92.78, 100.0), (95.76, 91.77, 95.63, 100.0), \n",
    "                   (94.79, 87.83, 95.85, 100.0), (95.7, 92.92, 94.79, 100.0), (92.96, 83.4, 94.85, 99.56)]\n",
    "# model ID 05668eeb-dc44-4fd1-8006-be1f65afc3c7 on gray"
   ]
  },
  {
   "cell_type": "code",
   "execution_count": 17,
   "metadata": {},
   "outputs": [],
   "source": [
    "punct_digit = [(89.65, 84.98, 91.37, 91.48), (88.94, 80.0, 91.88, 93.21), (90.52, 83.9, 92.55, 93.97), \n",
    "               (89.5, 82.3, 91.91, 92.58), (89.2, 81.36, 92.95, 90.99)] \n",
    "# model ID 9121bf1e-557e-46c6-9a96-d2bb394179bd on gray"
   ]
  },
  {
   "cell_type": "code",
   "execution_count": 18,
   "metadata": {},
   "outputs": [],
   "source": [
    "punct_stop_digit = [(90.12, 83.62, 90.82, 95.58), (86.32, 77.12, 90.36, 88.99), \n",
    "                    (90.76, 84.07, 92.43, 94.47), (85.2, 75.32, 88.71, 89.38), (88.03, 81.33, 90.96, 90.18)] \n",
    "# model ID 3da2c7cd-9ea0-4f79-aee4-0e714ee3146d on harrison"
   ]
  },
  {
   "cell_type": "code",
   "execution_count": 19,
   "metadata": {},
   "outputs": [
    {
     "name": "stdout",
     "output_type": "stream",
     "text": [
      "8 way evaluation: \t Ttest_relResult(statistic=-6.04357421784175, pvalue=0.00378085898207631)\n",
      "Problem-Treatment: \t Ttest_relResult(statistic=-2.7201162988132555, pvalue=0.052980501355252736)\n",
      "Problem-Test: \t\t Ttest_relResult(statistic=-5.233703287291305, pvalue=0.006367561601030022)\n",
      "Problem-Problem: \t\t Ttest_relResult(statistic=-12.780918540534149, pvalue=0.0002159650050905726)\n"
     ]
    }
   ],
   "source": [
    "paired_ttest(baseline, entity_blinding)"
   ]
  },
  {
   "cell_type": "code",
   "execution_count": 20,
   "metadata": {},
   "outputs": [
    {
     "name": "stdout",
     "output_type": "stream",
     "text": [
      "8 way evaluation: \t Ttest_relResult(statistic=-1.8154924056411164, pvalue=0.1436273789862555)\n",
      "Problem-Treatment: \t Ttest_relResult(statistic=-1.7104519892330639, pvalue=0.16235478342416396)\n",
      "Problem-Test: \t\t Ttest_relResult(statistic=-0.032705136678672427, pvalue=0.9754766119353693)\n",
      "Problem-Problem: \t\t Ttest_relResult(statistic=-1.2562526214204068, pvalue=0.2773904990319427)\n"
     ]
    }
   ],
   "source": [
    "paired_ttest(baseline, punct_digit)"
   ]
  },
  {
   "cell_type": "code",
   "execution_count": 21,
   "metadata": {},
   "outputs": [
    {
     "name": "stdout",
     "output_type": "stream",
     "text": [
      "8 way evaluation: \t Ttest_relResult(statistic=1.5273361018956584, pvalue=0.20139105244924393)\n",
      "Problem-Treatment: \t Ttest_relResult(statistic=1.4381306059681662, pvalue=0.22378129537918404)\n",
      "Problem-Test: \t\t Ttest_relResult(statistic=2.5334682029257674, pvalue=0.06442657659461247)\n",
      "Problem-Problem: \t\t Ttest_relResult(statistic=0.1151074482298427, pvalue=0.9139068913632511)\n"
     ]
    }
   ],
   "source": [
    "paired_ttest(baseline, punct_stop_digit)"
   ]
  },
  {
   "cell_type": "code",
   "execution_count": 22,
   "metadata": {},
   "outputs": [
    {
     "name": "stdout",
     "output_type": "stream",
     "text": [
      "8 way evaluation: \t Ttest_relResult(statistic=1.644629753521851, pvalue=0.17539138703962795)\n",
      "Problem-Treatment: \t Ttest_relResult(statistic=1.6911369980810078, pvalue=0.16607134645237095)\n",
      "Problem-Test: \t\t Ttest_relResult(statistic=2.7096210431538323, pvalue=0.053558274460305755)\n",
      "Problem-Problem: \t\t Ttest_relResult(statistic=0.49438617773243926, pvalue=0.6469541658397595)\n"
     ]
    }
   ],
   "source": [
    "paired_ttest(punct_digit, punct_stop_digit)"
   ]
  },
  {
   "cell_type": "markdown",
   "metadata": {},
   "source": [
    "In short, entity blinding is greatly beneficial for the i2b2 data, because it probably helps the classifier in striations between the different relation types that are specific to the problem, test and treatment. Removing punctuations and normalizing digits has no effect, and removing stop words causes no difference except for Problem-Test relations. "
   ]
  },
  {
   "cell_type": "markdown",
   "metadata": {},
   "source": [
    "Test score results for the above are (all model IDs on gray):\n",
    "\n",
    "```(84.37, 68.76, 90.68, 90.6)``` for baseline model with ID 6198ab41-3183-40f3-9254-d86a2b26e4ed\n",
    "\n",
    "```(91.48, 80.05, 94.13, 100.0)``` for entity blinding model ID 0b4e4ece-fdd5-4ab8-8ecb-293cea44f0b6\n",
    "\n",
    "```(84.77, 70.75, 90.29, 90.39)``` for punctuation removal and digit normalization with model ID 058d543a-447c-4c30-8328-6ff5312384af\n",
    "\n",
    "```(82.54, 67.23, 89.07, 87.55)``` for punctuation and stop word removal and digit normalization with model ID dbf983d2-d6ef-4be4-a1fa-6270775ec93d"
   ]
  },
  {
   "cell_type": "markdown",
   "metadata": {},
   "source": [
    "In the case of i2b2 datasets, information about the concepts is greatly beneficial in being able to classify the relations"
   ]
  }
 ],
 "metadata": {
  "kernelspec": {
   "display_name": "Python 3",
   "language": "python",
   "name": "python3"
  },
  "language_info": {
   "codemirror_mode": {
    "name": "ipython",
    "version": 3
   },
   "file_extension": ".py",
   "mimetype": "text/x-python",
   "name": "python",
   "nbconvert_exporter": "python",
   "pygments_lexer": "ipython3",
   "version": "3.6.6"
  }
 },
 "nbformat": 4,
 "nbformat_minor": 2
}
