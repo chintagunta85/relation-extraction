{
 "cells": [
  {
   "cell_type": "markdown",
   "metadata": {},
   "source": [
    "# Differences that hyperparam tuning cause to the baseline model in i2b2 data"
   ]
  },
  {
   "cell_type": "markdown",
   "metadata": {},
   "source": [
    "for reference, command that was run within scripts/ was ```CUDA_VISIBLE_DEVICES=<device_no> python main.py --<cross_validate/use_test> --dataset=i2b2 --preprocessing_type=<entity_blinding/punct_digit/punct_stop_digit> --num_epoches=150 --lr_values 0.001 0.0001 0.00001 --lr_boundaries 60 120```\n",
    "Without hyperparam tuning, the border size is just set to -1"
   ]
  },
  {
   "cell_type": "code",
   "execution_count": 1,
   "metadata": {},
   "outputs": [],
   "source": [
    "# command for the old data - just classification\n",
    "# for reference, command that was run within scripts/ was ```CUDA_VISIBLE_DEVICES=<device_no> python main.py --<cross_validate/use_test> --dataset=i2b2 --preprocessing_type=<entity_blinding/punct_digit/punct_stop_digit> --num_epoches=100 --lr_values 0.001 0.0001 --lr_boundaries 70```\n",
    "# This was gotten after preliminary hyperparameter tuning"
   ]
  },
  {
   "cell_type": "code",
   "execution_count": 2,
   "metadata": {},
   "outputs": [],
   "source": [
    "from scipy.stats import ttest_rel\n",
    "def paired_ttest(score1, score2):\n",
    "    all_three_macroF1_score1 = [x for x in zip(*score1)]\n",
    "    all_three_macroF1_score2 = [x for x in zip(*score2)]\n",
    "    ttests = [ttest_rel(macro_f1_score1, macro_f1_score2) \n",
    "            for macro_f1_score1, macro_f1_score2 in zip(all_three_macroF1_score1, all_three_macroF1_score2)]\n",
    "    print('8 way evaluation: \\t', ttests[0])\n",
    "    print('2 way evaluation: \\t', ttests[1])\n",
    "    print('Problem-Treatment: \\t', ttests[2])\n",
    "    print('Problem-Test: \\t\\t', ttests[3])\n",
    "    print('Problem-Problem: \\t\\t', ttests[4])"
   ]
  },
  {
   "cell_type": "markdown",
   "metadata": {},
   "source": [
    "## First compare the cross validated score differences"
   ]
  },
  {
   "cell_type": "code",
   "execution_count": 7,
   "metadata": {},
   "outputs": [],
   "source": [
    "baseline_test_without_hyperparam = (56.27, 82.04, 48.16, 69.6, 50.3)\n",
    "# model ID ae4c999d-2bd5-481a-a33b-a571e7df8b69"
   ]
  },
  {
   "cell_type": "code",
   "execution_count": 8,
   "metadata": {},
   "outputs": [],
   "source": [
    "# the commented out values are those for the old dataset\n",
    "# baseline_test = (84.37, 68.76, 90.68, 90.6)\n",
    "# # model ID 6198ab41-3183-40f3-9254-d86a2b26e4ed on gray - deleted (let's keep results in harrison)\n",
    "\n",
    "# below is for the new model but with the border size of 50\n",
    "# baseline_test = (62.83, 86.55, 50.1, 78.48, 47.64)\n",
    "# model ID 7789e891-fb56-433f-9e4c-006d81a89802 on harrison\n",
    "\n",
    "baseline_test_manual_hyperparam = (59.75, 83.17, 52.42, 70.91, 54.75) \n",
    "#for baseline model with ID b960aa6a-1ff1-4c76-897a-4b1d289f86eb"
   ]
  },
  {
   "cell_type": "code",
   "execution_count": 9,
   "metadata": {},
   "outputs": [],
   "source": [
    "baseline_no_hyperparam = [(65.0, 84.71, 58.8, 73.87, 62.71), (66.83, 85.48, 59.81, 75.11, 66.43), \n",
    "                          (62.22, 84.3, 52.27, 72.1, 65.28), (64.91, 86.0, 57.25, 74.25, 64.88), \n",
    "                          (63.85, 84.93, 56.98, 71.75, 64.08)]\n",
    "# model ID 50734997-a36f-4761-a3ab-8698bcdeb3f3\n",
    "# 64.56 +- 1.51 85.08 +- 0.60 57.02 +- 2.59 73.42 +- 1.29"
   ]
  },
  {
   "cell_type": "code",
   "execution_count": 10,
   "metadata": {},
   "outputs": [],
   "source": [
    "# # Still need to run this baseline\n",
    "# #baseline = currently running on harrison Feb 15, 2019\n",
    "# # temp baseline for now\n",
    "# # baseline = [(90.35, 84.26, 92.58, 92.86), (88.71, 77.25, 92.89, 93.27), (89.57, 81.2, 92.55, 93.16), \n",
    "# #             (86.16, 75.21, 89.89, 91.82), (87.79, 78.66, 92.47, 89.47)]\n",
    "# baseline = [(89.65, 83.48, 91.88, 92.04), (88.47, 79.31, 91.69, 92.31), (90.52, 83.62, 92.59, 94.02), \n",
    "#             (88.07, 78.79, 92.35, 90.35), (88.73, 81.67, 92.11, 90.52)]\n",
    "# # model ID de365f82-b85d-415a-acb5-c43d7e7f4040 on gray\n",
    "\n",
    "baseline_manual_hyperparam = [(73.82, 88.97, 68.6, 83.79, 61.61), (73.7, 88.71, 63.07, 84.99, 65.5), \n",
    "            (72.99, 88.88, 66.67, 81.54, 64.39), (72.01, 89.88, 57.96, 85.19, 64.79), \n",
    "            (72.04, 88.15, 64.34, 83.54, 61.41)]\n",
    "# model ID 3244b20d-e82f-44f1-a459-46f66e132481 in models_to_keep data medg misc "
   ]
  },
  {
   "cell_type": "code",
   "execution_count": 11,
   "metadata": {},
   "outputs": [
    {
     "name": "stdout",
     "output_type": "stream",
     "text": [
      "8 way evaluation: \t Ttest_relResult(statistic=-11.894755854015715, pvalue=0.00028611308335043187)\n",
      "2 way evaluation: \t Ttest_relResult(statistic=-14.084931095179229, pvalue=0.00014746100883775205)\n",
      "Problem-Treatment: \t Ttest_relResult(statistic=-2.9477469546016826, pvalue=0.04206351209638335)\n",
      "Problem-Test: \t\t Ttest_relResult(statistic=-24.344123514167855, pvalue=1.6892929037516975e-05)\n",
      "Problem-Problem: \t\t Ttest_relResult(statistic=2.6957908621223776, pvalue=0.05433078538633436)\n"
     ]
    }
   ],
   "source": [
    "paired_ttest(baseline_no_hyperparam, baseline_manual_hyperparam)"
   ]
  },
  {
   "cell_type": "markdown",
   "metadata": {},
   "source": [
    "Doing even manual hyperparameter tuning causes statistically significant differences for the model"
   ]
  },
  {
   "cell_type": "markdown",
   "metadata": {},
   "source": [
    "Test score results for the above are: (border size -1) \n",
    "\n",
    "```(56.27, 82.04, 48.16, 69.6, 50.3)``` for elmo model with model ID ae4c999d-2bd5-481a-a33b-a571e7df8b69\n",
    "\n",
    "```(59.75, 83.17, 52.42, 70.91, 54.75)``` for baseline model with manual hyperparam ID b960aa6a-1ff1-4c76-897a-4b1d289f86eb\n",
    "\n",
    "```TODO``` for baseline model with random search with ID c1a272c2-0268-4641-bb7d-be7e32d3b836"
   ]
  }
 ],
 "metadata": {
  "kernelspec": {
   "display_name": "Python 3",
   "language": "python",
   "name": "python3"
  },
  "language_info": {
   "codemirror_mode": {
    "name": "ipython",
    "version": 3
   },
   "file_extension": ".py",
   "mimetype": "text/x-python",
   "name": "python",
   "nbconvert_exporter": "python",
   "pygments_lexer": "ipython3",
   "version": "3.6.6"
  }
 },
 "nbformat": 4,
 "nbformat_minor": 2
}
