{
 "cells": [
  {
   "cell_type": "markdown",
   "metadata": {},
   "source": [
    "# Differences that hyperparam tuning cause to the baseline model in i2b2 data"
   ]
  },
  {
   "cell_type": "markdown",
   "metadata": {},
   "source": [
    "for reference, command that was run within scripts/ was ```CUDA_VISIBLE_DEVICES=<device_no> python main.py --<cross_validate/use_test> --dataset=i2b2 --border_size=-1 --preprocessing_type=<entity_blinding/punct_digit/punct_stop_digit> --num_epoches=150 --lr_values 0.001 0.0001 0.00001 --lr_boundaries 60 120```\n",
    "Without hyperparam tuning, the border size is just set to -1"
   ]
  },
  {
   "cell_type": "markdown",
   "metadata": {},
   "source": [
    "for reference, random search command that was run within scripts/ was ```CUDA_VISIBLE_DEVICES=<device_no> python main.py --<cross_validate/use_test> --dataset=i2b2 --border_size=-1 --preprocessing_type=<entity_blinding/punct_digit/punct_stop_digit> --num_epoches=203 --lr_values 0.001 0.00014 --lr_boundaries 101 --filter_sizes=3,4,5 --batch_size=81 --early_stop --patience=40 --use_test```\n",
    "Without hyperparam tuning, the border size is just set to -1"
   ]
  },
  {
   "cell_type": "code",
   "execution_count": 12,
   "metadata": {},
   "outputs": [],
   "source": [
    "# command for the old data - just classification\n",
    "# for reference, command that was run within scripts/ was ```CUDA_VISIBLE_DEVICES=<device_no> python main.py --<cross_validate/use_test> --dataset=i2b2 --preprocessing_type=<entity_blinding/punct_digit/punct_stop_digit> --num_epoches=100 --lr_values 0.001 0.0001 --lr_boundaries 70```\n",
    "# This was gotten after preliminary hyperparameter tuning"
   ]
  },
  {
   "cell_type": "code",
   "execution_count": 13,
   "metadata": {},
   "outputs": [],
   "source": [
    "from scipy.stats import ttest_rel\n",
    "def paired_ttest(score1, score2):\n",
    "    all_three_macroF1_score1 = [x for x in zip(*score1)]\n",
    "    all_three_macroF1_score2 = [x for x in zip(*score2)]\n",
    "    ttests = [ttest_rel(macro_f1_score1, macro_f1_score2) \n",
    "            for macro_f1_score1, macro_f1_score2 in zip(all_three_macroF1_score1, all_three_macroF1_score2)]\n",
    "    print('8 way evaluation: \\t', ttests[0])\n",
    "    print('2 way evaluation: \\t', ttests[1])\n",
    "    print('Problem-Treatment: \\t', ttests[2])\n",
    "    print('Problem-Test: \\t\\t', ttests[3])\n",
    "    print('Problem-Problem: \\t\\t', ttests[4])"
   ]
  },
  {
   "cell_type": "markdown",
   "metadata": {},
   "source": [
    "## First compare the cross validated score differences"
   ]
  },
  {
   "cell_type": "code",
   "execution_count": 14,
   "metadata": {},
   "outputs": [],
   "source": [
    "# border size -1\n",
    "baseline_test_without_hyperparam = (55.15, 81.98, 45.48, 69.5, 49.9)\n",
    "# model ID 58445094-29ca-4aff-9ddd-e04b3716482d\n",
    "\n",
    "# rerun\n",
    "# baseline_test_without_hyperparam = (56.27, 82.04, 48.16, 69.6, 50.3)\n",
    "# model ID ae4c999d-2bd5-481a-a33b-a571e7df8b69"
   ]
  },
  {
   "cell_type": "code",
   "execution_count": 15,
   "metadata": {},
   "outputs": [],
   "source": [
    "# the commented out values are those for the old dataset\n",
    "# baseline_test = (84.37, 68.76, 90.68, 90.6)\n",
    "# # model ID 6198ab41-3183-40f3-9254-d86a2b26e4ed on gray - deleted (let's keep results in harrison)\n",
    "\n",
    "# below is for the new model but with the border size of 50\n",
    "# baseline_test = (62.83, 86.55, 50.1, 78.48, 47.64)\n",
    "# model ID 7789e891-fb56-433f-9e4c-006d81a89802 on harrison\n",
    "\n",
    "# border size -1 \n",
    "baseline_test_manual_hyperparam = (59.75, 83.17, 52.42, 70.91, 54.75) \n",
    "#for baseline model with ID b960aa6a-1ff1-4c76-897a-4b1d289f86eb"
   ]
  },
  {
   "cell_type": "code",
   "execution_count": 16,
   "metadata": {},
   "outputs": [],
   "source": [
    "# border size -1\n",
    "baseline_no_hyperparam = [(65.0, 84.71, 58.8, 73.87, 62.71), (66.83, 85.48, 59.81, 75.11, 66.43), \n",
    "                          (62.22, 84.3, 52.27, 72.1, 65.28), (64.91, 86.0, 57.25, 74.25, 64.88), \n",
    "                          (63.85, 84.93, 56.98, 71.75, 64.08)]\n",
    "# model ID 50734997-a36f-4761-a3ab-8698bcdeb3f3\n",
    "# 64.56 +- 1.51 85.08 +- 0.60 57.02 +- 2.59 73.42 +- 1.29"
   ]
  },
  {
   "cell_type": "code",
   "execution_count": 17,
   "metadata": {},
   "outputs": [],
   "source": [
    "# border size -1 \n",
    "baseline_manual_hyperparam = [(65.9, 84.32, 59.26, 74.53, 64.14), \n",
    "                              (66.88, 84.65, 59.85, 75.0, 66.89), (64.47, 84.65, 57.88, 72.49, 63.76), \n",
    "                              (66.46, 85.22, 59.23, 76.21, 64.29), (64.99, 85.56, 56.87, 74.01, 65.54)]\n",
    "# model ID 29b17c17-7a8c-4a52-829f-d3d27a9e8ccf\n",
    "# 65.74 +- 0.90 84.88 +- 0.45 58.62 +- 1.09 74.45 +- 1.22\n",
    "\n",
    "# re-run\n",
    "\n",
    "# # Still need to run this baseline\n",
    "# #baseline = currently running on harrison Feb 15, 2019\n",
    "# # temp baseline for now\n",
    "# # baseline = [(90.35, 84.26, 92.58, 92.86), (88.71, 77.25, 92.89, 93.27), (89.57, 81.2, 92.55, 93.16), \n",
    "# #             (86.16, 75.21, 89.89, 91.82), (87.79, 78.66, 92.47, 89.47)]\n",
    "# baseline = [(89.65, 83.48, 91.88, 92.04), (88.47, 79.31, 91.69, 92.31), (90.52, 83.62, 92.59, 94.02), \n",
    "#             (88.07, 78.79, 92.35, 90.35), (88.73, 81.67, 92.11, 90.52)]\n",
    "# # model ID de365f82-b85d-415a-acb5-c43d7e7f4040 on gray\n",
    "\n",
    "# baseline_manual_hyperparam = [(73.82, 88.97, 68.6, 83.79, 61.61), (73.7, 88.71, 63.07, 84.99, 65.5), \n",
    "#             (72.99, 88.88, 66.67, 81.54, 64.39), (72.01, 89.88, 57.96, 85.19, 64.79), \n",
    "#             (72.04, 88.15, 64.34, 83.54, 61.41)]\n",
    "# model ID 3244b20d-e82f-44f1-a459-46f66e132481 in models_to_keep data medg misc "
   ]
  },
  {
   "cell_type": "code",
   "execution_count": 18,
   "metadata": {},
   "outputs": [],
   "source": [
    "# with border size -1 \n",
    "baseline_random_hyperparam = [(55.11, 80.26, 47.44, 66.81, 49.41), (59.73, 82.36, 49.9, 72.89, 57.04), \n",
    "                              (55.62, 79.07, 46.36, 67.79, 52.94), (57.07, 81.2, 49.63, 72.93, 45.76), \n",
    "                              (56.3, 82.39, 46.53, 71.17, 51.41)]\n",
    "# model ID 5ae0c218-713a-4c31-8fb9-bb388533ef04\n",
    "# 56.77 +- 1.62 81.06 +- 1.27 47.97 +- 1.51 70.32 +- 2.56"
   ]
  },
  {
   "cell_type": "code",
   "execution_count": 19,
   "metadata": {},
   "outputs": [
    {
     "name": "stdout",
     "output_type": "stream",
     "text": [
      "8 way evaluation: \t Ttest_relResult(statistic=-3.2431491769651255, pvalue=0.03157968518004492)\n",
      "2 way evaluation: \t Ttest_relResult(statistic=0.6875432402479734, pvalue=0.5295325222407644)\n",
      "Problem-Treatment: \t Ttest_relResult(statistic=-1.4921193122032836, pvalue=0.2099459400130662)\n",
      "Problem-Test: \t\t Ttest_relResult(statistic=-2.245633660260455, pvalue=0.08807017396658556)\n",
      "Problem-Problem: \t\t Ttest_relResult(statistic=-0.4272345562173378, pvalue=0.691202296234259)\n"
     ]
    }
   ],
   "source": [
    "paired_ttest(baseline_no_hyperparam, baseline_manual_hyperparam)"
   ]
  },
  {
   "cell_type": "code",
   "execution_count": 20,
   "metadata": {},
   "outputs": [
    {
     "name": "stdout",
     "output_type": "stream",
     "text": [
      "8 way evaluation: \t Ttest_relResult(statistic=13.822477768203074, pvalue=0.00015878293627311681)\n",
      "2 way evaluation: \t Ttest_relResult(statistic=7.856256332358855, pvalue=0.0014183286049244297)\n",
      "Problem-Treatment: \t Ttest_relResult(statistic=9.063560166261023, pvalue=0.0008213120216588297)\n",
      "Problem-Test: \t\t Ttest_relResult(statistic=2.6449241441073825, pvalue=0.0572847235323811)\n",
      "Problem-Problem: \t\t Ttest_relResult(statistic=8.413645523905794, pvalue=0.001092401759049886)\n"
     ]
    }
   ],
   "source": [
    "paired_ttest(baseline_no_hyperparam, baseline_random_hyperparam)"
   ]
  },
  {
   "cell_type": "code",
   "execution_count": 21,
   "metadata": {},
   "outputs": [
    {
     "name": "stdout",
     "output_type": "stream",
     "text": [
      "8 way evaluation: \t Ttest_relResult(statistic=15.285087997849478, pvalue=0.00010685320846233638)\n",
      "2 way evaluation: \t Ttest_relResult(statistic=7.005895913644094, pvalue=0.0021852237889727066)\n",
      "Problem-Treatment: \t Ttest_relResult(statistic=24.377709483172595, pvalue=1.6800542540680403e-05)\n",
      "Problem-Test: \t\t Ttest_relResult(statistic=4.163441841491201, pvalue=0.014105819074096816)\n",
      "Problem-Problem: \t\t Ttest_relResult(statistic=8.81845212796556, pvalue=0.0009125115841672963)\n"
     ]
    }
   ],
   "source": [
    "paired_ttest(baseline_manual_hyperparam, baseline_random_hyperparam)"
   ]
  },
  {
   "cell_type": "markdown",
   "metadata": {},
   "source": [
    "Doing even manual hyperparameter tuning causes statistically significant differences for the model"
   ]
  },
  {
   "cell_type": "markdown",
   "metadata": {},
   "source": [
    "Test score results for the above are: (border size -1) \n",
    "\n",
    "```(55.15, 81.98, 45.48, 69.5, 49.9)``` for baseline model without hyperparam tuning model ID 58445094-29ca-4aff-9ddd-e04b3716482d\n",
    "\n",
    "```(59.75, 83.17, 52.42, 70.91, 54.75)``` for baseline model with manual hyperparam ID b960aa6a-1ff1-4c76-897a-4b1d289f86eb\n",
    "\n",
    "```(55.0, 80.77, 45.8, 68.96, 48.54)``` for baseline model with random search with ID bda1a4e9-1b22-40ca-bcc7-b876259c47bd"
   ]
  },
  {
   "cell_type": "markdown",
   "metadata": {},
   "source": [
    "Additional tests"
   ]
  },
  {
   "cell_type": "markdown",
   "metadata": {},
   "source": [
    "`(63.63, 83.17, 53.49, 74.23, 63.33)` for baseline model with entity blinding and random search hyperparams with ID 8a7e7746-f536-4890-a2dd-efd70f16f997\n",
    "\n",
    "`(57.27, 83.7, 47.84, 72.03, 51.21)` for baseline model with piecewise pool and random search with ID b7751c8e-6b24-47ea-8b50-737a37063b84\n",
    "\n",
    "`(68.09, 85.39, 56.99, 77.53, 71.96)` for baseline model with entity blinding and piecewise pool and random search with elmo with ID 7d4012a4-60a9-4338-9805-c159908ad181"
   ]
  },
  {
   "cell_type": "code",
   "execution_count": 3,
   "metadata": {},
   "outputs": [],
   "source": [
    "entity_blinding_random_search = [(64.88, 82.61, 58.25, 72.22, 64.81), \n",
    "                                 (65.55, 83.68, 61.8, 71.49, 61.86), (63.25, 82.93, 56.06, 69.28, 66.2), \n",
    "                                 (66.72, 83.85, 62.1, 73.16, 64.47), (65.45, 82.59, 58.78, 71.85, 66.21)]\n",
    "# model ID 9117c03f-5c5c-485a-a700-1350071747b8\n",
    "# 65.17 +- 1.13 83.13 +- 0.53 59.40 +- 2.28 71.60 +- 1.29"
   ]
  },
  {
   "cell_type": "code",
   "execution_count": 4,
   "metadata": {},
   "outputs": [],
   "source": [
    "piecewise_pool_random_search = [(58.96, 82.71, 51.33, 67.63, 59.39), (62.85, 85.29, 56.78, 71.73, 59.86), \n",
    "                                (60.33, 82.98, 54.13, 72.29, 53.33), (62.1, 84.92, 54.48, 74.84, 56.54), \n",
    "                                (61.41, 84.63, 54.39, 73.48, 56.12)]\n",
    "# model ID 83cfa8d8-f6f4-48a2-ac9f-37d254065eff\n",
    "# 61.13 +- 1.37 84.11 +- 1.05 54.22 +- 1.73 71.99 +- 2.43"
   ]
  },
  {
   "cell_type": "code",
   "execution_count": null,
   "metadata": {},
   "outputs": [],
   "source": []
  }
 ],
 "metadata": {
  "kernelspec": {
   "display_name": "Python 3",
   "language": "python",
   "name": "python3"
  },
  "language_info": {
   "codemirror_mode": {
    "name": "ipython",
    "version": 3
   },
   "file_extension": ".py",
   "mimetype": "text/x-python",
   "name": "python",
   "nbconvert_exporter": "python",
   "pygments_lexer": "ipython3",
   "version": "3.6.6"
  }
 },
 "nbformat": 4,
 "nbformat_minor": 2
}
