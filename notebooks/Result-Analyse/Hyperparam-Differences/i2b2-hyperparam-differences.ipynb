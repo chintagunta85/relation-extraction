{
 "cells": [
  {
   "cell_type": "markdown",
   "metadata": {},
   "source": [
    "# Differences that hyperparam tuning cause to the baseline model in i2b2 data"
   ]
  },
  {
   "cell_type": "markdown",
   "metadata": {},
   "source": [
    "for reference, command that was run within scripts/ was ```CUDA_VISIBLE_DEVICES=<device_no> python main.py --<cross_validate/use_test> --dataset=i2b2 --border_size=-1 --preprocessing_type=<entity_blinding/punct_digit/punct_stop_digit> --num_epoches=150 --lr_values 0.001 0.0001 0.00001 --lr_boundaries 60 120```\n",
    "Without hyperparam tuning, the border size is just set to -1"
   ]
  },
  {
   "cell_type": "markdown",
   "metadata": {},
   "source": [
    "for reference, random search command that was run within scripts/ was ```CUDA_VISIBLE_DEVICES=<device_no> python main.py --<cross_validate/use_test> --dataset=i2b2 --border_size=-1 --preprocessing_type=<entity_blinding/punct_digit/punct_stop_digit> --num_epoches=203 --lr_values 0.001 0.00014 --lr_boundaries 101 --filter_sizes=3,4,5 --batch_size=81 --early_stop --patience=40 --use_test```\n",
    "Without hyperparam tuning, the border size is just set to -1"
   ]
  },
  {
   "cell_type": "code",
   "execution_count": 12,
   "metadata": {},
   "outputs": [],
   "source": [
    "# command for the old data - just classification\n",
    "# for reference, command that was run within scripts/ was ```CUDA_VISIBLE_DEVICES=<device_no> python main.py --<cross_validate/use_test> --dataset=i2b2 --preprocessing_type=<entity_blinding/punct_digit/punct_stop_digit> --num_epoches=100 --lr_values 0.001 0.0001 --lr_boundaries 70```\n",
    "# This was gotten after preliminary hyperparameter tuning"
   ]
  },
  {
   "cell_type": "code",
   "execution_count": 32,
   "metadata": {},
   "outputs": [],
   "source": [
    "from scipy.stats import ttest_rel\n",
    "def paired_ttest(score1, score2):\n",
    "    all_three_macroF1_score1 = [x for x in zip(*score1)]\n",
    "    all_three_macroF1_score2 = [x for x in zip(*score2)]\n",
    "    ttests = [ttest_rel(macro_f1_score1, macro_f1_score2) \n",
    "            for macro_f1_score1, macro_f1_score2 in zip(all_three_macroF1_score1, all_three_macroF1_score2)]\n",
    "    print('8 way evaluation: \\t', ttests[0])\n",
    "    print('2 way evaluation: \\t', ttests[1])\n",
    "    print('Problem-Treatment: \\t', ttests[2])\n",
    "    print('Problem-Test: \\t\\t', ttests[3])\n",
    "    print('Problem-Problem: \\t\\t', ttests[4])"
   ]
  },
  {
   "cell_type": "markdown",
   "metadata": {},
   "source": [
    "## First compare the cross validated score differences"
   ]
  },
  {
   "cell_type": "code",
   "execution_count": 33,
   "metadata": {},
   "outputs": [],
   "source": [
    "# border size -1\n",
    "baseline_test_without_hyperparam = (55.15, 81.98, 45.48, 69.5, 49.9)\n",
    "# model ID 58445094-29ca-4aff-9ddd-e04b3716482d\n",
    "\n",
    "# rerun\n",
    "# baseline_test_without_hyperparam = (56.27, 82.04, 48.16, 69.6, 50.3)\n",
    "# model ID ae4c999d-2bd5-481a-a33b-a571e7df8b69"
   ]
  },
  {
   "cell_type": "code",
   "execution_count": 34,
   "metadata": {},
   "outputs": [],
   "source": [
    "# the commented out values are those for the old dataset\n",
    "# baseline_test = (84.37, 68.76, 90.68, 90.6)\n",
    "# # model ID 6198ab41-3183-40f3-9254-d86a2b26e4ed on gray - deleted (let's keep results in harrison)\n",
    "\n",
    "# below is for the new model but with the border size of 50\n",
    "# baseline_test = (62.83, 86.55, 50.1, 78.48, 47.64)\n",
    "# model ID 7789e891-fb56-433f-9e4c-006d81a89802 on harrison\n",
    "\n",
    "# border size -1 \n",
    "baseline_test_manual_hyperparam = (59.75, 83.17, 52.42, 70.91, 54.75) \n",
    "#for baseline model with ID b960aa6a-1ff1-4c76-897a-4b1d289f86eb"
   ]
  },
  {
   "cell_type": "code",
   "execution_count": 35,
   "metadata": {},
   "outputs": [],
   "source": [
    "baseline_no_hyperparam = [(65.99, 86.24, 57.61, 75.28, 67.35), (68.13, 86.81, 60.3, 76.99, 68.33), \n",
    "                          (69.6, 87.59, 63.52, 77.98, 68.07), (64.45, 85.92, 58.16, 71.14, 65.73), \n",
    "                          (68.23, 86.29, 63.02, 77.38, 64.05)]\n",
    "# model ID 7d9a45fe-19ed-4296-8e62-b91d268f7b61\n",
    "# 67.28 +- 1.83 86.57 +- 0.58 60.52 +- 2.42 75.75 +- 2.48\n",
    "\n",
    "# #rerun\n",
    "# baseline_no_hyperparam = [(64.64, 84.56, 60.0, 72.84, 60.0), (65.93, 85.24, 59.09, 74.62, 64.52), \n",
    "#                           (63.09, 84.89, 53.14, 73.28, 65.96), (65.1, 85.66, 56.87, 74.61, 65.55), \n",
    "#                           (63.46, 84.83, 56.07, 73.52, 61.09)]\n",
    "# # model ID bc8e761d-abea-4be2-8e6f-9f08415dd8b3\n",
    "# # 64.44 +- 1.05 85.04 +- 0.38 57.03 +- 2.41 73.77 +- 0.72\n",
    "\n",
    "\n",
    "# # border size -1\n",
    "# # baseline_no_hyperparam = [(65.0, 84.71, 58.8, 73.87, 62.71), (66.83, 85.48, 59.81, 75.11, 66.43), \n",
    "# #                           (62.22, 84.3, 52.27, 72.1, 65.28), (64.91, 86.0, 57.25, 74.25, 64.88), \n",
    "# #                           (63.85, 84.93, 56.98, 71.75, 64.08)]\n",
    "# # model ID 50734997-a36f-4761-a3ab-8698bcdeb3f3\n",
    "# # 64.56 +- 1.51 85.08 +- 0.60 57.02 +- 2.59 73.42 +- 1.29"
   ]
  },
  {
   "cell_type": "code",
   "execution_count": 36,
   "metadata": {},
   "outputs": [],
   "source": [
    "# results on the cross validation reporting \n",
    "baseline_manual_hyperparam = [(68.75, 86.54, 62.35, 75.95, 68.24), (71.29, 87.1, 65.38, 78.26, 70.25), \n",
    "            (70.53, 87.05, 64.92, 77.36, 70.16), (69.66, 85.72, 64.75, 77.12, 66.44), \n",
    "            (70.26, 85.85, 64.99, 77.46, 68.4)]\n",
    "# model ID cd087669-3124-4899-ae93-107abfaa13a6\n",
    "# 70.10 +- 0.85 86.45 +- 0.58 64.48 +- 1.08 77.23 +- 0.75\n",
    "\n",
    "# # rerun\n",
    "\n",
    "# baseline_manual_hyperparam = [(66.77, 84.07, 61.48, 74.21, 64.36), (67.44, 85.19, 61.16, 76.38, 65.12), \n",
    "#                               (65.5, 84.55, 58.89, 73.08, 65.56), (66.93, 85.41, 60.82, 74.45, 66.01), \n",
    "#                               (65.19, 85.07, 59.53, 73.13, 62.84)]\n",
    "# # model ID c9b6d4cf-ed89-4a8e-8684-16de424b4952\n",
    "# # 66.37 +- 0.87 84.86 +- 0.48 60.38 +- 1.00 74.25 +- 1.20\n",
    "\n",
    "\n",
    "# # border size -1 \n",
    "# # baseline_manual_hyperparam = [(65.9, 84.32, 59.26, 74.53, 64.14), \n",
    "# #                               (66.88, 84.65, 59.85, 75.0, 66.89), (64.47, 84.65, 57.88, 72.49, 63.76), \n",
    "# #                               (66.46, 85.22, 59.23, 76.21, 64.29), (64.99, 85.56, 56.87, 74.01, 65.54)]\n",
    "# # model ID 29b17c17-7a8c-4a52-829f-d3d27a9e8ccf\n",
    "# # 65.74 +- 0.90 84.88 +- 0.45 58.62 +- 1.09 74.45 +- 1.22\n",
    "\n",
    "# # re-run\n",
    "\n",
    "# # # Still need to run this baseline\n",
    "# # #baseline = currently running on harrison Feb 15, 2019\n",
    "# # # temp baseline for now\n",
    "# # # baseline = [(90.35, 84.26, 92.58, 92.86), (88.71, 77.25, 92.89, 93.27), (89.57, 81.2, 92.55, 93.16), \n",
    "# # #             (86.16, 75.21, 89.89, 91.82), (87.79, 78.66, 92.47, 89.47)]\n",
    "# # baseline = [(89.65, 83.48, 91.88, 92.04), (88.47, 79.31, 91.69, 92.31), (90.52, 83.62, 92.59, 94.02), \n",
    "# #             (88.07, 78.79, 92.35, 90.35), (88.73, 81.67, 92.11, 90.52)]\n",
    "# # # model ID de365f82-b85d-415a-acb5-c43d7e7f4040 on gray\n",
    "\n",
    "# # baseline_manual_hyperparam = [(73.82, 88.97, 68.6, 83.79, 61.61), (73.7, 88.71, 63.07, 84.99, 65.5), \n",
    "# #             (72.99, 88.88, 66.67, 81.54, 64.39), (72.01, 89.88, 57.96, 85.19, 64.79), \n",
    "# #             (72.04, 88.15, 64.34, 83.54, 61.41)]\n",
    "# # model ID 3244b20d-e82f-44f1-a459-46f66e132481 in models_to_keep data medg misc "
   ]
  },
  {
   "cell_type": "code",
   "execution_count": 37,
   "metadata": {},
   "outputs": [],
   "source": [
    "baseline_random_hyperparam = [(59.94, 82.83, 50.73, 71.49, 59.21), (61.11, 81.88, 53.04, 70.47, 60.35), \n",
    "                              (62.35, 83.28, 56.02, 72.65, 57.98), (61.62, 83.08, 56.29, 70.91, 56.12), \n",
    "                              (58.27, 82.57, 50.46, 72.81, 50.35)]\n",
    "# model ID 4572528f-618a-4d97-a5c2-a35d1f62e515\n",
    "# 60.66 +- 1.43 82.73 +- 0.49 53.31 +- 2.49 71.67 +- 0.93\n",
    "\n",
    "# # rerun\n",
    "# baseline_random_hyperparam = [(57.25, 80.95, 50.56, 66.94, 53.14), (57.97, 81.13, 52.32, 69.01, 51.05), \n",
    "#                               (59.17, 81.96, 51.23, 68.57, 58.82), (58.26, 82.18, 48.53, 74.84, 50.18), \n",
    "#                               (54.28, 81.22, 44.98, 65.62, 52.67)]\n",
    "# # model ID fec1337d-8149-4f31-ba81-4cd85b2597e1\n",
    "# # 57.39 +- 1.67 81.49 +- 0.49 49.52 +- 2.59 69.00 +- 3.16\n",
    "\n",
    "# # with border size -1 \n",
    "# # baseline_random_hyperparam = [(55.11, 80.26, 47.44, 66.81, 49.41), (59.73, 82.36, 49.9, 72.89, 57.04), \n",
    "# #                               (55.62, 79.07, 46.36, 67.79, 52.94), (57.07, 81.2, 49.63, 72.93, 45.76), \n",
    "# #                               (56.3, 82.39, 46.53, 71.17, 51.41)]\n",
    "# # model ID 5ae0c218-713a-4c31-8fb9-bb388533ef04\n",
    "# # 56.77 +- 1.62 81.06 +- 1.27 47.97 +- 1.51 70.32 +- 2.56"
   ]
  },
  {
   "cell_type": "code",
   "execution_count": 38,
   "metadata": {},
   "outputs": [
    {
     "name": "stdout",
     "output_type": "stream",
     "text": [
      "8 way evaluation: \t Ttest_relResult(statistic=-3.979789339736167, pvalue=0.016404005833384)\n",
      "2 way evaluation: \t Ttest_relResult(statistic=0.6650235967205687, pvalue=0.5424172650479608)\n",
      "Problem-Treatment: \t Ttest_relResult(statistic=-4.027799066927493, pvalue=0.015762255544740627)\n",
      "Problem-Test: \t\t Ttest_relResult(statistic=-1.262874092813793, pvalue=0.27523614550708275)\n",
      "Problem-Problem: \t\t Ttest_relResult(statistic=-3.0677246197655377, pvalue=0.03737577342852705)\n"
     ]
    }
   ],
   "source": [
    "paired_ttest(baseline_no_hyperparam, baseline_manual_hyperparam)"
   ]
  },
  {
   "cell_type": "code",
   "execution_count": 39,
   "metadata": {},
   "outputs": [
    {
     "name": "stdout",
     "output_type": "stream",
     "text": [
      "8 way evaluation: \t Ttest_relResult(statistic=5.763549636914447, pvalue=0.00449673335694187)\n",
      "2 way evaluation: \t Ttest_relResult(statistic=10.638863890364282, pvalue=0.00044199110943028865)\n",
      "Problem-Treatment: \t Ttest_relResult(statistic=4.260757652987647, pvalue=0.013045729894992968)\n",
      "Problem-Test: \t\t Ttest_relResult(statistic=3.8403620380423997, pvalue=0.0184538311932481)\n",
      "Problem-Problem: \t\t Ttest_relResult(statistic=9.587083337001186, pvalue=0.000661520530702152)\n"
     ]
    }
   ],
   "source": [
    "paired_ttest(baseline_no_hyperparam, baseline_random_hyperparam)"
   ]
  },
  {
   "cell_type": "code",
   "execution_count": 40,
   "metadata": {},
   "outputs": [
    {
     "name": "stdout",
     "output_type": "stream",
     "text": [
      "8 way evaluation: \t Ttest_relResult(statistic=12.732018918855536, pvalue=0.0002192346926080461)\n",
      "2 way evaluation: \t Ttest_relResult(statistic=8.762328685628916, pvalue=0.0009351338891485921)\n",
      "Problem-Treatment: \t Ttest_relResult(statistic=9.91997715931008, pvalue=0.0005797554753873532)\n",
      "Problem-Test: \t\t Ttest_relResult(statistic=8.712958400942684, pvalue=0.0009556113512368807)\n",
      "Problem-Problem: \t\t Ttest_relResult(statistic=7.333009881209921, pvalue=0.0018408139864711048)\n"
     ]
    }
   ],
   "source": [
    "paired_ttest(baseline_manual_hyperparam, baseline_random_hyperparam)"
   ]
  },
  {
   "cell_type": "markdown",
   "metadata": {},
   "source": [
    "Doing even manual hyperparameter tuning causes statistically significant differences for the model"
   ]
  },
  {
   "cell_type": "markdown",
   "metadata": {},
   "source": [
    "Test score results for the above are: (border size -1) \n",
    "\n",
    "```(55.15, 81.98, 45.48, 69.5, 49.9)``` for baseline model without hyperparam tuning model ID 58445094-29ca-4aff-9ddd-e04b3716482d\n",
    "\n",
    "```(59.75, 83.17, 52.42, 70.91, 54.75)``` for baseline model with manual hyperparam ID b960aa6a-1ff1-4c76-897a-4b1d289f86eb\n",
    "\n",
    "```(55.0, 80.77, 45.8, 68.96, 48.54)``` for baseline model with random search with ID bda1a4e9-1b22-40ca-bcc7-b876259c47bd"
   ]
  },
  {
   "cell_type": "markdown",
   "metadata": {},
   "source": [
    "Additional tests"
   ]
  },
  {
   "cell_type": "markdown",
   "metadata": {},
   "source": [
    "`(63.63, 83.17, 53.49, 74.23, 63.33)` for baseline model with entity blinding and random search hyperparams with ID 8a7e7746-f536-4890-a2dd-efd70f16f997\n",
    "\n",
    "`(57.27, 83.7, 47.84, 72.03, 51.21)` for baseline model with piecewise pool and random search with ID b7751c8e-6b24-47ea-8b50-737a37063b84\n",
    "\n",
    "`(68.09, 85.39, 56.99, 77.53, 71.96)` for baseline model with entity blinding and piecewise pool and random search with elmo with ID 7d4012a4-60a9-4338-9805-c159908ad181"
   ]
  },
  {
   "cell_type": "code",
   "execution_count": 3,
   "metadata": {},
   "outputs": [],
   "source": [
    "entity_blinding_random_search = [(64.88, 82.61, 58.25, 72.22, 64.81), \n",
    "                                 (65.55, 83.68, 61.8, 71.49, 61.86), (63.25, 82.93, 56.06, 69.28, 66.2), \n",
    "                                 (66.72, 83.85, 62.1, 73.16, 64.47), (65.45, 82.59, 58.78, 71.85, 66.21)]\n",
    "# model ID 9117c03f-5c5c-485a-a700-1350071747b8\n",
    "# 65.17 +- 1.13 83.13 +- 0.53 59.40 +- 2.28 71.60 +- 1.29"
   ]
  },
  {
   "cell_type": "code",
   "execution_count": 4,
   "metadata": {},
   "outputs": [],
   "source": [
    "piecewise_pool_random_search = [(58.96, 82.71, 51.33, 67.63, 59.39), (62.85, 85.29, 56.78, 71.73, 59.86), \n",
    "                                (60.33, 82.98, 54.13, 72.29, 53.33), (62.1, 84.92, 54.48, 74.84, 56.54), \n",
    "                                (61.41, 84.63, 54.39, 73.48, 56.12)]\n",
    "# model ID 83cfa8d8-f6f4-48a2-ac9f-37d254065eff\n",
    "# 61.13 +- 1.37 84.11 +- 1.05 54.22 +- 1.73 71.99 +- 2.43"
   ]
  },
  {
   "cell_type": "code",
   "execution_count": null,
   "metadata": {},
   "outputs": [],
   "source": []
  }
 ],
 "metadata": {
  "kernelspec": {
   "display_name": "Python 3",
   "language": "python",
   "name": "python3"
  },
  "language_info": {
   "codemirror_mode": {
    "name": "ipython",
    "version": 3
   },
   "file_extension": ".py",
   "mimetype": "text/x-python",
   "name": "python",
   "nbconvert_exporter": "python",
   "pygments_lexer": "ipython3",
   "version": "3.6.6"
  }
 },
 "nbformat": 4,
 "nbformat_minor": 2
}
