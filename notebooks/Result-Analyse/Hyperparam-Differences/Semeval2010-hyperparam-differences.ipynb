{
 "cells": [
  {
   "cell_type": "markdown",
   "metadata": {},
   "source": [
    "# Differences that hyperparam tuning cause to the baseline model in Semeval 2010"
   ]
  },
  {
   "cell_type": "markdown",
   "metadata": {},
   "source": [
    "for reference, manual command that was run within scripts/ was ```CUDA_VISIBLE_DEVICES=<device_no> python main.py --<cross_validate/use_test> --dataset=semeval2010 --preprocessing_type=<entity_blinding/punct_digit/punct_stop_digit>```\n",
    "This was gotten from the extensive literature using this dataset"
   ]
  },
  {
   "cell_type": "markdown",
   "metadata": {},
   "source": [
    "for reference, random search command that was run within scripts/ was ```CUDA_VISIBLE_DEVICES=<device_no> python main.py --<cross_validate/use_test/cross_validate_report/use_test> --dataset=semeval2010 --preprocessing_type=<entity_blinding/punct_digit/punct_stop_digit> --border_size=1 --num_epoches=283 --lr_values 0.001 0.0005 --lr_boundaries 141 --filter_sizes=3,4,5,6 --batch_size=88```"
   ]
  },
  {
   "cell_type": "code",
   "execution_count": 10,
   "metadata": {},
   "outputs": [],
   "source": [
    "from scipy.stats import ttest_rel"
   ]
  },
  {
   "cell_type": "markdown",
   "metadata": {},
   "source": [
    "## First compare the cross validated score differences"
   ]
  },
  {
   "cell_type": "code",
   "execution_count": 11,
   "metadata": {},
   "outputs": [],
   "source": [
    "# these are all results on the evaluation fold of the pickled files\n",
    "baseline = [81.66, 82.26, 80.12, 78.82, 79.23, 80.74, 79.56, 81.45, 82.99, 81.63]\n",
    "# model ID ade5ce18-2eb0-4d2e-a04e-c727a09e5ef0\n",
    "# 80.85 +- 1.31\n",
    "\n",
    "# baseline = [80.54, 80.2, 79.25, 81.08, 80.69, 79.11, 80.75, 82.04, 80.78, 80.73]\n",
    "# # model ID 0b8525cc-7e0c-4afe-b952-c2e7636d61bd on harrison\n",
    "# # 80.52 +- 0.81"
   ]
  },
  {
   "cell_type": "code",
   "execution_count": 12,
   "metadata": {},
   "outputs": [],
   "source": [
    "baseline_random_search = [82.6, 82.74, 80.14, 78.89, 80.84, 81.28, 79.59, 80.98, 82.78, 81.12]\n",
    "# model ID a183f27f-fdf4-4ef6-a8f1-fe7dcb9a08d7\n",
    "# 81.10 +- 1.26\n",
    "\n",
    "# baseline_random_search = [82.7, 79.5, 78.85, 79.61, 80.62, 80.88, 81.87, 83.4, 81.35, 82.12]\n",
    "# # model ID 4c3dcf56-253e-49d8-b382-9a8307f4ccbc\n",
    "# # 81.09 +- 1.40"
   ]
  },
  {
   "cell_type": "code",
   "execution_count": 13,
   "metadata": {},
   "outputs": [
    {
     "data": {
      "text/plain": [
       "Ttest_relResult(statistic=-1.200345749370911, pvalue=0.2606454694393483)"
      ]
     },
     "execution_count": 13,
     "metadata": {},
     "output_type": "execute_result"
    }
   ],
   "source": [
    "ttest_rel(baseline, baseline_random_search)"
   ]
  },
  {
   "cell_type": "markdown",
   "metadata": {},
   "source": [
    "not significant"
   ]
  },
  {
   "cell_type": "markdown",
   "metadata": {},
   "source": [
    "Test score results for the above are:\n",
    "\n",
    "```81.55``` for baseline model with ID 967c88e8-18c2-4a84-b73d-23c6bb33efd7\n",
    "\n",
    "```82.2``` for random search model ID f2242c6d-3a8d-4af6-bc83-29b5428ec5c8"
   ]
  },
  {
   "cell_type": "markdown",
   "metadata": {},
   "source": [
    "Additional experiments"
   ]
  },
  {
   "cell_type": "markdown",
   "metadata": {},
   "source": [
    "`84.64` for elmo model with random search hyperparams with ID 7deba4a2-288b-440e-847a-6129601d84bf"
   ]
  },
  {
   "cell_type": "code",
   "execution_count": null,
   "metadata": {},
   "outputs": [],
   "source": []
  }
 ],
 "metadata": {
  "kernelspec": {
   "display_name": "Python 3",
   "language": "python",
   "name": "python3"
  },
  "language_info": {
   "codemirror_mode": {
    "name": "ipython",
    "version": 3
   },
   "file_extension": ".py",
   "mimetype": "text/x-python",
   "name": "python",
   "nbconvert_exporter": "python",
   "pygments_lexer": "ipython3",
   "version": "3.6.6"
  }
 },
 "nbformat": 4,
 "nbformat_minor": 2
}
