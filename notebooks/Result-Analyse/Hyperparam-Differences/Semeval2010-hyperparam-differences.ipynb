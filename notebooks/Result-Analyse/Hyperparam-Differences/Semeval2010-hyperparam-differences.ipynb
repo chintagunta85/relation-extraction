{
 "cells": [
  {
   "cell_type": "markdown",
   "metadata": {},
   "source": [
    "# Differences that hyperparam tuning cause to the baseline model in Semeval 2010"
   ]
  },
  {
   "cell_type": "markdown",
   "metadata": {},
   "source": [
    "for reference, manual command that was run within scripts/ was ```CUDA_VISIBLE_DEVICES=<device_no> python main.py --<cross_validate/use_test> --dataset=semeval2010 --preprocessing_type=<entity_blinding/punct_digit/punct_stop_digit>```\n",
    "This was gotten from the extensive literature using this dataset"
   ]
  },
  {
   "cell_type": "markdown",
   "metadata": {},
   "source": [
    "for reference, random search command that was run within scripts/ was ```CUDA_VISIBLE_DEVICES=<device_no> python main.py --<cross_validate/use_test> --dataset=semeval2010 --preprocessing_type=<entity_blinding/punct_digit/punct_stop_digit> --border_size=1 --num_epoches=283 --lr_values 0.001 0.0005 --lr_boundaries 141 --filter_sizes=3,4,5,6 --batch_size=88 --use_test```"
   ]
  },
  {
   "cell_type": "code",
   "execution_count": 7,
   "metadata": {},
   "outputs": [],
   "source": [
    "from scipy.stats import ttest_rel"
   ]
  },
  {
   "cell_type": "markdown",
   "metadata": {},
   "source": [
    "## First compare the cross validated score differences"
   ]
  },
  {
   "cell_type": "code",
   "execution_count": 3,
   "metadata": {},
   "outputs": [],
   "source": [
    "baseline = [80.54, 80.2, 79.25, 81.08, 80.69, 79.11, 80.75, 82.04, 80.78, 80.73]\n",
    "# model ID 0b8525cc-7e0c-4afe-b952-c2e7636d61bd on harrison\n",
    "# 80.52 +- 0.81"
   ]
  },
  {
   "cell_type": "code",
   "execution_count": 4,
   "metadata": {},
   "outputs": [],
   "source": [
    "baseline_random_search = [82.7, 79.5, 78.85, 79.61, 80.62, 80.88, 81.87, 83.4, 81.35, 82.12]\n",
    "# model ID 4c3dcf56-253e-49d8-b382-9a8307f4ccbc\n",
    "# 81.09 +- 1.40"
   ]
  },
  {
   "cell_type": "code",
   "execution_count": 8,
   "metadata": {},
   "outputs": [
    {
     "data": {
      "text/plain": [
       "Ttest_relResult(statistic=-1.5258458958608676, pvalue=0.16139031790638705)"
      ]
     },
     "execution_count": 8,
     "metadata": {},
     "output_type": "execute_result"
    }
   ],
   "source": [
    "ttest_rel(baseline, baseline_random_search)"
   ]
  },
  {
   "cell_type": "markdown",
   "metadata": {},
   "source": [
    "not significant"
   ]
  },
  {
   "cell_type": "markdown",
   "metadata": {},
   "source": [
    "Test score results for the above are:\n",
    "\n",
    "```81.55``` for baseline model with ID 967c88e8-18c2-4a84-b73d-23c6bb33efd7\n",
    "\n",
    "```82.2``` for random search model ID f2242c6d-3a8d-4af6-bc83-29b5428ec5c8"
   ]
  },
  {
   "cell_type": "markdown",
   "metadata": {},
   "source": [
    "Additional experiments"
   ]
  },
  {
   "cell_type": "markdown",
   "metadata": {},
   "source": [
    "`84.64` for elmo model with random search hyperparams with ID 7deba4a2-288b-440e-847a-6129601d84bf"
   ]
  },
  {
   "cell_type": "code",
   "execution_count": null,
   "metadata": {},
   "outputs": [],
   "source": []
  }
 ],
 "metadata": {
  "kernelspec": {
   "display_name": "Python 3",
   "language": "python",
   "name": "python3"
  },
  "language_info": {
   "codemirror_mode": {
    "name": "ipython",
    "version": 3
   },
   "file_extension": ".py",
   "mimetype": "text/x-python",
   "name": "python",
   "nbconvert_exporter": "python",
   "pygments_lexer": "ipython3",
   "version": "3.6.6"
  }
 },
 "nbformat": 4,
 "nbformat_minor": 2
}
