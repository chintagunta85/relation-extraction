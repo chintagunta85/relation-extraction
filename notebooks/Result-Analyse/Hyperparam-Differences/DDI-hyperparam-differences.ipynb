{
 "cells": [
  {
   "cell_type": "markdown",
   "metadata": {},
   "source": [
    "# Differences that hyperparam tuning cause to the baseline model in DDI"
   ]
  },
  {
   "cell_type": "markdown",
   "metadata": {},
   "source": [
    "for reference, manual command that was run within scripts/ was ```CUDA_VISIBLE_DEVICES=<device_no> python main.py --<cross_validate/use_test> --dataset=ddi --preprocessing_type=<entity_blinding/punct_digit/punct_stop_digit> --border_size=-1 --num_epoches=100 --lr_values 0.001 0.0001 --lr_boundaries 60```\n",
    "This was gotten after preliminary manual hyperparameter tuning\n",
    "Without hyperparam tuning, the border size is -1"
   ]
  },
  {
   "cell_type": "markdown",
   "metadata": {},
   "source": [
    "for reference, random search command that was run within scripts/ was ```CUDA_VISIBLE_DEVICES=<device_no> python main.py --<cross_validate/use_test> --dataset=ddi --preprocessing_type=<entity_blinding/punct_digit/punct_stop_digit> --border_size=-1 --num_epoches=124 --lr_values 0.001 0.00021 --lr_boundaries 62 --filter_sizes=3,4,5 --batch_size=37 --early_stop --patience=24 --use_test```\n",
    "This was gotten after preliminary manual hyperparameter tuning\n",
    "Without hyperparam tuning, the border size is -1"
   ]
  },
  {
   "cell_type": "code",
   "execution_count": 10,
   "metadata": {},
   "outputs": [],
   "source": [
    "from scipy.stats import ttest_rel\n",
    "def paired_ttest(score1, score2):\n",
    "    all_three_macroF1_score1 = [x for x in zip(*score1)]\n",
    "    all_three_macroF1_score2 = [x for x in zip(*score2)]\n",
    "    ttests = [ttest_rel(macro_f1_score1, macro_f1_score2) \n",
    "            for macro_f1_score1, macro_f1_score2 in zip(all_three_macroF1_score1, all_three_macroF1_score2)]\n",
    "    print('5 way evaluation with none: \\t', ttests[0])\n",
    "    print('5 way evaluation without none: \\t', ttests[1])\n",
    "    print('2 way evaluation: \\t\\t', ttests[2])"
   ]
  },
  {
   "cell_type": "markdown",
   "metadata": {},
   "source": [
    "## First compare the cross validated score differences"
   ]
  },
  {
   "cell_type": "code",
   "execution_count": 11,
   "metadata": {},
   "outputs": [],
   "source": [
    "# border size -1\n",
    "baseline_test_without_hyperparam = (62.55, 54.69, 80.29)\n",
    "# model ID 58db36c6-e7f6-4340-860e-32d50128ad3e\n",
    "\n",
    "# rerun\n",
    "# baseline_test_without_hyperparam = (55.41, 45.91, 77.6) \n",
    "# model ID f8aadb53-8a49-4443-aa61-6cdafa3ee72e"
   ]
  },
  {
   "cell_type": "code",
   "execution_count": 12,
   "metadata": {},
   "outputs": [],
   "source": [
    "# border size -1\n",
    "baseline_test_manual_hyperparam = (65.53, 58.41, 81.74) # model ID 8147a3f3-3c74-4194-9fa4-4de9bd21b6ff\n",
    "# need to re-run this\n",
    "# baseline_test_manual_hyperparam = (66.66, 59.73, 82.6) # Model ID 92d0466a-e8c0-4e72-8068-f10f699d8824 on harrison\n",
    "# Results are 5 way with none, 5 way without none, 2 way (just detection of DDI) from Jan 23 2019 run"
   ]
  },
  {
   "cell_type": "code",
   "execution_count": 13,
   "metadata": {},
   "outputs": [],
   "source": [
    "# border size -1\n",
    "baseline_manual_hyperparam = [(80.05, 76.15, 85.99), (79.73, 75.64, 87.54), \n",
    "            (78.13, 73.77, 86.07), (78.48, 74.18, 86.03), (80.63, 76.83, 86.9)]\n",
    "# model ID 152b5ba9-100e-4024-93c0-40976064e8e0\n",
    "# 79.40 +- 0.95 75.31 +- 1.16 86.51 +- 0.62\n",
    "\n",
    "# old baseline number (still relevant)\n",
    "# Still need to run this baseline = but refer to old baseline for now from Nov 26, 2018\n",
    "#baseline = currently running on harrison Feb 15, 2019\n",
    "# baseline = [(78.82, 74.65, 85.68), (79.89, 75.84, 87.65), \n",
    "#             (78.98, 74.84, 86.07), (79.04, 74.86, 86.29), (81.0, 77.23, 87.58)]\n",
    "# model ID e16e6184-d403-480e-b718-e08e2f4a3c5f on harrison"
   ]
  },
  {
   "cell_type": "code",
   "execution_count": 14,
   "metadata": {},
   "outputs": [],
   "source": [
    "# border size -1\n",
    "baseline_no_hyperparam = [(79.97, 76.0, 85.97), (80.5, 76.55, 87.93), \n",
    "                          (76.93, 72.28, 85.43), (77.93, 73.48, 85.67), (81.2, 77.49, 86.9)]\n",
    "# model ID 28edc45e-9bdf-423d-b052-cff312d65ef3\n",
    "#  79.31 +- 1.61 75.16 +- 1.96 86.38 +- 0.92\n",
    "\n",
    "\n",
    "# rerun\n",
    "# need to rerun this for significance tests\n",
    "# baseline_no_hyperparam = [(79.96, 76.0, 86.02), (79.28, 75.04, 87.62), (77.5, 72.91, 86.2), \n",
    "#                           (77.72, 73.2, 85.68), (79.63, 75.61, 86.51)]\n",
    "# model ID 4c4e8c45-b732-4aca-bd51-99d22f446c58\n",
    "# 78.82 +- 1.01 74.55 +- 1.26 86.41 +- 0.66"
   ]
  },
  {
   "cell_type": "code",
   "execution_count": 15,
   "metadata": {},
   "outputs": [],
   "source": [
    "# with border size -1\n",
    "baseline_random_search = [(74.13, 68.98, 82.08), (74.5, 69.4, 82.99), (72.0, 66.49, 80.37), \n",
    "                          (71.26, 65.58, 80.16), (72.82, 67.45, 82.11)]\n",
    "# model ID ef7fb71d-7784-4600-a209-4c47c22e2c1a\n",
    "# 72.94 +- 1.23 67.58 +- 1.45 81.54 +- 1.09"
   ]
  },
  {
   "cell_type": "code",
   "execution_count": 16,
   "metadata": {},
   "outputs": [
    {
     "name": "stdout",
     "output_type": "stream",
     "text": [
      "5 way evaluation with none: \t Ttest_relResult(statistic=-0.27083192578944154, pvalue=0.7999214269607261)\n",
      "5 way evaluation without none: \t Ttest_relResult(statistic=-0.3497417633520045, pvalue=0.7441702598998869)\n",
      "2 way evaluation: \t\t Ttest_relResult(statistic=-0.7201058192423496, pvalue=0.511293069752965)\n"
     ]
    }
   ],
   "source": [
    "paired_ttest(baseline_no_hyperparam, baseline_manual_hyperparam)"
   ]
  },
  {
   "cell_type": "code",
   "execution_count": 17,
   "metadata": {},
   "outputs": [
    {
     "name": "stdout",
     "output_type": "stream",
     "text": [
      "5 way evaluation with none: \t Ttest_relResult(statistic=11.060452122542573, pvalue=0.00037997547919101565)\n",
      "5 way evaluation without none: \t Ttest_relResult(statistic=10.797435968830975, pvalue=0.00041728594113523066)\n",
      "2 way evaluation: \t\t Ttest_relResult(statistic=18.206248131884173, pvalue=5.352846011798657e-05)\n"
     ]
    }
   ],
   "source": [
    "paired_ttest(baseline_no_hyperparam, baseline_random_search)"
   ]
  },
  {
   "cell_type": "markdown",
   "metadata": {},
   "source": [
    "Test score results for the above are (all model IDs on harrison): (need to re-run)\n",
    "\n",
    "```(62.55, 54.69, 80.29)``` for baseline model with no hyperparam tuning ID 58db36c6-e7f6-4340-860e-32d50128ad3e\n",
    "\n",
    "```(65.53, 58.41, 81.74)``` for baseline model with ID 8147a3f3-3c74-4194-9fa4-4de9bd21b6ff\n",
    "\n",
    "```(62.29, 54.44, 79.04)``` for random search model ID f4a13572-e4c5-477d-b4b8-5f05a1e3fc52"
   ]
  },
  {
   "cell_type": "markdown",
   "metadata": {},
   "source": [
    "Additional experiments with random search"
   ]
  },
  {
   "cell_type": "markdown",
   "metadata": {},
   "source": [
    "`(62.96, 55.35, 79.32)` for baseline model with entity blinding and random search with ID cd7c1f37-a56c-4063-9232-e2e01221aaac\n",
    "\n",
    "`(67.63, 60.87, 82.63)` for baseline model with entity blinding, elmo and random search with ID 1d3e09d9-d850-462a-82fe-8ec7d68fc2c2"
   ]
  },
  {
   "cell_type": "code",
   "execution_count": 5,
   "metadata": {},
   "outputs": [],
   "source": [
    "entity_blinding_random_search = [(74.7, 69.81, 82.63), (74.24, 69.1, 83.19), \n",
    "                                 (74.99, 70.0, 83.21), (75.69, 70.91, 83.4), (76.5, 71.77, 85.02)]\n",
    "# model ID f142a64b-c28f-410d-813b-c4f5c497050a\n",
    "# 75.22 +- 0.79 70.32 +- 0.93 83.49 +- 0.81"
   ]
  },
  {
   "cell_type": "code",
   "execution_count": null,
   "metadata": {},
   "outputs": [],
   "source": []
  }
 ],
 "metadata": {
  "kernelspec": {
   "display_name": "Python 3",
   "language": "python",
   "name": "python3"
  },
  "language_info": {
   "codemirror_mode": {
    "name": "ipython",
    "version": 3
   },
   "file_extension": ".py",
   "mimetype": "text/x-python",
   "name": "python",
   "nbconvert_exporter": "python",
   "pygments_lexer": "ipython3",
   "version": "3.6.6"
  }
 },
 "nbformat": 4,
 "nbformat_minor": 2
}
