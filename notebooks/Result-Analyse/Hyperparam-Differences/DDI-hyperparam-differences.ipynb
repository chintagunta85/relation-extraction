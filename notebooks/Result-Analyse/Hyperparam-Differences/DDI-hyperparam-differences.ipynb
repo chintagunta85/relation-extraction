{
 "cells": [
  {
   "cell_type": "markdown",
   "metadata": {},
   "source": [
    "# Differences that hyperparam tuning cause to the baseline model in DDI"
   ]
  },
  {
   "cell_type": "markdown",
   "metadata": {},
   "source": [
    "for reference, command that was run within scripts/ was ```CUDA_VISIBLE_DEVICES=<device_no> python main.py --<cross_validate/use_test> --dataset=ddi --preprocessing_type=<entity_blinding/punct_digit/punct_stop_digit> --border_size=-1 --num_epoches=100 --lr_values 0.001 0.0001 --lr_boundaries 60```\n",
    "This was gotten after preliminary manual hyperparameter tuning\n",
    "Without hyperparam tuning, the border size is -1"
   ]
  },
  {
   "cell_type": "code",
   "execution_count": 5,
   "metadata": {},
   "outputs": [],
   "source": [
    "from scipy.stats import ttest_rel\n",
    "def paired_ttest(score1, score2):\n",
    "    all_three_macroF1_score1 = [x for x in zip(*score1)]\n",
    "    all_three_macroF1_score2 = [x for x in zip(*score2)]\n",
    "    ttests = [ttest_rel(macro_f1_score1, macro_f1_score2) \n",
    "            for macro_f1_score1, macro_f1_score2 in zip(all_three_macroF1_score1, all_three_macroF1_score2)]\n",
    "    print('5 way evaluation with none: \\t', ttests[0])\n",
    "    print('5 way evaluation without none: \\t', ttests[1])\n",
    "    print('2 way evaluation: \\t\\t', ttests[2])"
   ]
  },
  {
   "cell_type": "markdown",
   "metadata": {},
   "source": [
    "## First compare the cross validated score differences"
   ]
  },
  {
   "cell_type": "code",
   "execution_count": 6,
   "metadata": {},
   "outputs": [],
   "source": [
    "baseline_test_without_hyperparam = (55.41, 45.91, 77.6) \n",
    "# model ID f8aadb53-8a49-4443-aa61-6cdafa3ee72e"
   ]
  },
  {
   "cell_type": "code",
   "execution_count": 11,
   "metadata": {},
   "outputs": [],
   "source": [
    "# need to re-run this\n",
    "baseline_test_manual_hyperparam = (66.66, 59.73, 82.6) # Model ID 92d0466a-e8c0-4e72-8068-f10f699d8824 on harrison\n",
    "# Results are 5 way with none, 5 way without none, 2 way (just detection of DDI) from Jan 23 2019 run"
   ]
  },
  {
   "cell_type": "code",
   "execution_count": 8,
   "metadata": {},
   "outputs": [],
   "source": [
    "# Still need to run this baseline = but refer to old baseline for now from Nov 26, 2018\n",
    "#baseline = currently running on harrison Feb 15, 2019\n",
    "baseline_manual_hyperparam = [(78.82, 74.65, 85.68), (79.89, 75.84, 87.65), \n",
    "            (78.98, 74.84, 86.07), (79.04, 74.86, 86.29), (81.0, 77.23, 87.58)]\n",
    "# model ID e16e6184-d403-480e-b718-e08e2f4a3c5f on harrison"
   ]
  },
  {
   "cell_type": "code",
   "execution_count": 9,
   "metadata": {},
   "outputs": [],
   "source": [
    "baseline_no_hyperparam = [(79.96, 76.0, 86.02), (79.28, 75.04, 87.62), (77.5, 72.91, 86.2), \n",
    "                          (77.72, 73.2, 85.68), (79.63, 75.61, 86.51)]\n",
    "# model ID 4c4e8c45-b732-4aca-bd51-99d22f446c58\n",
    "# 78.82 +- 1.01 74.55 +- 1.26 86.41 +- 0.66"
   ]
  },
  {
   "cell_type": "code",
   "execution_count": 10,
   "metadata": {},
   "outputs": [
    {
     "name": "stdout",
     "output_type": "stream",
     "text": [
      "5 way evaluation with none: \t Ttest_relResult(statistic=-1.4811746960774208, pvalue=0.21267909661947124)\n",
      "5 way evaluation without none: \t Ttest_relResult(statistic=-1.55072084630218, pvalue=0.19590771566467893)\n",
      "2 way evaluation: \t\t Ttest_relResult(statistic=-0.9570796360611284, pvalue=0.39272535418360627)\n"
     ]
    }
   ],
   "source": [
    "paired_ttest(baseline_no_hyperparam, baseline_manual_hyperparam)"
   ]
  },
  {
   "cell_type": "markdown",
   "metadata": {},
   "source": [
    "Test score results for the above are (all model IDs on harrison):\n",
    "\n",
    "```(55.41, 45.91, 77.6)``` for baseline model with no hyperparam tuning ID f8aadb53-8a49-4443-aa61-6cdafa3ee72e\n",
    "\n",
    "```(66.66, 59.73, 82.6)``` for baseline model with ID 92d0466a-e8c0-4e72-8068-f10f699d8824\n",
    "\n",
    "```TODO``` for random search model ID TODO"
   ]
  }
 ],
 "metadata": {
  "kernelspec": {
   "display_name": "Python 3",
   "language": "python",
   "name": "python3"
  },
  "language_info": {
   "codemirror_mode": {
    "name": "ipython",
    "version": 3
   },
   "file_extension": ".py",
   "mimetype": "text/x-python",
   "name": "python",
   "nbconvert_exporter": "python",
   "pygments_lexer": "ipython3",
   "version": "3.6.6"
  }
 },
 "nbformat": 4,
 "nbformat_minor": 2
}
