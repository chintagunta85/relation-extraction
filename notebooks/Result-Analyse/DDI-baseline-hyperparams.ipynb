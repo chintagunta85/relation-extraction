{
 "cells": [
  {
   "cell_type": "markdown",
   "metadata": {},
   "source": [
    "# Analyse the results from the various hyperparm operations on DDI dataset"
   ]
  },
  {
   "cell_type": "markdown",
   "metadata": {},
   "source": [
    "macro F1 scores are of the form ```5 way with none, 5 way without none, 2 way```"
   ]
  },
  {
   "cell_type": "code",
   "execution_count": 4,
   "metadata": {},
   "outputs": [],
   "source": [
    "%load_ext autoreload"
   ]
  },
  {
   "cell_type": "code",
   "execution_count": 57,
   "metadata": {},
   "outputs": [],
   "source": [
    "%autoreload\n",
    "\n",
    "from scipy.stats import ttest_rel"
   ]
  },
  {
   "cell_type": "code",
   "execution_count": 58,
   "metadata": {},
   "outputs": [],
   "source": [
    "def paired_ttest(score1, score2):\n",
    "    all_three_macroF1_score1 = [x for x in zip(*score1)]\n",
    "    all_three_macroF1_score2 = [x for x in zip(*score2)]\n",
    "    ttests = [ttest_rel(macro_f1_score1, macro_f1_score2) \n",
    "            for macro_f1_score1, macro_f1_score2 in zip(all_three_macroF1_score1, all_three_macroF1_score2)]\n",
    "    print('5 way evaluation with none: \\t', ttests[0])\n",
    "    print('5 way evaluation without none: \\t', ttests[1])\n",
    "    print('2 way evaluation: \\t\\t', ttests[2])\n"
   ]
  },
  {
   "cell_type": "markdown",
   "metadata": {},
   "source": [
    "baseline model with default hyperparams (no pre processing, no handling of the other class but with ranking loss)"
   ]
  },
  {
   "cell_type": "code",
   "execution_count": 59,
   "metadata": {},
   "outputs": [],
   "source": [
    "baseline = [(77.55, 96.94, 82.74), (75.43, 94.29, 84.24), (75.51, 94.38, 81.89), \n",
    "            (76.91, 96.14, 84.64), (74.24, 92.8, 82.38)]"
   ]
  },
  {
   "cell_type": "markdown",
   "metadata": {},
   "source": [
    "### filter sizes variation"
   ]
  },
  {
   "cell_type": "code",
   "execution_count": 60,
   "metadata": {},
   "outputs": [],
   "source": [
    "filter_234 = [(76.37, 95.47, 82.47), (75.7, 94.62, 84.11), \n",
    "              (75.11, 93.89, 81.68), (77.06, 96.32, 84.59), (74.23, 92.78, 82.56)]"
   ]
  },
  {
   "cell_type": "code",
   "execution_count": 61,
   "metadata": {},
   "outputs": [
    {
     "name": "stdout",
     "output_type": "stream",
     "text": [
      "5 way evaluation with none: \t Ttest_relResult(statistic=0.8927267018006828, pvalue=0.42245739944154526)\n",
      "5 way evaluation without none: \t Ttest_relResult(statistic=0.9050396209566718, pvalue=0.41662746499079617)\n",
      "2 way evaluation: \t\t Ttest_relResult(statistic=1.22554301085153, pvalue=0.28759424253025245)\n"
     ]
    }
   ],
   "source": [
    "paired_ttest(baseline, filter_234)"
   ]
  },
  {
   "cell_type": "code",
   "execution_count": 62,
   "metadata": {},
   "outputs": [],
   "source": [
    "filter_345 = [(77.87, 97.34, 83.59), (75.54, 94.42, 84.28), \n",
    "              (75.37, 94.21, 81.93), (77.1, 96.37, 84.63), (73.96, 92.45, 82.66)]"
   ]
  },
  {
   "cell_type": "code",
   "execution_count": 63,
   "metadata": {},
   "outputs": [
    {
     "name": "stdout",
     "output_type": "stream",
     "text": [
      "5 way evaluation with none: \t Ttest_relResult(statistic=-0.36469279024296153, pvalue=0.7338037321380968)\n",
      "5 way evaluation without none: \t Ttest_relResult(statistic=-0.35305572437532223, pvalue=0.7418667057129735)\n",
      "2 way evaluation: \t\t Ttest_relResult(statistic=-1.4938852506779017, pvalue=0.20950828558881415)\n"
     ]
    }
   ],
   "source": [
    "paired_ttest(baseline, filter_345)"
   ]
  },
  {
   "cell_type": "markdown",
   "metadata": {},
   "source": [
    "### batch size"
   ]
  },
  {
   "cell_type": "code",
   "execution_count": 64,
   "metadata": {},
   "outputs": [],
   "source": [
    "batch_70 = [(76.38, 95.47, 82.94), (75.57, 94.47, 84.5), \n",
    "            (75.84, 94.8, 82.24), (76.96, 96.2, 84.35), (74.54, 93.17, 83.02)]"
   ]
  },
  {
   "cell_type": "code",
   "execution_count": 65,
   "metadata": {},
   "outputs": [
    {
     "name": "stdout",
     "output_type": "stream",
     "text": [
      "5 way evaluation with none: \t Ttest_relResult(statistic=0.2502075285310011, pvalue=0.8147522873461168)\n",
      "5 way evaluation without none: \t Ttest_relResult(statistic=0.2503335855240015, pvalue=0.8146613465867472)\n",
      "2 way evaluation: \t\t Ttest_relResult(statistic=-1.5386861940173742, pvalue=0.1987102909769267)\n"
     ]
    }
   ],
   "source": [
    "paired_ttest(baseline, batch_70)"
   ]
  },
  {
   "cell_type": "markdown",
   "metadata": {},
   "source": [
    "## num of epoches (making a difference)\n",
    "(lower # is better - making a difference for strict eval but not for loose eval)"
   ]
  },
  {
   "cell_type": "code",
   "execution_count": 66,
   "metadata": {},
   "outputs": [],
   "source": [
    "epochs_50 = [(78.18, 97.73, 84.21), (76.92, 96.15, 85.4), \n",
    "             (77.54, 96.92, 82.94), (78.25, 97.81, 85.34), (76.73, 95.91, 84.24)]"
   ]
  },
  {
   "cell_type": "code",
   "execution_count": 67,
   "metadata": {},
   "outputs": [
    {
     "name": "stdout",
     "output_type": "stream",
     "text": [
      "5 way evaluation with none: \t Ttest_relResult(statistic=-5.050127195726805, pvalue=0.007230440528191787)\n",
      "5 way evaluation without none: \t Ttest_relResult(statistic=-5.051647810779063, pvalue=0.007222726989619756)\n",
      "2 way evaluation: \t\t Ttest_relResult(statistic=-6.355941097798075, pvalue=0.003140201877474795)\n"
     ]
    }
   ],
   "source": [
    "paired_ttest(baseline, epochs_50)"
   ]
  },
  {
   "cell_type": "code",
   "execution_count": 68,
   "metadata": {},
   "outputs": [],
   "source": [
    "epochs_100 = [(76.62, 95.77, 82.95), (76.99, 96.23, 85.28), \n",
    "              (76.79, 95.99, 82.52), (77.98, 97.48, 85.03), (74.42, 93.03, 83.06)]"
   ]
  },
  {
   "cell_type": "code",
   "execution_count": 69,
   "metadata": {},
   "outputs": [
    {
     "name": "stdout",
     "output_type": "stream",
     "text": [
      "5 way evaluation with none: \t Ttest_relResult(statistic=-1.392956079447102, pvalue=0.23605814961074836)\n",
      "5 way evaluation without none: \t Ttest_relResult(statistic=-1.3908321374819828, pvalue=0.23665157870667872)\n",
      "2 way evaluation: \t\t Ttest_relResult(statistic=-4.189774551420387, pvalue=0.0138090263856977)\n"
     ]
    }
   ],
   "source": [
    "paired_ttest(baseline, epochs_100)"
   ]
  },
  {
   "cell_type": "code",
   "execution_count": 70,
   "metadata": {},
   "outputs": [],
   "source": [
    "epochs_150 =  [(76.7, 95.87, 83.11), (75.76, 94.7, 84.41), \n",
    "               (76.37, 95.46, 82.63), (77.4, 96.75, 85.1), (73.7, 92.13, 82.81)]"
   ]
  },
  {
   "cell_type": "code",
   "execution_count": 71,
   "metadata": {},
   "outputs": [
    {
     "name": "stdout",
     "output_type": "stream",
     "text": [
      "5 way evaluation with none: \t Ttest_relResult(statistic=-0.17959669129139125, pvalue=0.8662000218969206)\n",
      "5 way evaluation without none: \t Ttest_relResult(statistic=-0.1779411213901558, pvalue=0.8674172406098066)\n",
      "2 way evaluation: \t\t Ttest_relResult(statistic=-4.733637934926754, pvalue=0.009079685290785351)\n"
     ]
    }
   ],
   "source": [
    "paired_ttest(baseline, epochs_150)"
   ]
  },
  {
   "cell_type": "code",
   "execution_count": 72,
   "metadata": {},
   "outputs": [],
   "source": [
    "epochs_200 = [(76.31, 95.38, 83.0), (75.95, 94.94, 84.63),\n",
    "              (75.42, 94.28, 82.15), (76.71, 95.88, 84.81), (74.17, 92.72, 82.8)]"
   ]
  },
  {
   "cell_type": "code",
   "execution_count": 73,
   "metadata": {},
   "outputs": [
    {
     "name": "stdout",
     "output_type": "stream",
     "text": [
      "5 way evaluation with none: \t Ttest_relResult(statistic=0.757144721736705, pvalue=0.4911142966596805)\n",
      "5 way evaluation without none: \t Ttest_relResult(statistic=0.7523840041517224, pvalue=0.49367389421716895)\n",
      "2 way evaluation: \t\t Ttest_relResult(statistic=-6.50027085026171, pvalue=0.002889560310242482)\n"
     ]
    }
   ],
   "source": [
    "paired_ttest(baseline, epochs_200)"
   ]
  },
  {
   "cell_type": "code",
   "execution_count": 95,
   "metadata": {},
   "outputs": [],
   "source": [
    "epochs_10 = [(76.23, 95.29, 84.21), (74.83, 93.54, 84.66), \n",
    "             (77.9, 97.38, 82.97), (76.01, 95.01, 84.6), (75.85, 94.81, 84.56)]"
   ]
  },
  {
   "cell_type": "code",
   "execution_count": 96,
   "metadata": {},
   "outputs": [
    {
     "name": "stdout",
     "output_type": "stream",
     "text": [
      "5 way evaluation with none: \t Ttest_relResult(statistic=-0.31912120190702736, pvalue=0.7656048905535975)\n",
      "5 way evaluation without none: \t Ttest_relResult(statistic=-0.3195203094020558, pvalue=0.7653238163108935)\n",
      "2 way evaluation: \t\t Ttest_relResult(statistic=-2.6234120769303644, pvalue=0.05858932606754303)\n"
     ]
    }
   ],
   "source": [
    "paired_ttest(baseline, epochs_10)"
   ]
  },
  {
   "cell_type": "code",
   "execution_count": 97,
   "metadata": {},
   "outputs": [],
   "source": [
    "epochs_30 = [(77.8, 97.25, 84.17), (76.28, 95.35, 85.14), \n",
    "             (76.54, 95.67, 82.72), (78.11, 97.64, 85.57), (76.99, 96.24, 84.82)]"
   ]
  },
  {
   "cell_type": "code",
   "execution_count": 98,
   "metadata": {},
   "outputs": [
    {
     "name": "stdout",
     "output_type": "stream",
     "text": [
      "5 way evaluation with none: \t Ttest_relResult(statistic=-2.925613861594858, pvalue=0.04300164910236942)\n",
      "5 way evaluation without none: \t Ttest_relResult(statistic=-2.921079086928948, pvalue=0.043196861876187466)\n",
      "2 way evaluation: \t\t Ttest_relResult(statistic=-4.312650871357428, pvalue=0.012519802850080794)\n"
     ]
    }
   ],
   "source": [
    "paired_ttest(baseline, epochs_30)"
   ]
  },
  {
   "cell_type": "code",
   "execution_count": 99,
   "metadata": {},
   "outputs": [],
   "source": [
    "epochs_40 = [(78.08, 97.61, 84.26), (76.77, 95.96, 85.22), (77.14, 96.43, 83.01), \n",
    "             (77.91, 97.39, 85.51), (75.49, 94.37, 83.74)]"
   ]
  },
  {
   "cell_type": "code",
   "execution_count": 100,
   "metadata": {},
   "outputs": [
    {
     "name": "stdout",
     "output_type": "stream",
     "text": [
      "5 way evaluation with none: \t Ttest_relResult(statistic=-6.221217012606141, pvalue=0.003398714761782316)\n",
      "5 way evaluation without none: \t Ttest_relResult(statistic=-6.23174758970657, pvalue=0.0033775876636161794)\n",
      "2 way evaluation: \t\t Ttest_relResult(statistic=-9.763569943936453, pvalue=0.0006165083016618898)\n"
     ]
    }
   ],
   "source": [
    "paired_ttest(baseline, epochs_40)"
   ]
  },
  {
   "cell_type": "code",
   "execution_count": 101,
   "metadata": {},
   "outputs": [],
   "source": [
    "epochs_60 = [(76.99, 96.24, 83.53), (77.5, 96.88, 85.16), \n",
    "             (76.45, 95.56, 82.29), (78.25, 97.82, 85.3), (75.01, 93.76, 83.72)]"
   ]
  },
  {
   "cell_type": "code",
   "execution_count": 102,
   "metadata": {},
   "outputs": [
    {
     "name": "stdout",
     "output_type": "stream",
     "text": [
      "5 way evaluation with none: \t Ttest_relResult(statistic=-2.116961073615749, pvalue=0.10168954177595518)\n",
      "5 way evaluation without none: \t Ttest_relResult(statistic=-2.118144283710657, pvalue=0.10155409528970047)\n",
      "2 way evaluation: \t\t Ttest_relResult(statistic=-5.287950778877205, pvalue=0.006136994281336256)\n"
     ]
    }
   ],
   "source": [
    "paired_ttest(baseline, epochs_60)"
   ]
  },
  {
   "cell_type": "markdown",
   "metadata": {},
   "source": [
    "looks like 50 is better, 40 might also be better (giving stronger statistics)"
   ]
  },
  {
   "cell_type": "code",
   "execution_count": 104,
   "metadata": {},
   "outputs": [
    {
     "name": "stdout",
     "output_type": "stream",
     "text": [
      "5 way evaluation with none: \t Ttest_relResult(statistic=2.1619938717871072, pvalue=0.0966728882494842)\n",
      "5 way evaluation without none: \t Ttest_relResult(statistic=2.1526726301286283, pvalue=0.0976882818194668)\n",
      "2 way evaluation: \t\t Ttest_relResult(statistic=0.6496842579876537, pvalue=0.5513192940042246)\n"
     ]
    }
   ],
   "source": [
    "paired_ttest(epochs_50, epochs_40)"
   ]
  },
  {
   "cell_type": "markdown",
   "metadata": {},
   "source": [
    "not significantly different from each other. So just pick epoch 40"
   ]
  },
  {
   "cell_type": "markdown",
   "metadata": {},
   "source": [
    "## Learning rate changes (not significant for 5 way, but is for 2 way)"
   ]
  },
  {
   "cell_type": "markdown",
   "metadata": {},
   "source": [
    "decay from 0.001, 0.0001, 0.00001 at 60 and 120 epochs"
   ]
  },
  {
   "cell_type": "code",
   "execution_count": 74,
   "metadata": {},
   "outputs": [],
   "source": [
    "lr_decay = [(77.01, 96.26, 84.14), (76.35, 95.43, 84.98), \n",
    "            (76.8, 96.0, 82.37), (77.23, 96.53, 85.01), (74.84, 93.55, 83.37)]"
   ]
  },
  {
   "cell_type": "code",
   "execution_count": 75,
   "metadata": {},
   "outputs": [
    {
     "name": "stdout",
     "output_type": "stream",
     "text": [
      "5 way evaluation with none: \t Ttest_relResult(statistic=-1.6705853416067513, pvalue=0.1701242404644736)\n",
      "5 way evaluation without none: \t Ttest_relResult(statistic=-1.6552808859877792, pvalue=0.1732096288472433)\n",
      "2 way evaluation: \t\t Ttest_relResult(statistic=-4.295116864830153, pvalue=0.012694591254571832)\n"
     ]
    }
   ],
   "source": [
    "paired_ttest(baseline, lr_decay)"
   ]
  },
  {
   "cell_type": "markdown",
   "metadata": {},
   "source": [
    "## SGD momentum (makes a difference for 2 way evaluation)"
   ]
  },
  {
   "cell_type": "code",
   "execution_count": 76,
   "metadata": {},
   "outputs": [],
   "source": [
    "sgd_momentum = [(78.03, 97.54, 84.77), (76.1, 95.12, 85.38), \n",
    "                (78.33, 97.91, 84.24), (76.64, 95.8, 85.21), (79.04, 98.8, 86.24)]"
   ]
  },
  {
   "cell_type": "code",
   "execution_count": 77,
   "metadata": {},
   "outputs": [
    {
     "name": "stdout",
     "output_type": "stream",
     "text": [
      "5 way evaluation with none: \t Ttest_relResult(statistic=-1.8281366623341164, pvalue=0.14153337135886251)\n",
      "5 way evaluation without none: \t Ttest_relResult(statistic=-1.8257329550742425, pvalue=0.1419289150437072)\n",
      "2 way evaluation: \t\t Ttest_relResult(statistic=-3.5269609342545105, pvalue=0.024297019285347166)\n"
     ]
    }
   ],
   "source": [
    "paired_ttest(baseline, sgd_momentum)"
   ]
  },
  {
   "cell_type": "markdown",
   "metadata": {},
   "source": [
    "## Border Size"
   ]
  },
  {
   "cell_type": "code",
   "execution_count": 78,
   "metadata": {},
   "outputs": [],
   "source": [
    "border_20 = [(76.47, 95.59, 82.4), (75.92, 94.9, 84.24), \n",
    "             (75.58, 94.48, 82.29), (76.51, 95.64, 84.45), (74.77, 93.46, 82.71)]"
   ]
  },
  {
   "cell_type": "code",
   "execution_count": 79,
   "metadata": {},
   "outputs": [
    {
     "name": "stdout",
     "output_type": "stream",
     "text": [
      "5 way evaluation with none: \t Ttest_relResult(statistic=0.2584340397413008, pvalue=0.8088249458913612)\n",
      "5 way evaluation without none: \t Ttest_relResult(statistic=0.25457296025532294, pvalue=0.8116050192191722)\n",
      "2 way evaluation: \t\t Ttest_relResult(statistic=-0.2784904951510836, pvalue=0.7944396441598863)\n"
     ]
    }
   ],
   "source": [
    "paired_ttest(baseline, border_20)"
   ]
  },
  {
   "cell_type": "markdown",
   "metadata": {},
   "source": [
    "## Pos embedding size"
   ]
  },
  {
   "cell_type": "code",
   "execution_count": 80,
   "metadata": {},
   "outputs": [],
   "source": [
    "pos_10 = [(76.63, 95.78, 83.6), (75.72, 94.65, 84.77), \n",
    "          (74.63, 93.28, 81.43), (77.0, 96.25, 84.58), (74.71, 93.38, 82.86)]"
   ]
  },
  {
   "cell_type": "code",
   "execution_count": 81,
   "metadata": {},
   "outputs": [
    {
     "name": "stdout",
     "output_type": "stream",
     "text": [
      "5 way evaluation with none: \t Ttest_relResult(statistic=0.6416941760180964, pvalue=0.5559962634797853)\n",
      "5 way evaluation without none: \t Ttest_relResult(statistic=0.6537103376641775, pvalue=0.5489730043601145)\n",
      "2 way evaluation: \t\t Ttest_relResult(statistic=-1.150447483271066, pvalue=0.3140574530387301)\n"
     ]
    }
   ],
   "source": [
    "paired_ttest(baseline, pos_10)"
   ]
  },
  {
   "cell_type": "code",
   "execution_count": 82,
   "metadata": {},
   "outputs": [],
   "source": [
    "pos_50 = [(75.48, 94.35, 82.59), (75.09, 93.86, 84.31), \n",
    "          (75.45, 94.31, 81.94), (77.41, 96.76, 85.18), (74.31, 92.88, 82.52)]"
   ]
  },
  {
   "cell_type": "code",
   "execution_count": 83,
   "metadata": {},
   "outputs": [
    {
     "name": "stdout",
     "output_type": "stream",
     "text": [
      "5 way evaluation with none: \t Ttest_relResult(statistic=0.8564773593662187, pvalue=0.4400112922092368)\n",
      "5 way evaluation without none: \t Ttest_relResult(statistic=0.8622569903519793, pvalue=0.43717333095435745)\n",
      "2 way evaluation: \t\t Ttest_relResult(statistic=-1.1477043405479608, pvalue=0.3150657861714648)\n"
     ]
    }
   ],
   "source": [
    "paired_ttest(baseline, pos_50)"
   ]
  },
  {
   "cell_type": "code",
   "execution_count": 84,
   "metadata": {},
   "outputs": [],
   "source": [
    "pos_80 = [(77.02, 96.28, 82.91), (75.52, 94.4, 84.37), \n",
    "          (75.36, 94.2, 81.74), (77.23, 96.54, 84.58), (73.62, 92.02, 82.44)]"
   ]
  },
  {
   "cell_type": "code",
   "execution_count": 85,
   "metadata": {},
   "outputs": [
    {
     "name": "stdout",
     "output_type": "stream",
     "text": [
      "5 way evaluation with none: \t Ttest_relResult(statistic=0.9951435490687367, pvalue=0.3759910284491577)\n",
      "5 way evaluation without none: \t Ttest_relResult(statistic=0.9917832632154486, pvalue=0.37744312587455964)\n",
      "2 way evaluation: \t\t Ttest_relResult(statistic=-0.5035088149780148, pvalue=0.6410707857340441)\n"
     ]
    }
   ],
   "source": [
    "paired_ttest(baseline, pos_80)"
   ]
  },
  {
   "cell_type": "code",
   "execution_count": 86,
   "metadata": {},
   "outputs": [],
   "source": [
    "pos_200 = [(75.63, 94.54, 82.67), (76.23, 95.28, 84.17), \n",
    "           (75.52, 94.4, 82.2), (77.96, 97.44, 84.91), (73.54, 91.93, 82.16)]"
   ]
  },
  {
   "cell_type": "code",
   "execution_count": 87,
   "metadata": {},
   "outputs": [
    {
     "name": "stdout",
     "output_type": "stream",
     "text": [
      "5 way evaluation with none: \t Ttest_relResult(statistic=0.2821722750405536, pvalue=0.7918094075031579)\n",
      "5 way evaluation without none: \t Ttest_relResult(statistic=0.28616773882885055, pvalue=0.7889588653173217)\n",
      "2 way evaluation: \t\t Ttest_relResult(statistic=-0.42190830766996845, pvalue=0.6947801597671694)\n"
     ]
    }
   ],
   "source": [
    "paired_ttest(baseline, pos_200)"
   ]
  },
  {
   "cell_type": "markdown",
   "metadata": {},
   "source": [
    "## Number of filters"
   ]
  },
  {
   "cell_type": "code",
   "execution_count": 88,
   "metadata": {},
   "outputs": [],
   "source": [
    "filter_50 = [(75.3, 94.13, 82.47), (76.14, 95.17, 84.32), \n",
    "             (75.75, 94.68, 82.19), (76.56, 95.69, 84.17), (73.27, 91.58, 82.48)]"
   ]
  },
  {
   "cell_type": "code",
   "execution_count": 89,
   "metadata": {},
   "outputs": [
    {
     "name": "stdout",
     "output_type": "stream",
     "text": [
      "5 way evaluation with none: \t Ttest_relResult(statistic=1.0164969742623027, pvalue=0.3668766917092276)\n",
      "5 way evaluation without none: \t Ttest_relResult(statistic=1.0261643491411365, pvalue=0.36281438145455186)\n",
      "2 way evaluation: \t\t Ttest_relResult(statistic=0.37397492737059634, pvalue=0.7274019707873024)\n"
     ]
    }
   ],
   "source": [
    "paired_ttest(baseline, filter_50)"
   ]
  },
  {
   "cell_type": "code",
   "execution_count": 90,
   "metadata": {},
   "outputs": [],
   "source": [
    "filter_150 = [(76.07, 95.09, 82.53), (74.01, 92.52, 83.69), \n",
    "              (75.46, 94.32, 82.01), (76.69, 95.86, 84.45), (74.32, 92.9, 82.71)]"
   ]
  },
  {
   "cell_type": "code",
   "execution_count": 91,
   "metadata": {},
   "outputs": [
    {
     "name": "stdout",
     "output_type": "stream",
     "text": [
      "5 way evaluation with none: \t Ttest_relResult(statistic=1.801175247468745, pvalue=0.1460385437100216)\n",
      "5 way evaluation without none: \t Ttest_relResult(statistic=1.8028036184544296, pvalue=0.1457621398157516)\n",
      "2 way evaluation: \t\t Ttest_relResult(statistic=0.6622661785325059, pvalue=0.5440100333191221)\n"
     ]
    }
   ],
   "source": [
    "paired_ttest(baseline, filter_150)"
   ]
  },
  {
   "cell_type": "markdown",
   "metadata": {},
   "source": [
    "## Early stop (makes a difference only for 2 way evaluation)"
   ]
  },
  {
   "cell_type": "code",
   "execution_count": 94,
   "metadata": {},
   "outputs": [],
   "source": [
    "early_stop = [(76.23, 95.29, 83.44), (75.96, 94.95, 84.91), \n",
    "              (76.84, 96.05, 82.92), (77.49, 96.86, 84.77), (74.63, 93.29, 82.53)]"
   ]
  },
  {
   "cell_type": "code",
   "execution_count": 93,
   "metadata": {},
   "outputs": [
    {
     "name": "stdout",
     "output_type": "stream",
     "text": [
      "5 way evaluation with none: \t Ttest_relResult(statistic=-0.6905965244758024, pvalue=0.5278025459316674)\n",
      "5 way evaluation without none: \t Ttest_relResult(statistic=-0.6906439921050291, pvalue=0.5277756831096222)\n",
      "2 way evaluation: \t\t Ttest_relResult(statistic=-3.0876067812764734, pvalue=0.03665946022511498)\n"
     ]
    }
   ],
   "source": [
    "paired_ttest(baseline, early_stop)"
   ]
  },
  {
   "cell_type": "markdown",
   "metadata": {},
   "source": [
    "So far: default runs should be --dataset=ddi --cross_validate --num_epoches=50 --lr_values=0.001 0.001 --lr_boundaries 25 --pos_embed_size=10 (because it seems like the size of the position embeddings didn’t make a difference). Compare this to the case with 50 epoches. "
   ]
  },
  {
   "cell_type": "code",
   "execution_count": 105,
   "metadata": {},
   "outputs": [],
   "source": [
    "pos_10_with_50epoches = [(78.45, 98.07, 84.79), (76.02, 95.03, 85.06), (77.86, 97.32, 83.1), \n",
    "                         (77.11, 96.39, 85.3), (75.3,94.13, 84.16)]"
   ]
  },
  {
   "cell_type": "code",
   "execution_count": 106,
   "metadata": {},
   "outputs": [
    {
     "name": "stdout",
     "output_type": "stream",
     "text": [
      "5 way evaluation with none: \t Ttest_relResult(statistic=1.5761844593408176, pvalue=0.19011085616722417)\n",
      "5 way evaluation without none: \t Ttest_relResult(statistic=1.5715364299576844, pvalue=0.19115567193515204)\n",
      "2 way evaluation: \t\t Ttest_relResult(statistic=-0.36533481455775646, pvalue=0.7333600852444407)\n"
     ]
    }
   ],
   "source": [
    "paired_ttest(epochs_50, pos_10_with_50epoches)"
   ]
  },
  {
   "cell_type": "markdown",
   "metadata": {},
   "source": [
    "yep, keep default as 10 pos embeddings"
   ]
  },
  {
   "cell_type": "markdown",
   "metadata": {},
   "source": [
    "because 40 epochs and 50 epochs are not significantly different, we keep 40 epochs"
   ]
  },
  {
   "cell_type": "markdown",
   "metadata": {},
   "source": [
    "--dataset=ddi --cross_validate --num_epoches=40 --lr_values=0.001 0.001 --lr_boundaries 20 --pos_embed_size=10"
   ]
  }
 ],
 "metadata": {
  "kernelspec": {
   "display_name": "Python 3",
   "language": "python",
   "name": "python3"
  },
  "language_info": {
   "codemirror_mode": {
    "name": "ipython",
    "version": 3
   },
   "file_extension": ".py",
   "mimetype": "text/x-python",
   "name": "python",
   "nbconvert_exporter": "python",
   "pygments_lexer": "ipython3",
   "version": "3.6.6"
  }
 },
 "nbformat": 4,
 "nbformat_minor": 2
}
