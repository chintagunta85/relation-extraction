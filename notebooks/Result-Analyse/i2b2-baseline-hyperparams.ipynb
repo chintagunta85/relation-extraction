{
 "cells": [
  {
   "cell_type": "markdown",
   "metadata": {},
   "source": [
    "# Analyse the results from the various hyperparm operations on i2b2 dataset"
   ]
  },
  {
   "cell_type": "markdown",
   "metadata": {},
   "source": [
    "macro F1 scores are of the form ```8 way, Problem-Treatment, Problem-Test, Problem-Problem```"
   ]
  },
  {
   "cell_type": "code",
   "execution_count": 5,
   "metadata": {},
   "outputs": [],
   "source": [
    "%load_ext autoreload"
   ]
  },
  {
   "cell_type": "code",
   "execution_count": 6,
   "metadata": {},
   "outputs": [],
   "source": [
    "%autoreload\n",
    "\n",
    "from scipy.stats import ttest_rel"
   ]
  },
  {
   "cell_type": "code",
   "execution_count": 7,
   "metadata": {},
   "outputs": [],
   "source": [
    "def paired_ttest(score1, score2):\n",
    "    all_three_macroF1_score1 = [x for x in zip(*score1)]\n",
    "    all_three_macroF1_score2 = [x for x in zip(*score2)]\n",
    "    ttests = [ttest_rel(macro_f1_score1, macro_f1_score2) \n",
    "            for macro_f1_score1, macro_f1_score2 in zip(all_three_macroF1_score1, all_three_macroF1_score2)]\n",
    "    print('8 way evaluation: \\t', ttests[0])\n",
    "    print('Problem-Treatment: \\t', ttests[1])\n",
    "    print('Problem-Test: \\t\\t', ttests[2])\n",
    "    print('Problem-Problem: \\t\\t', ttests[3])\n"
   ]
  },
  {
   "cell_type": "markdown",
   "metadata": {},
   "source": [
    "baseline model with default hyperparams (no pre processing, no handling of the other class but with ranking loss)"
   ]
  },
  {
   "cell_type": "code",
   "execution_count": 8,
   "metadata": {},
   "outputs": [],
   "source": [
    "baseline = [(90.35, 84.26, 92.58, 92.86), (88.71, 77.25, 92.89, 93.27), (89.57, 81.2, 92.55, 93.16), \n",
    "            (86.16, 75.21, 89.89, 91.82), (87.79, 78.66, 92.47, 89.47)]"
   ]
  },
  {
   "cell_type": "markdown",
   "metadata": {},
   "source": [
    "### filter sizes variation"
   ]
  },
  {
   "cell_type": "code",
   "execution_count": 9,
   "metadata": {},
   "outputs": [],
   "source": [
    "filter_234 = [(90.12, 81.33, 94.09, 92.73), (88.24, 76.07, 92.39, 93.69), (90.05, 82.05, 92.91, 93.45), \n",
    "              (86.63, 76.15, 90.19, 91.89), (87.56, 76.86, 92.71, 90.27)]"
   ]
  },
  {
   "cell_type": "code",
   "execution_count": 10,
   "metadata": {},
   "outputs": [
    {
     "name": "stdout",
     "output_type": "stream",
     "text": [
      "8 way evaluation: \t Ttest_relResult(statistic=-0.02028184785788131, pvalue=0.984789917560547)\n",
      "Problem-Treatment: \t Ttest_relResult(statistic=1.090051992778353, pvalue=0.33695740087286746)\n",
      "Problem-Test: \t\t Ttest_relResult(statistic=-1.185192872687789, pvalue=0.3015421300970829)\n",
      "Problem-Problem: \t\t Ttest_relResult(statistic=-1.8308285121912307, pvalue=0.14109181493838494)\n"
     ]
    }
   ],
   "source": [
    "paired_ttest(baseline, filter_234)"
   ]
  },
  {
   "cell_type": "code",
   "execution_count": 11,
   "metadata": {},
   "outputs": [],
   "source": [
    "filter_345 = [(88.94, 81.33, 92.27, 91.4), (88.94, 79.15, 92.89, 92.31), (90.52, 82.55, 92.88, 94.78), \n",
    "              (85.92, 75.31, 90.0, 90.41), (88.03, 78.66, 92.15, 90.91)]"
   ]
  },
  {
   "cell_type": "code",
   "execution_count": 12,
   "metadata": {},
   "outputs": [
    {
     "name": "stdout",
     "output_type": "stream",
     "text": [
      "8 way evaluation: \t Ttest_relResult(statistic=0.11783025003278201, pvalue=0.9118820017251688)\n",
      "Problem-Treatment: \t Ttest_relResult(statistic=-0.10042747032174407, pvalue=0.924837241734427)\n",
      "Problem-Test: \t\t Ttest_relResult(statistic=0.30410706453338954, pvalue=0.7762100004139154)\n",
      "Problem-Problem: \t\t Ttest_relResult(statistic=0.22204036423310525, pvalue=0.8351583502608262)\n"
     ]
    }
   ],
   "source": [
    "paired_ttest(baseline, filter_345)"
   ]
  },
  {
   "cell_type": "markdown",
   "metadata": {},
   "source": [
    "### batch size"
   ]
  },
  {
   "cell_type": "code",
   "execution_count": 13,
   "metadata": {},
   "outputs": [],
   "source": [
    "batch_70 = [(89.88, 83.9, 92.07, 92.38), (89.41, 81.2, 92.39, 92.79), (90.52, 84.12, 92.88, 93.1), \n",
    "            (86.4, 77.37, 89.66, 90.83), (88.73, 82.5, 92.43, 89.08)]    "
   ]
  },
  {
   "cell_type": "code",
   "execution_count": 14,
   "metadata": {},
   "outputs": [
    {
     "name": "stdout",
     "output_type": "stream",
     "text": [
      "8 way evaluation: \t Ttest_relResult(statistic=-1.7586249604151594, pvalue=0.15346291817209728)\n",
      "Problem-Treatment: \t Ttest_relResult(statistic=-3.1814351191075465, pvalue=0.03348920662616892)\n",
      "Problem-Test: \t\t Ttest_relResult(statistic=1.2101665350671142, pvalue=0.2928361845091716)\n",
      "Problem-Problem: \t\t Ttest_relResult(statistic=3.21937454634215, pvalue=0.03229970131798839)\n"
     ]
    }
   ],
   "source": [
    "paired_ttest(baseline, batch_70)"
   ]
  },
  {
   "cell_type": "code",
   "execution_count": 15,
   "metadata": {},
   "outputs": [],
   "source": [
    "batch_30 = [(88.24, 78.86, 91.62, 92.79), (88.71, 76.99, 92.82, 94.12), (88.15, 78.81, 91.4, 92.37), \n",
    "            (84.49, 74.31, 89.12, 88.46), (86.62, 77.73, 91.34, 88.39)]"
   ]
  },
  {
   "cell_type": "code",
   "execution_count": 16,
   "metadata": {},
   "outputs": [
    {
     "name": "stdout",
     "output_type": "stream",
     "text": [
      "8 way evaluation: \t Ttest_relResult(statistic=3.595571984216195, pvalue=0.02284806369508635)\n",
      "Problem-Treatment: \t Ttest_relResult(statistic=2.1375144205141874, pvalue=0.09936492100177781)\n",
      "Problem-Test: \t\t Ttest_relResult(statistic=4.106989462863282, pvalue=0.01476841806568388)\n",
      "Problem-Problem: \t\t Ttest_relResult(statistic=1.2683906604324637, pvalue=0.2734535337122975)\n"
     ]
    }
   ],
   "source": [
    "paired_ttest(baseline, batch_30)"
   ]
  },
  {
   "cell_type": "code",
   "execution_count": 17,
   "metadata": {},
   "outputs": [
    {
     "name": "stdout",
     "output_type": "stream",
     "text": [
      "8 way evaluation: \t Ttest_relResult(statistic=6.071216649722227, pvalue=0.0037180498383699136)\n",
      "Problem-Treatment: \t Ttest_relResult(statistic=11.237431176231217, pvalue=0.0003571876219289638)\n",
      "Problem-Test: \t\t Ttest_relResult(statistic=1.932743267937933, pvalue=0.12541911380143606)\n",
      "Problem-Problem: \t\t Ttest_relResult(statistic=0.6598157954083025, pvalue=0.5454282013681919)\n"
     ]
    }
   ],
   "source": [
    "paired_ttest(batch_70, batch_30)"
   ]
  },
  {
   "cell_type": "markdown",
   "metadata": {},
   "source": [
    "Batch size of 70 seems to be better than batch size of 30. It does not seem significantly better than original batch size. One problem is that batch 70 is better for Problem-Treatment, but baseline is better for Problem-Problem. This makes me think that changing batch size is not the right option, especially because it does not affec the overall 8 way evaluation. "
   ]
  },
  {
   "cell_type": "markdown",
   "metadata": {},
   "source": [
    "## num of epoches (worth exploring)"
   ]
  },
  {
   "cell_type": "code",
   "execution_count": 18,
   "metadata": {},
   "outputs": [],
   "source": [
    "epochs_50 = [(89.65, 83.98, 91.92, 91.48), (88.24, 80.17, 90.91, 91.89), (90.28, 83.12, 92.59, 93.62), \n",
    "             (88.31, 81.22, 91.34, 90.35), (88.5, 81.67, 92.43, 89.08)] "
   ]
  },
  {
   "cell_type": "code",
   "execution_count": 19,
   "metadata": {},
   "outputs": [
    {
     "name": "stdout",
     "output_type": "stream",
     "text": [
      "8 way evaluation: \t Ttest_relResult(statistic=-0.9423002205056477, pvalue=0.39939274814304343)\n",
      "Problem-Treatment: \t Ttest_relResult(statistic=-2.676926321218678, pvalue=0.0554053238401088)\n",
      "Problem-Test: \t\t Ttest_relResult(statistic=0.42820440664183107, pvalue=0.6905518507940647)\n",
      "Problem-Problem: \t\t Ttest_relResult(statistic=2.195457007835645, pvalue=0.09312326892853189)\n"
     ]
    }
   ],
   "source": [
    "paired_ttest(baseline, epochs_50)"
   ]
  },
  {
   "cell_type": "code",
   "execution_count": 20,
   "metadata": {},
   "outputs": [],
   "source": [
    "epochs_100 = [(90.35, 85.34, 92.39, 91.96), (88.71, 80.34, 91.65, 92.31), (90.05, 83.26, 92.06, 93.56), \n",
    "              (87.11, 77.97, 91.2, 89.87), (88.26, 80.0, 92.39, 90.04)]"
   ]
  },
  {
   "cell_type": "code",
   "execution_count": 21,
   "metadata": {},
   "outputs": [
    {
     "name": "stdout",
     "output_type": "stream",
     "text": [
      "8 way evaluation: \t Ttest_relResult(statistic=-2.1380053305099627, pvalue=0.0993101237372443)\n",
      "Problem-Treatment: \t Ttest_relResult(statistic=-5.308335982824204, pvalue=0.00605299530981918)\n",
      "Problem-Test: \t\t Ttest_relResult(statistic=0.3326953259669462, pvalue=0.7560700112103909)\n",
      "Problem-Problem: \t\t Ttest_relResult(statistic=1.2101717241273928, pvalue=0.2928344003975201)\n"
     ]
    }
   ],
   "source": [
    "paired_ttest(baseline, epochs_100)"
   ]
  },
  {
   "cell_type": "code",
   "execution_count": 22,
   "metadata": {},
   "outputs": [],
   "source": [
    "epochs_150 =  [(90.12, 84.12, 92.58, 92.04), (88.0, 76.07, 92.39, 92.79), (90.05, 83.62, 91.82, 93.56), \n",
    "               (86.16, 76.67, 89.76, 90.32), (89.44, 81.17, 93.44, 91.38)]"
   ]
  },
  {
   "cell_type": "code",
   "execution_count": 23,
   "metadata": {},
   "outputs": [
    {
     "name": "stdout",
     "output_type": "stream",
     "text": [
      "8 way evaluation: \t Ttest_relResult(statistic=-0.5925349970564563, pvalue=0.5853663493950922)\n",
      "Problem-Treatment: \t Ttest_relResult(statistic=-1.395529720580799, pvalue=0.2353410521208601)\n",
      "Problem-Test: \t\t Ttest_relResult(statistic=0.2667325346846324, pvalue=0.8028614167287009)\n",
      "Problem-Problem: \t\t Ttest_relResult(statistic=0.16669077450791, pvalue=0.8757003732351485)\n"
     ]
    }
   ],
   "source": [
    "paired_ttest(baseline, epochs_150)"
   ]
  },
  {
   "cell_type": "code",
   "execution_count": 24,
   "metadata": {},
   "outputs": [],
   "source": [
    "epochs_200 = [(90.12, 82.35, 93.3, 92.86), (88.0, 77.97, 91.6, 92.31), (90.05, 82.91, 91.82, 94.37), \n",
    "              (86.4, 76.99, 89.42, 91.4), (89.2, 80.67, 92.91, 91.85)]"
   ]
  },
  {
   "cell_type": "code",
   "execution_count": 25,
   "metadata": {},
   "outputs": [
    {
     "name": "stdout",
     "output_type": "stream",
     "text": [
      "8 way evaluation: \t Ttest_relResult(statistic=-0.6665490036878363, pvalue=0.5415375543961087)\n",
      "Problem-Treatment: \t Ttest_relResult(statistic=-1.1849494127561362, pvalue=0.30162818414580445)\n",
      "Problem-Test: \t\t Ttest_relResult(statistic=0.7139659776618404, pvalue=0.5146966075570344)\n",
      "Problem-Problem: \t\t Ttest_relResult(statistic=-0.7341382437574384, pvalue=0.5035767927305833)\n"
     ]
    }
   ],
   "source": [
    "paired_ttest(baseline, epochs_200)"
   ]
  },
  {
   "cell_type": "markdown",
   "metadata": {},
   "source": [
    "100 epochs seems like a good idea"
   ]
  },
  {
   "cell_type": "markdown",
   "metadata": {},
   "source": [
    "## Learning rate changes (worth exploring)"
   ]
  },
  {
   "cell_type": "markdown",
   "metadata": {},
   "source": [
    "decay from 0.001, 0.0001, 0.00001 at 60 and 120 epochs"
   ]
  },
  {
   "cell_type": "code",
   "execution_count": 26,
   "metadata": {},
   "outputs": [],
   "source": [
    "lr_decay = [(89.88, 84.21, 91.92, 92.04), (88.71, 80.17, 91.92, 91.89), (90.28, 83.62, 92.06, 94.02), \n",
    "            (88.07, 78.97, 92.11, 90.67), (88.73, 81.67, 92.11, 90.52)]"
   ]
  },
  {
   "cell_type": "code",
   "execution_count": 27,
   "metadata": {},
   "outputs": [
    {
     "name": "stdout",
     "output_type": "stream",
     "text": [
      "8 way evaluation: \t Ttest_relResult(statistic=-1.5106728585730524, pvalue=0.20539377446754556)\n",
      "Problem-Treatment: \t Ttest_relResult(statistic=-3.7010846218944997, pvalue=0.020815663264479135)\n",
      "Problem-Test: \t\t Ttest_relResult(statistic=0.0901044036514339, pvalue=0.9325357573064759)\n",
      "Problem-Problem: \t\t Ttest_relResult(statistic=0.5580577990338955, pvalue=0.6065631216378966)\n"
     ]
    }
   ],
   "source": [
    "paired_ttest(baseline, lr_decay)"
   ]
  },
  {
   "cell_type": "markdown",
   "metadata": {},
   "source": [
    "lr of 0.01"
   ]
  },
  {
   "cell_type": "code",
   "execution_count": 28,
   "metadata": {},
   "outputs": [],
   "source": [
    "lr_high = [(82.59, 71.32, 89.06, 84.62), (83.29, 68.57, 90.03, 87.85), \n",
    "           (82.46, 70.12, 89.12, 85.19), (78.28, 61.85, 86.56, 82.95), (84.98, 73.42, 90.77, 87.11)]"
   ]
  },
  {
   "cell_type": "code",
   "execution_count": 29,
   "metadata": {},
   "outputs": [
    {
     "name": "stdout",
     "output_type": "stream",
     "text": [
      "8 way evaluation: \t Ttest_relResult(statistic=6.49793684448928, pvalue=0.0028934133845599573)\n",
      "Problem-Treatment: \t Ttest_relResult(statistic=6.827751379762409, pvalue=0.002406315455049697)\n",
      "Problem-Test: \t\t Ttest_relResult(statistic=8.812360866382733, pvalue=0.0009149337964702109)\n",
      "Problem-Problem: \t\t Ttest_relResult(statistic=5.449723081567165, pvalue=0.005507496252817981)\n"
     ]
    }
   ],
   "source": [
    "paired_ttest(baseline, lr_high)"
   ]
  },
  {
   "cell_type": "markdown",
   "metadata": {},
   "source": [
    "lr decay only seems to be helping for the Problem-Treatment - worth exploring more"
   ]
  },
  {
   "cell_type": "markdown",
   "metadata": {},
   "source": [
    "## SGD momentum"
   ]
  },
  {
   "cell_type": "code",
   "execution_count": 30,
   "metadata": {},
   "outputs": [],
   "source": [
    "sgd_momentum = [(88.0, 79.17, 90.21, 93.69), (87.29, 73.95, 90.62, 95.61), (87.91, 76.19, 91.44, 93.72), \n",
    "                (89.02, 82.46, 89.82, 94.27), (88.73, 82.25, 90.58, 92.05)]"
   ]
  },
  {
   "cell_type": "code",
   "execution_count": 31,
   "metadata": {},
   "outputs": [
    {
     "name": "stdout",
     "output_type": "stream",
     "text": [
      "8 way evaluation: \t Ttest_relResult(statistic=0.33600820280283605, pvalue=0.753750808390631)\n",
      "Problem-Treatment: \t Ttest_relResult(statistic=0.20395486514170735, pvalue=0.848345165343118)\n",
      "Problem-Test: \t\t Ttest_relResult(statistic=3.5898928056394013, pvalue=0.02296401736789849)\n",
      "Problem-Problem: \t\t Ttest_relResult(statistic=-4.024938881496008, pvalue=0.0157996322773076)\n"
     ]
    }
   ],
   "source": [
    "paired_ttest(baseline, sgd_momentum)"
   ]
  },
  {
   "cell_type": "markdown",
   "metadata": {},
   "source": [
    "contradicting results for individual relations, but overall seems to not make a difference. "
   ]
  },
  {
   "cell_type": "markdown",
   "metadata": {},
   "source": [
    "tests reveal that both learning rate decay and SGD momentum do not help"
   ]
  },
  {
   "cell_type": "markdown",
   "metadata": {},
   "source": [
    "## Border Size (default is best)"
   ]
  },
  {
   "cell_type": "code",
   "execution_count": 32,
   "metadata": {},
   "outputs": [],
   "source": [
    "border_20 = [(90.12, 83.9, 92.35, 92.79), (88.94, 78.79, 92.89, 92.44), (89.81, 81.2, 92.55, 94.02), \n",
    "             (86.87, 75.63, 90.67, 92.44), (88.03, 77.31, 92.63, 91.45)]"
   ]
  },
  {
   "cell_type": "code",
   "execution_count": 33,
   "metadata": {},
   "outputs": [
    {
     "name": "stdout",
     "output_type": "stream",
     "text": [
      "8 way evaluation: \t Ttest_relResult(statistic=-1.6011786190295072, pvalue=0.1845926891852554)\n",
      "Problem-Treatment: \t Ttest_relResult(statistic=-0.1055547867025079, pvalue=0.9210171353234092)\n",
      "Problem-Test: \t\t Ttest_relResult(statistic=-0.8295162373921146, pvalue=0.4534466539886332)\n",
      "Problem-Problem: \t\t Ttest_relResult(statistic=-1.0881948213156576, pvalue=0.33768508393083546)\n"
     ]
    }
   ],
   "source": [
    "paired_ttest(baseline, border_20)"
   ]
  },
  {
   "cell_type": "code",
   "execution_count": 34,
   "metadata": {},
   "outputs": [],
   "source": [
    "border_minus1 = [(89.41, 81.51, 92.03, 93.27), (87.76, 75.74, 91.6, 93.69), (89.57, 80.0, 92.35, 94.47), \n",
    "                 (84.49, 73.9, 88.71, 89.4), (88.03, 78.51, 92.15, 91.23)]"
   ]
  },
  {
   "cell_type": "code",
   "execution_count": 35,
   "metadata": {},
   "outputs": [
    {
     "name": "stdout",
     "output_type": "stream",
     "text": [
      "8 way evaluation: \t Ttest_relResult(statistic=1.9056713469377615, pvalue=0.12938986941425473)\n",
      "Problem-Treatment: \t Ttest_relResult(statistic=3.3352205703831355, pvalue=0.02896438998822179)\n",
      "Problem-Test: \t\t Ttest_relResult(statistic=3.174090145759352, pvalue=0.03372541516115184)\n",
      "Problem-Problem: \t\t Ttest_relResult(statistic=-0.4070383333681037, pvalue=0.7048196678884107)\n"
     ]
    }
   ],
   "source": [
    "paired_ttest(baseline, border_minus1)"
   ]
  },
  {
   "cell_type": "code",
   "execution_count": 36,
   "metadata": {},
   "outputs": [],
   "source": [
    "border_1 = [(89.65, 79.67, 93.23, 94.22), (86.82, 74.68, 91.33, 91.56), (89.57, 84.21, 90.77, 92.83), \n",
    "            (86.4, 74.19, 91.69, 91.24), (89.91, 82.16, 93.12, 92.7)]"
   ]
  },
  {
   "cell_type": "code",
   "execution_count": 37,
   "metadata": {},
   "outputs": [
    {
     "name": "stdout",
     "output_type": "stream",
     "text": [
      "8 way evaluation: \t Ttest_relResult(statistic=0.07013499061401354, pvalue=0.9474525919337373)\n",
      "Problem-Treatment: \t Ttest_relResult(statistic=0.21237788780010725, pvalue=0.842195819739582)\n",
      "Problem-Test: \t\t Ttest_relResult(statistic=0.06901126296413315, pvalue=0.9482928433277223)\n",
      "Problem-Problem: \t\t Ttest_relResult(statistic=-0.45684851972593227, pvalue=0.6714889018536513)\n"
     ]
    }
   ],
   "source": [
    "paired_ttest(baseline, border_1)"
   ]
  },
  {
   "cell_type": "markdown",
   "metadata": {},
   "source": [
    "baseline (border 50) seems better than border minus 1 for 2 relation types (doesn't make a difference otherwise)"
   ]
  },
  {
   "cell_type": "markdown",
   "metadata": {},
   "source": [
    "## Pos embedding size (Worth trying 50)"
   ]
  },
  {
   "cell_type": "code",
   "execution_count": 38,
   "metadata": {},
   "outputs": [],
   "source": [
    "pos_10 = [(88.71, 81.51, 92.07, 90.5), (87.29, 76.07, 91.92, 90.91), (89.1, 80.0, 92.02, 93.86),\n",
    "          (85.92, 76.15, 89.42, 90.5), (88.73, 80.33, 93.23, 89.96)]"
   ]
  },
  {
   "cell_type": "code",
   "execution_count": 39,
   "metadata": {},
   "outputs": [
    {
     "name": "stdout",
     "output_type": "stream",
     "text": [
      "8 way evaluation: \t Ttest_relResult(statistic=1.2254757323179004, pvalue=0.28761698362210264)\n",
      "Problem-Treatment: \t Ttest_relResult(statistic=0.6300659634835066, pvalue=0.5628514655696966)\n",
      "Problem-Test: \t\t Ttest_relResult(statistic=1.1838443804709968, pvalue=0.3020190608603854)\n",
      "Problem-Problem: \t\t Ttest_relResult(statistic=1.4535036614466064, pvalue=0.21975074732684807)\n"
     ]
    }
   ],
   "source": [
    "paired_ttest(baseline, pos_10)"
   ]
  },
  {
   "cell_type": "code",
   "execution_count": 40,
   "metadata": {},
   "outputs": [],
   "source": [
    "pos_50 = [(90.35, 83.54, 93.33, 92.38), (89.41, 79.66, 93.33, 92.86), (90.05, 79.48, 93.16, 95.32), \n",
    "          (86.4, 75.11, 89.54, 92.98), (88.26, 76.86, 93.37, 91.85)]"
   ]
  },
  {
   "cell_type": "code",
   "execution_count": 41,
   "metadata": {},
   "outputs": [
    {
     "name": "stdout",
     "output_type": "stream",
     "text": [
      "8 way evaluation: \t Ttest_relResult(statistic=-3.1694282750286904, pvalue=0.03387635516795916)\n",
      "Problem-Treatment: \t Ttest_relResult(statistic=0.5027439735877641, pvalue=0.6415628359178364)\n",
      "Problem-Test: \t\t Ttest_relResult(statistic=-2.149505130733302, pvalue=0.0980360224997812)\n",
      "Problem-Problem: \t\t Ttest_relResult(statistic=-1.5765323691783786, pvalue=0.190032887741472)\n"
     ]
    }
   ],
   "source": [
    "paired_ttest(baseline, pos_50)"
   ]
  },
  {
   "cell_type": "code",
   "execution_count": 42,
   "metadata": {},
   "outputs": [],
   "source": [
    "pos_80 = [(89.41, 82.16, 91.91, 92.92), (89.41, 81.86, 92.35, 92.31), (89.57, 80.85, 92.02, 94.42), \n",
    "          (87.11, 76.99, 90.37, 92.44), (88.5, 79.01, 92.27, 92.31)]"
   ]
  },
  {
   "cell_type": "code",
   "execution_count": 43,
   "metadata": {},
   "outputs": [
    {
     "name": "stdout",
     "output_type": "stream",
     "text": [
      "8 way evaluation: \t Ttest_relResult(statistic=-0.8238080954933396, pvalue=0.4563327432804614)\n",
      "Problem-Treatment: \t Ttest_relResult(statistic=-0.7614316297326074, pvalue=0.4888180565539835)\n",
      "Problem-Test: \t\t Ttest_relResult(statistic=1.4036839401305974, pvalue=0.23308328136329956)\n",
      "Problem-Problem: \t\t Ttest_relResult(statistic=-1.2046577730047159, pvalue=0.29473600635135333)\n"
     ]
    }
   ],
   "source": [
    "paired_ttest(baseline, pos_80)"
   ]
  },
  {
   "cell_type": "markdown",
   "metadata": {},
   "source": [
    "position 50 seems superior but 80 doesn't"
   ]
  },
  {
   "cell_type": "markdown",
   "metadata": {},
   "source": [
    "## Number of filters"
   ]
  },
  {
   "cell_type": "code",
   "execution_count": 44,
   "metadata": {},
   "outputs": [],
   "source": [
    "filter_50 = [(89.88, 83.54, 92.27, 92.44), (88.71, 76.92, 93.09, 93.33), (89.57, 80.51, 92.02, 94.83), \n",
    "             (84.49, 73.6, 88.77, 89.72), (89.44, 81.48, 93.12, 91.77)]"
   ]
  },
  {
   "cell_type": "code",
   "execution_count": 45,
   "metadata": {},
   "outputs": [
    {
     "name": "stdout",
     "output_type": "stream",
     "text": [
      "8 way evaluation: \t Ttest_relResult(statistic=0.18382447836286242, pvalue=0.8630936863185209)\n",
      "Problem-Treatment: \t Ttest_relResult(statistic=0.13923452002205414, pvalue=0.895993730339263)\n",
      "Problem-Test: \t\t Ttest_relResult(statistic=0.7304291546421722, pvalue=0.5056079265734786)\n",
      "Problem-Problem: \t\t Ttest_relResult(statistic=-0.3864674270954, pvalue=0.7188284381821282)\n"
     ]
    }
   ],
   "source": [
    "paired_ttest(baseline, filter_50)"
   ]
  },
  {
   "cell_type": "code",
   "execution_count": 46,
   "metadata": {},
   "outputs": [],
   "source": [
    "filter_150 = [(89.41, 82.01, 91.95, 92.92), (89.88, 79.83, 93.61, 93.81), (89.81, 81.39, 92.27, 94.12), \n",
    "              (87.11, 78.33, 89.25, 92.92), (89.67, 81.67, 93.44, 91.77)]"
   ]
  },
  {
   "cell_type": "code",
   "execution_count": 47,
   "metadata": {},
   "outputs": [
    {
     "name": "stdout",
     "output_type": "stream",
     "text": [
      "8 way evaluation: \t Ttest_relResult(statistic=-1.3808558823522028, pvalue=0.23945877699881377)\n",
      "Problem-Treatment: \t Ttest_relResult(statistic=-1.2766937834956362, pvalue=0.2707913624551339)\n",
      "Problem-Test: \t\t Ttest_relResult(statistic=-0.08185385137617517, pvalue=0.9386951524551894)\n",
      "Problem-Problem: \t\t Ttest_relResult(statistic=-2.652899581063497, pvalue=0.05680956845917672)\n"
     ]
    }
   ],
   "source": [
    "paired_ttest(baseline, filter_150)"
   ]
  },
  {
   "cell_type": "markdown",
   "metadata": {},
   "source": [
    "filter size 150 helps for problem-problem but also makes the model slower"
   ]
  },
  {
   "cell_type": "markdown",
   "metadata": {},
   "source": [
    "## Early stop"
   ]
  },
  {
   "cell_type": "code",
   "execution_count": 48,
   "metadata": {},
   "outputs": [],
   "source": [
    "early_stop = [(90.35, 82.7, 93.57, 92.86), (89.18, 80.52, 92.11, 92.92), (90.52, 83.26, 92.59, 94.42), \n",
    "              (85.44, 76.23, 88.06, 91.24), (88.73, 80.17, 92.95, 90.52)]"
   ]
  },
  {
   "cell_type": "code",
   "execution_count": 49,
   "metadata": {},
   "outputs": [
    {
     "name": "stdout",
     "output_type": "stream",
     "text": [
      "8 way evaluation: \t Ttest_relResult(statistic=-1.0404889156397397, pvalue=0.35686798954116095)\n",
      "Problem-Treatment: \t Ttest_relResult(statistic=-1.577924335332977, pvalue=0.18972127044632103)\n",
      "Problem-Test: \t\t Ttest_relResult(statistic=0.4432296133575453, pvalue=0.6805165046079849)\n",
      "Problem-Problem: \t\t Ttest_relResult(statistic=-0.7418765152232051, pvalue=0.49935883001607495)\n"
     ]
    }
   ],
   "source": [
    "paired_ttest(baseline, early_stop)"
   ]
  },
  {
   "cell_type": "markdown",
   "metadata": {},
   "source": [
    "no significant difference"
   ]
  },
  {
   "cell_type": "markdown",
   "metadata": {},
   "source": [
    "So it looks like number of epoches, learning rate decay and position embedding size seem to make a difference"
   ]
  },
  {
   "cell_type": "markdown",
   "metadata": {},
   "source": [
    "## More variations to num epoches, learning rate decay and position embedding size"
   ]
  },
  {
   "cell_type": "markdown",
   "metadata": {},
   "source": [
    "num_epoches=100, pos_embed_size=50"
   ]
  },
  {
   "cell_type": "code",
   "execution_count": 51,
   "metadata": {},
   "outputs": [],
   "source": [
    "epochs_100_pos_50 = [(90.12, 83.9, 92.82, 91.96), (89.41, 80.0, 92.86, 93.27), \n",
    "                      (90.28, 81.2, 92.84, 95.28), (88.54, 82.1, 89.71, 93.04), (88.5, 79.34, 93.44,89.96)]"
   ]
  },
  {
   "cell_type": "code",
   "execution_count": 52,
   "metadata": {},
   "outputs": [
    {
     "name": "stdout",
     "output_type": "stream",
     "text": [
      "8 way evaluation: \t Ttest_relResult(statistic=-1.6891339480712448, pvalue=0.1664618614912973)\n",
      "Problem-Treatment: \t Ttest_relResult(statistic=0.0676965702107323, pvalue=0.9492759893444138)\n",
      "Problem-Test: \t\t Ttest_relResult(statistic=-0.808675375217455, pvalue=0.4640543575629432)\n",
      "Problem-Problem: \t\t Ttest_relResult(statistic=-1.913167411639602, pvalue=0.12827691572669606)\n"
     ]
    }
   ],
   "source": [
    "paired_ttest(epochs_100, epochs_100_pos_50)"
   ]
  },
  {
   "cell_type": "code",
   "execution_count": 54,
   "metadata": {},
   "outputs": [
    {
     "name": "stdout",
     "output_type": "stream",
     "text": [
      "8 way evaluation: \t Ttest_relResult(statistic=-2.0216429796412725, pvalue=0.11328550973117937)\n",
      "Problem-Treatment: \t Ttest_relResult(statistic=-1.4891760881954892, pvalue=0.2106774232824587)\n",
      "Problem-Test: \t\t Ttest_relResult(statistic=-1.303862028124255, pvalue=0.2622540621632008)\n",
      "Problem-Problem: \t\t Ttest_relResult(statistic=-1.1366412042887972, pvalue=0.319162804172232)\n"
     ]
    }
   ],
   "source": [
    "paired_ttest(baseline, epochs_100_pos_50)"
   ]
  },
  {
   "cell_type": "markdown",
   "metadata": {},
   "source": [
    "num_epoches=100, lr_values 0.001 0.0001, lr_boundaries 70, "
   ]
  },
  {
   "cell_type": "code",
   "execution_count": 55,
   "metadata": {},
   "outputs": [],
   "source": [
    "epochs_100_lr_decay = [(89.18, 83.84, 91.18, 91.07), (88.47, 78.97, 91.92, 92.31), (90.28, 83.62, 92.31, 93.62), \n",
    "                       (87.59, 78.11, 92.06, 89.87), (88.5, 80.0, 92.63, 90.52)]"
   ]
  },
  {
   "cell_type": "code",
   "execution_count": 56,
   "metadata": {},
   "outputs": [
    {
     "name": "stdout",
     "output_type": "stream",
     "text": [
      "8 way evaluation: \t Ttest_relResult(statistic=0.31325513951613165, pvalue=0.7697411167331684)\n",
      "Problem-Treatment: \t Ttest_relResult(statistic=1.193852404892653, pvalue=0.298496215260095)\n",
      "Problem-Test: \t\t Ttest_relResult(statistic=-0.23855561210479237, pvalue=0.8231733142813319)\n",
      "Problem-Problem: \t\t Ttest_relResult(statistic=0.3127993773638927, pvalue=0.7700628702497245)\n"
     ]
    }
   ],
   "source": [
    "paired_ttest(epochs_100, epochs_100_lr_decay)"
   ]
  },
  {
   "cell_type": "code",
   "execution_count": 57,
   "metadata": {},
   "outputs": [
    {
     "name": "stdout",
     "output_type": "stream",
     "text": [
      "8 way evaluation: \t Ttest_relResult(statistic=-0.6388275261258322, pvalue=0.5576808977223613)\n",
      "Problem-Treatment: \t Ttest_relResult(statistic=-2.7873089488994274, pvalue=0.04944775079453674)\n",
      "Problem-Test: \t\t Ttest_relResult(statistic=0.09038538315387412, pvalue=0.9323260915279812)\n",
      "Problem-Problem: \t\t Ttest_relResult(statistic=1.0628109130311894, pvalue=0.3477740151272388)\n"
     ]
    }
   ],
   "source": [
    "paired_ttest(baseline, epochs_100_lr_decay)"
   ]
  },
  {
   "cell_type": "markdown",
   "metadata": {},
   "source": [
    "num_epoches=100,  lr_values 0.001 0.0001, lr_boundaries 70, pos_embed_size=50, "
   ]
  },
  {
   "cell_type": "code",
   "execution_count": 59,
   "metadata": {},
   "outputs": [],
   "source": [
    "epochs_100_lr_decay_pos_embed_50 = [(89.88, 83.76, 92.35, 91.96), \n",
    "                                    (89.41, 81.03, 92.39, 92.86), (89.57, 80.69, 92.06, 94.42), (88.78, 81.74, 90.58, 92.92), (88.5, 80.83, 92.43, 89.96)]"
   ]
  },
  {
   "cell_type": "code",
   "execution_count": 60,
   "metadata": {},
   "outputs": [
    {
     "name": "stdout",
     "output_type": "stream",
     "text": [
      "8 way evaluation: \t Ttest_relResult(statistic=-1.3522492463819107, pvalue=0.24769194708931258)\n",
      "Problem-Treatment: \t Ttest_relResult(statistic=-1.7137517856100406, pvalue=0.16172865555150615)\n",
      "Problem-Test: \t\t Ttest_relResult(statistic=0.521500239191536, pvalue=0.6295609025087125)\n",
      "Problem-Problem: \t\t Ttest_relResult(statistic=-0.7319363526981685, pvalue=0.5047818366148028)\n"
     ]
    }
   ],
   "source": [
    "paired_ttest(baseline, epochs_100_lr_decay_pos_embed_50)"
   ]
  },
  {
   "cell_type": "markdown",
   "metadata": {},
   "source": [
    "maybe keep epochs 100, definitely keep pos embed size 50 if the epochs is 250, lr decay is worth keeping. "
   ]
  },
  {
   "cell_type": "markdown",
   "metadata": {},
   "source": [
    "finally, I think it is better to prioritize 100 epochs (run time is less, lr_decay)"
   ]
  },
  {
   "cell_type": "code",
   "execution_count": null,
   "metadata": {},
   "outputs": [],
   "source": []
  }
 ],
 "metadata": {
  "kernelspec": {
   "display_name": "Python 3",
   "language": "python",
   "name": "python3"
  },
  "language_info": {
   "codemirror_mode": {
    "name": "ipython",
    "version": 3
   },
   "file_extension": ".py",
   "mimetype": "text/x-python",
   "name": "python",
   "nbconvert_exporter": "python",
   "pygments_lexer": "ipython3",
   "version": "3.6.6"
  }
 },
 "nbformat": 4,
 "nbformat_minor": 2
}
