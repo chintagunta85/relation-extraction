{
 "cells": [
  {
   "cell_type": "markdown",
   "metadata": {},
   "source": [
    "# Analyse the results from the various hyperparm operations on i2b2 dataset"
   ]
  },
  {
   "cell_type": "markdown",
   "metadata": {},
   "source": [
    "macro F1 scores are of the form ```8 way, Problem-Treatment, Problem-Test, Problem-Problem```"
   ]
  },
  {
   "cell_type": "code",
   "execution_count": 5,
   "metadata": {},
   "outputs": [],
   "source": [
    "%load_ext autoreload"
   ]
  },
  {
   "cell_type": "code",
   "execution_count": 6,
   "metadata": {},
   "outputs": [],
   "source": [
    "%autoreload\n",
    "\n",
    "from scipy.stats import ttest_rel"
   ]
  },
  {
   "cell_type": "code",
   "execution_count": 120,
   "metadata": {},
   "outputs": [],
   "source": [
    "def paired_ttest(score1, score2):\n",
    "    all_three_macroF1_score1 = [x for x in zip(*score1)]\n",
    "    all_three_macroF1_score2 = [x for x in zip(*score2)]\n",
    "    ttests = [ttest_rel(macro_f1_score1, macro_f1_score2) \n",
    "            for macro_f1_score1, macro_f1_score2 in zip(all_three_macroF1_score1, all_three_macroF1_score2)]\n",
    "    print('8 way evaluation: \\t', ttests[0])\n",
    "    print('Problem-Treatment: \\t', ttests[1])\n",
    "    print('Problem-Test: \\t\\t', ttests[2])\n",
    "    print('Problem-Problem: \\t\\t', ttests[3])\n"
   ]
  },
  {
   "cell_type": "markdown",
   "metadata": {},
   "source": [
    "baseline model with default hyperparams (no pre processing, no handling of the other class but with ranking loss)"
   ]
  },
  {
   "cell_type": "code",
   "execution_count": 121,
   "metadata": {},
   "outputs": [],
   "source": [
    "# baseline = [(90.35, 84.26, 92.58, 92.86), (88.71, 77.25, 92.89, 93.27), (89.57, 81.2, 92.55, 93.16), \n",
    "#             (86.16, 75.21, 89.89, 91.82), (87.79, 78.66, 92.47, 89.47)]\n",
    "# Above is with the old data i.e. just for classification\n",
    "\n",
    "baseline = [(70.43, 60.54, 83.21, 59.29), (72.34, 60.16, 83.54, 65.83), \n",
    "            (71.1, 62.99, 80.52, 63.93), (70.56, 57.83, 83.56, 62.38), (68.67, 55.8, 82.32, 60.44)]"
   ]
  },
  {
   "cell_type": "markdown",
   "metadata": {},
   "source": [
    "### filter sizes variation"
   ]
  },
  {
   "cell_type": "code",
   "execution_count": 122,
   "metadata": {},
   "outputs": [],
   "source": [
    "# filter_234 = [(90.12, 81.33, 94.09, 92.73), (88.24, 76.07, 92.39, 93.69), (90.05, 82.05, 92.91, 93.45), \n",
    "#               (86.63, 76.15, 90.19, 91.89), (87.56, 76.86, 92.71, 90.27)]\n",
    "filter_234 = [(70.71, 62.04, 82.79, 57.82), (72.16, 58.09, 84.4, 66.09), (71.04, 64.15, 80.1, 63.11), \n",
    "              (71.43, 60.17, 82.98, 63.55), (68.58, 56.84, 83.08, 58.52)]"
   ]
  },
  {
   "cell_type": "code",
   "execution_count": 123,
   "metadata": {},
   "outputs": [
    {
     "name": "stdout",
     "output_type": "stream",
     "text": [
      "8 way evaluation: \t Ttest_relResult(statistic=-0.8497751533838704, pvalue=0.4433208939260858)\n",
      "Problem-Treatment: \t Ttest_relResult(statistic=-1.056999332099958, pvalue=0.3501215412338005)\n",
      "Problem-Test: \t\t Ttest_relResult(statistic=-0.12654173322742712, pvalue=0.9054089825656724)\n",
      "Problem-Problem: \t\t Ttest_relResult(statistic=0.9820716171507712, pvalue=0.3816672303025494)\n"
     ]
    }
   ],
   "source": [
    "paired_ttest(baseline, filter_234)"
   ]
  },
  {
   "cell_type": "code",
   "execution_count": 124,
   "metadata": {},
   "outputs": [],
   "source": [
    "# filter_345 = [(88.94, 81.33, 92.27, 91.4), (88.94, 79.15, 92.89, 92.31), (90.52, 82.55, 92.88, 94.78), \n",
    "#               (85.92, 75.31, 90.0, 90.41), (88.03, 78.66, 92.15, 90.91)]\n",
    "filter_345 = [(70.57, 62.4, 82.35, 57.44), (73.43, 59.2, 85.13, 68.81), (71.46, 64.29, 80.72, 62.8), \n",
    "              (69.8, 58.06, 81.91, 61.84), (69.75, 61.71, 82.35, 57.52)]"
   ]
  },
  {
   "cell_type": "code",
   "execution_count": 125,
   "metadata": {},
   "outputs": [
    {
     "name": "stdout",
     "output_type": "stream",
     "text": [
      "8 way evaluation: \t Ttest_relResult(statistic=-1.1140104067215055, pvalue=0.3276965780670452)\n",
      "Problem-Treatment: \t Ttest_relResult(statistic=-1.431849860575382, pvalue=0.22544925512777048)\n",
      "Problem-Test: \t\t Ttest_relResult(statistic=0.25330952930319006, pvalue=0.8125154534975636)\n",
      "Problem-Problem: \t\t Ttest_relResult(statistic=0.6919398038554816, pvalue=0.5270427388780516)\n"
     ]
    }
   ],
   "source": [
    "paired_ttest(baseline, filter_345)"
   ]
  },
  {
   "cell_type": "markdown",
   "metadata": {},
   "source": [
    "### batch size"
   ]
  },
  {
   "cell_type": "code",
   "execution_count": 126,
   "metadata": {},
   "outputs": [],
   "source": [
    "# batch_70 = [(89.88, 83.9, 92.07, 92.38), (89.41, 81.2, 92.39, 92.79), (90.52, 84.12, 92.88, 93.1), \n",
    "#             (86.4, 77.37, 89.66, 90.83), (88.73, 82.5, 92.43, 89.08)]   \n",
    "batch_70 = [(70.28, 62.71, 83.08, 54.63), (72.06, 59.26, 83.85, 65.42), \n",
    "            (69.71, 60.39, 79.48, 63.26), (70.41, 58.44, 82.63, 62.33), (70.02, 61.36, 81.82, 59.83)]"
   ]
  },
  {
   "cell_type": "code",
   "execution_count": 127,
   "metadata": {},
   "outputs": [
    {
     "name": "stdout",
     "output_type": "stream",
     "text": [
      "8 way evaluation: \t Ttest_relResult(statistic=0.284433596557618, pvalue=0.7901955926166795)\n",
      "Problem-Treatment: \t Ttest_relResult(statistic=-0.6942727685506843, pvalue=0.5257250032132716)\n",
      "Problem-Test: \t\t Ttest_relResult(statistic=1.8242234925303666, pvalue=0.14217791135133703)\n",
      "Problem-Problem: \t\t Ttest_relResult(statistic=1.5024964528506972, pvalue=0.20738738995922246)\n"
     ]
    }
   ],
   "source": [
    "paired_ttest(baseline, batch_70)"
   ]
  },
  {
   "cell_type": "code",
   "execution_count": 128,
   "metadata": {},
   "outputs": [],
   "source": [
    "# batch_30 = [(88.24, 78.86, 91.62, 92.79), (88.71, 76.99, 92.82, 94.12), (88.15, 78.81, 91.4, 92.37), \n",
    "#             (84.49, 74.31, 89.12, 88.46), (86.62, 77.73, 91.34, 88.39)]\n",
    "batch_30 = [(70.86, 62.35, 83.8, 57.66), (73.71, 62.7, 85.19, 66.67), (70.39, 61.48, 79.9, 63.68), \n",
    "            (70.91, 59.17, 82.26, 64.55), (70.66, 63.53, 82.38, 58.77)]"
   ]
  },
  {
   "cell_type": "code",
   "execution_count": 129,
   "metadata": {},
   "outputs": [
    {
     "name": "stdout",
     "output_type": "stream",
     "text": [
      "8 way evaluation: \t Ttest_relResult(statistic=-1.4802369494788972, pvalue=0.2129149453375766)\n",
      "Problem-Treatment: \t Ttest_relResult(statistic=-1.5847163481220672, pvalue=0.1882082961377482)\n",
      "Problem-Test: \t\t Ttest_relResult(statistic=-0.15021229628163588, pvalue=0.8878672458885541)\n",
      "Problem-Problem: \t\t Ttest_relResult(statistic=0.14653260855326372, pvalue=0.8905894009767874)\n"
     ]
    }
   ],
   "source": [
    "paired_ttest(baseline, batch_30)"
   ]
  },
  {
   "cell_type": "code",
   "execution_count": 130,
   "metadata": {},
   "outputs": [
    {
     "name": "stdout",
     "output_type": "stream",
     "text": [
      "8 way evaluation: \t Ttest_relResult(statistic=-3.81752837300796, pvalue=0.018818141410871923)\n",
      "Problem-Treatment: \t Ttest_relResult(statistic=-2.18235344640423, pvalue=0.09449564160133521)\n",
      "Problem-Test: \t\t Ttest_relResult(statistic=-1.9401385244512706, pvalue=0.12435756661653403)\n",
      "Problem-Problem: \t\t Ttest_relResult(statistic=-1.6489159527897277, pvalue=0.17450997963396378)\n"
     ]
    }
   ],
   "source": [
    "paired_ttest(batch_70, batch_30)"
   ]
  },
  {
   "cell_type": "markdown",
   "metadata": {},
   "source": [
    "Batch size of 70 seems to be better than batch size of 30. It does not seem significantly better than original batch size. One problem is that batch 70 is better for Problem-Treatment, but baseline is better for Problem-Problem. This makes me think that changing batch size is not the right option, especially because it does not affec the overall 8 way evaluation. "
   ]
  },
  {
   "cell_type": "markdown",
   "metadata": {},
   "source": [
    "## num of epoches (worth exploring)"
   ]
  },
  {
   "cell_type": "code",
   "execution_count": 131,
   "metadata": {},
   "outputs": [],
   "source": [
    "# epochs_50 = [(89.65, 83.98, 91.92, 91.48), (88.24, 80.17, 90.91, 91.89), (90.28, 83.12, 92.59, 93.62), \n",
    "#              (88.31, 81.22, 91.34, 90.35), (88.5, 81.67, 92.43, 89.08)] \n",
    "\n",
    "epochs_50 = [(71.97, 66.94, 82.88, 57.66), (73.71, 64.41, 84.0, 65.53), \n",
    "             (72.45, 66.4, 80.93, 63.77), (73.81, 60.5, 85.79, 67.62), (72.57, 67.42, 84.86, 58.69)]"
   ]
  },
  {
   "cell_type": "code",
   "execution_count": 132,
   "metadata": {},
   "outputs": [
    {
     "name": "stdout",
     "output_type": "stream",
     "text": [
      "8 way evaluation: \t Ttest_relResult(statistic=-4.235421240635979, pvalue=0.013312189460027987)\n",
      "Problem-Treatment: \t Ttest_relResult(statistic=-3.5143780479623947, pvalue=0.024574484908954086)\n",
      "Problem-Test: \t\t Ttest_relResult(statistic=-1.8961444129139633, pvalue=0.13081946449430973)\n",
      "Problem-Problem: \t\t Ttest_relResult(statistic=-0.21830873851581267, pvalue=0.8378740383530074)\n"
     ]
    }
   ],
   "source": [
    "paired_ttest(baseline, epochs_50)"
   ]
  },
  {
   "cell_type": "code",
   "execution_count": 133,
   "metadata": {},
   "outputs": [],
   "source": [
    "# epochs_100 = [(90.35, 85.34, 92.39, 91.96), (88.71, 80.34, 91.65, 92.31), (90.05, 83.26, 92.06, 93.56), \n",
    "#               (87.11, 77.97, 91.2, 89.87), (88.26, 80.0, 92.39, 90.04)]\n",
    "epochs_100 = [(72.86, 68.55, 84.77, 55.5), (72.46, 62.9, 83.84, 63.2), (72.1, 64.57, 80.62, 65.37), \n",
    "              (71.43, 59.26, 83.16, 64.04), (70.9, 63.16, 83.5, 58.87)]"
   ]
  },
  {
   "cell_type": "code",
   "execution_count": 134,
   "metadata": {},
   "outputs": [
    {
     "name": "stdout",
     "output_type": "stream",
     "text": [
      "8 way evaluation: \t Ttest_relResult(statistic=-3.049384138828156, pvalue=0.03805114232108751)\n",
      "Problem-Treatment: \t Ttest_relResult(statistic=-2.9441538434925127, pvalue=0.04221417348048431)\n",
      "Problem-Test: \t\t Ttest_relResult(statistic=-1.524435200530545, pvalue=0.20208212255998942)\n",
      "Problem-Problem: \t\t Ttest_relResult(statistic=0.8966690318177901, pvalue=0.4205834768825376)\n"
     ]
    }
   ],
   "source": [
    "paired_ttest(baseline, epochs_100)"
   ]
  },
  {
   "cell_type": "code",
   "execution_count": 135,
   "metadata": {},
   "outputs": [],
   "source": [
    "# epochs_150 =  [(90.12, 84.12, 92.58, 92.04), (88.0, 76.07, 92.39, 92.79), (90.05, 83.62, 91.82, 93.56), \n",
    "#                (86.16, 76.67, 89.76, 90.32), (89.44, 81.17, 93.44, 91.38)]\n",
    "epochs_150 = [(70.59, 59.35, 84.63, 57.0), (72.64, 60.58, 84.99, 64.0), \n",
    "              (70.41, 60.41, 78.97, 66.01), (70.56, 56.59, 83.29, 65.16), (69.59, 62.2, 81.01, 58.58)]"
   ]
  },
  {
   "cell_type": "code",
   "execution_count": 136,
   "metadata": {},
   "outputs": [
    {
     "name": "stdout",
     "output_type": "stream",
     "text": [
      "8 way evaluation: \t Ttest_relResult(statistic=-0.5325685071630446, pvalue=0.6225423568752482)\n",
      "Problem-Treatment: \t Ttest_relResult(statistic=-0.22874020374493648, pvalue=0.8302895437645393)\n",
      "Problem-Test: \t\t Ttest_relResult(statistic=0.08073483035701066, pvalue=0.9395309615925838)\n",
      "Problem-Problem: \t\t Ttest_relResult(statistic=0.20509707651222747, pvalue=0.8475105000566239)\n"
     ]
    }
   ],
   "source": [
    "paired_ttest(baseline, epochs_150)"
   ]
  },
  {
   "cell_type": "code",
   "execution_count": 137,
   "metadata": {},
   "outputs": [],
   "source": [
    "# epochs_200 = [(90.12, 82.35, 93.3, 92.86), (88.0, 77.97, 91.6, 92.31), (90.05, 82.91, 91.82, 94.37), \n",
    "#               (86.4, 76.99, 89.42, 91.4), (89.2, 80.67, 92.91, 91.85)]\n",
    "epochs_200 = [(71.65, 66.12, 83.77, 55.45), (72.16, 60.73, 84.02, 64.32), \n",
    "              (70.71, 63.24, 80.83, 61.47), (71.11, 57.37, 83.38, 65.4), (70.45, 60.77, 83.59, 59.13)]"
   ]
  },
  {
   "cell_type": "code",
   "execution_count": 138,
   "metadata": {},
   "outputs": [
    {
     "name": "stdout",
     "output_type": "stream",
     "text": [
      "8 way evaluation: \t Ttest_relResult(statistic=-1.4524235080628038, pvalue=0.2200315476840393)\n",
      "Problem-Treatment: \t Ttest_relResult(statistic=-1.7082706604794955, pvalue=0.1627700879404881)\n",
      "Problem-Test: \t\t Ttest_relResult(statistic=-2.0858891644015762, pvalue=0.10531902017620327)\n",
      "Problem-Problem: \t\t Ttest_relResult(statistic=1.0604326527322416, pvalue=0.3487329823112203)\n"
     ]
    }
   ],
   "source": [
    "paired_ttest(baseline, epochs_200)"
   ]
  },
  {
   "cell_type": "code",
   "execution_count": 139,
   "metadata": {},
   "outputs": [
    {
     "name": "stdout",
     "output_type": "stream",
     "text": [
      "8 way evaluation: \t Ttest_relResult(statistic=1.6830614135412032, pvalue=0.16765167159669345)\n",
      "Problem-Treatment: \t Ttest_relResult(statistic=1.5479758200928009, pvalue=0.19654337803711577)\n",
      "Problem-Test: \t\t Ttest_relResult(statistic=0.6887296450475706, pvalue=0.5288598278351295)\n",
      "Problem-Problem: \t\t Ttest_relResult(statistic=1.3413953414160231, pvalue=0.25088808033254617)\n"
     ]
    }
   ],
   "source": [
    "paired_ttest(epochs_50, epochs_100)"
   ]
  },
  {
   "cell_type": "markdown",
   "metadata": {},
   "source": [
    "100 epochs seems like a good idea"
   ]
  },
  {
   "cell_type": "markdown",
   "metadata": {},
   "source": [
    "## Learning rate changes (worth exploring)"
   ]
  },
  {
   "cell_type": "markdown",
   "metadata": {},
   "source": [
    "decay from 0.001, 0.0001, 0.00001 at 60 and 120 epochs"
   ]
  },
  {
   "cell_type": "code",
   "execution_count": 140,
   "metadata": {},
   "outputs": [],
   "source": [
    "# lr_decay = [(89.88, 84.21, 91.92, 92.04), (88.71, 80.17, 91.92, 91.89), (90.28, 83.62, 92.06, 94.02), \n",
    "#             (88.07, 78.97, 92.11, 90.67), (88.73, 81.67, 92.11, 90.52)]\n",
    "lr_decay = [(73.51, 66.67, 84.63, 60.83), (73.71, 63.64, 84.56, 65.81), \n",
    "            (71.76, 64.26, 80.82, 63.81), (73.14, 61.09, 84.74, 66.05), (73.11, 65.38, 84.92, 61.98)]"
   ]
  },
  {
   "cell_type": "code",
   "execution_count": 141,
   "metadata": {},
   "outputs": [
    {
     "name": "stdout",
     "output_type": "stream",
     "text": [
      "8 way evaluation: \t Ttest_relResult(statistic=-3.669545834179569, pvalue=0.021399694401381023)\n",
      "Problem-Treatment: \t Ttest_relResult(statistic=-3.306243673016328, pvalue=0.029758872614012985)\n",
      "Problem-Test: \t\t Ttest_relResult(statistic=-3.486880308627575, pvalue=0.025194066588729334)\n",
      "Problem-Problem: \t\t Ttest_relResult(statistic=-1.919323274300947, pvalue=0.12737070277582738)\n"
     ]
    }
   ],
   "source": [
    "paired_ttest(baseline, lr_decay)"
   ]
  },
  {
   "cell_type": "code",
   "execution_count": 168,
   "metadata": {},
   "outputs": [
    {
     "name": "stdout",
     "output_type": "stream",
     "text": [
      "8 way evaluation: \t Ttest_relResult(statistic=2.4810862103537854, pvalue=0.06813176016274444)\n",
      "Problem-Treatment: \t Ttest_relResult(statistic=0.6978954207219629, pvalue=0.5236835250546023)\n",
      "Problem-Test: \t\t Ttest_relResult(statistic=2.2624592346271934, pvalue=0.08644504432654636)\n",
      "Problem-Problem: \t\t Ttest_relResult(statistic=2.0606142589970426, pvalue=0.10837701491901255)\n"
     ]
    }
   ],
   "source": [
    "paired_ttest(lr_decay, epochs_100)"
   ]
  },
  {
   "cell_type": "code",
   "execution_count": 169,
   "metadata": {},
   "outputs": [
    {
     "name": "stdout",
     "output_type": "stream",
     "text": [
      "8 way evaluation: \t Ttest_relResult(statistic=0.34498960479927815, pvalue=0.7474791629749462)\n",
      "Problem-Treatment: \t Ttest_relResult(statistic=-1.7710174946909905, pvalue=0.15125999118516403)\n",
      "Problem-Test: \t\t Ttest_relResult(statistic=0.5279942750021934, pvalue=0.6254371386619497)\n",
      "Problem-Problem: \t\t Ttest_relResult(statistic=1.0986977628480843, pvalue=0.33358843345723077)\n"
     ]
    }
   ],
   "source": [
    "paired_ttest(lr_decay, epochs_50)"
   ]
  },
  {
   "cell_type": "markdown",
   "metadata": {},
   "source": [
    "lr of 0.01"
   ]
  },
  {
   "cell_type": "code",
   "execution_count": 142,
   "metadata": {},
   "outputs": [],
   "source": [
    "# lr_high = [(82.59, 71.32, 89.06, 84.62), (83.29, 68.57, 90.03, 87.85), \n",
    "#            (82.46, 70.12, 89.12, 85.19), (78.28, 61.85, 86.56, 82.95), (84.98, 73.42, 90.77, 87.11)]\n",
    "# not generated for the new data - gave a NaN issue"
   ]
  },
  {
   "cell_type": "code",
   "execution_count": 143,
   "metadata": {},
   "outputs": [],
   "source": [
    "# paired_ttest(baseline, lr_high)"
   ]
  },
  {
   "cell_type": "code",
   "execution_count": 144,
   "metadata": {},
   "outputs": [],
   "source": [
    "# old comment lr decay only seems to be helping for the Problem-Treatment - worth exploring more"
   ]
  },
  {
   "cell_type": "markdown",
   "metadata": {},
   "source": [
    "lr decay seems to be helping"
   ]
  },
  {
   "cell_type": "markdown",
   "metadata": {},
   "source": [
    "## SGD momentum"
   ]
  },
  {
   "cell_type": "code",
   "execution_count": 145,
   "metadata": {},
   "outputs": [],
   "source": [
    "# sgd_momentum = [(88.0, 79.17, 90.21, 93.69), (87.29, 73.95, 90.62, 95.61), (87.91, 76.19, 91.44, 93.72), \n",
    "#                 (89.02, 82.46, 89.82, 94.27), (88.73, 82.25, 90.58, 92.05)]\n",
    "sgd_momentum = [(67.65, 59.42, 78.59, 58.06), (67.86, 57.49, 80.89, 56.79), \n",
    "                (70.44, 63.2, 78.46, 65.02), (70.09, 62.9, 80.71, 59.83), (67.5, 59.34, 80.69,56.54)]"
   ]
  },
  {
   "cell_type": "code",
   "execution_count": 146,
   "metadata": {},
   "outputs": [
    {
     "name": "stdout",
     "output_type": "stream",
     "text": [
      "8 way evaluation: \t Ttest_relResult(statistic=2.5164997357192633, pvalue=0.0656010277198572)\n",
      "Problem-Treatment: \t Ttest_relResult(statistic=-0.6975043109595682, pvalue=0.5239036512484013)\n",
      "Problem-Test: \t\t Ttest_relResult(statistic=5.392577354219788, pvalue=0.005720426024531092)\n",
      "Problem-Problem: \t\t Ttest_relResult(statistic=1.8472203010667552, pvalue=0.13843471324844753)\n"
     ]
    }
   ],
   "source": [
    "paired_ttest(baseline, sgd_momentum)"
   ]
  },
  {
   "cell_type": "code",
   "execution_count": 147,
   "metadata": {},
   "outputs": [],
   "source": [
    "# old: contradicting results for individual relations, but overall seems to not make a difference. \n",
    "# old: tests reveal that both learning rate decay and SGD momentum do not help"
   ]
  },
  {
   "cell_type": "markdown",
   "metadata": {},
   "source": [
    "SGD momentum seems to not help at all; baseline is better"
   ]
  },
  {
   "cell_type": "markdown",
   "metadata": {},
   "source": [
    "## Border Size (default is best)"
   ]
  },
  {
   "cell_type": "code",
   "execution_count": 148,
   "metadata": {},
   "outputs": [],
   "source": [
    "# border_20 = [(90.12, 83.9, 92.35, 92.79), (88.94, 78.79, 92.89, 92.44), (89.81, 81.2, 92.55, 94.02), \n",
    "#              (86.87, 75.63, 90.67, 92.44), (88.03, 77.31, 92.63, 91.45)]\n",
    "border_20 = [(70.21, 61.83, 83.8, 55.81), (73.78, 60.5, 84.99, 67.92), (70.22, 63.97, 80.52, 59.74), \n",
    "             (70.01, 58.54, 81.28, 63.59), (69.48, 63.24, 80.52, 57.01)]"
   ]
  },
  {
   "cell_type": "code",
   "execution_count": 149,
   "metadata": {},
   "outputs": [
    {
     "name": "stdout",
     "output_type": "stream",
     "text": [
      "8 way evaluation: \t Ttest_relResult(statistic=-0.27591675467701754, pvalue=0.7962802729262675)\n",
      "Problem-Treatment: \t Ttest_relResult(statistic=-1.6165771606462185, pvalue=0.18127579113594244)\n",
      "Problem-Test: \t\t Ttest_relResult(statistic=0.5753708365340092, pvalue=0.5958583021967134)\n",
      "Problem-Problem: \t\t Ttest_relResult(statistic=1.177641930138439, pvalue=0.30422181804264453)\n"
     ]
    }
   ],
   "source": [
    "paired_ttest(baseline, border_20)"
   ]
  },
  {
   "cell_type": "code",
   "execution_count": 150,
   "metadata": {},
   "outputs": [],
   "source": [
    "# border_minus1 = [(89.41, 81.51, 92.03, 93.27), (87.76, 75.74, 91.6, 93.69), (89.57, 80.0, 92.35, 94.47), \n",
    "#                  (84.49, 73.9, 88.71, 89.4), (88.03, 78.51, 92.15, 91.23)]\n",
    "border_minus1 = [(70.55, 61.18, 83.04, 58.37), (72.08, 59.84, 83.54, 65.78), \n",
    "                 (69.9, 61.89, 79.9, 62.1), (70.51, 57.96, 81.27, 66.08), (70.1, 61.89, 82.86, 58.23)]"
   ]
  },
  {
   "cell_type": "code",
   "execution_count": 151,
   "metadata": {},
   "outputs": [
    {
     "name": "stdout",
     "output_type": "stream",
     "text": [
      "8 way evaluation: \t Ttest_relResult(statistic=-0.018937683040106595, pvalue=0.9857977988281261)\n",
      "Problem-Treatment: \t Ttest_relResult(statistic=-0.8481863934819257, pvalue=0.44410837076563925)\n",
      "Problem-Test: \t\t Ttest_relResult(statistic=1.0525609896105281, pvalue=0.3519238779885588)\n",
      "Problem-Problem: \t\t Ttest_relResult(statistic=0.24740839493330558, pvalue=0.8167725610020551)\n"
     ]
    }
   ],
   "source": [
    "paired_ttest(baseline, border_minus1)"
   ]
  },
  {
   "cell_type": "code",
   "execution_count": 152,
   "metadata": {},
   "outputs": [],
   "source": [
    "# border_1 = [(89.65, 79.67, 93.23, 94.22), (86.82, 74.68, 91.33, 91.56), (89.57, 84.21, 90.77, 92.83), \n",
    "#             (86.4, 74.19, 91.69, 91.24), (89.91, 82.16, 93.12, 92.7)]\n",
    "border_1 = [(69.83, 57.03, 83.42, 60.0), (71.46, 59.59, 83.42, 63.52), \n",
    "            (69.27, 61.04, 80.53, 58.99), (69.25, 55.3, 83.65, 61.4), (69.5, 62.07, 81.59, 56.9)]"
   ]
  },
  {
   "cell_type": "code",
   "execution_count": 153,
   "metadata": {},
   "outputs": [
    {
     "name": "stdout",
     "output_type": "stream",
     "text": [
      "8 way evaluation: \t Ttest_relResult(statistic=1.6916693077163234, pvalue=0.1659677293088032)\n",
      "Problem-Treatment: \t Ttest_relResult(statistic=0.26200858504496827, pvalue=0.8062542217922302)\n",
      "Problem-Test: \t\t Ttest_relResult(statistic=0.6564894679424265, pvalue=0.5473574644796786)\n",
      "Problem-Problem: \t\t Ttest_relResult(statistic=2.2534456778450656, pvalue=0.08731141409092534)\n"
     ]
    }
   ],
   "source": [
    "paired_ttest(baseline, border_1)"
   ]
  },
  {
   "cell_type": "code",
   "execution_count": 154,
   "metadata": {},
   "outputs": [],
   "source": [
    "# old: baseline (border 50) seems better than border minus 1 for 2 relation types (doesn't make a difference otherwise)"
   ]
  },
  {
   "cell_type": "markdown",
   "metadata": {},
   "source": [
    "border size does not help at all; just keep it the same "
   ]
  },
  {
   "cell_type": "markdown",
   "metadata": {},
   "source": [
    "## Pos embedding size (Worth trying 50)"
   ]
  },
  {
   "cell_type": "code",
   "execution_count": 155,
   "metadata": {},
   "outputs": [],
   "source": [
    "# pos_10 = [(88.71, 81.51, 92.07, 90.5), (87.29, 76.07, 91.92, 90.91), (89.1, 80.0, 92.02, 93.86),\n",
    "#           (85.92, 76.15, 89.42, 90.5), (88.73, 80.33, 93.23, 89.96)]\n",
    "pos_10 = [(69.79, 60.83, 82.5, 56.07), (71.74, 59.35, 83.46, 65.29), (69.38, 62.4, 79.05, 60.29), \n",
    "          (68.65, 56.22, 81.48, 60.47), (69.82, 60.61, 81.7, 59.56)]"
   ]
  },
  {
   "cell_type": "code",
   "execution_count": 156,
   "metadata": {},
   "outputs": [
    {
     "name": "stdout",
     "output_type": "stream",
     "text": [
      "8 way evaluation: \t Ttest_relResult(statistic=1.3662396984616378, pvalue=0.24363113747671605)\n",
      "Problem-Treatment: \t Ttest_relResult(statistic=-0.36701362408662486, pvalue=0.7322006019559992)\n",
      "Problem-Test: \t\t Ttest_relResult(statistic=2.827438907475267, pvalue=0.04746822890817931)\n",
      "Problem-Problem: \t\t Ttest_relResult(statistic=3.3137379070268294, pvalue=0.029550951583199557)\n"
     ]
    }
   ],
   "source": [
    "paired_ttest(baseline, pos_10)"
   ]
  },
  {
   "cell_type": "code",
   "execution_count": 157,
   "metadata": {},
   "outputs": [],
   "source": [
    "# pos_50 = [(90.35, 83.54, 93.33, 92.38), (89.41, 79.66, 93.33, 92.86), (90.05, 79.48, 93.16, 95.32), \n",
    "#           (86.4, 75.11, 89.54, 92.98), (88.26, 76.86, 93.37, 91.85)]\n",
    "pos_50 = [(71.1, 62.95, 83.16, 58.6), (71.69, 55.04, 84.83, 67.91), (71.81, 65.89, 79.49, 64.73), \n",
    "          (70.26, 56.37, 82.07, 66.67), (69.78, 61.07, 81.96, 59.03)]"
   ]
  },
  {
   "cell_type": "code",
   "execution_count": 158,
   "metadata": {},
   "outputs": [
    {
     "name": "stdout",
     "output_type": "stream",
     "text": [
      "8 way evaluation: \t Ttest_relResult(statistic=-0.9237801664774496, pvalue=0.40788273376292317)\n",
      "Problem-Treatment: \t Ttest_relResult(statistic=-0.43664050370135343, pvalue=0.6849077188739063)\n",
      "Problem-Test: \t\t Ttest_relResult(statistic=0.6884863832628245, pvalue=0.528997707829749)\n",
      "Problem-Problem: \t\t Ttest_relResult(statistic=-0.9968588494153046, pvalue=0.3752516598593179)\n"
     ]
    }
   ],
   "source": [
    "paired_ttest(baseline, pos_50)"
   ]
  },
  {
   "cell_type": "code",
   "execution_count": 159,
   "metadata": {},
   "outputs": [],
   "source": [
    "# pos_80 = [(89.41, 82.16, 91.91, 92.92), (89.41, 81.86, 92.35, 92.31), (89.57, 80.85, 92.02, 94.42), \n",
    "#           (87.11, 76.99, 90.37, 92.44), (88.5, 79.01, 92.27, 92.31)]\n",
    "pos_80 = [(70.0, 60.63, 82.9, 57.0), (72.04, 57.37, 84.34, 66.67), (69.77, 59.69, 79.8, 63.51), \n",
    "          (68.27, 53.53, 82.64, 62.0), (68.71, 60.45, 81.56, 56.64)]"
   ]
  },
  {
   "cell_type": "code",
   "execution_count": 160,
   "metadata": {},
   "outputs": [
    {
     "name": "stdout",
     "output_type": "stream",
     "text": [
      "8 way evaluation: \t Ttest_relResult(statistic=2.039050482667443, pvalue=0.11106343979904572)\n",
      "Problem-Treatment: \t Ttest_relResult(statistic=0.6980483949144063, pvalue=0.523597445628216)\n",
      "Problem-Test: \t\t Ttest_relResult(statistic=1.223730575866367, pvalue=0.2882074666992854)\n",
      "Problem-Problem: \t\t Ttest_relResult(statistic=1.4788021715510218, pvalue=0.2132763124314183)\n"
     ]
    }
   ],
   "source": [
    "paired_ttest(baseline, pos_80)"
   ]
  },
  {
   "cell_type": "markdown",
   "metadata": {},
   "source": [
    "position 50 seems superior but 80 doesn't"
   ]
  },
  {
   "cell_type": "markdown",
   "metadata": {},
   "source": [
    "## Number of filters"
   ]
  },
  {
   "cell_type": "code",
   "execution_count": 161,
   "metadata": {},
   "outputs": [],
   "source": [
    "# filter_50 = [(89.88, 83.54, 92.27, 92.44), (88.71, 76.92, 93.09, 93.33), (89.57, 80.51, 92.02, 94.83), \n",
    "#              (84.49, 73.6, 88.77, 89.72), (89.44, 81.48, 93.12, 91.77)]\n",
    "filter_50 = [(68.83, 57.68, 82.78, 57.0), (71.85, 58.78, 83.51, 65.74), \n",
    "             (68.07, 57.37, 79.47, 60.71), (68.5, 55.06, 82.48, 60.0), (71.19, 64.34, 83.25, 58.37)]"
   ]
  },
  {
   "cell_type": "code",
   "execution_count": 162,
   "metadata": {},
   "outputs": [
    {
     "name": "stdout",
     "output_type": "stream",
     "text": [
      "8 way evaluation: \t Ttest_relResult(statistic=0.9761469088209169, pvalue=0.38426421099848546)\n",
      "Problem-Treatment: \t Ttest_relResult(statistic=0.33544981631772997, pvalue=0.754141491710166)\n",
      "Problem-Test: \t\t Ttest_relResult(statistic=0.8923441612198775, pvalue=0.4226396003693491)\n",
      "Problem-Problem: \t\t Ttest_relResult(statistic=3.8792536373772095, pvalue=0.017852583452394388)\n"
     ]
    }
   ],
   "source": [
    "paired_ttest(baseline, filter_50)"
   ]
  },
  {
   "cell_type": "code",
   "execution_count": 163,
   "metadata": {},
   "outputs": [],
   "source": [
    "# filter_150 = [(89.41, 82.01, 91.95, 92.92), (89.88, 79.83, 93.61, 93.81), (89.81, 81.39, 92.27, 94.12), \n",
    "#               (87.11, 78.33, 89.25, 92.92), (89.67, 81.67, 93.44, 91.77)]\n",
    "filter_150 = [(70.33, 59.92, 84.4, 56.73), (72.17, 58.4, 85.06, 65.27), (69.64, 61.78, 79.06, 62.26), \n",
    "              (70.16, 56.17, 82.04, 64.79), (69.8, 61.19, 81.01, 60.61)]"
   ]
  },
  {
   "cell_type": "code",
   "execution_count": 164,
   "metadata": {},
   "outputs": [
    {
     "name": "stdout",
     "output_type": "stream",
     "text": [
      "8 way evaluation: \t Ttest_relResult(statistic=0.4845442385311642, pvalue=0.6533365737759645)\n",
      "Problem-Treatment: \t Ttest_relResult(statistic=-0.020655944903793234, pvalue=0.9845094182354308)\n",
      "Problem-Test: \t\t Ttest_relResult(statistic=0.46129371556373033, pvalue=0.6685566303627607)\n",
      "Problem-Problem: \t\t Ttest_relResult(statistic=0.5188115057107362, pvalue=0.6312730702086842)\n"
     ]
    }
   ],
   "source": [
    "paired_ttest(baseline, filter_150)"
   ]
  },
  {
   "cell_type": "markdown",
   "metadata": {},
   "source": [
    "filter size 150 helps for problem-problem but also makes the model slower"
   ]
  },
  {
   "cell_type": "markdown",
   "metadata": {},
   "source": [
    "## Early stop"
   ]
  },
  {
   "cell_type": "code",
   "execution_count": 165,
   "metadata": {},
   "outputs": [],
   "source": [
    "# early_stop = [(90.35, 82.7, 93.57, 92.86), (89.18, 80.52, 92.11, 92.92), (90.52, 83.26, 92.59, 94.42), \n",
    "#               (85.44, 76.23, 88.06, 91.24), (88.73, 80.17, 92.95, 90.52)]\n",
    "early_stop = [(70.86, 62.26, 83.92, 57.27), (71.95, 59.61, 82.65, 67.26), \n",
    "              (69.35, 62.5, 79.16, 60.0), (70.93, 59.61, 81.46, 65.77), (68.26, 59.15, 81.11, 57.74)]"
   ]
  },
  {
   "cell_type": "code",
   "execution_count": 166,
   "metadata": {},
   "outputs": [
    {
     "name": "stdout",
     "output_type": "stream",
     "text": [
      "8 way evaluation: \t Ttest_relResult(statistic=0.8901502118975589, pvalue=0.42368581298492136)\n",
      "Problem-Treatment: \t Ttest_relResult(statistic=-1.5569163374607178, pvalue=0.1944807751818172)\n",
      "Problem-Test: \t\t Ttest_relResult(statistic=2.0882197719163447, pvalue=0.10504187270334946)\n",
      "Problem-Problem: \t\t Ttest_relResult(statistic=0.560016037665107, pvalue=0.6053462397210853)\n"
     ]
    }
   ],
   "source": [
    "paired_ttest(baseline, early_stop)"
   ]
  },
  {
   "cell_type": "markdown",
   "metadata": {},
   "source": [
    "no significant difference"
   ]
  },
  {
   "cell_type": "markdown",
   "metadata": {},
   "source": [
    "So it looks like number of epoches, learning rate decay seem to make a difference. But lr decay with a high epoch seems more helpful - need to analyze this. "
   ]
  },
  {
   "cell_type": "markdown",
   "metadata": {},
   "source": [
    "## More variations to num epoches, learning rate decay"
   ]
  },
  {
   "cell_type": "markdown",
   "metadata": {},
   "source": [
    "Looks like less epochs is preferred and a learning rate decay with high epochs is good. What about a lr decay with lower epochs? "
   ]
  },
  {
   "cell_type": "markdown",
   "metadata": {},
   "source": [
    "Currently running these on nightingale"
   ]
  },
  {
   "cell_type": "markdown",
   "metadata": {},
   "source": [
    "num_epoches=100, lr_decay 0.001 0.0001, lr_boundaries 70"
   ]
  },
  {
   "cell_type": "code",
   "execution_count": 170,
   "metadata": {},
   "outputs": [],
   "source": [
    "epochs_100_lr_decay = [(72.75, 67.2, 83.71, 58.99), (73.87, 65.29, 84.77, 64.0), (71.56, 63.97, 80.72, 63.46), \n",
    "                       (73.33, 62.45, 85.26, 64.57), (72.71, 66.67, 83.33, 61.21)]"
   ]
  },
  {
   "cell_type": "code",
   "execution_count": 171,
   "metadata": {},
   "outputs": [
    {
     "name": "stdout",
     "output_type": "stream",
     "text": [
      "8 way evaluation: \t Ttest_relResult(statistic=-1.7563681207841761, pvalue=0.15386775607906178)\n",
      "Problem-Treatment: \t Ttest_relResult(statistic=-1.4210932179760032, pvalue=0.22833481007484585)\n",
      "Problem-Test: \t\t Ttest_relResult(statistic=-0.7108455994195089, pvalue=0.5164327038182772)\n",
      "Problem-Problem: \t\t Ttest_relResult(statistic=-1.148649385902908, pvalue=0.3147180660990643)\n"
     ]
    }
   ],
   "source": [
    "paired_ttest(epochs_100, epochs_100_lr_decay)"
   ]
  },
  {
   "cell_type": "code",
   "execution_count": 172,
   "metadata": {},
   "outputs": [
    {
     "name": "stdout",
     "output_type": "stream",
     "text": [
      "8 way evaluation: \t Ttest_relResult(statistic=-3.707047688371495, pvalue=0.020707391328722798)\n",
      "Problem-Treatment: \t Ttest_relResult(statistic=-3.525323082589962, pvalue=0.024332923792857612)\n",
      "Problem-Test: \t\t Ttest_relResult(statistic=-3.498674816845855, pvalue=0.02492606294376995)\n",
      "Problem-Problem: \t\t Ttest_relResult(statistic=-0.10719509253572189, pvalue=0.9197955637363127)\n"
     ]
    }
   ],
   "source": [
    "paired_ttest(baseline, epochs_100_lr_decay)"
   ]
  },
  {
   "cell_type": "code",
   "execution_count": 177,
   "metadata": {},
   "outputs": [
    {
     "name": "stdout",
     "output_type": "stream",
     "text": [
      "8 way evaluation: \t Ttest_relResult(statistic=1.1334014809470452, pvalue=0.32037182709195605)\n",
      "Problem-Treatment: \t Ttest_relResult(statistic=-2.5791291772573164, pvalue=0.06138383800352538)\n",
      "Problem-Test: \t\t Ttest_relResult(statistic=0.972105363294578, pvalue=0.3860444665810369)\n",
      "Problem-Problem: \t\t Ttest_relResult(statistic=4.21974736284861, pvalue=0.01348032052690233)\n"
     ]
    }
   ],
   "source": [
    "paired_ttest(lr_decay, epochs_100_lr_decay)"
   ]
  },
  {
   "cell_type": "markdown",
   "metadata": {},
   "source": [
    "num epochs 200 lr values 0.001 0.0001 0.00001 lr boundaries 60 120"
   ]
  },
  {
   "cell_type": "code",
   "execution_count": 173,
   "metadata": {},
   "outputs": [],
   "source": [
    "epochs_200_lr_decay = [(73.66, 68.88, 84.0, 59.91), (72.33, 63.9, 83.42, 62.07), \n",
    "                       (72.06, 64.52, 81.14, 64.08), (72.64, 59.26, 85.41, 65.44), (72.42, 64.84, 83.92, 61.34)]"
   ]
  },
  {
   "cell_type": "code",
   "execution_count": 174,
   "metadata": {},
   "outputs": [
    {
     "name": "stdout",
     "output_type": "stream",
     "text": [
      "8 way evaluation: \t Ttest_relResult(statistic=-4.211468864556528, pvalue=0.01357015657945099)\n",
      "Problem-Treatment: \t Ttest_relResult(statistic=-5.403648226541772, pvalue=0.005678399261353204)\n",
      "Problem-Test: \t\t Ttest_relResult(statistic=-1.0722639853767488, pvalue=0.34398562983001246)\n",
      "Problem-Problem: \t\t Ttest_relResult(statistic=-1.2248297194117252, pvalue=0.2878354318307291)\n"
     ]
    }
   ],
   "source": [
    "paired_ttest(epochs_200, epochs_200_lr_decay)"
   ]
  },
  {
   "cell_type": "code",
   "execution_count": 175,
   "metadata": {},
   "outputs": [
    {
     "name": "stdout",
     "output_type": "stream",
     "text": [
      "8 way evaluation: \t Ttest_relResult(statistic=-2.874188937179663, pvalue=0.04527715342493716)\n",
      "Problem-Treatment: \t Ttest_relResult(statistic=-2.939611128901087, pvalue=0.04240555498816255)\n",
      "Problem-Test: \t\t Ttest_relResult(statistic=-2.675000645530494, pvalue=0.055516383942762)\n",
      "Problem-Problem: \t\t Ttest_relResult(statistic=-0.1751736026534339, pvalue=0.8694529847421875)\n"
     ]
    }
   ],
   "source": [
    "paired_ttest(baseline, epochs_200_lr_decay)"
   ]
  },
  {
   "cell_type": "code",
   "execution_count": 176,
   "metadata": {},
   "outputs": [
    {
     "name": "stdout",
     "output_type": "stream",
     "text": [
      "8 way evaluation: \t Ttest_relResult(statistic=1.3963242017070132, pvalue=0.2351201215998513)\n",
      "Problem-Treatment: \t Ttest_relResult(statistic=-0.10958332913860645, pvalue=0.918017471465412)\n",
      "Problem-Test: \t\t Ttest_relResult(statistic=0.9846961409415287, pvalue=0.3805216730076405)\n",
      "Problem-Problem: \t\t Ttest_relResult(statistic=1.6518117813039914, pvalue=0.17391710437768332)\n"
     ]
    }
   ],
   "source": [
    "paired_ttest(lr_decay, epochs_200_lr_decay)"
   ]
  },
  {
   "cell_type": "markdown",
   "metadata": {},
   "source": [
    "num epochs 150 lr values 0.001 0.0001 0.00001 lr boundaries 60 120"
   ]
  },
  {
   "cell_type": "code",
   "execution_count": 178,
   "metadata": {},
   "outputs": [],
   "source": [
    "epochs_150_lr_decay = [(72.71, 66.4, 83.5, 59.81), (72.98, 63.64, 83.92, 63.72), (72.08, 65.86, 80.51, 63.81), \n",
    "                       (72.75, 60.58, 84.35, 66.05), (71.84, 63.91, 83.33, 61.67)]"
   ]
  },
  {
   "cell_type": "code",
   "execution_count": 179,
   "metadata": {},
   "outputs": [
    {
     "name": "stdout",
     "output_type": "stream",
     "text": [
      "8 way evaluation: \t Ttest_relResult(statistic=-4.782823335906865, pvalue=0.008757413981082957)\n",
      "Problem-Treatment: \t Ttest_relResult(statistic=-4.583014257542524, pvalue=0.010160282405682293)\n",
      "Problem-Test: \t\t Ttest_relResult(statistic=-0.7763621343249745, pvalue=0.4808844767741667)\n",
      "Problem-Problem: \t\t Ttest_relResult(statistic=-0.874339183858453, pvalue=0.43128865251640275)\n"
     ]
    }
   ],
   "source": [
    "paired_ttest(epochs_150, epochs_150_lr_decay)"
   ]
  },
  {
   "cell_type": "code",
   "execution_count": 180,
   "metadata": {},
   "outputs": [
    {
     "name": "stdout",
     "output_type": "stream",
     "text": [
      "8 way evaluation: \t Ttest_relResult(statistic=-4.011007678159804, pvalue=0.01598321580869064)\n",
      "Problem-Treatment: \t Ttest_relResult(statistic=-4.442238665549646, pvalue=0.011314355024424277)\n",
      "Problem-Test: \t\t Ttest_relResult(statistic=-2.7032967032967328, pvalue=0.05390994804404587)\n",
      "Problem-Problem: \t\t Ttest_relResult(statistic=-0.6785030570816039, pvalue=0.5346784616460131)\n"
     ]
    }
   ],
   "source": [
    "paired_ttest(baseline, epochs_150_lr_decay)"
   ]
  },
  {
   "cell_type": "code",
   "execution_count": 181,
   "metadata": {},
   "outputs": [
    {
     "name": "stdout",
     "output_type": "stream",
     "text": [
      "8 way evaluation: \t Ttest_relResult(statistic=2.1750227462757326, pvalue=0.09527323028376317)\n",
      "Problem-Treatment: \t Ttest_relResult(statistic=0.2607992705284882, pvalue=0.8071236015194367)\n",
      "Problem-Test: \t\t Ttest_relResult(statistic=3.3628450267570216, pvalue=0.02823026309701994)\n",
      "Problem-Problem: \t\t Ttest_relResult(statistic=1.7193420649230036, pvalue=0.16067372167545824)\n"
     ]
    }
   ],
   "source": [
    "paired_ttest(lr_decay, epochs_150_lr_decay)"
   ]
  },
  {
   "cell_type": "markdown",
   "metadata": {},
   "source": [
    "seems like lr decay over 150 and 100 epochs is really helpful; which is better?"
   ]
  },
  {
   "cell_type": "code",
   "execution_count": 190,
   "metadata": {},
   "outputs": [
    {
     "name": "stdout",
     "output_type": "stream",
     "text": [
      "8 way evaluation: \t Ttest_relResult(statistic=1.3742571012919969, pvalue=0.2413336684128855)\n",
      "Problem-Treatment: \t Ttest_relResult(statistic=1.3045575864347283, pvalue=0.2620389454290871)\n",
      "Problem-Test: \t\t Ttest_relResult(statistic=2.350207959383088, pvalue=0.07849751167280733)\n",
      "Problem-Problem: \t\t Ttest_relResult(statistic=-1.9566627426280037, pvalue=0.12202075712052785)\n"
     ]
    }
   ],
   "source": [
    "paired_ttest(epochs_100_lr_decay, epochs_150_lr_decay)"
   ]
  },
  {
   "cell_type": "markdown",
   "metadata": {},
   "source": [
    "### It seems like lr decay over 100 and 150 epochs has a similar performance. But 150 epochs with lr decay had a lower p value with the baseline when compared with that of the 100 epochs p value when decay is done. "
   ]
  },
  {
   "cell_type": "markdown",
   "metadata": {},
   "source": [
    "## Final hyperparams for i2b2 extracted data: \n",
    "num_epoches=150, lr_values= 0.001 0.0001 0.00001, lr_boundaries= 60 120"
   ]
  },
  {
   "cell_type": "code",
   "execution_count": 167,
   "metadata": {},
   "outputs": [],
   "source": [
    "# epochs_100_pos_50 = [(90.12, 83.9, 92.82, 91.96), (89.41, 80.0, 92.86, 93.27), \n",
    "#                       (90.28, 81.2, 92.84, 95.28), (88.54, 82.1, 89.71, 93.04), (88.5, 79.34, 93.44,89.96)]\n",
    "# above is a test from the old data"
   ]
  },
  {
   "cell_type": "code",
   "execution_count": 182,
   "metadata": {},
   "outputs": [],
   "source": [
    "# paired_ttest(epochs_100, epochs_100_pos_50)"
   ]
  },
  {
   "cell_type": "code",
   "execution_count": 183,
   "metadata": {},
   "outputs": [],
   "source": [
    "# paired_ttest(baseline, epochs_100_pos_50)"
   ]
  },
  {
   "cell_type": "code",
   "execution_count": 184,
   "metadata": {},
   "outputs": [],
   "source": [
    "# epochs_100_lr_decay = [(89.18, 83.84, 91.18, 91.07), (88.47, 78.97, 91.92, 92.31), (90.28, 83.62, 92.31, 93.62), \n",
    "#                        (87.59, 78.11, 92.06, 89.87), (88.5, 80.0, 92.63, 90.52)]\n",
    "# num_epoches=100, lr_values 0.001 0.0001, lr_boundaries 70, "
   ]
  },
  {
   "cell_type": "code",
   "execution_count": 185,
   "metadata": {},
   "outputs": [],
   "source": [
    "# paired_ttest(epochs_100, epochs_100_lr_decay)"
   ]
  },
  {
   "cell_type": "code",
   "execution_count": 186,
   "metadata": {},
   "outputs": [],
   "source": [
    "# paired_ttest(baseline, epochs_100_lr_decay)"
   ]
  },
  {
   "cell_type": "code",
   "execution_count": 188,
   "metadata": {},
   "outputs": [],
   "source": [
    "# epochs_100_lr_decay_pos_embed_50 = [(89.88, 83.76, 92.35, 91.96), \n",
    "#                                     (89.41, 81.03, 92.39, 92.86), (89.57, 80.69, 92.06, 94.42), (88.78, 81.74, 90.58, 92.92), (88.5, 80.83, 92.43, 89.96)]\n",
    "#num_epoches=100,  lr_values 0.001 0.0001, lr_boundaries 70, pos_embed_size=50, "
   ]
  },
  {
   "cell_type": "code",
   "execution_count": 189,
   "metadata": {},
   "outputs": [],
   "source": [
    "# paired_ttest(baseline, epochs_100_lr_decay_pos_embed_50)\n",
    "#maybe keep epochs 100, definitely keep pos embed size 50 if the epochs is 250, lr decay is worth keeping. \n",
    "# finally, I think it is better to prioritize 100 epochs (run time is less, lr_decay)"
   ]
  }
 ],
 "metadata": {
  "kernelspec": {
   "display_name": "Python 3",
   "language": "python",
   "name": "python3"
  },
  "language_info": {
   "codemirror_mode": {
    "name": "ipython",
    "version": 3
   },
   "file_extension": ".py",
   "mimetype": "text/x-python",
   "name": "python",
   "nbconvert_exporter": "python",
   "pygments_lexer": "ipython3",
   "version": "3.6.6"
  }
 },
 "nbformat": 4,
 "nbformat_minor": 2
}
