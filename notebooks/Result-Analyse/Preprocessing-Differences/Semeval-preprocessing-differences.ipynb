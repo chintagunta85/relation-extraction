{
 "cells": [
  {
   "cell_type": "markdown",
   "metadata": {},
   "source": [
    "# Differences that pre-processing cause to the baseline model in Semeval 2010 data"
   ]
  },
  {
   "cell_type": "markdown",
   "metadata": {},
   "source": [
    "for reference, command that was run within scripts/ was ```CUDA_VISIBLE_DEVICES=<device_no> python main.py --<cross_validate/use_test> --dataset=semeval2010 --preprocessing_type=<entity_blinding/punct_digit/punct_stop_digit>```"
   ]
  },
  {
   "cell_type": "code",
   "execution_count": 7,
   "metadata": {},
   "outputs": [],
   "source": [
    "from scipy.stats import ttest_rel"
   ]
  },
  {
   "cell_type": "markdown",
   "metadata": {},
   "source": [
    "## First compare the cross validated score differences"
   ]
  },
  {
   "cell_type": "code",
   "execution_count": 4,
   "metadata": {},
   "outputs": [],
   "source": [
    "baseline_test = 81.55 # Model ID 967c88e8-18c2-4a84-b73d-23c6bb33efd7 on harrison"
   ]
  },
  {
   "cell_type": "code",
   "execution_count": 8,
   "metadata": {},
   "outputs": [],
   "source": [
    "# these are all results on the evaluation fold of the pickled files\n",
    "baseline = [81.66, 82.26, 80.12, 78.82, 79.23, 80.74, 79.56, 81.45, 82.99, 81.63]\n",
    "# model ID ade5ce18-2eb0-4d2e-a04e-c727a09e5ef0\n",
    "# 80.85 +- 1.31\n",
    "\n",
    "# baseline = [80.54, 80.2, 79.25, 81.08, 80.69, 79.11, 80.75, 82.04, 80.78, 80.73]\n",
    "# # model ID 0b8525cc-7e0c-4afe-b952-c2e7636d61bd on harrison\n",
    "# # 80.52 +- 0.81"
   ]
  },
  {
   "cell_type": "code",
   "execution_count": 9,
   "metadata": {},
   "outputs": [],
   "source": [
    "entity_blinding = [69.99, 71.33, 71.67, 69.07, 71.47, 70.6, 71.08, 72.54, 73.06, 72.25]\n",
    "# model ID 26667800-dc53-46e4-bbed-3a27cf89ef9e\n",
    "# 71.31 +- 1.14\n",
    "\n",
    "# entity_blinding = [71.52, 70.58, 70.42, 70.8, 70.22, 70.77, 71.46, 72.36, 70.06, 70.26]\n",
    "# # model ID a553fd1c-d872-456e-ab0c-145ab54cd3df on harrison"
   ]
  },
  {
   "cell_type": "code",
   "execution_count": 10,
   "metadata": {},
   "outputs": [],
   "source": [
    "punct_digit = [81.12, 82.79, 80.26, 79.24, 80.05, 80.72, 80.19, 80.81, 83.48, 80.87]\n",
    "# model ID 52351631-bf32-4725-8fc0-6d2a4265ff7b\n",
    "# 80.95 +- 1.21\n",
    "\n",
    "# punct_digit = [81.21, 80.09, 79.43, 79.84, 79.34, 79.72, 78.68, 81.61, 80.3, 81.23]\n",
    "# # model ID 35dbfad3-3103-477e-8305-9e7bfd594822 on harrison"
   ]
  },
  {
   "cell_type": "code",
   "execution_count": 11,
   "metadata": {},
   "outputs": [],
   "source": [
    "punct_stop_digit = [72.28, 72.65, 72.8, 70.4, 70.23, 72.0, 71.74, 69.19, 71.44, 73.38]\n",
    "# model ID 5b15d683-6355-4a8d-a303-0e35d29c2bca\n",
    "# 71.61 +- 1.25\n",
    "\n",
    "# punct_stop_digit = [69.14, 70.8, 69.82, 71.44, 70.69, 71.23, 70.08, 71.17, 72.43, 73.17]\n",
    "# # model ID 5100b4fa-4680-49be-9163-e32c42607e77 on harrison"
   ]
  },
  {
   "cell_type": "code",
   "execution_count": 12,
   "metadata": {},
   "outputs": [],
   "source": [
    "ner_blinding = [82.58, 82.2, 79.69, 78.95, 80.61, 80.2, 80.53, 81.65, 81.46, 80.63]\n",
    "# model ID 90e10a46-3073-40d7-8319-1ecb88fa39f2\n",
    "# 80.85 +- 1.07\n",
    "\n",
    "# ner_blinding = [80.5, 79.71, 78.51, 80.34, 79.94, 78.97, 82.02, 80.43, 81.82, 81.37]\n",
    "# # model ID 2b1c26e4-c053-49c4-a2a7-0c9c61c527f2 on gray"
   ]
  },
  {
   "cell_type": "code",
   "execution_count": 13,
   "metadata": {},
   "outputs": [
    {
     "data": {
      "text/plain": [
       "Ttest_relResult(statistic=25.171396867972337, pvalue=1.1847954891039275e-09)"
      ]
     },
     "execution_count": 13,
     "metadata": {},
     "output_type": "execute_result"
    }
   ],
   "source": [
    "ttest_rel(baseline, entity_blinding)"
   ]
  },
  {
   "cell_type": "code",
   "execution_count": 14,
   "metadata": {},
   "outputs": [
    {
     "data": {
      "text/plain": [
       "Ttest_relResult(statistic=-0.5909077579516202, pvalue=0.5691226209938213)"
      ]
     },
     "execution_count": 14,
     "metadata": {},
     "output_type": "execute_result"
    }
   ],
   "source": [
    "ttest_rel(baseline, punct_digit)"
   ]
  },
  {
   "cell_type": "code",
   "execution_count": 15,
   "metadata": {},
   "outputs": [
    {
     "data": {
      "text/plain": [
       "Ttest_relResult(statistic=18.56277761242963, pvalue=1.7509227778380895e-08)"
      ]
     },
     "execution_count": 15,
     "metadata": {},
     "output_type": "execute_result"
    }
   ],
   "source": [
    "ttest_rel(baseline, punct_stop_digit)"
   ]
  },
  {
   "cell_type": "code",
   "execution_count": 16,
   "metadata": {},
   "outputs": [
    {
     "data": {
      "text/plain": [
       "Ttest_relResult(statistic=18.898493013296168, pvalue=1.4955564048025347e-08)"
      ]
     },
     "execution_count": 16,
     "metadata": {},
     "output_type": "execute_result"
    }
   ],
   "source": [
    "ttest_rel(punct_digit, punct_stop_digit)"
   ]
  },
  {
   "cell_type": "code",
   "execution_count": 17,
   "metadata": {},
   "outputs": [
    {
     "data": {
      "text/plain": [
       "Ttest_relResult(statistic=-0.013792702556421114, pvalue=0.9892962769252989)"
      ]
     },
     "execution_count": 17,
     "metadata": {},
     "output_type": "execute_result"
    }
   ],
   "source": [
    "ttest_rel(baseline, ner_blinding)"
   ]
  },
  {
   "cell_type": "markdown",
   "metadata": {},
   "source": [
    "In short, entity blinding is harmful for the semeval 2010 data, maybe because there is useful information within the entity names themselves. Removing punctuations and normalizing digits has no effect, but removing stop words is harmful. NER blinding has no effect."
   ]
  },
  {
   "cell_type": "markdown",
   "metadata": {},
   "source": [
    "Test score results for the above are (all model IDs on harrison):\n",
    "\n",
    "```81.55``` for baseline model with ID 967c88e8-18c2-4a84-b73d-23c6bb33efd7\n",
    "\n",
    "```72.73``` for entity blinding model ID 6217504a-4334-4e63-bcba-8e3646a963ea\n",
    "\n",
    "```81.23``` for punctuation removal and digit normalization with model ID d0305d80-51ee-4069-95d5-a86563df7fc6\n",
    "\n",
    "```72.92``` for punctuation and stop word removal and digit normalization with model ID 1331572b-b37a-4ad9-80fb-f49f9d5786d7\n",
    "\n",
    "```81.63``` for ner blinding with model ID 4d550ba5-08c0-4bc1-81f6-27fee75c61c8 on gray"
   ]
  }
 ],
 "metadata": {
  "kernelspec": {
   "display_name": "Python 3",
   "language": "python",
   "name": "python3"
  },
  "language_info": {
   "codemirror_mode": {
    "name": "ipython",
    "version": 3
   },
   "file_extension": ".py",
   "mimetype": "text/x-python",
   "name": "python",
   "nbconvert_exporter": "python",
   "pygments_lexer": "ipython3",
   "version": "3.6.6"
  }
 },
 "nbformat": 4,
 "nbformat_minor": 2
}
