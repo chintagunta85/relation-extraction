{
 "cells": [
  {
   "cell_type": "markdown",
   "metadata": {},
   "source": [
    "# Differences that pre-processing cause to the baseline model in i2b2 data"
   ]
  },
  {
   "cell_type": "markdown",
   "metadata": {},
   "source": [
    "for reference, command that was run within scripts/ was ```CUDA_VISIBLE_DEVICES=<device_no> python main.py --<cross_validate/use_test> --dataset=i2b2 --preprocessing_type=<entity_blinding/punct_digit/punct_stop_digit> --num_epoches=150 --lr_values 0.001 0.0001 0.00001 --lr_boundaries 60 120```\n",
    "This was gotten after preliminary hyperparameter tuning"
   ]
  },
  {
   "cell_type": "code",
   "execution_count": 2,
   "metadata": {},
   "outputs": [],
   "source": [
    "# command for the old data - just classification\n",
    "# for reference, command that was run within scripts/ was ```CUDA_VISIBLE_DEVICES=<device_no> python main.py --<cross_validate/use_test> --dataset=i2b2 --preprocessing_type=<entity_blinding/punct_digit/punct_stop_digit> --num_epoches=100 --lr_values 0.001 0.0001 --lr_boundaries 70```\n",
    "# This was gotten after preliminary hyperparameter tuning"
   ]
  },
  {
   "cell_type": "code",
   "execution_count": 3,
   "metadata": {},
   "outputs": [],
   "source": [
    "from scipy.stats import ttest_rel\n",
    "def paired_ttest(score1, score2):\n",
    "    all_three_macroF1_score1 = [x for x in zip(*score1)]\n",
    "    all_three_macroF1_score2 = [x for x in zip(*score2)]\n",
    "    ttests = [ttest_rel(macro_f1_score1, macro_f1_score2) \n",
    "            for macro_f1_score1, macro_f1_score2 in zip(all_three_macroF1_score1, all_three_macroF1_score2)]\n",
    "    print('8 way evaluation: \\t', ttests[0])\n",
    "    print('2 way evaluation: \\t', ttests[1])\n",
    "    print('Problem-Treatment: \\t', ttests[2])\n",
    "    print('Problem-Test: \\t\\t', ttests[3])\n",
    "    print('Problem-Problem: \\t\\t', ttests[4])"
   ]
  },
  {
   "cell_type": "markdown",
   "metadata": {},
   "source": [
    "## First compare the cross validated score differences"
   ]
  },
  {
   "cell_type": "code",
   "execution_count": 4,
   "metadata": {},
   "outputs": [],
   "source": [
    "# the commented out values are those for the old dataset\n",
    "# baseline_test = (84.37, 68.76, 90.68, 90.6)\n",
    "# # model ID 6198ab41-3183-40f3-9254-d86a2b26e4ed on gray - deleted (let's keep results in harrison)\n",
    "\n",
    "baseline_test = (62.83, 86.55, 50.1, 78.48, 47.64)\n",
    "# model ID 7789e891-fb56-433f-9e4c-006d81a89802 on harrison"
   ]
  },
  {
   "cell_type": "code",
   "execution_count": 5,
   "metadata": {},
   "outputs": [],
   "source": [
    "# # Still need to run this baseline\n",
    "# #baseline = currently running on harrison Feb 15, 2019\n",
    "# # temp baseline for now\n",
    "# # baseline = [(90.35, 84.26, 92.58, 92.86), (88.71, 77.25, 92.89, 93.27), (89.57, 81.2, 92.55, 93.16), \n",
    "# #             (86.16, 75.21, 89.89, 91.82), (87.79, 78.66, 92.47, 89.47)]\n",
    "# baseline = [(89.65, 83.48, 91.88, 92.04), (88.47, 79.31, 91.69, 92.31), (90.52, 83.62, 92.59, 94.02), \n",
    "#             (88.07, 78.79, 92.35, 90.35), (88.73, 81.67, 92.11, 90.52)]\n",
    "# # model ID de365f82-b85d-415a-acb5-c43d7e7f4040 on gray\n",
    "\n",
    "baseline = [(73.82, 88.97, 68.6, 83.79, 61.61), (73.7, 88.71, 63.07, 84.99, 65.5), \n",
    "            (72.99, 88.88, 66.67, 81.54, 64.39), (72.01, 89.88, 57.96, 85.19, 64.79), \n",
    "            (72.04, 88.15, 64.34, 83.54, 61.41)]\n",
    "# model ID 3244b20d-e82f-44f1-a459-46f66e132481 in models_to_keep data medg misc "
   ]
  },
  {
   "cell_type": "code",
   "execution_count": 6,
   "metadata": {},
   "outputs": [],
   "source": [
    "# entity_blinding = [(92.94, 86.21, 92.78, 100.0), (95.76, 91.77, 95.63, 100.0), \n",
    "#                    (94.79, 87.83, 95.85, 100.0), (95.7, 92.92, 94.79, 100.0), (92.96, 83.4, 94.85, 99.56)]\n",
    "# # model ID 05668eeb-dc44-4fd1-8006-be1f65afc3c7 on gray\n",
    "\n",
    "entity_blinding = [(75.88, 89.16, 73.59, 81.52, 68.42), (74.14, 88.33, 66.67, 83.54, 65.16), \n",
    "                   (76.69, 89.52, 73.13, 82.96, 69.03), (77.21, 89.24, 72.5, 85.06, 68.44), \n",
    "                   (76.41, 88.73, 73.11, 83.37, 67.54)]\n",
    "# model ID 4af19081-7edb-4ea0-9cc1-693c20cb0442 in models_to_keep data medg misc"
   ]
  },
  {
   "cell_type": "code",
   "execution_count": 7,
   "metadata": {},
   "outputs": [],
   "source": [
    "# punct_digit = [(89.65, 84.98, 91.37, 91.48), (88.94, 80.0, 91.88, 93.21), (90.52, 83.9, 92.55, 93.97), \n",
    "#                (89.5, 82.3, 91.91, 92.58), (89.2, 81.36, 92.95, 90.99)] \n",
    "# # model ID 9121bf1e-557e-46c6-9a96-d2bb394179bd on gray\n",
    "punct_digit = [(72.22, 88.78, 66.12, 83.29, 58.72), (72.69, 88.07, 61.85, 83.25, 66.38), \n",
    "               (71.58, 88.56, 64.31, 80.31, 64.49), (71.73, 88.99, 61.28, 82.38, 64.25), \n",
    "               (71.9, 87.13, 65.88, 82.59, 60.73)]\n",
    "# model ID ea8563d6-7c97-49ad-87fe-526d1a93dd78 on models_to_keep data medg misc "
   ]
  },
  {
   "cell_type": "code",
   "execution_count": 8,
   "metadata": {},
   "outputs": [],
   "source": [
    "# punct_stop_digit = [(90.12, 83.62, 90.82, 95.58), (86.32, 77.12, 90.36, 88.99), \n",
    "#                     (90.76, 84.07, 92.43, 94.47), (85.2, 75.32, 88.71, 89.38), (88.03, 81.33, 90.96, 90.18)] \n",
    "# # model ID 3da2c7cd-9ea0-4f79-aee4-0e714ee3146d on harrison\n",
    "\n",
    "punct_stop_digit = [(71.4, 87.63, 66.14, 81.2, 59.82), (69.56, 86.53, 57.94, 83.46, 58.62), \n",
    "                    (69.33, 86.77, 58.63, 80.21, 62.39), (68.01, 87.32, 58.23, 81.15, 56.0), \n",
    "                    (70.34, 86.62, 66.67, 81.08, 54.95)] \n",
    "# model ID 0367b46b-4f2b-49da-b865-b02a65ca425f on models_to_keep data medg misc"
   ]
  },
  {
   "cell_type": "code",
   "execution_count": 9,
   "metadata": {},
   "outputs": [],
   "source": [
    "ner_blinding = [(66.35, 87.93, 53.98, 77.44, 59.36), (66.98, 88.24, 58.2, 75.72, 61.54), \n",
    "                (64.86, 87.2, 60.18, 71.7, 58.06), (64.1, 87.04, 58.15, 73.33,53.52), \n",
    "                (66.04, 86.79, 56.54, 75.26, 60.68)]\n",
    "# model ID 77a475e4-b784-46d4-b4b7-ca94400fd3b2 on gray"
   ]
  },
  {
   "cell_type": "code",
   "execution_count": 10,
   "metadata": {},
   "outputs": [
    {
     "name": "stdout",
     "output_type": "stream",
     "text": [
      "8 way evaluation: \t Ttest_relResult(statistic=-3.700929758251839, pvalue=0.02081848413867876)\n",
      "2 way evaluation: \t Ttest_relResult(statistic=-0.30527498925961777, pvalue=0.7753828870319641)\n",
      "Problem-Treatment: \t Ttest_relResult(statistic=-3.998809901107148, pvalue=0.016146066257641322)\n",
      "Problem-Test: \t\t Ttest_relResult(statistic=0.8239656262362213, pvalue=0.45625289918918616)\n",
      "Problem-Problem: \t\t Ttest_relResult(statistic=-3.3216169563763063, pvalue=0.029334204583676485)\n"
     ]
    }
   ],
   "source": [
    "paired_ttest(baseline, entity_blinding)"
   ]
  },
  {
   "cell_type": "code",
   "execution_count": 11,
   "metadata": {},
   "outputs": [
    {
     "name": "stdout",
     "output_type": "stream",
     "text": [
      "8 way evaluation: \t Ttest_relResult(statistic=3.0249962429441504, pvalue=0.03897148853448582)\n",
      "2 way evaluation: \t Ttest_relResult(statistic=3.8404831546086573, pvalue=0.018451921434740278)\n",
      "Problem-Treatment: \t Ttest_relResult(statistic=0.2092326731054372, pvalue=0.8444904654750754)\n",
      "Problem-Test: \t\t Ttest_relResult(statistic=3.6525634434299312, pvalue=0.021722273574207283)\n",
      "Problem-Problem: \t\t Ttest_relResult(statistic=0.9940816808098523, pvalue=0.37644937376583154)\n"
     ]
    }
   ],
   "source": [
    "paired_ttest(baseline, punct_digit)"
   ]
  },
  {
   "cell_type": "code",
   "execution_count": 12,
   "metadata": {},
   "outputs": [
    {
     "name": "stdout",
     "output_type": "stream",
     "text": [
      "8 way evaluation: \t Ttest_relResult(statistic=6.644648097385953, pvalue=0.002663025510924028)\n",
      "2 way evaluation: \t Ttest_relResult(statistic=8.698530772067226, pvalue=0.0009617002187880918)\n",
      "Problem-Treatment: \t Ttest_relResult(statistic=1.4075620887463423, pvalue=0.23201705306726625)\n",
      "Problem-Test: \t\t Ttest_relResult(statistic=4.96700120165517, pvalue=0.0076678185919064334)\n",
      "Problem-Problem: \t\t Ttest_relResult(statistic=3.7045150953640453, pvalue=0.020753293426882015)\n"
     ]
    }
   ],
   "source": [
    "paired_ttest(baseline, punct_stop_digit)"
   ]
  },
  {
   "cell_type": "code",
   "execution_count": 13,
   "metadata": {},
   "outputs": [
    {
     "name": "stdout",
     "output_type": "stream",
     "text": [
      "8 way evaluation: \t Ttest_relResult(statistic=4.40006637355927, pvalue=0.011690583174719086)\n",
      "2 way evaluation: \t Ttest_relResult(statistic=5.742446302736372, pvalue=0.004557159024966411)\n",
      "Problem-Treatment: \t Ttest_relResult(statistic=1.9485391726273018, pvalue=0.12316354078589656)\n",
      "Problem-Test: \t\t Ttest_relResult(statistic=2.177312632786006, pvalue=0.09502957246513144)\n",
      "Problem-Problem: \t\t Ttest_relResult(statistic=2.559388485251057, pvalue=0.06267865498082503)\n"
     ]
    }
   ],
   "source": [
    "paired_ttest(punct_digit, punct_stop_digit)"
   ]
  },
  {
   "cell_type": "code",
   "execution_count": 14,
   "metadata": {},
   "outputs": [
    {
     "name": "stdout",
     "output_type": "stream",
     "text": [
      "8 way evaluation: \t Ttest_relResult(statistic=18.39975466463932, pvalue=5.1333294895284154e-05)\n",
      "2 way evaluation: \t Ttest_relResult(statistic=3.743464020928304, pvalue=0.020060593809690233)\n",
      "Problem-Treatment: \t Ttest_relResult(statistic=2.804040488651374, pvalue=0.0486109976203308)\n",
      "Problem-Test: \t\t Ttest_relResult(statistic=10.063074955868103, pvalue=0.0005484850993554714)\n",
      "Problem-Problem: \t\t Ttest_relResult(statistic=2.6633728442407842, pvalue=0.056192475905946164)\n"
     ]
    }
   ],
   "source": [
    "paired_ttest(baseline, ner_blinding)"
   ]
  },
  {
   "cell_type": "markdown",
   "metadata": {},
   "source": [
    "### Additional experiments for i2b2"
   ]
  },
  {
   "cell_type": "code",
   "execution_count": 15,
   "metadata": {},
   "outputs": [],
   "source": [
    "entity_blinding_piecewise_pool = [(76.23, 90.24, 76.73, 81.41, 66.67), (78.66, 90.37, 77.12, 85.57, 68.12), \n",
    "                                  (80.56, 91.18, 79.49, 85.43, 72.89), (78.87, 90.65, 79.31, 85.35, 66.96), \n",
    "                                  (77.38, 89.68, 74.4, 85.29, 66.37)]\n",
    "#model ID 03b9fe97-5692-47de-95b4-11afe90114ad \n",
    "# 78.34 +- 1.46 90.42 +- 0.49 77.41 +- 1.87 84.61 +- 1.60"
   ]
  },
  {
   "cell_type": "code",
   "execution_count": 16,
   "metadata": {},
   "outputs": [
    {
     "name": "stdout",
     "output_type": "stream",
     "text": [
      "8 way evaluation: \t Ttest_relResult(statistic=-2.781152561765913, pvalue=0.04975982956221096)\n",
      "2 way evaluation: \t Ttest_relResult(statistic=-7.2389448866107475, pvalue=0.0019325210225955645)\n",
      "Problem-Treatment: \t Ttest_relResult(statistic=-3.5413039531562243, pvalue=0.023985274668221854)\n",
      "Problem-Test: \t\t Ttest_relResult(statistic=-2.566035135423324, pvalue=0.06223922920377057)\n",
      "Problem-Problem: \t\t Ttest_relResult(statistic=-0.4011681324602439, pvalue=0.7088032112412985)\n"
     ]
    }
   ],
   "source": [
    "paired_ttest(entity_blinding, entity_blinding_piecewise_pool)"
   ]
  },
  {
   "cell_type": "markdown",
   "metadata": {},
   "source": [
    "Entity Blinding and piecewise pool is better than just entity blinding "
   ]
  },
  {
   "cell_type": "markdown",
   "metadata": {},
   "source": [
    "In short, entity blinding is greatly beneficial for the i2b2 data, because it probably helps the classifier in striations between the different relation types that are specific to the problem, test and treatment. Removing punctuations and normalizing digits is harmful for the dataset, and removing stop words is harmful. In general, removing punctuations and normalizing digits is less harmful than removing stop words. NER blinding seems very harmful in this case. "
   ]
  },
  {
   "cell_type": "code",
   "execution_count": null,
   "metadata": {},
   "outputs": [],
   "source": [
    "# old statement: In short, entity blinding is greatly beneficial for the i2b2 data, because it probably helps the classifier in striations between the different relation types that are specific to the problem, test and treatment. Removing punctuations and normalizing digits has no effect, and removing stop words causes no difference except for Problem-Test relations. "
   ]
  },
  {
   "cell_type": "markdown",
   "metadata": {},
   "source": [
    "Test score results for the above are (all model IDs the shared NFS folder):\n",
    "\n",
    "```(62.83, 86.55, 50.1, 78.48, 47.64)``` for baseline model with ID 7789e891-fb56-433f-9e4c-006d81a89802\n",
    "\n",
    "```(71.56, 87.57, 64.88, 81.74, 57.31)``` for entity blinding model ID e1fa2d31-20fc-492a-aa6a-cb1986c3160e\n",
    "\n",
    "```(61.58, 85.26, 50.94, 77.71, 42.74)``` for punctuation removal and digit normalization with model ID 23a5b0ec-05e1-456b-9f5c-cae47a85821f\n",
    "\n",
    "```(59.08, 84.06, 47.37, 77.93, 32.94)``` for punctuation and stop word removal and digit normalization with model ID d38123cd-4128-443a-8982-c56d0aedbf83\n",
    "\n",
    "```(54.99, 84.95, 45.57, 68.94, 38.33)``` for ner blinding with model ID f15e58bc-cb37-426d-a090-8aac666870ca on gray"
   ]
  },
  {
   "cell_type": "markdown",
   "metadata": {},
   "source": [
    "### Additional experiments"
   ]
  },
  {
   "cell_type": "markdown",
   "metadata": {},
   "source": [
    "`(73.03, 88.79, 64.25, 84.19, 59.2)` for the elmo model and entity blinding with ID 63d9fda1-2931-4dec-b7e9-cfd56cae58e8\n",
    "\n",
    "`(73.38, 89.0, 64.75, 84.78, 58.5)` for the piecewise pool model and entity blinding with elmo and ID is eb55046d-7bdd-4fc7-9f0c-c40c9808e8a6\n",
    "\n",
    "`(72.75, 88.17, 65.95, 83.13, 58.59)` for the entity blinding and piecewise pool model with ID 7c46e59a-e335-44c5-90c3-ce4782ab2f66"
   ]
  },
  {
   "cell_type": "code",
   "execution_count": 37,
   "metadata": {},
   "outputs": [],
   "source": [
    "# # old \n",
    "# #\n",
    "# Test score results for the above are (all model IDs on gray):\n",
    "\n",
    "# ```(84.37, 68.76, 90.68, 90.6)``` for baseline model with ID 6198ab41-3183-40f3-9254-d86a2b26e4ed\n",
    "\n",
    "# ```(91.48, 80.05, 94.13, 100.0)``` for entity blinding model ID 0b4e4ece-fdd5-4ab8-8ecb-293cea44f0b6\n",
    "\n",
    "# ```(84.77, 70.75, 90.29, 90.39)``` for punctuation removal and digit normalization with model ID 058d543a-447c-4c30-8328-6ff5312384af\n",
    "\n",
    "# ```(82.54, 67.23, 89.07, 87.55)``` for punctuation and stop word removal and digit normalization with model ID dbf983d2-d6ef-4be4-a1fa-6270775ec93d"
   ]
  },
  {
   "cell_type": "markdown",
   "metadata": {},
   "source": [
    "In the case of i2b2 datasets, information about the concepts is greatly beneficial in being able to classify the relations"
   ]
  }
 ],
 "metadata": {
  "kernelspec": {
   "display_name": "Python 3",
   "language": "python",
   "name": "python3"
  },
  "language_info": {
   "codemirror_mode": {
    "name": "ipython",
    "version": 3
   },
   "file_extension": ".py",
   "mimetype": "text/x-python",
   "name": "python",
   "nbconvert_exporter": "python",
   "pygments_lexer": "ipython3",
   "version": "3.6.6"
  }
 },
 "nbformat": 4,
 "nbformat_minor": 2
}
