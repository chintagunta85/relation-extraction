{
 "cells": [
  {
   "cell_type": "markdown",
   "metadata": {},
   "source": [
    "# Differences that pre-processing cause to the baseline model in Semeval 2010 data"
   ]
  },
  {
   "cell_type": "markdown",
   "metadata": {},
   "source": [
    "for reference, command that was run within scripts/ was ```CUDA_VISIBLE_DEVICES=<device_no> python main.py --<cross_validate/use_test> --dataset=ddi --preprocessing_type=<entity_blinding/punct_digit/punct_stop_digit> --border_size=-1 --num_epoches=100 --lr_values 0.001 0.0001 --lr_boundaries 60```\n",
    "This was gotten after preliminary hyperparameter tuning"
   ]
  },
  {
   "cell_type": "code",
   "execution_count": 11,
   "metadata": {},
   "outputs": [],
   "source": [
    "from scipy.stats import ttest_rel\n",
    "def paired_ttest(score1, score2):\n",
    "    all_three_macroF1_score1 = [x for x in zip(*score1)]\n",
    "    all_three_macroF1_score2 = [x for x in zip(*score2)]\n",
    "    ttests = [ttest_rel(macro_f1_score1, macro_f1_score2) \n",
    "            for macro_f1_score1, macro_f1_score2 in zip(all_three_macroF1_score1, all_three_macroF1_score2)]\n",
    "    print('5 way evaluation with none: \\t', ttests[0])\n",
    "    print('5 way evaluation without none: \\t', ttests[1])\n",
    "    print('2 way evaluation: \\t\\t', ttests[2])"
   ]
  },
  {
   "cell_type": "markdown",
   "metadata": {},
   "source": [
    "## First compare the cross validated score differences"
   ]
  },
  {
   "cell_type": "code",
   "execution_count": 20,
   "metadata": {},
   "outputs": [],
   "source": [
    "# below is the result with -1 border size (newer implementation)\n",
    "baseline_test = (65.53, 58.41, 81.74)\n",
    "# model ID 8147a3f3-3c74-4194-9fa4-4de9bd21b6ff\n",
    "\n",
    "\n",
    "# baseline_test = (66.66, 59.73, 82.6) # Model ID 92d0466a-e8c0-4e72-8068-f10f699d8824 on harrison\n",
    "# Results are 5 way with none, 5 way without none, 2 way (just detection of DDI) from Jan 23 2019 run"
   ]
  },
  {
   "cell_type": "code",
   "execution_count": 21,
   "metadata": {},
   "outputs": [],
   "source": [
    "baseline = [(80.05, 76.15, 85.99), (79.73, 75.64, 87.54), \n",
    "            (78.13, 73.77, 86.07), (78.48, 74.18, 86.03), (80.63, 76.83, 86.9)]\n",
    "# model ID 152b5ba9-100e-4024-93c0-40976064e8e0\n",
    "# 79.40 +- 0.95 75.31 +- 1.16 86.51 +- 0.62\n",
    "\n",
    "# old baseline number (still relevant)\n",
    "# Still need to run this baseline = but refer to old baseline for now from Nov 26, 2018\n",
    "#baseline = currently running on harrison Feb 15, 2019\n",
    "# baseline = [(78.82, 74.65, 85.68), (79.89, 75.84, 87.65), \n",
    "#             (78.98, 74.84, 86.07), (79.04, 74.86, 86.29), (81.0, 77.23, 87.58)]\n",
    "# model ID e16e6184-d403-480e-b718-e08e2f4a3c5f on harrison"
   ]
  },
  {
   "cell_type": "code",
   "execution_count": 14,
   "metadata": {},
   "outputs": [],
   "source": [
    "piecewise_pool = [(79.39, 75.28, 86.43), (80.68, 76.76, 88.16), \n",
    "                  (78.22, 73.84, 86.08), (79.87, 75.84, 86.82), (80.66, 76.83, 87.14)]\n",
    "# model ID 03908c02-96d0-45c5-9ed3-a7cbe0b01380\n",
    "# 79.76 +- 0.91 75.71 +- 1.10 86.93 +- 0.71"
   ]
  },
  {
   "cell_type": "code",
   "execution_count": 15,
   "metadata": {},
   "outputs": [],
   "source": [
    "elmo_model = [(83.02, 79.69, 87.97), (83.85, 80.61, 89.67), \n",
    "              (81.19, 77.42, 87.77), (80.57, 76.61, 88.15), (83.43, 80.13, 89.09)]\n",
    "# model ID 5aebb866-ad8d-40d2-80a9-77a07b4e1966\n",
    "# 82.41 +- 1.29 78.89 +- 1.58 88.53 +- 0.73\n",
    "\n",
    "# below are results with the ElmoEmbedder() default weights - for general purpose datasets (not the big version)\n",
    "# elmo_model = [(79.16, 75.06, 85.86), (78.31, 73.99, 86.5), \n",
    "#               (80.1, 76.17, 86.41), (79.17, 74.99, 86.83), (81.95,  78.38, 87.78)]\n",
    "# 79.738 +- 1.24, 75.72 +- 1.49, 86.67 +- 0.63\n",
    "# model ID 31b303e5-9f83-4283-8eb6-f8e4c4452675"
   ]
  },
  {
   "cell_type": "code",
   "execution_count": 16,
   "metadata": {},
   "outputs": [
    {
     "name": "stdout",
     "output_type": "stream",
     "text": [
      "5 way evaluation with none: \t Ttest_relResult(statistic=-5.524979037848249, pvalue=0.005241672916489508)\n",
      "5 way evaluation without none: \t Ttest_relResult(statistic=-5.318809578583601, pvalue=0.006010384356605785)\n",
      "2 way evaluation: \t\t Ttest_relResult(statistic=-14.035218212563375, pvalue=0.00014952638387352574)\n"
     ]
    }
   ],
   "source": [
    "paired_ttest(baseline, elmo_model)"
   ]
  },
  {
   "cell_type": "code",
   "execution_count": 17,
   "metadata": {},
   "outputs": [
    {
     "name": "stdout",
     "output_type": "stream",
     "text": [
      "5 way evaluation with none: \t Ttest_relResult(statistic=-0.673809427921154, pvalue=0.5373642246469948)\n",
      "5 way evaluation without none: \t Ttest_relResult(statistic=-0.5732717957560215, pvalue=0.597149673723687)\n",
      "2 way evaluation: \t\t Ttest_relResult(statistic=-1.2632184363268026, pvalue=0.2751245498098377)\n"
     ]
    }
   ],
   "source": [
    "paired_ttest(baseline, piecewise_pool)"
   ]
  },
  {
   "cell_type": "markdown",
   "metadata": {},
   "source": [
    "Pre-trained PubMed elmo embeddings help the DDI dataset but piecewise pool do not help the DDI dataset (this is trained on general purpose data though)"
   ]
  },
  {
   "cell_type": "markdown",
   "metadata": {},
   "source": [
    "Below are experiments with the non PubMed elmo model - the big Elmo model weights"
   ]
  },
  {
   "cell_type": "code",
   "execution_count": 18,
   "metadata": {},
   "outputs": [],
   "source": [
    "elmo_model_general = [(82.42, 78.95, 87.62), (81.96, 78.3, 88.74), \n",
    "                      (78.86, 74.63, 86.0), (79.85, 75.76, 87.09), (81.69, 78.07, 87.78)]\n",
    "# model ID 1d8b2305-48cd-4286-a98d-2c308367b736\n",
    "# 80.96 +- 1.36 77.14 +- 1.65 87.45 +- 0.90"
   ]
  },
  {
   "cell_type": "code",
   "execution_count": 19,
   "metadata": {},
   "outputs": [
    {
     "name": "stdout",
     "output_type": "stream",
     "text": [
      "5 way evaluation with none: \t Ttest_relResult(statistic=4.2866937477015385, pvalue=0.012779605222266866)\n",
      "5 way evaluation without none: \t Ttest_relResult(statistic=4.294300740222295, pvalue=0.012702798392714428)\n",
      "2 way evaluation: \t\t Ttest_relResult(statistic=4.654633128209675, pvalue=0.009628065083568385)\n"
     ]
    }
   ],
   "source": [
    "paired_ttest(elmo_model, elmo_model_general)"
   ]
  },
  {
   "cell_type": "markdown",
   "metadata": {},
   "source": [
    "Elmo model is clearly better than the general one"
   ]
  },
  {
   "cell_type": "markdown",
   "metadata": {},
   "source": [
    "Test score results for the above are: (border size -1 but new implementation)\n",
    "\n",
    "```(65.53, 58.41, 81.74)``` for baseline model with ID 8147a3f3-3c74-4194-9fa4-4de9bd21b6ff\n",
    "\n",
    "```(66.63, 59.63, 83.05)``` for elmo model ID 2c7f3865-d0e8-4567-8b58-35d9063a8f77\n",
    "\n",
    "```(63.01, 55.32, 80.62)``` for piecewise pool model ID 8703733e-fd1c-496b-9c0b-736bf25e84d8\n",
    "\n",
    "```(68.69, 62.18, 83.72)``` for elmo model and entity blinding with model ID b97f948b-6bb2-4adc-a83a-4b6e126bb2e4"
   ]
  },
  {
   "cell_type": "code",
   "execution_count": 22,
   "metadata": {},
   "outputs": [],
   "source": [
    "# Test score results for the above are (all model IDs on harrison): (older runs with border -1 but older implementation)\n",
    "\n",
    "# ```(66.66, 59.73, 82.6)``` for baseline model with ID 92d0466a-e8c0-4e72-8068-f10f699d8824\n",
    "\n",
    "# ```(68.71, 62.18, 83.65)``` for elmo model ID 3f36c0e5-53cc-42b7-b713-dc65f372441f\n",
    "\n",
    "# ```(63.49, 55.96, 80.12)``` for piecewise pool model ID 83a703bd-bd1a-4452-85ff-c250b1977e5f"
   ]
  },
  {
   "cell_type": "markdown",
   "metadata": {},
   "source": [
    "For reference, running the elmo embeddings with the large model (general purpose embeddings) gives a result of `(66.17, 59.07, 82.46)` with model ID ca7faa07-0931-4261-b6da-2e0257b6923e"
   ]
  },
  {
   "cell_type": "code",
   "execution_count": 1,
   "metadata": {},
   "outputs": [],
   "source": [
    "# ```(65.47, 58.36, 81.19)``` for elmo model ID 34891a84-ffc7-40ac-b721-28567a551e26 for the old elmo model"
   ]
  }
 ],
 "metadata": {
  "kernelspec": {
   "display_name": "Python 3",
   "language": "python",
   "name": "python3"
  },
  "language_info": {
   "codemirror_mode": {
    "name": "ipython",
    "version": 3
   },
   "file_extension": ".py",
   "mimetype": "text/x-python",
   "name": "python",
   "nbconvert_exporter": "python",
   "pygments_lexer": "ipython3",
   "version": "3.6.6"
  }
 },
 "nbformat": 4,
 "nbformat_minor": 2
}
