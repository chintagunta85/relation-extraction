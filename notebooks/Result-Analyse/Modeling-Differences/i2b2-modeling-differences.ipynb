{
 "cells": [
  {
   "cell_type": "markdown",
   "metadata": {},
   "source": [
    "# Differences that modeling cause to the baseline model in i2b2 data"
   ]
  },
  {
   "cell_type": "markdown",
   "metadata": {},
   "source": [
    "for reference, command that was run within scripts/ was ```CUDA_VISIBLE_DEVICES=<device_no> python main.py --<cross_validate/use_test> --dataset=i2b2 --preprocessing_type=<entity_blinding/punct_digit/punct_stop_digit> --border_size=-1 --num_epoches=150 --lr_values 0.001 0.0001 0.00001 --lr_boundaries 60 120```\n",
    "This was gotten after preliminary hyperparameter tuning; and other options exist such as --use_elmo"
   ]
  },
  {
   "cell_type": "code",
   "execution_count": 2,
   "metadata": {},
   "outputs": [],
   "source": [
    "# command for the old data - just classification\n",
    "# for reference, command that was run within scripts/ was ```CUDA_VISIBLE_DEVICES=<device_no> python main.py --<cross_validate/use_test> --dataset=i2b2 --preprocessing_type=<entity_blinding/punct_digit/punct_stop_digit> --num_epoches=100 --lr_values 0.001 0.0001 --lr_boundaries 70```\n",
    "# This was gotten after preliminary hyperparameter tuning"
   ]
  },
  {
   "cell_type": "code",
   "execution_count": 74,
   "metadata": {},
   "outputs": [],
   "source": [
    "from scipy.stats import ttest_rel\n",
    "def paired_ttest(score1, score2):\n",
    "    all_three_macroF1_score1 = [x for x in zip(*score1)]\n",
    "    all_three_macroF1_score2 = [x for x in zip(*score2)]\n",
    "    ttests = [ttest_rel(macro_f1_score1, macro_f1_score2) \n",
    "            for macro_f1_score1, macro_f1_score2 in zip(all_three_macroF1_score1, all_three_macroF1_score2)]\n",
    "    print('8 way evaluation: \\t', ttests[0])\n",
    "    print('2 way evaluation: \\t', ttests[1])\n",
    "    print('Problem-Treatment: \\t', ttests[2])\n",
    "    print('Problem-Test: \\t\\t', ttests[3])\n",
    "    print('Problem-Problem: \\t\\t', ttests[4])"
   ]
  },
  {
   "cell_type": "markdown",
   "metadata": {},
   "source": [
    "## First compare the cross validated score differences"
   ]
  },
  {
   "cell_type": "code",
   "execution_count": 75,
   "metadata": {},
   "outputs": [],
   "source": [
    "# the commented out values are those for the old dataset\n",
    "# baseline_test = (84.37, 68.76, 90.68, 90.6)\n",
    "# # model ID 6198ab41-3183-40f3-9254-d86a2b26e4ed on gray - deleted (let's keep results in harrison)\n",
    "\n",
    "# below is for the new model but with the border size of 50\n",
    "# baseline_test = (62.83, 86.55, 50.1, 78.48, 47.64)\n",
    "# model ID 7789e891-fb56-433f-9e4c-006d81a89802 on harrison\n",
    "\n",
    "baseline_test = (59.75, 83.17, 52.42, 70.91, 54.75) \n",
    "#for baseline model with ID b960aa6a-1ff1-4c76-897a-4b1d289f86eb\n",
    "# (8way, 2way, Prob-Treat, Prob-Test, Prob-Prob)"
   ]
  },
  {
   "cell_type": "code",
   "execution_count": 76,
   "metadata": {},
   "outputs": [],
   "source": [
    "# results on the cross validation reporting \n",
    "baseline = [(68.75, 86.54, 62.35, 75.95, 68.24), (71.29, 87.1, 65.38, 78.26, 70.25), \n",
    "            (70.53, 87.05, 64.92, 77.36, 70.16), (69.66, 85.72, 64.75, 77.12, 66.44), \n",
    "            (70.26, 85.85, 64.99, 77.46, 68.4)]\n",
    "# model ID cd087669-3124-4899-ae93-107abfaa13a6\n",
    "# 70.10 +- 0.85 86.45 +- 0.58 64.48 +- 1.08 77.23 +- 0.75\n",
    "\n",
    "# # # Still need to run this baseline\n",
    "# # #baseline = currently running on harrison Feb 15, 2019\n",
    "# # # temp baseline for now\n",
    "# # # baseline = [(90.35, 84.26, 92.58, 92.86), (88.71, 77.25, 92.89, 93.27), (89.57, 81.2, 92.55, 93.16), \n",
    "# # #             (86.16, 75.21, 89.89, 91.82), (87.79, 78.66, 92.47, 89.47)]\n",
    "# # baseline = [(89.65, 83.48, 91.88, 92.04), (88.47, 79.31, 91.69, 92.31), (90.52, 83.62, 92.59, 94.02), \n",
    "# #             (88.07, 78.79, 92.35, 90.35), (88.73, 81.67, 92.11, 90.52)]\n",
    "# # # model ID de365f82-b85d-415a-acb5-c43d7e7f4040 on gray\n",
    "\n",
    "# baseline = [(73.82, 88.97, 68.6, 83.79, 61.61), (73.7, 88.71, 63.07, 84.99, 65.5), \n",
    "#             (72.99, 88.88, 66.67, 81.54, 64.39), (72.01, 89.88, 57.96, 85.19, 64.79), \n",
    "#             (72.04, 88.15, 64.34, 83.54, 61.41)]\n",
    "# # model ID 3244b20d-e82f-44f1-a459-46f66e132481 in models_to_keep data medg misc "
   ]
  },
  {
   "cell_type": "code",
   "execution_count": 77,
   "metadata": {},
   "outputs": [],
   "source": [
    "elmo_model = [(72.08, 87.9, 65.25, 79.05, 73.17), (72.86, 87.93, 67.69, 78.3, 73.31), \n",
    "              (73.2, 88.03, 68.09, 79.65, 72.24), (71.19, 87.14, 63.98, 79.92, 69.93), \n",
    "              (73.34, 88.06, 66.54, 82.07, 71.43)]\n",
    "# model ID d4bce62a-233c-4d6a-9ef4-2d088dea0a3b\n",
    "# 72.53 +- 0.80 87.81 +- 0.34 66.31 +- 1.53 79.80 +- 1.27\n",
    "\n",
    "# # below is with the PubMed model weights\n",
    "# elmo_model = [(73.54, 89.67, 67.19, 83.25, 62.8), (76.66, 90.11, 70.09, 85.57, 68.1), \n",
    "#               (74.17, 90.16, 68.6, 83.55, 63.93), (74.85, 90.72, 66.67, 85.56, 64.68), \n",
    "#               (73.88, 88.41, 68.18, 84.65, 61.4)]\n",
    "# # model ID 4c162539-5a8e-4c4b-bd91-e4bbf1e26dee\n",
    "\n",
    "\n",
    "# # elmo_model = [(74.05, 89.41, 63.45, 85.94, 65.42), (72.51, 89.99, 63.57, 84.46, 61.61), \n",
    "# #                    (74.97, 89.71, 69.42, 83.12, 66.96), (70.67, 87.77, 64.17, 81.65, 58.56), \n",
    "# #                    (74.7, 90.83, 66.13, 84.97, 66.04)]\n",
    "# # model ID a4ba512c-c0d2-4911-8eb5-1a236b4f2457\n",
    "\n",
    "\n",
    "# # below is with the problematic folds\n",
    "# # elmo_model = [(72.1, 89.16, 65.29, 82.14, 61.32), (51.91, 85.78, 42.93, 71.18, 0.0), \n",
    "# #               (49.7, 83.13, 44.59, 65.68, 0.0), (44.61, 84.64, 22.86, 64.25, 0.0), \n",
    "# #               (45.57, 84.01, 36.59, 60.35, 0.0)]\n",
    "# # model ID 5a13415b-3f9c-4554-ad55-b150e64456ea -- need to delete\n",
    "# # 52.78 +- 10.02 85.34 +- 2.09 42.45 +- 13.74 68.72 +- 7.56\n",
    "# # Above indicates a problem with the way that the data has been split - because the std is too high\n",
    "# # seed for splitting should be changed in this case. "
   ]
  },
  {
   "cell_type": "code",
   "execution_count": 78,
   "metadata": {},
   "outputs": [],
   "source": [
    "piecewise_model = [(73.43, 89.22, 69.11, 80.08, 70.43), (74.36, 89.89, 71.91, 76.03, 75.86),\n",
    "                   (75.37, 89.98, 73.56, 80.6, 70.27), (73.11, 89.05, 69.94, 79.0, 69.01), \n",
    "                   (72.67, 88.3, 70.87, 79.74, 64.67)]\n",
    "# model ID fb56fba5-e514-4d7c-aaa6-b39556755d4f\n",
    "# 73.79 +- 0.97 89.29 +- 0.61 71.08 +- 1.55 79.09 +- 1.62\n",
    "\n",
    "# piecewise_model = [(73.47, 89.54, 70.23, 80.0, 64.76), (76.0, 90.5, 67.47, 85.93, 67.86), \n",
    "#               (75.66, 89.97, 73.02, 83.38, 65.18), \n",
    "#               (74.41, 90.78, 66.4, 85.19, 64.81), (73.34, 89.11, 68.42, 83.92, 60.44)]\n",
    "# # model ID 50f2975f-fb21-4805-b380-b305a1e04ca2 \n",
    "# #74.58 +- 1.09 89.98 +- 0.61 69.11 +- 2.33 83.68 +- 2.05"
   ]
  },
  {
   "cell_type": "code",
   "execution_count": 79,
   "metadata": {},
   "outputs": [],
   "source": [
    "bert_CLS = [(65.83, 84.93, 58.67, 73.8, 66.22), (69.0, 86.03, 61.71, 76.11, 71.23), \n",
    "            (68.06, 85.43, 60.45, 76.96, 68.37), (66.97, 85.28, 59.53, 76.6, 65.54), \n",
    "            (66.98, 85.46, 60.19, 75.16, 66.24)]\n",
    "# model ID 47bd09bf-af9e-4859-8942-b106d4731b04\n",
    "# 67.37 +- 1.08 85.43 +- 0.36 60.11 +- 1.01 75.73 +- 1.14\n"
   ]
  },
  {
   "cell_type": "code",
   "execution_count": 80,
   "metadata": {},
   "outputs": [],
   "source": [
    "bert_tokens = [(71.23, 87.51, 63.08, 79.57, 72.47), (72.91, 88.47, 65.78, 80.0, 74.23), \n",
    "               (73.24, 87.83, 67.68, 79.74, 73.14), (69.78, 86.21, 64.0, 77.54, 67.6), \n",
    "               (73.16, 87.81, 67.32, 80.78, 71.28)]\n",
    "# model ID 061331e0-087c-46b0-b53e-7aab8ac87801\n",
    "# 72.06 +- 1.36 87.57 +- 0.75 65.57 +- 1.80 79.53 +- 1.08"
   ]
  },
  {
   "cell_type": "code",
   "execution_count": 81,
   "metadata": {},
   "outputs": [
    {
     "name": "stdout",
     "output_type": "stream",
     "text": [
      "8 way evaluation: \t Ttest_relResult(statistic=-7.882348434177585, pvalue=0.0014005832366116551)\n",
      "2 way evaluation: \t Ttest_relResult(statistic=-19.379253663232067, pvalue=4.1795811583642097e-05)\n",
      "Problem-Treatment: \t Ttest_relResult(statistic=-11.404254769226691, pvalue=0.00033724341769287316)\n",
      "Problem-Test: \t\t Ttest_relResult(statistic=-1.6992786375175404, pvalue=0.16449393973138315)\n",
      "Problem-Problem: \t\t Ttest_relResult(statistic=-0.8742892542722299, pvalue=0.43131283733816456)\n"
     ]
    }
   ],
   "source": [
    "paired_ttest(baseline, piecewise_model)"
   ]
  },
  {
   "cell_type": "code",
   "execution_count": 82,
   "metadata": {},
   "outputs": [
    {
     "name": "stdout",
     "output_type": "stream",
     "text": [
      "8 way evaluation: \t Ttest_relResult(statistic=-6.465019152582885, pvalue=0.0029484348275330167)\n",
      "2 way evaluation: \t Ttest_relResult(statistic=-5.668142937804588, pvalue=0.004777990673548667)\n",
      "Problem-Treatment: \t Ttest_relResult(statistic=-2.5896379329067125, pvalue=0.060707076993434576)\n",
      "Problem-Test: \t\t Ttest_relResult(statistic=-3.466682628779803, pvalue=0.02566101265506351)\n",
      "Problem-Problem: \t\t Ttest_relResult(statistic=-7.147244479509475, pvalue=0.002027412723477246)\n"
     ]
    }
   ],
   "source": [
    "paired_ttest(baseline, elmo_model)"
   ]
  },
  {
   "cell_type": "code",
   "execution_count": 83,
   "metadata": {},
   "outputs": [
    {
     "name": "stdout",
     "output_type": "stream",
     "text": [
      "8 way evaluation: \t Ttest_relResult(statistic=15.743305860418912, pvalue=9.509886678720378e-05)\n",
      "2 way evaluation: \t Ttest_relResult(statistic=3.81874687497364, pvalue=0.01879848383821359)\n",
      "Problem-Treatment: \t Ttest_relResult(statistic=14.233677483424533, pvalue=0.00014148987697250686)\n",
      "Problem-Test: \t\t Ttest_relResult(statistic=3.5180348130858827, pvalue=0.02449346265055149)\n",
      "Problem-Problem: \t\t Ttest_relResult(statistic=2.0229205867488966, pvalue=0.11312077399593225)\n"
     ]
    }
   ],
   "source": [
    "paired_ttest(baseline, bert_CLS)"
   ]
  },
  {
   "cell_type": "code",
   "execution_count": 84,
   "metadata": {},
   "outputs": [
    {
     "name": "stdout",
     "output_type": "stream",
     "text": [
      "8 way evaluation: \t Ttest_relResult(statistic=-3.8491643080511957, pvalue=0.01831565245069274)\n",
      "2 way evaluation: \t Ttest_relResult(statistic=-4.3645684941557725, pvalue=0.012019054166870527)\n",
      "Problem-Treatment: \t Ttest_relResult(statistic=-1.696407451878142, pvalue=0.16504841246941832)\n",
      "Problem-Test: \t\t Ttest_relResult(statistic=-3.985630619407307, pvalue=0.016324268139482453)\n",
      "Problem-Problem: \t\t Ttest_relResult(statistic=-5.625750991027494, pvalue=0.004909860309830292)\n"
     ]
    }
   ],
   "source": [
    "paired_ttest(baseline, bert_tokens)"
   ]
  },
  {
   "cell_type": "code",
   "execution_count": 85,
   "metadata": {},
   "outputs": [
    {
     "name": "stdout",
     "output_type": "stream",
     "text": [
      "8 way evaluation: \t Ttest_relResult(statistic=1.640011700623198, pvalue=0.17634623600465493)\n",
      "2 way evaluation: \t Ttest_relResult(statistic=1.0449086836919068, pvalue=0.3550507615153515)\n",
      "Problem-Treatment: \t Ttest_relResult(statistic=1.3035248361208778, pvalue=0.26235840782798997)\n",
      "Problem-Test: \t\t Ttest_relResult(statistic=0.3822449720187364, pvalue=0.7217207817165413)\n",
      "Problem-Problem: \t\t Ttest_relResult(statistic=0.4524581704300051, pvalue=0.6743919463717096)\n"
     ]
    }
   ],
   "source": [
    "paired_ttest(elmo_model, bert_tokens)"
   ]
  },
  {
   "cell_type": "code",
   "execution_count": 86,
   "metadata": {},
   "outputs": [],
   "source": [
    "# elmo_model_general_big = [(75.32, 90.5, 72.43, 84.05, 62.2), (75.41, 90.31, 65.25, 85.71, 67.89), \n",
    "#                           (74.58, 90.03, 67.5, 83.12, 66.99), (72.68, 90.52, 61.22, 84.8, 64.0), \n",
    "#                           (73.52, 88.66, 69.02, 83.84, 60.44)]\n",
    "# # model ID 750a3dd2-6719-43f5-ad01-12c234b4fda5 \n",
    "# # 74.30 +- 1.06 90.00 +- 0.69 67.08 +- 3.75 84.30 +- 0.88"
   ]
  },
  {
   "cell_type": "markdown",
   "metadata": {},
   "source": [
    "### Additional Experiments for i2b2"
   ]
  },
  {
   "cell_type": "markdown",
   "metadata": {},
   "source": [
    "Entity blinding (+ Elmo) (+Bert)"
   ]
  },
  {
   "cell_type": "code",
   "execution_count": 103,
   "metadata": {},
   "outputs": [],
   "source": [
    "# this is on the evaluation fold\n",
    "entity_blinding_elmo = [(76.12, 88.88, 72.73, 77.35, 79.73), (78.88, 90.03, 74.54, 83.51, 78.77), \n",
    "                        (78.26, 89.54, 74.79, 82.86, 76.77), (76.25, 88.7, 74.55, 77.49, 77.18), \n",
    "                        (78.99, 89.67, 75.68, 82.86, 78.35)]\n",
    "# model ID a484fac5-02c9-4005-8210-7c0b824b1d34\n",
    "# 77.70 +- 1.26 89.36 +- 0.50 74.46 +- 0.96 80.81 +- 2.78\n",
    "\n",
    "# entity_blinding_elmo = [(76.16, 90.24, 75.95, 82.05, 65.74), (77.29, 89.86, 73.21, 85.71, 66.67), \n",
    "#                         (79.58, 90.93, 76.19, 86.22, 71.17), (80.19, 91.49, 77.92, 85.57, 73.21), \n",
    "#                         (77.21, 89.43, 75.32, 84.03, 66.67)]\n",
    "# #model ID 4f446314-3da7-43fd-bc98-d1c0507098bd\n",
    "# # 78.09 +- 1.53 90.39 +- 0.74 75.72 +- 1.52 84.72 +- 1.52\n",
    "# # this is with PubMed elmo"
   ]
  },
  {
   "cell_type": "code",
   "execution_count": 104,
   "metadata": {},
   "outputs": [],
   "source": [
    "entity_blinding_bert_tokens = [(76.05, 88.24, 71.98, 79.32, 77.55), (77.24, 89.11, 73.64, 82.23, 75.42), \n",
    "                               (76.61, 88.66, 73.22, 80.34, 76.19), (75.34, 88.31, 72.03, 78.45, 76.03), \n",
    "                               (78.38, 88.84, 75.68, 83.65, 74.51)]\n",
    "# model ID 32e95086-c338-4660-9d36-03c707601021\n",
    "# 76.72 +- 1.04 88.63 +- 0.33 73.31 +- 1.35 80.80 +- 1.90\n",
    "# execution time 32 hours"
   ]
  },
  {
   "cell_type": "markdown",
   "metadata": {},
   "source": [
    "Entity blind + Piecewise pool (+Elmo) (+Bert tokens)"
   ]
  },
  {
   "cell_type": "code",
   "execution_count": 105,
   "metadata": {},
   "outputs": [],
   "source": [
    "entity_blinding_piecewise_pool_elmo = [(79.05, 90.68, 74.0, 83.54, 80.41), (79.01, 90.62, 73.94, 83.33, 80.68), \n",
    "                                       (79.11, 90.13, 75.92, 83.58, 77.29), (79.46, 89.63, 76.95, 83.9, 76.61), \n",
    "                                       (80.41, 90.8, 77.58, 84.75, 78.26)]\n",
    "# model ID 6e655ec8-3ec9-4c14-adc6-982974aa2cbb\n",
    "# 79.41 +- 0.53 90.37 +- 0.44 75.68 +- 1.49 83.82 +- 0.50"
   ]
  },
  {
   "cell_type": "code",
   "execution_count": 114,
   "metadata": {},
   "outputs": [],
   "source": [
    "entity_blinding_piecewise_pool_bert_tokens = [(78.37, 90.54, 73.05, 83.19, 79.86), (80.31, 90.86, 76.49, 83.68, 81.36), \n",
    "                                              (79.47, 89.93, 77.89, 82.16, 77.74), (78.31, 89.54, 75.45, 82.91, 75.79), \n",
    "                                              (81.11, 90.85, 79.43, 86.13, 75.84)]\n",
    "# model ID 7e084293-d2a7-4033-8fe4-164beee8ffdf\n",
    "# 79.51 +- 1.09 90.34 +- 0.53 76.46 +- 2.17 83.61 +- 1.35"
   ]
  },
  {
   "cell_type": "markdown",
   "metadata": {},
   "source": [
    "Entity blind + piecewise pool"
   ]
  },
  {
   "cell_type": "code",
   "execution_count": 115,
   "metadata": {},
   "outputs": [],
   "source": [
    "# this is on the cross val report mode\n",
    "entity_blinding_piecewise_pool = [(76.34, 89.41, 71.94, 79.83, 78.15), (79.1, 90.52, 75.7, 82.25, 79.73), \n",
    "                                  (78.64, 89.59, 75.45, 83.9, 75.68), (77.37, 89.29, 74.51, 81.09, 76.29), \n",
    "                                  (79.17, 89.87, 78.75, 82.2, 75.08)]\n",
    "# model ID b9128322-cbcf-4d5c-944b-e4fc26db38c4\n",
    "# 78.12 +- 1.10 89.74 +- 0.44 75.27 +- 2.19 81.85 +- 1.35\n",
    "\n",
    "# entity_blinding_piecewise_pool = [(76.23, 90.24, 76.73, 81.41, 66.67), (78.66, 90.37, 77.12, 85.57, 68.12), \n",
    "#                                   (80.56, 91.18, 79.49, 85.43, 72.89), (78.87, 90.65, 79.31, 85.35, 66.96), \n",
    "#                                   (77.38, 89.68, 74.4, 85.29, 66.37)]\n",
    "# #model ID 03b9fe97-5692-47de-95b4-11afe90114ad \n",
    "# # 78.34 +- 1.46 90.42 +- 0.49 77.41 +- 1.87 84.61 +- 1.60"
   ]
  },
  {
   "cell_type": "markdown",
   "metadata": {},
   "source": [
    "Piecewise pool (+Elmo) (+Bert)"
   ]
  },
  {
   "cell_type": "code",
   "execution_count": 116,
   "metadata": {},
   "outputs": [],
   "source": [
    "piecewise_pool_elmo = [(75.06, 89.8, 69.65, 81.86, 73.5), (74.22, 90.23, 69.77, 77.57, 76.66), \n",
    "                       (75.79, 90.32, 72.34, 81.29, 73.1), (73.85, 89.88, 69.57, 79.83, 71.89), \n",
    "                       (74.9, 89.28, 71.35, 82.22, 69.63)]\n",
    "# model ID 1e21fcb0-2fd5-4edf-b317-68634c759c19\n",
    "# 74.76 +- 0.68 89.90 +- 0.37 70.54 +- 1.12 80.55 +- 1.70\n",
    "\n",
    "# piecewise_pool_elmo = [(75.14, 90.37, 71.21, 82.53, 66.02), (77.23, 91.26, 70.68, 85.14, 70.32), \n",
    "#                        (77.14, 90.86, 72.73, 83.8, 70.14), (77.27, 91.93, 71.26, 87.23, 66.67), \n",
    "#                        (72.77, 88.54, 67.15, 84.71, 58.18)]\n",
    "\n",
    "# # model ID 0b105264-9ef7-4266-a7e5-f53d1d7d1099\n",
    "# # 75.91 +- 1.76 90.59 +- 1.15 70.61 +- 1.86 84.68 +- 1.56 "
   ]
  },
  {
   "cell_type": "code",
   "execution_count": 117,
   "metadata": {},
   "outputs": [],
   "source": [
    "piecewise_pool_bert_tokens = [(74.28, 89.71, 67.7, 84.26, 69.86), (74.04, 90.08, 69.11, 78.13, 76.22), \n",
    "                              (76.06, 90.52, 72.87, 81.55, 72.98), (73.64, 88.61, 71.54, 79.15, 68.33), \n",
    "                              (75.32, 89.13, 72.12, 82.02, 70.38)]\n",
    "# model ID 19af6aae-16ae-4440-af06-47b120c29d2b\n",
    "# 74.67 +- 0.89 89.61 +- 0.68 70.67 +- 1.95 81.02 +- 2.17"
   ]
  },
  {
   "cell_type": "markdown",
   "metadata": {},
   "source": [
    "### Paired ttests"
   ]
  },
  {
   "cell_type": "code",
   "execution_count": 118,
   "metadata": {},
   "outputs": [
    {
     "name": "stdout",
     "output_type": "stream",
     "text": [
      "8 way evaluation: \t Ttest_relResult(statistic=-15.38863685010783, pvalue=0.0001040452567910574)\n",
      "2 way evaluation: \t Ttest_relResult(statistic=-8.72598901205341, pvalue=0.0009501530735476233)\n",
      "Problem-Treatment: \t Ttest_relResult(statistic=-10.948073136465382, pvalue=0.00039538750345515856)\n",
      "Problem-Test: \t\t Ttest_relResult(statistic=-0.7035741146623237, pvalue=0.5204949631630837)\n",
      "Problem-Problem: \t\t Ttest_relResult(statistic=-12.201288528463278, pvalue=0.00025901578772890264)\n"
     ]
    }
   ],
   "source": [
    "paired_ttest(elmo_model, entity_blinding_elmo)"
   ]
  },
  {
   "cell_type": "code",
   "execution_count": 119,
   "metadata": {},
   "outputs": [
    {
     "name": "stdout",
     "output_type": "stream",
     "text": [
      "8 way evaluation: \t Ttest_relResult(statistic=-12.191185691113011, pvalue=0.00025985663032450715)\n",
      "2 way evaluation: \t Ttest_relResult(statistic=-3.999894403471959, pvalue=0.01613150670098556)\n",
      "Problem-Treatment: \t Ttest_relResult(statistic=-13.400786765881374, pvalue=0.00017934000175616046)\n",
      "Problem-Test: \t\t Ttest_relResult(statistic=-2.2538034058935876, pvalue=0.08727684481389675)\n",
      "Problem-Problem: \t\t Ttest_relResult(statistic=-3.4265496675789073, pvalue=0.02661971175577345)\n"
     ]
    }
   ],
   "source": [
    "paired_ttest(bert_tokens, entity_blinding_bert_tokens)"
   ]
  },
  {
   "cell_type": "code",
   "execution_count": 126,
   "metadata": {},
   "outputs": [
    {
     "name": "stdout",
     "output_type": "stream",
     "text": [
      "8 way evaluation: \t Ttest_relResult(statistic=3.205327977437583, pvalue=0.032734201139843766)\n",
      "2 way evaluation: \t Ttest_relResult(statistic=7.465502103403227, pvalue=0.001720573713396594)\n",
      "Problem-Treatment: \t Ttest_relResult(statistic=2.706508581414148, pvalue=0.05373101504860784)\n",
      "Problem-Test: \t\t Ttest_relResult(statistic=0.019536820527096443, pvalue=0.98534854963754)\n",
      "Problem-Problem: \t\t Ttest_relResult(statistic=3.569196411846744, pvalue=0.02339255983423097)\n"
     ]
    }
   ],
   "source": [
    "paired_ttest(entity_blinding_elmo, entity_blinding_bert_tokens)"
   ]
  },
  {
   "cell_type": "code",
   "execution_count": 120,
   "metadata": {},
   "outputs": [
    {
     "name": "stdout",
     "output_type": "stream",
     "text": [
      "8 way evaluation: \t Ttest_relResult(statistic=-16.550838977129263, pvalue=7.805037354662927e-05)\n",
      "2 way evaluation: \t Ttest_relResult(statistic=-20.424520653397547, pvalue=3.393399348974502e-05)\n",
      "Problem-Treatment: \t Ttest_relResult(statistic=-7.883790410645337, pvalue=0.0013996105716722715)\n",
      "Problem-Test: \t\t Ttest_relResult(statistic=-10.305573249537169, pvalue=0.0005001282516864442)\n",
      "Problem-Problem: \t\t Ttest_relResult(statistic=-15.953108513236458, pvalue=9.025649045754187e-05)\n"
     ]
    }
   ],
   "source": [
    "paired_ttest(elmo_model, entity_blinding_piecewise_pool_elmo)"
   ]
  },
  {
   "cell_type": "code",
   "execution_count": 121,
   "metadata": {},
   "outputs": [
    {
     "name": "stdout",
     "output_type": "stream",
     "text": [
      "8 way evaluation: \t Ttest_relResult(statistic=-19.224926246211513, pvalue=4.3141895055908905e-05)\n",
      "2 way evaluation: \t Ttest_relResult(statistic=-12.141079616921683, pvalue=0.00026407743975590003)\n",
      "Problem-Treatment: \t Ttest_relResult(statistic=-27.469886795913244, pvalue=1.0444714997279953e-05)\n",
      "Problem-Test: \t\t Ttest_relResult(statistic=-7.224441726635654, pvalue=0.0019471581254213322)\n",
      "Problem-Problem: \t\t Ttest_relResult(statistic=-8.465128426024714, pvalue=0.0010672242979042773)\n"
     ]
    }
   ],
   "source": [
    "paired_ttest(bert_tokens, entity_blinding_piecewise_pool_bert_tokens)"
   ]
  },
  {
   "cell_type": "code",
   "execution_count": 127,
   "metadata": {},
   "outputs": [
    {
     "name": "stdout",
     "output_type": "stream",
     "text": [
      "8 way evaluation: \t Ttest_relResult(statistic=-0.2358959573040669, pvalue=0.8250995862631466)\n",
      "2 way evaluation: \t Ttest_relResult(statistic=0.3557725452751649, pvalue=0.7399806615423496)\n",
      "Problem-Treatment: \t Ttest_relResult(statistic=-0.9409276737287449, pvalue=0.4000167893191987)\n",
      "Problem-Test: \t\t Ttest_relResult(statistic=0.4147581884036382, pvalue=0.6995983266867722)\n",
      "Problem-Problem: \t\t Ttest_relResult(statistic=0.9647977271794426, pvalue=0.3892813950631637)\n"
     ]
    }
   ],
   "source": [
    "paired_ttest(entity_blinding_piecewise_pool_elmo, entity_blinding_piecewise_pool_bert_tokens)"
   ]
  },
  {
   "cell_type": "code",
   "execution_count": 122,
   "metadata": {},
   "outputs": [
    {
     "name": "stdout",
     "output_type": "stream",
     "text": [
      "8 way evaluation: \t Ttest_relResult(statistic=-6.846530102495963, pvalue=0.0023817476916975374)\n",
      "2 way evaluation: \t Ttest_relResult(statistic=-1.381216913164114, pvalue=0.23935661485087645)\n",
      "Problem-Treatment: \t Ttest_relResult(statistic=-4.085133593119283, pvalue=0.015034977640559746)\n",
      "Problem-Test: \t\t Ttest_relResult(statistic=-2.6436679113922166, pvalue=0.057359982768853096)\n",
      "Problem-Problem: \t\t Ttest_relResult(statistic=-6.2646166404322745, pvalue=0.0033126740998870564)\n"
     ]
    }
   ],
   "source": [
    "paired_ttest(piecewise_model, entity_blinding_piecewise_pool)"
   ]
  },
  {
   "cell_type": "code",
   "execution_count": 123,
   "metadata": {},
   "outputs": [
    {
     "name": "stdout",
     "output_type": "stream",
     "text": [
      "8 way evaluation: \t Ttest_relResult(statistic=-6.910286862968808, pvalue=0.0023006107613188966)\n",
      "2 way evaluation: \t Ttest_relResult(statistic=-8.198915917499226, pvalue=0.0012056944287815417)\n",
      "Problem-Treatment: \t Ttest_relResult(statistic=-7.227512212287335, pvalue=0.0019440478931693939)\n",
      "Problem-Test: \t\t Ttest_relResult(statistic=-1.1741395495570224, pvalue=0.3054722799459555)\n",
      "Problem-Problem: \t\t Ttest_relResult(statistic=-1.0951501731272948, pvalue=0.3349671013515103)\n"
     ]
    }
   ],
   "source": [
    "paired_ttest(elmo_model, piecewise_pool_elmo)"
   ]
  },
  {
   "cell_type": "code",
   "execution_count": 124,
   "metadata": {},
   "outputs": [
    {
     "name": "stdout",
     "output_type": "stream",
     "text": [
      "8 way evaluation: \t Ttest_relResult(statistic=-5.687189371747363, pvalue=0.00472015680666844)\n",
      "2 way evaluation: \t Ttest_relResult(statistic=-8.076717372792576, pvalue=0.001276680020782832)\n",
      "Problem-Treatment: \t Ttest_relResult(statistic=-7.427387802482923, pvalue=0.0017541428470715325)\n",
      "Problem-Test: \t\t Ttest_relResult(statistic=-1.4359174813813531, pvalue=0.22436761357447718)\n",
      "Problem-Problem: \t\t Ttest_relResult(statistic=0.245696730741237, pvalue=0.8180088041901493)\n"
     ]
    }
   ],
   "source": [
    "paired_ttest(bert_tokens, piecewise_pool_bert_tokens)"
   ]
  },
  {
   "cell_type": "code",
   "execution_count": 128,
   "metadata": {},
   "outputs": [
    {
     "name": "stdout",
     "output_type": "stream",
     "text": [
      "8 way evaluation: \t Ttest_relResult(statistic=0.45556505757824095, pvalue=0.6723368568398465)\n",
      "2 way evaluation: \t Ttest_relResult(statistic=1.1543756519376487, pvalue=0.31261871958740944)\n",
      "Problem-Treatment: \t Ttest_relResult(statistic=-0.19781325353145715, pvalue=0.8528372108875544)\n",
      "Problem-Test: \t\t Ttest_relResult(statistic=-0.8885335654210631, pvalue=0.4244580968715774)\n",
      "Problem-Problem: \t\t Ttest_relResult(statistic=1.5267259360493228, pvalue=0.2015362091550892)\n"
     ]
    }
   ],
   "source": [
    "paired_ttest(piecewise_pool_elmo, piecewise_pool_bert_tokens)"
   ]
  },
  {
   "cell_type": "markdown",
   "metadata": {},
   "source": [
    "piecewise pool model is better for i2b2\n",
    "elmo model does not seem statistically significantly differnet than the baseline model, but the above is with a pickle splitting seed of 2 rather than 5 which is the default. "
   ]
  },
  {
   "cell_type": "markdown",
   "metadata": {},
   "source": [
    "Test score results for the above are (all model IDs the shared NFS folder): (border size -1) \n",
    "\n",
    "```(59.75, 83.17, 52.42, 70.91, 54.75)``` for baseline model with ID b960aa6a-1ff1-4c76-897a-4b1d289f86eb\n",
    "\n",
    "```(60.85, 83.69, 52.34, 72.72, 57.08)``` for piecewise pool model with model ID c1a272c2-0268-4641-bb7d-be7e32d3b836\n",
    "\n",
    "```(63.18, 84.54, 54.73, 74.89, 59.55)``` for elmo model with model ID 2ef144cd-0d7d-4b01-942f-7b65380f9490\n",
    "\n",
    "***\n",
    "BERT (from clinical data - Emily's training)\n",
    "\n",
    "`(56.79, 81.91, 48.56, 69.52, 52.16)` for the baseline model with bert CLS simple bert appending (to the fixed size sentence rep) with model ID 1458f1db-0290-4d8e-97e7-d5c298cfb683 \n",
    " \n",
    "Another run (just to verify): `(56.36, 82.05, 47.46, 69.66, 52.22)` with model ID d67c42a6-9410-481f-ab37-17021261e32e\n",
    "\n",
    "`(63.11, 84.91, 54.53, 75.62, 57.49)` for baseline model with bert token level addition with model ID b5576118-9d6e-4b0a-948b-782705826a55"
   ]
  },
  {
   "cell_type": "code",
   "execution_count": 73,
   "metadata": {},
   "outputs": [],
   "source": [
    "# Test score results for the above are (all model IDs the shared NFS folder): (with border size 50)\n",
    "\n",
    "# ```(62.83, 86.55, 50.1, 78.48, 47.64)``` for baseline model with ID 7789e891-fb56-433f-9e4c-006d81a89802\n",
    "\n",
    "# ```(66.73, 88.08, 54.74, 81.24, 51.28)``` for elmo model with model ID 63f1e537-da50-495c-be8f-fabd209a058c\n",
    "\n",
    "# ```(64.67, 87.07, 53.88, 79.52, 47.58)``` for piecewise pool model with model ID 15344c2c-1f2a-4420-9000-83c2be452129"
   ]
  },
  {
   "cell_type": "markdown",
   "metadata": {},
   "source": [
    "### Additional experiments"
   ]
  },
  {
   "cell_type": "markdown",
   "metadata": {},
   "source": [
    "`(70.46, 86.17, 61.92, 78.32, 71.67)` for the elmo model and entity blinding with ID 1df015ba-d906-42c0-b22a-1db930cfc9d6\n",
    "\n",
    "`(70.62, 86.14, 60.95, 78.67, 73.94)` for the piecewise pool model and entity blinding with elmo and ID is d0b840dc-fcab-4144-9714-37e82f2b95ec\n",
    "\n",
    "`(69.73, 85.44, 60.03, 77.19, 73.9)` for the entity blinding and piecewise pool model with ID b9bc6c62-5ca8-4aa5-98e8-61eb3536209c\n",
    "\n",
    "`(63.19, 84.92, 54.13, 74.81, 61.66)` for the piecewise pool model and elmo with ID b6a9db36-b334-41b0-a103-ee01cde0f34c\n",
    "\n",
    "`(70.56, 85.66, 61.68, 78.39, 72.34)` for the bert tokens model and entity blinding with ID fe40eb2f-52b5-45dd-94a2-16f84973effd\n",
    "\n",
    "`(71.01, 86.26, 61.71, 79.1, 73.77)` for the bert tokens model with entity blinding and piecewise pooling with model ID ceffcfde-a039-4e5e-bae9-8176f3e99868\n",
    "\n",
    "`(63.23, 85.45, 54.76, 75.03, 59.44)` for the bert tokens model with piecewise pooling with model ID 49c14cda-f3f3-4eb5-a77f-4860363cfbae"
   ]
  },
  {
   "cell_type": "code",
   "execution_count": 47,
   "metadata": {},
   "outputs": [],
   "source": [
    "# with border size 50\n",
    "# `(73.03, 88.79, 64.25, 84.19, 59.2)` for the elmo model and entity blinding with ID 63d9fda1-2931-4dec-b7e9-cfd56cae58e8\n",
    "\n",
    "# `(73.38, 89.0, 64.75, 84.78, 58.5)` for the piecewise pool model and entity blinding with elmo and ID is eb55046d-7bdd-4fc7-9f0c-c40c9808e8a6\n",
    "\n",
    "# `(72.75, 88.17, 65.95, 83.13, 58.59)` for the entity blinding and piecewise pool model with ID 7c46e59a-e335-44c5-90c3-ce4782ab2f66\n",
    "\n",
    "# `(67.01, 88.05, 55.66, 81.75, 50.25)` for the piecewise pool model and elmo with ID 1e76f364-8509-4106-8280-6b862b920e70"
   ]
  },
  {
   "cell_type": "code",
   "execution_count": 48,
   "metadata": {},
   "outputs": [],
   "source": [
    "# border size 50\n",
    "# Elmo model with the embeddings of the large model returns a result of `(65.05, 87.62, 51.74, 80.6, 48.43)` with model ID 77cea5cb-ab0c-482d-b9f9-762b0eb1ee28"
   ]
  },
  {
   "cell_type": "code",
   "execution_count": 1,
   "metadata": {},
   "outputs": [],
   "source": [
    "# ```(64.8, 87.02, 55.43, 78.23, 47.29)``` for elmo model with model ID fd25ca11-27fc-4b89-816e-22867aa586a6 for the old elmo model"
   ]
  }
 ],
 "metadata": {
  "kernelspec": {
   "display_name": "Python 3",
   "language": "python",
   "name": "python3"
  },
  "language_info": {
   "codemirror_mode": {
    "name": "ipython",
    "version": 3
   },
   "file_extension": ".py",
   "mimetype": "text/x-python",
   "name": "python",
   "nbconvert_exporter": "python",
   "pygments_lexer": "ipython3",
   "version": "3.6.6"
  }
 },
 "nbformat": 4,
 "nbformat_minor": 2
}
