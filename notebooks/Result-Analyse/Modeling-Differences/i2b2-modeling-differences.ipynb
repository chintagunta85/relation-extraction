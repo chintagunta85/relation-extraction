{
 "cells": [
  {
   "cell_type": "markdown",
   "metadata": {},
   "source": [
    "# Differences that modeling cause to the baseline model in i2b2 data"
   ]
  },
  {
   "cell_type": "markdown",
   "metadata": {},
   "source": [
    "for reference, command that was run within scripts/ was ```CUDA_VISIBLE_DEVICES=<device_no> python main.py --<cross_validate/use_test> --dataset=i2b2 --preprocessing_type=<entity_blinding/punct_digit/punct_stop_digit> --num_epoches=150 --lr_values 0.001 0.0001 0.00001 --lr_boundaries 60 120```\n",
    "This was gotten after preliminary hyperparameter tuning; and other options exist such as --use_elmo"
   ]
  },
  {
   "cell_type": "code",
   "execution_count": 2,
   "metadata": {},
   "outputs": [],
   "source": [
    "# command for the old data - just classification\n",
    "# for reference, command that was run within scripts/ was ```CUDA_VISIBLE_DEVICES=<device_no> python main.py --<cross_validate/use_test> --dataset=i2b2 --preprocessing_type=<entity_blinding/punct_digit/punct_stop_digit> --num_epoches=100 --lr_values 0.001 0.0001 --lr_boundaries 70```\n",
    "# This was gotten after preliminary hyperparameter tuning"
   ]
  },
  {
   "cell_type": "code",
   "execution_count": 6,
   "metadata": {},
   "outputs": [],
   "source": [
    "from scipy.stats import ttest_rel\n",
    "def paired_ttest(score1, score2):\n",
    "    all_three_macroF1_score1 = [x for x in zip(*score1)]\n",
    "    all_three_macroF1_score2 = [x for x in zip(*score2)]\n",
    "    ttests = [ttest_rel(macro_f1_score1, macro_f1_score2) \n",
    "            for macro_f1_score1, macro_f1_score2 in zip(all_three_macroF1_score1, all_three_macroF1_score2)]\n",
    "    print('8 way evaluation: \\t', ttests[0])\n",
    "    print('2 way evaluation: \\t', ttests[1])\n",
    "    print('Problem-Treatment: \\t', ttests[2])\n",
    "    print('Problem-Test: \\t\\t', ttests[3])\n",
    "    print('Problem-Problem: \\t\\t', ttests[4])"
   ]
  },
  {
   "cell_type": "markdown",
   "metadata": {},
   "source": [
    "## First compare the cross validated score differences"
   ]
  },
  {
   "cell_type": "code",
   "execution_count": 7,
   "metadata": {},
   "outputs": [],
   "source": [
    "# the commented out values are those for the old dataset\n",
    "# baseline_test = (84.37, 68.76, 90.68, 90.6)\n",
    "# # model ID 6198ab41-3183-40f3-9254-d86a2b26e4ed on gray - deleted (let's keep results in harrison)\n",
    "\n",
    "baseline_test = (62.83, 86.55, 50.1, 78.48, 47.64)\n",
    "# model ID 7789e891-fb56-433f-9e4c-006d81a89802 on harrison"
   ]
  },
  {
   "cell_type": "code",
   "execution_count": 8,
   "metadata": {},
   "outputs": [],
   "source": [
    "# # Still need to run this baseline\n",
    "# #baseline = currently running on harrison Feb 15, 2019\n",
    "# # temp baseline for now\n",
    "# # baseline = [(90.35, 84.26, 92.58, 92.86), (88.71, 77.25, 92.89, 93.27), (89.57, 81.2, 92.55, 93.16), \n",
    "# #             (86.16, 75.21, 89.89, 91.82), (87.79, 78.66, 92.47, 89.47)]\n",
    "# baseline = [(89.65, 83.48, 91.88, 92.04), (88.47, 79.31, 91.69, 92.31), (90.52, 83.62, 92.59, 94.02), \n",
    "#             (88.07, 78.79, 92.35, 90.35), (88.73, 81.67, 92.11, 90.52)]\n",
    "# # model ID de365f82-b85d-415a-acb5-c43d7e7f4040 on gray\n",
    "\n",
    "baseline = [(73.82, 88.97, 68.6, 83.79, 61.61), (73.7, 88.71, 63.07, 84.99, 65.5), \n",
    "            (72.99, 88.88, 66.67, 81.54, 64.39), (72.01, 89.88, 57.96, 85.19, 64.79), \n",
    "            (72.04, 88.15, 64.34, 83.54, 61.41)]\n",
    "# model ID 3244b20d-e82f-44f1-a459-46f66e132481 in models_to_keep data medg misc "
   ]
  },
  {
   "cell_type": "code",
   "execution_count": 18,
   "metadata": {},
   "outputs": [],
   "source": [
    "elmo_model = [(72.1, 89.16, 65.29, 82.14, 61.32), (51.91, 85.78, 42.93, 71.18, 0.0), \n",
    "              (49.7, 83.13, 44.59, 65.68, 0.0), (44.61, 84.64, 22.86, 64.25, 0.0), \n",
    "              (45.57, 84.01, 36.59, 60.35, 0.0)]\n",
    "# model ID 5a13415b-3f9c-4554-ad55-b150e64456ea\n",
    "# 52.78 +- 10.02 85.34 +- 2.09 42.45 +- 13.74 68.72 +- 7.56\n",
    "# Above indicates a problem with the way that the data has been split - because the std is too high\n",
    "# seed for splitting should be changed in this case. "
   ]
  },
  {
   "cell_type": "code",
   "execution_count": 13,
   "metadata": {},
   "outputs": [],
   "source": [
    "piecewise_model = [(73.47, 89.54, 70.23, 80.0, 64.76), (76.0, 90.5, 67.47, 85.93, 67.86), \n",
    "              (75.66, 89.97, 73.02, 83.38, 65.18), \n",
    "              (74.41, 90.78, 66.4, 85.19, 64.81), (73.34, 89.11, 68.42, 83.92, 60.44)]\n",
    "# model ID 50f2975f-fb21-4805-b380-b305a1e04ca2\n",
    "#74.58 +- 1.09 89.98 +- 0.61 69.11 +- 2.33 83.68 +- 2.05"
   ]
  },
  {
   "cell_type": "code",
   "execution_count": 12,
   "metadata": {},
   "outputs": [
    {
     "name": "stdout",
     "output_type": "stream",
     "text": [
      "8 way evaluation: \t Ttest_relResult(statistic=-3.0015082354833726, pvalue=0.0398826148634977)\n",
      "2 way evaluation: \t Ttest_relResult(statistic=-5.278815133420388, pvalue=0.006175100335493323)\n",
      "Problem-Treatment: \t Ttest_relResult(statistic=-4.349602108371308, pvalue=0.012160881284342109)\n",
      "Problem-Test: \t\t Ttest_relResult(statistic=0.130311951595215, pvalue=0.9026102604675532)\n",
      "Problem-Problem: \t\t Ttest_relResult(statistic=-1.4214327948690113, pvalue=0.22824315421956687)\n"
     ]
    }
   ],
   "source": [
    "paired_ttest(baseline, piecewise_model)"
   ]
  },
  {
   "cell_type": "code",
   "execution_count": 16,
   "metadata": {},
   "outputs": [
    {
     "name": "stdout",
     "output_type": "stream",
     "text": [
      "8 way evaluation: \t Ttest_relResult(statistic=4.269753909648387, pvalue=0.012952669771011168)\n",
      "2 way evaluation: \t Ttest_relResult(statistic=3.376108925988275, pvalue=0.02788561400801223)\n",
      "Problem-Treatment: \t Ttest_relResult(statistic=4.1076548373473765, pvalue=0.014760392672561082)\n",
      "Problem-Test: \t\t Ttest_relResult(statistic=4.013685416556226, pvalue=0.015947730591119813)\n",
      "Problem-Problem: \t\t Ttest_relResult(statistic=4.016740693244867, pvalue=0.01590735791108017)\n"
     ]
    }
   ],
   "source": [
    "paired_ttest(baseline, elmo_model)"
   ]
  },
  {
   "cell_type": "markdown",
   "metadata": {},
   "source": [
    "piecewise pool model is better for i2b2\n",
    "oddly enough,  cross validation is indicating that baseline is better than elmo model but runs on the test set indicate otherwise. This might be because of the way that the splits have happened. "
   ]
  },
  {
   "cell_type": "markdown",
   "metadata": {},
   "source": [
    "Test score results for the above are (all model IDs the shared NFS folder):\n",
    "\n",
    "```(62.83, 86.55, 50.1, 78.48, 47.64)``` for baseline model with ID 7789e891-fb56-433f-9e4c-006d81a89802\n",
    "\n",
    "```(64.8, 87.02, 55.43, 78.23, 47.29)``` for elmo model with model ID fd25ca11-27fc-4b89-816e-22867aa586a6\n",
    "\n",
    "```(64.67, 87.07, 53.88, 79.52, 47.58)``` for piecewise pool model with model ID 15344c2c-1f2a-4420-9000-83c2be452129"
   ]
  },
  {
   "cell_type": "code",
   "execution_count": null,
   "metadata": {},
   "outputs": [],
   "source": []
  }
 ],
 "metadata": {
  "kernelspec": {
   "display_name": "Python 3",
   "language": "python",
   "name": "python3"
  },
  "language_info": {
   "codemirror_mode": {
    "name": "ipython",
    "version": 3
   },
   "file_extension": ".py",
   "mimetype": "text/x-python",
   "name": "python",
   "nbconvert_exporter": "python",
   "pygments_lexer": "ipython3",
   "version": "3.6.6"
  }
 },
 "nbformat": 4,
 "nbformat_minor": 2
}
