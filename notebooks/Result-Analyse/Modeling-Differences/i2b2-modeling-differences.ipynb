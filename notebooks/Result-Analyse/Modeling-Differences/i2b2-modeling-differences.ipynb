{
 "cells": [
  {
   "cell_type": "markdown",
   "metadata": {},
   "source": [
    "# Differences that modeling cause to the baseline model in i2b2 data"
   ]
  },
  {
   "cell_type": "markdown",
   "metadata": {},
   "source": [
    "for reference, command that was run within scripts/ was ```CUDA_VISIBLE_DEVICES=<device_no> python main.py --<cross_validate/use_test> --dataset=i2b2 --preprocessing_type=<entity_blinding/punct_digit/punct_stop_digit> --border_size=-1 --num_epoches=150 --lr_values 0.001 0.0001 0.00001 --lr_boundaries 60 120```\n",
    "This was gotten after preliminary hyperparameter tuning; and other options exist such as --use_elmo"
   ]
  },
  {
   "cell_type": "code",
   "execution_count": 2,
   "metadata": {},
   "outputs": [],
   "source": [
    "# command for the old data - just classification\n",
    "# for reference, command that was run within scripts/ was ```CUDA_VISIBLE_DEVICES=<device_no> python main.py --<cross_validate/use_test> --dataset=i2b2 --preprocessing_type=<entity_blinding/punct_digit/punct_stop_digit> --num_epoches=100 --lr_values 0.001 0.0001 --lr_boundaries 70```\n",
    "# This was gotten after preliminary hyperparameter tuning"
   ]
  },
  {
   "cell_type": "code",
   "execution_count": 50,
   "metadata": {},
   "outputs": [],
   "source": [
    "from scipy.stats import ttest_rel\n",
    "def paired_ttest(score1, score2):\n",
    "    all_three_macroF1_score1 = [x for x in zip(*score1)]\n",
    "    all_three_macroF1_score2 = [x for x in zip(*score2)]\n",
    "    ttests = [ttest_rel(macro_f1_score1, macro_f1_score2) \n",
    "            for macro_f1_score1, macro_f1_score2 in zip(all_three_macroF1_score1, all_three_macroF1_score2)]\n",
    "    print('8 way evaluation: \\t', ttests[0])\n",
    "    print('2 way evaluation: \\t', ttests[1])\n",
    "    print('Problem-Treatment: \\t', ttests[2])\n",
    "    print('Problem-Test: \\t\\t', ttests[3])\n",
    "    print('Problem-Problem: \\t\\t', ttests[4])"
   ]
  },
  {
   "cell_type": "markdown",
   "metadata": {},
   "source": [
    "## First compare the cross validated score differences"
   ]
  },
  {
   "cell_type": "code",
   "execution_count": 51,
   "metadata": {},
   "outputs": [],
   "source": [
    "# the commented out values are those for the old dataset\n",
    "# baseline_test = (84.37, 68.76, 90.68, 90.6)\n",
    "# # model ID 6198ab41-3183-40f3-9254-d86a2b26e4ed on gray - deleted (let's keep results in harrison)\n",
    "\n",
    "# below is for the new model but with the border size of 50\n",
    "# baseline_test = (62.83, 86.55, 50.1, 78.48, 47.64)\n",
    "# model ID 7789e891-fb56-433f-9e4c-006d81a89802 on harrison\n",
    "\n",
    "baseline_test = (59.75, 83.17, 52.42, 70.91, 54.75) \n",
    "#for baseline model with ID b960aa6a-1ff1-4c76-897a-4b1d289f86eb"
   ]
  },
  {
   "cell_type": "code",
   "execution_count": 52,
   "metadata": {},
   "outputs": [],
   "source": [
    "# # Still need to run this baseline\n",
    "# #baseline = currently running on harrison Feb 15, 2019\n",
    "# # temp baseline for now\n",
    "# # baseline = [(90.35, 84.26, 92.58, 92.86), (88.71, 77.25, 92.89, 93.27), (89.57, 81.2, 92.55, 93.16), \n",
    "# #             (86.16, 75.21, 89.89, 91.82), (87.79, 78.66, 92.47, 89.47)]\n",
    "# baseline = [(89.65, 83.48, 91.88, 92.04), (88.47, 79.31, 91.69, 92.31), (90.52, 83.62, 92.59, 94.02), \n",
    "#             (88.07, 78.79, 92.35, 90.35), (88.73, 81.67, 92.11, 90.52)]\n",
    "# # model ID de365f82-b85d-415a-acb5-c43d7e7f4040 on gray\n",
    "\n",
    "baseline = [(73.82, 88.97, 68.6, 83.79, 61.61), (73.7, 88.71, 63.07, 84.99, 65.5), \n",
    "            (72.99, 88.88, 66.67, 81.54, 64.39), (72.01, 89.88, 57.96, 85.19, 64.79), \n",
    "            (72.04, 88.15, 64.34, 83.54, 61.41)]\n",
    "# model ID 3244b20d-e82f-44f1-a459-46f66e132481 in models_to_keep data medg misc "
   ]
  },
  {
   "cell_type": "code",
   "execution_count": 53,
   "metadata": {},
   "outputs": [],
   "source": [
    "# below is with the PubMed model weights\n",
    "elmo_model = [(73.54, 89.67, 67.19, 83.25, 62.8), (76.66, 90.11, 70.09, 85.57, 68.1), \n",
    "              (74.17, 90.16, 68.6, 83.55, 63.93), (74.85, 90.72, 66.67, 85.56, 64.68), \n",
    "              (73.88, 88.41, 68.18, 84.65, 61.4)]\n",
    "# model ID 4c162539-5a8e-4c4b-bd91-e4bbf1e26dee\n",
    "\n",
    "\n",
    "# elmo_model = [(74.05, 89.41, 63.45, 85.94, 65.42), (72.51, 89.99, 63.57, 84.46, 61.61), \n",
    "#                    (74.97, 89.71, 69.42, 83.12, 66.96), (70.67, 87.77, 64.17, 81.65, 58.56), \n",
    "#                    (74.7, 90.83, 66.13, 84.97, 66.04)]\n",
    "# model ID a4ba512c-c0d2-4911-8eb5-1a236b4f2457\n",
    "\n",
    "\n",
    "# below is with the problematic folds\n",
    "# elmo_model = [(72.1, 89.16, 65.29, 82.14, 61.32), (51.91, 85.78, 42.93, 71.18, 0.0), \n",
    "#               (49.7, 83.13, 44.59, 65.68, 0.0), (44.61, 84.64, 22.86, 64.25, 0.0), \n",
    "#               (45.57, 84.01, 36.59, 60.35, 0.0)]\n",
    "# model ID 5a13415b-3f9c-4554-ad55-b150e64456ea -- need to delete\n",
    "# 52.78 +- 10.02 85.34 +- 2.09 42.45 +- 13.74 68.72 +- 7.56\n",
    "# Above indicates a problem with the way that the data has been split - because the std is too high\n",
    "# seed for splitting should be changed in this case. "
   ]
  },
  {
   "cell_type": "code",
   "execution_count": 54,
   "metadata": {},
   "outputs": [],
   "source": [
    "piecewise_model = [(73.47, 89.54, 70.23, 80.0, 64.76), (76.0, 90.5, 67.47, 85.93, 67.86), \n",
    "              (75.66, 89.97, 73.02, 83.38, 65.18), \n",
    "              (74.41, 90.78, 66.4, 85.19, 64.81), (73.34, 89.11, 68.42, 83.92, 60.44)]\n",
    "# model ID 50f2975f-fb21-4805-b380-b305a1e04ca2 \n",
    "#74.58 +- 1.09 89.98 +- 0.61 69.11 +- 2.33 83.68 +- 2.05"
   ]
  },
  {
   "cell_type": "code",
   "execution_count": 55,
   "metadata": {},
   "outputs": [
    {
     "name": "stdout",
     "output_type": "stream",
     "text": [
      "8 way evaluation: \t Ttest_relResult(statistic=-3.0015082354833726, pvalue=0.0398826148634977)\n",
      "2 way evaluation: \t Ttest_relResult(statistic=-5.278815133420388, pvalue=0.006175100335493323)\n",
      "Problem-Treatment: \t Ttest_relResult(statistic=-4.349602108371308, pvalue=0.012160881284342109)\n",
      "Problem-Test: \t\t Ttest_relResult(statistic=0.130311951595215, pvalue=0.9026102604675532)\n",
      "Problem-Problem: \t\t Ttest_relResult(statistic=-1.4214327948690113, pvalue=0.22824315421956687)\n"
     ]
    }
   ],
   "source": [
    "paired_ttest(baseline, piecewise_model)"
   ]
  },
  {
   "cell_type": "code",
   "execution_count": 56,
   "metadata": {},
   "outputs": [
    {
     "name": "stdout",
     "output_type": "stream",
     "text": [
      "8 way evaluation: \t Ttest_relResult(statistic=-2.8671927813099716, pvalue=0.04559744218732204)\n",
      "2 way evaluation: \t Ttest_relResult(statistic=-4.3525927035900045, pvalue=0.012132380165469952)\n",
      "Problem-Treatment: \t Ttest_relResult(statistic=-2.230820137948522, pvalue=0.08952934092768221)\n",
      "Problem-Test: \t\t Ttest_relResult(statistic=-1.6769359667889971, pvalue=0.16886089824050415)\n",
      "Problem-Problem: \t\t Ttest_relResult(statistic=-1.1403466985775454, pvalue=0.31778510918877684)\n"
     ]
    }
   ],
   "source": [
    "paired_ttest(baseline, elmo_model)"
   ]
  },
  {
   "cell_type": "code",
   "execution_count": 57,
   "metadata": {},
   "outputs": [],
   "source": [
    "# elmo_model_general_big = [(75.32, 90.5, 72.43, 84.05, 62.2), (75.41, 90.31, 65.25, 85.71, 67.89), \n",
    "#                           (74.58, 90.03, 67.5, 83.12, 66.99), (72.68, 90.52, 61.22, 84.8, 64.0), \n",
    "#                           (73.52, 88.66, 69.02, 83.84, 60.44)]\n",
    "# # model ID 750a3dd2-6719-43f5-ad01-12c234b4fda5 \n",
    "# # 74.30 +- 1.06 90.00 +- 0.69 67.08 +- 3.75 84.30 +- 0.88"
   ]
  },
  {
   "cell_type": "markdown",
   "metadata": {},
   "source": [
    "### Additional Experiments for i2b2"
   ]
  },
  {
   "cell_type": "code",
   "execution_count": 58,
   "metadata": {},
   "outputs": [],
   "source": [
    "entity_blinding_elmo = [(76.16, 90.24, 75.95, 82.05, 65.74), (77.29, 89.86, 73.21, 85.71, 66.67), \n",
    "                        (79.58, 90.93, 76.19, 86.22, 71.17), (80.19, 91.49, 77.92, 85.57, 73.21), \n",
    "                        (77.21, 89.43, 75.32, 84.03, 66.67)]\n",
    "#model ID 4f446314-3da7-43fd-bc98-d1c0507098bd\n",
    "# 78.09 +- 1.53 90.39 +- 0.74 75.72 +- 1.52 84.72 +- 1.52\n",
    "# this is with PubMed elmo"
   ]
  },
  {
   "cell_type": "code",
   "execution_count": 59,
   "metadata": {},
   "outputs": [
    {
     "name": "stdout",
     "output_type": "stream",
     "text": [
      "8 way evaluation: \t Ttest_relResult(statistic=-4.980791880277357, pvalue=0.007593071152068755)\n",
      "2 way evaluation: \t Ttest_relResult(statistic=-9.004447669494143, pvalue=0.000842231908411808)\n",
      "Problem-Treatment: \t Ttest_relResult(statistic=-5.3236317811298095, pvalue=0.005990888894403936)\n",
      "Problem-Test: \t\t Ttest_relResult(statistic=-0.8692128212647944, pvalue=0.4337775370304334)\n",
      "Problem-Problem: \t\t Ttest_relResult(statistic=-4.189678663555249, pvalue=0.01381009338666733)\n"
     ]
    }
   ],
   "source": [
    "paired_ttest(baseline, entity_blinding_elmo)"
   ]
  },
  {
   "cell_type": "code",
   "execution_count": 60,
   "metadata": {},
   "outputs": [],
   "source": [
    "#entity_blinding_piecewise_pool_elmo = currently running on night\n",
    "# this is with PubMed elmo"
   ]
  },
  {
   "cell_type": "code",
   "execution_count": 61,
   "metadata": {},
   "outputs": [],
   "source": [
    "entity_blinding_piecewise_pool = [(76.23, 90.24, 76.73, 81.41, 66.67), (78.66, 90.37, 77.12, 85.57, 68.12), \n",
    "                                  (80.56, 91.18, 79.49, 85.43, 72.89), (78.87, 90.65, 79.31, 85.35, 66.96), \n",
    "                                  (77.38, 89.68, 74.4, 85.29, 66.37)]\n",
    "#model ID 03b9fe97-5692-47de-95b4-11afe90114ad \n",
    "# 78.34 +- 1.46 90.42 +- 0.49 77.41 +- 1.87 84.61 +- 1.60"
   ]
  },
  {
   "cell_type": "code",
   "execution_count": 62,
   "metadata": {},
   "outputs": [
    {
     "name": "stdout",
     "output_type": "stream",
     "text": [
      "8 way evaluation: \t Ttest_relResult(statistic=-8.335761145670075, pvalue=0.0011319052417605674)\n",
      "2 way evaluation: \t Ttest_relResult(statistic=-1.7236253423919017, pvalue=0.15987034722706922)\n",
      "Problem-Treatment: \t Ttest_relResult(statistic=-6.271612861804903, pvalue=0.003299055738213288)\n",
      "Problem-Test: \t\t Ttest_relResult(statistic=-2.0875455386405806, pvalue=0.10512196719245596)\n",
      "Problem-Problem: \t\t Ttest_relResult(statistic=-2.5911261726357604, pvalue=0.06061192837314994)\n"
     ]
    }
   ],
   "source": [
    "paired_ttest(piecewise_model, entity_blinding_piecewise_pool)"
   ]
  },
  {
   "cell_type": "markdown",
   "metadata": {},
   "source": [
    "Entity Blinding and piecewise pooling is better as compared to just using piecewise pooling"
   ]
  },
  {
   "cell_type": "code",
   "execution_count": 63,
   "metadata": {},
   "outputs": [],
   "source": [
    "piecewise_pool_elmo = [(75.14, 90.37, 71.21, 82.53, 66.02), (77.23, 91.26, 70.68, 85.14, 70.32), \n",
    "                       (77.14, 90.86, 72.73, 83.8, 70.14), (77.27, 91.93, 71.26, 87.23, 66.67), \n",
    "                       (72.77, 88.54, 67.15, 84.71, 58.18)]\n",
    "\n",
    "# model ID 0b105264-9ef7-4266-a7e5-f53d1d7d1099\n",
    "# 75.91 +- 1.76 90.59 +- 1.15 70.61 +- 1.86 84.68 +- 1.56 "
   ]
  },
  {
   "cell_type": "code",
   "execution_count": 65,
   "metadata": {},
   "outputs": [
    {
     "name": "stdout",
     "output_type": "stream",
     "text": [
      "8 way evaluation: \t Ttest_relResult(statistic=-2.4157075634027043, pvalue=0.07310171269959191)\n",
      "2 way evaluation: \t Ttest_relResult(statistic=-2.021398875151308, pvalue=0.11331701471364856)\n",
      "Problem-Treatment: \t Ttest_relResult(statistic=-1.3302796245599389, pvalue=0.2542031569359235)\n",
      "Problem-Test: \t\t Ttest_relResult(statistic=-1.686075435498939, pvalue=0.16706001251097224)\n",
      "Problem-Problem: \t\t Ttest_relResult(statistic=-1.4227224154006555, pvalue=0.22789540481174678)\n"
     ]
    }
   ],
   "source": [
    "paired_ttest(piecewise_model, piecewise_pool_elmo)"
   ]
  },
  {
   "cell_type": "markdown",
   "metadata": {},
   "source": [
    "piecewise pool model is better for i2b2\n",
    "elmo model does not seem statistically significantly differnet than the baseline model, but the above is with a pickle splitting seed of 2 rather than 5 which is the default. "
   ]
  },
  {
   "cell_type": "markdown",
   "metadata": {},
   "source": [
    "Test score results for the above are (all model IDs the shared NFS folder): (border size -1) \n",
    "\n",
    "```(59.75, 83.17, 52.42, 70.91, 54.75)``` for baseline model with ID b960aa6a-1ff1-4c76-897a-4b1d289f86eb\n",
    "\n",
    "```(60.85, 83.69, 52.34, 72.72, 57.08)``` for piecewise pool model with model ID c1a272c2-0268-4641-bb7d-be7e32d3b836\n",
    "\n",
    "```(63.18, 84.54, 54.73, 74.89, 59.55)``` for elmo model with model ID 2ef144cd-0d7d-4b01-942f-7b65380f9490"
   ]
  },
  {
   "cell_type": "code",
   "execution_count": 46,
   "metadata": {},
   "outputs": [],
   "source": [
    "# Test score results for the above are (all model IDs the shared NFS folder): (with border size 50)\n",
    "\n",
    "# ```(62.83, 86.55, 50.1, 78.48, 47.64)``` for baseline model with ID 7789e891-fb56-433f-9e4c-006d81a89802\n",
    "\n",
    "# ```(66.73, 88.08, 54.74, 81.24, 51.28)``` for elmo model with model ID 63f1e537-da50-495c-be8f-fabd209a058c\n",
    "\n",
    "# ```(64.67, 87.07, 53.88, 79.52, 47.58)``` for piecewise pool model with model ID 15344c2c-1f2a-4420-9000-83c2be452129"
   ]
  },
  {
   "cell_type": "markdown",
   "metadata": {},
   "source": [
    "### Additional experiments"
   ]
  },
  {
   "cell_type": "markdown",
   "metadata": {},
   "source": [
    "`(70.46, 86.17, 61.92, 78.32, 71.67)` for the elmo model and entity blinding with ID 1df015ba-d906-42c0-b22a-1db930cfc9d6\n",
    "\n",
    "`(70.62, 86.14, 60.95, 78.67, 73.94)` for the piecewise pool model and entity blinding with elmo and ID is d0b840dc-fcab-4144-9714-37e82f2b95ec\n",
    "\n",
    "`(69.73, 85.44, 60.03, 77.19, 73.9)` for the entity blinding and piecewise pool model with ID b9bc6c62-5ca8-4aa5-98e8-61eb3536209c\n",
    "\n",
    "`(63.19, 84.92, 54.13, 74.81, 61.66)` for the piecewise pool model and elmo with ID b6a9db36-b334-41b0-a103-ee01cde0f34c"
   ]
  },
  {
   "cell_type": "markdown",
   "metadata": {},
   "source": [
    "`(56.79, 81.91, 48.56, 69.52, 52.16)` for the simple bert appending (to the fixed size sentence rep) with model ID 1458f1db-0290-4d8e-97e7-d5c298cfb683 "
   ]
  },
  {
   "cell_type": "code",
   "execution_count": 47,
   "metadata": {},
   "outputs": [],
   "source": [
    "# with border size 50\n",
    "# `(73.03, 88.79, 64.25, 84.19, 59.2)` for the elmo model and entity blinding with ID 63d9fda1-2931-4dec-b7e9-cfd56cae58e8\n",
    "\n",
    "# `(73.38, 89.0, 64.75, 84.78, 58.5)` for the piecewise pool model and entity blinding with elmo and ID is eb55046d-7bdd-4fc7-9f0c-c40c9808e8a6\n",
    "\n",
    "# `(72.75, 88.17, 65.95, 83.13, 58.59)` for the entity blinding and piecewise pool model with ID 7c46e59a-e335-44c5-90c3-ce4782ab2f66\n",
    "\n",
    "# `(67.01, 88.05, 55.66, 81.75, 50.25)` for the piecewise pool model and elmo with ID 1e76f364-8509-4106-8280-6b862b920e70"
   ]
  },
  {
   "cell_type": "code",
   "execution_count": 48,
   "metadata": {},
   "outputs": [],
   "source": [
    "# border size 50\n",
    "# Elmo model with the embeddings of the large model returns a result of `(65.05, 87.62, 51.74, 80.6, 48.43)` with model ID 77cea5cb-ab0c-482d-b9f9-762b0eb1ee28"
   ]
  },
  {
   "cell_type": "code",
   "execution_count": 1,
   "metadata": {},
   "outputs": [],
   "source": [
    "# ```(64.8, 87.02, 55.43, 78.23, 47.29)``` for elmo model with model ID fd25ca11-27fc-4b89-816e-22867aa586a6 for the old elmo model"
   ]
  }
 ],
 "metadata": {
  "kernelspec": {
   "display_name": "Python 3",
   "language": "python",
   "name": "python3"
  },
  "language_info": {
   "codemirror_mode": {
    "name": "ipython",
    "version": 3
   },
   "file_extension": ".py",
   "mimetype": "text/x-python",
   "name": "python",
   "nbconvert_exporter": "python",
   "pygments_lexer": "ipython3",
   "version": "3.6.6"
  }
 },
 "nbformat": 4,
 "nbformat_minor": 2
}
