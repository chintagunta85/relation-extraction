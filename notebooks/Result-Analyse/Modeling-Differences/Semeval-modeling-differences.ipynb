{
 "cells": [
  {
   "cell_type": "markdown",
   "metadata": {},
   "source": [
    "# Differences that modeling changes cause to the baseline model in Semeval 2010 data"
   ]
  },
  {
   "cell_type": "markdown",
   "metadata": {},
   "source": [
    "for reference, command that was run within scripts/ was ```CUDA_VISIBLE_DEVICES=<device_no> python main.py --<cross_validate/use_test> --dataset=semeval2010 --preprocessing_type=<entity_blinding/punct_digit/punct_stop_digit>```\n",
    "Things that can be changed: --use_elmo etc"
   ]
  },
  {
   "cell_type": "code",
   "execution_count": 4,
   "metadata": {},
   "outputs": [],
   "source": [
    "from scipy.stats import ttest_rel"
   ]
  },
  {
   "cell_type": "markdown",
   "metadata": {},
   "source": [
    "## First compare the cross validated score differences"
   ]
  },
  {
   "cell_type": "code",
   "execution_count": 5,
   "metadata": {},
   "outputs": [],
   "source": [
    "baseline_test = 81.55 # Model ID 967c88e8-18c2-4a84-b73d-23c6bb33efd7 on harrison"
   ]
  },
  {
   "cell_type": "code",
   "execution_count": 6,
   "metadata": {},
   "outputs": [],
   "source": [
    "baseline = [80.54, 80.2, 79.25, 81.08, 80.69, 79.11, 80.75, 82.04, 80.78, 80.73]\n",
    "# model ID 0b8525cc-7e0c-4afe-b952-c2e7636d61bd on harrison\n",
    "# 80.52 +- 0.81"
   ]
  },
  {
   "cell_type": "code",
   "execution_count": 12,
   "metadata": {},
   "outputs": [],
   "source": [
    "\n",
    "\n",
    "# below is the old elmo model from the default Elmo embedder\n",
    "# elmo_model = [83.35, 83.57, 81.03, 81.08, 83.23, 82.9, 81.49, 83.98, 83.16, 82.76]\n",
    "\n",
    "#model ID 517503af-b751-4bf0-b30a-895e8b0a43e6\n",
    "# 82.66 +- 1.01\n",
    "# currently stored on nightingale models_to_keep"
   ]
  },
  {
   "cell_type": "code",
   "execution_count": 13,
   "metadata": {},
   "outputs": [],
   "source": [
    "piecewise_pool = [80.75, 79.0, 78.92, 79.24, 80.94, 80.04, 80.51, 80.76, 79.92, 81.64]\n",
    "# model ID d8ac17e6-2343-4316-a8e0-bd952bc95093\n",
    "# 80.17 +- 0.86"
   ]
  },
  {
   "cell_type": "code",
   "execution_count": 14,
   "metadata": {},
   "outputs": [
    {
     "data": {
      "text/plain": [
       "Ttest_relResult(statistic=1.1586542818479413, pvalue=0.27641599340766504)"
      ]
     },
     "execution_count": 14,
     "metadata": {},
     "output_type": "execute_result"
    }
   ],
   "source": [
    "ttest_rel(baseline, piecewise_pool)"
   ]
  },
  {
   "cell_type": "code",
   "execution_count": 15,
   "metadata": {},
   "outputs": [
    {
     "data": {
      "text/plain": [
       "Ttest_relResult(statistic=-5.949313400826616, pvalue=0.00021552280327264605)"
      ]
     },
     "execution_count": 15,
     "metadata": {},
     "output_type": "execute_result"
    }
   ],
   "source": [
    "ttest_rel(baseline, elmo_model)"
   ]
  },
  {
   "cell_type": "markdown",
   "metadata": {},
   "source": [
    "piecewise pooling does not affect the semeval model, but elmo significantly helps"
   ]
  },
  {
   "cell_type": "markdown",
   "metadata": {},
   "source": [
    "Test score results for the above are (all model IDs on harrison):\n",
    "\n",
    "```81.55``` for baseline model with ID 967c88e8-18c2-4a84-b73d-23c6bb33efd7\n",
    "\n",
    "```85.89``` for elmo model ID e66bbdaf-4f38-401b-9288-1138e942bcef\n",
    "\n",
    "```81.59``` for piecewise pool model ID 04c66a0d-137a-4544-ba0f-7b78cb8b5c08"
   ]
  },
  {
   "cell_type": "code",
   "execution_count": 1,
   "metadata": {},
   "outputs": [],
   "source": [
    "# ```83.26``` for elmo model ID 48bd56c1-2e8f-4241-b120-a24918978f18 for the old elmo model"
   ]
  },
  {
   "cell_type": "code",
   "execution_count": null,
   "metadata": {},
   "outputs": [],
   "source": []
  }
 ],
 "metadata": {
  "kernelspec": {
   "display_name": "Python 3",
   "language": "python",
   "name": "python3"
  },
  "language_info": {
   "codemirror_mode": {
    "name": "ipython",
    "version": 3
   },
   "file_extension": ".py",
   "mimetype": "text/x-python",
   "name": "python",
   "nbconvert_exporter": "python",
   "pygments_lexer": "ipython3",
   "version": "3.6.6"
  }
 },
 "nbformat": 4,
 "nbformat_minor": 2
}
