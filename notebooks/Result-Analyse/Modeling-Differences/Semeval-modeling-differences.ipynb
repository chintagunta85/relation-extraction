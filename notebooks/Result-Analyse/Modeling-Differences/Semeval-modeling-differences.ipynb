{
 "cells": [
  {
   "cell_type": "markdown",
   "metadata": {},
   "source": [
    "# Differences that modeling changes cause to the baseline model in Semeval 2010 data"
   ]
  },
  {
   "cell_type": "markdown",
   "metadata": {},
   "source": [
    "for reference, command that was run within scripts/ was ```CUDA_VISIBLE_DEVICES=<device_no> python main.py --<cross_validate/use_test> --dataset=semeval2010 --preprocessing_type=<entity_blinding/punct_digit/punct_stop_digit>```\n",
    "Things that can be changed: --use_elmo etc"
   ]
  },
  {
   "cell_type": "code",
   "execution_count": 1,
   "metadata": {},
   "outputs": [],
   "source": [
    "from scipy.stats import ttest_rel"
   ]
  },
  {
   "cell_type": "markdown",
   "metadata": {},
   "source": [
    "## First compare the cross validated score differences"
   ]
  },
  {
   "cell_type": "code",
   "execution_count": 8,
   "metadata": {},
   "outputs": [],
   "source": [
    "baseline_test = 81.55 # Model ID 967c88e8-18c2-4a84-b73d-23c6bb33efd7 on harrison"
   ]
  },
  {
   "cell_type": "code",
   "execution_count": 9,
   "metadata": {},
   "outputs": [],
   "source": [
    "# # this is are all results on the evaluation fold of the pickled files\n",
    "baseline = [81.66, 82.26, 80.12, 78.82, 79.23, 80.74, 79.56, 81.45, 82.99, 81.63]\n",
    "# model ID ade5ce18-2eb0-4d2e-a04e-c727a09e5ef0\n",
    "# 80.85 +- 1.31\n",
    "\n",
    "# baseline = [80.54, 80.2, 79.25, 81.08, 80.69, 79.11, 80.75, 82.04, 80.78, 80.73]\n",
    "# # model ID 0b8525cc-7e0c-4afe-b952-c2e7636d61bd on harrison\n",
    "# # 80.52 +- 0.81"
   ]
  },
  {
   "cell_type": "code",
   "execution_count": 10,
   "metadata": {},
   "outputs": [],
   "source": [
    "elmo_model = [83.15, 86.08, 85.13, 85.13, 84.48, 83.47, 83.67, 85.69, 86.55, 84.58]\n",
    "# model ID f2580bdf-813b-49ac-be9c-9f37f0ccea37\n",
    "# 84.79 +- 1.08\n",
    "\n",
    "# elmo_model = [85.13, 84.29, 83.92, 84.04, 83.97, 83.89, 85.58, 86.46, 84.93, 84.01]\n",
    "# #model ID 8584a803-5fb0-48f6-81d4-e55a123bf870\n",
    "# # 84.62 +- 0.83\n",
    "\n",
    "# # below is the old elmo model from the default Elmo embedder\n",
    "# # elmo_model = [83.35, 83.57, 81.03, 81.08, 83.23, 82.9, 81.49, 83.98, 83.16, 82.76]\n",
    "\n",
    "# #model ID 517503af-b751-4bf0-b30a-895e8b0a43e6\n",
    "# # 82.66 +- 1.01\n",
    "# # currently stored on nightingale models_to_keep"
   ]
  },
  {
   "cell_type": "code",
   "execution_count": 11,
   "metadata": {},
   "outputs": [],
   "source": [
    "# now we are running on cross_validate_report\n",
    "piecewise_pool = [80.91, 81.74, 79.31, 78.71, 79.7, 80.98, 80.44, 80.89, 82.06, 80.79]\n",
    "# model ID 5e9d51c6-bec2-44c9-a75f-baa3609404be\n",
    "# 80.55 +- 0.99\n",
    "\n",
    "# piecewise_pool = [80.75, 79.0, 78.92, 79.24, 80.94, 80.04, 80.51, 80.76, 79.92, 81.64]\n",
    "# # model ID d8ac17e6-2343-4316-a8e0-bd952bc95093\n",
    "# # 80.17 +- 0.86"
   ]
  },
  {
   "cell_type": "code",
   "execution_count": 12,
   "metadata": {},
   "outputs": [],
   "source": [
    "bert_CLS = [81.36, 82.16, 80.03, 78.88, 79.8, 79.85, 81.03, 80.45, 82.82, 81.94]\n",
    "# model ID 37a68c97-5e1f-4464-8dd4-804226cba140\n",
    "# 80.83 +- 1.18"
   ]
  },
  {
   "cell_type": "code",
   "execution_count": 13,
   "metadata": {},
   "outputs": [],
   "source": [
    "bert_tokens = [85.16, 85.98, 85.38, 85.57, 85.69, 84.1, 85.18, 85.7, 87.6, 85.92]\n",
    "# model ID 8c4bde40-8fe2-48ea-b4af-c9a6ef12d2ff\n",
    "# 85.63 +- 0.83"
   ]
  },
  {
   "cell_type": "code",
   "execution_count": 14,
   "metadata": {},
   "outputs": [
    {
     "data": {
      "text/plain": [
       "Ttest_relResult(statistic=1.469166505958706, pvalue=0.17585441328154192)"
      ]
     },
     "execution_count": 14,
     "metadata": {},
     "output_type": "execute_result"
    }
   ],
   "source": [
    "ttest_rel(baseline, piecewise_pool)"
   ]
  },
  {
   "cell_type": "code",
   "execution_count": 15,
   "metadata": {},
   "outputs": [
    {
     "data": {
      "text/plain": [
       "Ttest_relResult(statistic=-9.028202838598334, pvalue=8.322232600635909e-06)"
      ]
     },
     "execution_count": 15,
     "metadata": {},
     "output_type": "execute_result"
    }
   ],
   "source": [
    "ttest_rel(baseline, elmo_model)"
   ]
  },
  {
   "cell_type": "code",
   "execution_count": 16,
   "metadata": {},
   "outputs": [
    {
     "data": {
      "text/plain": [
       "Ttest_relResult(statistic=0.06252215605019036, pvalue=0.9515135387052529)"
      ]
     },
     "execution_count": 16,
     "metadata": {},
     "output_type": "execute_result"
    }
   ],
   "source": [
    "ttest_rel(baseline, bert_CLS)"
   ]
  },
  {
   "cell_type": "code",
   "execution_count": 17,
   "metadata": {},
   "outputs": [
    {
     "data": {
      "text/plain": [
       "Ttest_relResult(statistic=-12.598002594044047, pvalue=5.083009974656898e-07)"
      ]
     },
     "execution_count": 17,
     "metadata": {},
     "output_type": "execute_result"
    }
   ],
   "source": [
    "ttest_rel(baseline, bert_tokens)"
   ]
  },
  {
   "cell_type": "code",
   "execution_count": 18,
   "metadata": {},
   "outputs": [
    {
     "data": {
      "text/plain": [
       "Ttest_relResult(statistic=-3.7879616876643905, pvalue=0.0042960945958889895)"
      ]
     },
     "execution_count": 18,
     "metadata": {},
     "output_type": "execute_result"
    }
   ],
   "source": [
    "ttest_rel(elmo_model, bert_tokens)"
   ]
  },
  {
   "cell_type": "markdown",
   "metadata": {},
   "source": [
    "piecewise pooling does not affect the semeval model, but elmo significantly helps"
   ]
  },
  {
   "cell_type": "markdown",
   "metadata": {},
   "source": [
    "Test score results for the above are (all model IDs on harrison):\n",
    "\n",
    "```81.55``` for baseline model with ID 967c88e8-18c2-4a84-b73d-23c6bb33efd7\n",
    "\n",
    "```85.89``` for elmo model ID e66bbdaf-4f38-401b-9288-1138e942bcef\n",
    "\n",
    "```81.59``` for piecewise pool model ID 04c66a0d-137a-4544-ba0f-7b78cb8b5c08"
   ]
  },
  {
   "cell_type": "code",
   "execution_count": 1,
   "metadata": {},
   "outputs": [],
   "source": [
    "# ```83.26``` for elmo model ID 48bd56c1-2e8f-4241-b120-a24918978f18 for the old elmo model"
   ]
  },
  {
   "cell_type": "markdown",
   "metadata": {},
   "source": [
    "(on top of the baseline model)\n",
    "\n",
    "`82.42` for bert model with CLS model ID 3e8a13c3-1ccd-4ecb-a0cd-61ce5d962258\n",
    "\n",
    "`85.67` for bert model with token level embeddings with model ID fe7ac452-be1f-4042-a257-fffa56e5af14"
   ]
  },
  {
   "cell_type": "code",
   "execution_count": null,
   "metadata": {},
   "outputs": [],
   "source": []
  }
 ],
 "metadata": {
  "kernelspec": {
   "display_name": "Python 3",
   "language": "python",
   "name": "python3"
  },
  "language_info": {
   "codemirror_mode": {
    "name": "ipython",
    "version": 3
   },
   "file_extension": ".py",
   "mimetype": "text/x-python",
   "name": "python",
   "nbconvert_exporter": "python",
   "pygments_lexer": "ipython3",
   "version": "3.6.6"
  }
 },
 "nbformat": 4,
 "nbformat_minor": 2
}
