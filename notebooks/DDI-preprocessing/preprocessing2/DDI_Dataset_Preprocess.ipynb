{
 "cells": [
  {
   "cell_type": "code",
   "execution_count": 62,
   "metadata": {},
   "outputs": [
    {
     "name": "stdout",
     "output_type": "stream",
     "text": [
      "The autoreload extension is already loaded. To reload it, use:\n",
      "  %reload_ext autoreload\n"
     ]
    }
   ],
   "source": [
    "%load_ext autoreload"
   ]
  },
  {
   "cell_type": "code",
   "execution_count": 91,
   "metadata": {},
   "outputs": [],
   "source": [
    "%autoreload\n",
    "\n",
    "import os, random, pandas as pd, numpy as np\n",
    "import pickle\n",
    "import sys\n",
    "import ast\n",
    "sys.path.append('../../..')\n",
    "# sys.path.append('../ddi_preprocess')\n",
    "from relation_extraction.data import utils\n",
    "import nltk\n",
    "import itertools\n",
    "from ast import literal_eval # to convert the string tuple form to an actual tuple\n",
    "RESOURCE_PATH = \"/data/medg/misc/semeval_2010/medical-data/DDICorpus\"\n",
    "def res(path): return os.path.join(RESOURCE_PATH, path)\n",
    "from relation_extraction.data.ddi_preprocess.preprocess2 import get_dataset_dataframe\n",
    "from relation_extraction.data.ddi_preprocess.preprocess2 import tokenize"
   ]
  },
  {
   "cell_type": "code",
   "execution_count": 92,
   "metadata": {},
   "outputs": [],
   "source": [
    "#df = get_dataset_dataframe(res('Train/DrugBank/'))\n",
    "#df = get_dataset_dataframe(res('Test/test_for_ddi_extraction_task/DrugBank/'))\n",
    "#df = get_dataset_dataframe(res('Train/MedLine/'))\n",
    "#df = get_dataset_dataframe(res('Test/test_for_ddi_extraction_task/MedLine/'))"
   ]
  },
  {
   "cell_type": "code",
   "execution_count": 93,
   "metadata": {},
   "outputs": [
    {
     "name": "stderr",
     "output_type": "stream",
     "text": [
      "  2%|▏         | 14/569 [00:00<00:04, 131.87it/s]"
     ]
    },
    {
     "name": "stdout",
     "output_type": "stream",
     "text": [
      "total_files_to_read: 569  from dir:  /data/medg/misc/semeval_2010/medical-data/DDICorpus/Train/DrugBank/\n"
     ]
    },
    {
     "name": "stderr",
     "output_type": "stream",
     "text": [
      "100%|██████████| 569/569 [00:05<00:00, 108.71it/s]\n"
     ]
    }
   ],
   "source": [
    "df_train_drugbank = get_dataset_dataframe(res('Train/DrugBank/'), relation_extraction=True)"
   ]
  },
  {
   "cell_type": "code",
   "execution_count": 97,
   "metadata": {},
   "outputs": [
    {
     "name": "stderr",
     "output_type": "stream",
     "text": [
      " 11%|█         | 15/142 [00:00<00:00, 142.70it/s]"
     ]
    },
    {
     "name": "stdout",
     "output_type": "stream",
     "text": [
      "total_files_to_read: 142  from dir:  /data/medg/misc/semeval_2010/medical-data/DDICorpus/Train/MedLine/\n"
     ]
    },
    {
     "name": "stderr",
     "output_type": "stream",
     "text": [
      "100%|██████████| 142/142 [00:00<00:00, 150.35it/s]\n"
     ]
    }
   ],
   "source": [
    "df_train_medline = get_dataset_dataframe(res('Train/MedLine/'), relation_extraction=True)"
   ]
  },
  {
   "cell_type": "code",
   "execution_count": 95,
   "metadata": {},
   "outputs": [
    {
     "name": "stderr",
     "output_type": "stream",
     "text": [
      "  8%|▊         | 12/158 [00:00<00:01, 90.25it/s]"
     ]
    },
    {
     "name": "stdout",
     "output_type": "stream",
     "text": [
      "total_files_to_read: 158  from dir:  /data/medg/misc/semeval_2010/medical-data/DDICorpus/Test/test_for_ddi_extraction_task/DrugBank/\n"
     ]
    },
    {
     "name": "stderr",
     "output_type": "stream",
     "text": [
      "100%|██████████| 158/158 [00:01<00:00, 118.14it/s]\n"
     ]
    }
   ],
   "source": [
    "df_test_drugbank = get_dataset_dataframe(res('Test/test_for_ddi_extraction_task/DrugBank/'))"
   ]
  },
  {
   "cell_type": "code",
   "execution_count": 96,
   "metadata": {},
   "outputs": [
    {
     "name": "stderr",
     "output_type": "stream",
     "text": [
      "100%|██████████| 33/33 [00:00<00:00, 172.88it/s]"
     ]
    },
    {
     "name": "stdout",
     "output_type": "stream",
     "text": [
      "total_files_to_read: 33  from dir:  /data/medg/misc/semeval_2010/medical-data/DDICorpus/Test/test_for_ddi_extraction_task/MedLine/\n"
     ]
    },
    {
     "name": "stderr",
     "output_type": "stream",
     "text": [
      "\n"
     ]
    }
   ],
   "source": [
    "df_test_medline = get_dataset_dataframe(res('Test/test_for_ddi_extraction_task/MedLine/'))"
   ]
  },
  {
   "cell_type": "markdown",
   "metadata": {},
   "source": [
    "## Check for empty values"
   ]
  },
  {
   "cell_type": "code",
   "execution_count": 102,
   "metadata": {},
   "outputs": [],
   "source": [
    "def get_empty_entity_rows(df):\n",
    "    empty_entity_rows = []\n",
    "    def find_empty_entity_number(row):\n",
    "        entity_number = row.entity_number\n",
    "        e1 = entity_number[0]\n",
    "        e2 = entity_number[1]\n",
    "        if not e1 or not e2:\n",
    "            empty_entity_rows.append(row.row_num)\n",
    "    temp_df = df.copy()\n",
    "    temp_df.insert(0, 'row_num', range(0, len(temp_df)))\n",
    "    temp_df.apply(find_empty_entity_number, axis=1)\n",
    "    return empty_entity_rows\n",
    "\n",
    "def get_empty_rows_array(empty_entity_rows, df):\n",
    "    empty_rows_array = []\n",
    "    for index in empty_entity_rows:\n",
    "        e1 = df.iloc[index].e1\n",
    "        e2 = df.iloc[index].e2\n",
    "        sentence_text = df.iloc[index].sentence_text\n",
    "        tokenized_sentence = df.iloc[index].tokenized_sentence\n",
    "        entity_number = df.iloc[index].entity_number\n",
    "        empty_rows_array.append([index, e1, e2, sentence_text, tokenized_sentence, entity_number])\n",
    "    new_df = pd.DataFrame(data=empty_rows_array,    # values\n",
    "             columns=['index_original', 'e1', 'e2', 'sentence_text', 'tokenized_sentence', 'entity_number'])\n",
    "    return empty_rows_array, new_df"
   ]
  },
  {
   "cell_type": "code",
   "execution_count": 103,
   "metadata": {},
   "outputs": [],
   "source": [
    "def get_empty_vals(df):\n",
    "    empty_entity_rows = get_empty_entity_rows(df)\n",
    "    empty_rows_array, new_df = get_empty_rows_array(empty_entity_rows, df)\n",
    "    return empty_rows_array, new_df"
   ]
  },
  {
   "cell_type": "code",
   "execution_count": 107,
   "metadata": {},
   "outputs": [
    {
     "data": {
      "text/plain": [
       "([], Empty DataFrame\n",
       " Columns: [index_original, e1, e2, sentence_text, tokenized_sentence, entity_number]\n",
       " Index: [])"
      ]
     },
     "execution_count": 107,
     "metadata": {},
     "output_type": "execute_result"
    }
   ],
   "source": [
    "get_empty_vals(df_test_medline)"
   ]
  },
  {
   "cell_type": "markdown",
   "metadata": {},
   "source": [
    "#### Now can write these into csv format"
   ]
  },
  {
   "cell_type": "code",
   "execution_count": 109,
   "metadata": {},
   "outputs": [],
   "source": [
    "df_train_drugbank.to_csv(res('pre-processed2/extraction/Train/DrugBank/train-drugbank_fulldrugblinding.csv'), encoding='utf-8', index=False)\n",
    "# this is only relevant to the non NER task\n",
    "df_test_drugbank.to_csv(res('pre-processed2/extraction/Test/DrugBank/test-drugbank_fulldrugblinding.csv'), encoding='utf-8', index=False)\n",
    "df_train_medline.to_csv(res('pre-processed2/extraction/Train/MedLine/train-medline_fulldrugblinding.csv'), encoding='utf-8', index=False)\n",
    "df_test_medline.to_csv(res('pre-processed2/extraction/Test/MedLine/test-medline_fulldrugblinding.csv'), encoding='utf-8', index=False)"
   ]
  },
  {
   "cell_type": "markdown",
   "metadata": {},
   "source": [
    "#### Write the files into .txt format"
   ]
  },
  {
   "cell_type": "markdown",
   "metadata": {},
   "source": [
    "In Train DrugBank, there is one sentence without a pair. Did ```find . -name \"*.xml\" | xargs grep \"Drug/Laboratory Test Interactions:\"``` for that"
   ]
  },
  {
   "cell_type": "code",
   "execution_count": null,
   "metadata": {},
   "outputs": [],
   "source": []
  }
 ],
 "metadata": {
  "kernelspec": {
   "display_name": "Python 3",
   "language": "python",
   "name": "python3"
  },
  "language_info": {
   "codemirror_mode": {
    "name": "ipython",
    "version": 3
   },
   "file_extension": ".py",
   "mimetype": "text/x-python",
   "name": "python",
   "nbconvert_exporter": "python",
   "pygments_lexer": "ipython3",
   "version": "3.6.6"
  }
 },
 "nbformat": 4,
 "nbformat_minor": 2
}
