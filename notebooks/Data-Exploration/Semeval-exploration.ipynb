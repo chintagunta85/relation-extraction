{
 "cells": [
  {
   "cell_type": "markdown",
   "metadata": {},
   "source": [
    "# Exploration of the semeval2010 data to make sure that concepts don't span multiple lines and if they do, print"
   ]
  },
  {
   "cell_type": "code",
   "execution_count": 1,
   "metadata": {},
   "outputs": [],
   "source": [
    "%load_ext autoreload"
   ]
  },
  {
   "cell_type": "code",
   "execution_count": 5,
   "metadata": {},
   "outputs": [],
   "source": [
    "%autoreload\n",
    "\n",
    "import os, random, pandas as pd, numpy as np\n",
    "import pickle\n",
    "import sys\n",
    "import glob\n",
    "from tqdm import tqdm\n",
    "import ast\n",
    "sys.path.append('../../')\n",
    "# sys.path.append('../ddi_preprocess')\n",
    "from relation_extraction.data import utils\n",
    "import nltk\n",
    "from collections import Counter\n",
    "import itertools\n",
    "from ast import literal_eval # to convert the string tuple form to an actual tuple\n",
    "RESOURCE_PATH = \"/data/medg/misc/geeticka/relation_extraction/semeval2010\"\n",
    "outdir = 'pre-processed/original/'\n",
    "def res(path): return os.path.join(RESOURCE_PATH, path)\n",
    "from relation_extraction.data.converters.converter_semeval2010 import get_dataset_dataframe, read_dataframe\n",
    "#outdir = 'pre-processed/original/'"
   ]
  },
  {
   "cell_type": "markdown",
   "metadata": {},
   "source": [
    "## Checking how much entity overlap exists between train and test"
   ]
  },
  {
   "cell_type": "code",
   "execution_count": 6,
   "metadata": {},
   "outputs": [],
   "source": [
    "df_train = read_dataframe(res(outdir + 'train_original.csv'))"
   ]
  },
  {
   "cell_type": "code",
   "execution_count": 7,
   "metadata": {},
   "outputs": [],
   "source": [
    "df_test = read_dataframe(res(outdir + 'test_original.csv'))"
   ]
  },
  {
   "cell_type": "markdown",
   "metadata": {},
   "source": [
    "### Getting the e1 and e2 as a tuple in a separate column"
   ]
  },
  {
   "cell_type": "code",
   "execution_count": 8,
   "metadata": {},
   "outputs": [],
   "source": [
    "def get_dict_with_df(df, dict_of_e1_e2):\n",
    "    def combine_e1_e2(row):\n",
    "        e1 = row.e1.lower()\n",
    "        e2 = row.e2.lower()\n",
    "        pair = (e1, e2)\n",
    "        return pair\n",
    "    df['e1_and_e2'] = df.apply(combine_e1_e2, axis=1)\n",
    "    unique_pairs = list(df['e1_and_e2'])\n",
    "\n",
    "    for pair in unique_pairs:\n",
    "        if pair in dict_of_e1_e2:\n",
    "            dict_of_e1_e2[pair] += 1\n",
    "        elif (pair[1], pair[0]) in dict_of_e1_e2:\n",
    "            dict_of_e1_e2[(pair[1], pair[0])] += 1\n",
    "        else:\n",
    "            dict_of_e1_e2[pair] += 1\n",
    "    return df, dict_of_e1_e2"
   ]
  },
  {
   "cell_type": "code",
   "execution_count": 9,
   "metadata": {},
   "outputs": [],
   "source": [
    "dict_of_e1_e2 = Counter()\n",
    "df_train, dict_of_e1_and_e2 = get_dict_with_df(df_train, dict_of_e1_e2)\n",
    "df_test, dict_of_e1_and_e2 = get_dict_with_df(df_test, dict_of_e1_e2)"
   ]
  },
  {
   "cell_type": "markdown",
   "metadata": {},
   "source": [
    "### Mapping the pairs to an index"
   ]
  },
  {
   "cell_type": "code",
   "execution_count": 10,
   "metadata": {},
   "outputs": [],
   "source": [
    "ls = dict_of_e1_e2.most_common()\n",
    "needed_dict = {w[0]: index for (index, w) in enumerate(ls)}\n",
    "\n",
    "def convert_pair_to_dict(row, needed_dict):\n",
    "    pair = row['e1_and_e2']\n",
    "    if pair in needed_dict:\n",
    "        pair_idx = needed_dict[pair]\n",
    "    elif (pair[1], pair[0]) in needed_dict:\n",
    "        pair_idx = needed_dict[(pair[1], pair[0])]\n",
    "    else:\n",
    "        print('This scenario should not have happened')\n",
    "    return pair_idx\n",
    "df_train['pair_map'] = df_train.apply(convert_pair_to_dict, args=(needed_dict,), axis=1)\n",
    "df_test['pair_map'] = df_test.apply(convert_pair_to_dict, args=(needed_dict,), axis=1)"
   ]
  },
  {
   "cell_type": "code",
   "execution_count": 11,
   "metadata": {},
   "outputs": [],
   "source": [
    "train_pair_maps = set(list(df_train['pair_map']))\n",
    "test_pair_maps = set(list(df_test['pair_map']))"
   ]
  },
  {
   "cell_type": "code",
   "execution_count": 12,
   "metadata": {},
   "outputs": [],
   "source": [
    "intersecting_pairs = train_pair_maps.intersection(test_pair_maps)"
   ]
  },
  {
   "cell_type": "code",
   "execution_count": 13,
   "metadata": {},
   "outputs": [
    {
     "data": {
      "text/plain": [
       "200"
      ]
     },
     "execution_count": 13,
     "metadata": {},
     "output_type": "execute_result"
    }
   ],
   "source": [
    "len(intersecting_pairs)"
   ]
  },
  {
   "cell_type": "code",
   "execution_count": 14,
   "metadata": {},
   "outputs": [
    {
     "data": {
      "text/plain": [
       "7643"
      ]
     },
     "execution_count": 14,
     "metadata": {},
     "output_type": "execute_result"
    }
   ],
   "source": [
    "len(train_pair_maps)"
   ]
  },
  {
   "cell_type": "code",
   "execution_count": 15,
   "metadata": {},
   "outputs": [
    {
     "data": {
      "text/plain": [
       "2671"
      ]
     },
     "execution_count": 15,
     "metadata": {},
     "output_type": "execute_result"
    }
   ],
   "source": [
    "len(test_pair_maps)"
   ]
  },
  {
   "cell_type": "markdown",
   "metadata": {},
   "source": [
    "Above means that out of unique pairs of train and test data, we have overlap of 200 pairs which consitutes 2.6% of train data and 7.4% of the test data (only in terms of unique pairs)"
   ]
  },
  {
   "cell_type": "markdown",
   "metadata": {},
   "source": [
    "## In terms of what the model sees we need to do an overlap calculation of overall data (without taking out uniques)"
   ]
  },
  {
   "cell_type": "code",
   "execution_count": 16,
   "metadata": {},
   "outputs": [],
   "source": [
    "train_overlaps = 0\n",
    "for index, row in df_train.iterrows():\n",
    "    if row['pair_map'] in intersecting_pairs:\n",
    "        train_overlaps += 1"
   ]
  },
  {
   "cell_type": "code",
   "execution_count": 17,
   "metadata": {},
   "outputs": [],
   "source": [
    "test_overlaps = 0\n",
    "for index, row in df_test.iterrows():\n",
    "    if row['pair_map'] in intersecting_pairs:\n",
    "        test_overlaps += 1"
   ]
  },
  {
   "cell_type": "code",
   "execution_count": 18,
   "metadata": {},
   "outputs": [
    {
     "data": {
      "text/plain": [
       "283"
      ]
     },
     "execution_count": 18,
     "metadata": {},
     "output_type": "execute_result"
    }
   ],
   "source": [
    "train_overlaps"
   ]
  },
  {
   "cell_type": "code",
   "execution_count": 19,
   "metadata": {},
   "outputs": [
    {
     "data": {
      "text/plain": [
       "229"
      ]
     },
     "execution_count": 19,
     "metadata": {},
     "output_type": "execute_result"
    }
   ],
   "source": [
    "test_overlaps"
   ]
  },
  {
   "cell_type": "markdown",
   "metadata": {},
   "source": [
    "### This means that the number of test examples that have overlaps from train are 8.5% of the test data. This is 3.7% of the examples from the training data. This might explain why concept blinding does not perform well because there isn't much overlap in the first place, compared to i2b2. "
   ]
  },
  {
   "cell_type": "markdown",
   "metadata": {},
   "source": [
    "## Get some statistics on the data"
   ]
  },
  {
   "cell_type": "code",
   "execution_count": 23,
   "metadata": {},
   "outputs": [],
   "source": [
    "# train_beth_relation_distr = df_train_beth.groupby(['relation_type']).count()[['original_sentence']]"
   ]
  },
  {
   "cell_type": "code",
   "execution_count": 24,
   "metadata": {},
   "outputs": [],
   "source": [
    "# train_partners_relation_distr = df_train_partners.groupby(['relation_type']).count()[['original_sentence']]"
   ]
  },
  {
   "cell_type": "code",
   "execution_count": 25,
   "metadata": {},
   "outputs": [],
   "source": [
    "# test_relation_distr = df_test.groupby(['relation_type']).count()[['original_sentence']]"
   ]
  },
  {
   "cell_type": "code",
   "execution_count": 20,
   "metadata": {},
   "outputs": [],
   "source": [
    "# train_beth_relation_distr + train_partners_relation_distr + test_relation_distr"
   ]
  },
  {
   "cell_type": "code",
   "execution_count": 21,
   "metadata": {},
   "outputs": [],
   "source": [
    "# train_beth_relation_distr"
   ]
  },
  {
   "cell_type": "code",
   "execution_count": 22,
   "metadata": {},
   "outputs": [],
   "source": [
    "# train_partners_relation_distr"
   ]
  },
  {
   "cell_type": "code",
   "execution_count": 23,
   "metadata": {},
   "outputs": [],
   "source": [
    "# train_beth_relation_distr + train_partners_relation_distr"
   ]
  },
  {
   "cell_type": "code",
   "execution_count": 24,
   "metadata": {},
   "outputs": [],
   "source": [
    "# test_relation_distr"
   ]
  },
  {
   "cell_type": "code",
   "execution_count": null,
   "metadata": {},
   "outputs": [],
   "source": []
  }
 ],
 "metadata": {
  "kernelspec": {
   "display_name": "Python 3",
   "language": "python",
   "name": "python3"
  },
  "language_info": {
   "codemirror_mode": {
    "name": "ipython",
    "version": 3
   },
   "file_extension": ".py",
   "mimetype": "text/x-python",
   "name": "python",
   "nbconvert_exporter": "python",
   "pygments_lexer": "ipython3",
   "version": "3.6.6"
  }
 },
 "nbformat": 4,
 "nbformat_minor": 2
}
