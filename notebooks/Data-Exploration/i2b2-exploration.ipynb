{
 "cells": [
  {
   "cell_type": "markdown",
   "metadata": {},
   "source": [
    "# Exploration of the i2b2 data to make sure that concepts don't span multiple lines and if they do, print"
   ]
  },
  {
   "cell_type": "code",
   "execution_count": 9,
   "metadata": {},
   "outputs": [
    {
     "name": "stdout",
     "output_type": "stream",
     "text": [
      "The autoreload extension is already loaded. To reload it, use:\n",
      "  %reload_ext autoreload\n"
     ]
    }
   ],
   "source": [
    "%load_ext autoreload"
   ]
  },
  {
   "cell_type": "code",
   "execution_count": 10,
   "metadata": {},
   "outputs": [],
   "source": [
    "%autoreload\n",
    "\n",
    "import os, random, pandas as pd, numpy as np\n",
    "import pickle\n",
    "import sys\n",
    "import glob\n",
    "from tqdm import tqdm\n",
    "import ast\n",
    "sys.path.append('../../')\n",
    "# sys.path.append('../ddi_preprocess')\n",
    "from relation_extraction.data import utils\n",
    "import nltk\n",
    "import itertools\n",
    "from ast import literal_eval # to convert the string tuple form to an actual tuple\n",
    "RESOURCE_PATH = \"/data/medg/misc/geeticka/relation_extraction/i2b2\"\n",
    "#outdir = 'pre-processed/original/'\n",
    "def res(path): return os.path.join(RESOURCE_PATH, path)"
   ]
  },
  {
   "cell_type": "markdown",
   "metadata": {},
   "source": [
    "## First look at training data from beth, then partners and then go through the test data"
   ]
  },
  {
   "cell_type": "code",
   "execution_count": 11,
   "metadata": {},
   "outputs": [],
   "source": [
    "beth_training_concepts = res('concept_assertion_relation_training_data/beth/concept/')"
   ]
  },
  {
   "cell_type": "code",
   "execution_count": 12,
   "metadata": {},
   "outputs": [],
   "source": [
    "partners_training_concepts = res('concept_assertion_relation_training_data/partners/concept/')"
   ]
  },
  {
   "cell_type": "code",
   "execution_count": 13,
   "metadata": {},
   "outputs": [],
   "source": [
    "test_concepts = res('reference_standard_for_test_data/concepts/')"
   ]
  },
  {
   "cell_type": "code",
   "execution_count": 14,
   "metadata": {},
   "outputs": [],
   "source": [
    "def find_span_multiple_lines(directory):\n",
    "    total_files_to_read = glob.glob(directory + '*.con')\n",
    "    if not total_files_to_read:\n",
    "        print(\"There are no files to read! Check your directory\")\n",
    "    for file in tqdm(total_files_to_read):\n",
    "        with open(file, 'r') as read_file:\n",
    "            for line in read_file:\n",
    "                line = line.strip()\n",
    "                first_part = line.split('||')[0]\n",
    "                pos1 = first_part.split(' ')[-2]\n",
    "                pos2 = first_part.split(' ')[-1]\n",
    "                line1 = pos1.split(':')[0]\n",
    "                line2 = pos2.split(':')[0]\n",
    "                if line1 != line2:\n",
    "                    print(\"Concept spans multiple lines\", line)"
   ]
  },
  {
   "cell_type": "code",
   "execution_count": 15,
   "metadata": {},
   "outputs": [
    {
     "name": "stderr",
     "output_type": "stream",
     "text": [
      "100%|██████████| 73/73 [00:00<00:00, 195.91it/s]\n"
     ]
    }
   ],
   "source": [
    "find_span_multiple_lines(beth_training_concepts)"
   ]
  },
  {
   "cell_type": "code",
   "execution_count": 16,
   "metadata": {},
   "outputs": [
    {
     "name": "stderr",
     "output_type": "stream",
     "text": [
      "100%|██████████| 97/97 [00:00<00:00, 203.45it/s]\n"
     ]
    }
   ],
   "source": [
    "find_span_multiple_lines(partners_training_concepts)"
   ]
  },
  {
   "cell_type": "code",
   "execution_count": 17,
   "metadata": {},
   "outputs": [
    {
     "name": "stderr",
     "output_type": "stream",
     "text": [
      "100%|██████████| 256/256 [00:01<00:00, 200.08it/s]\n"
     ]
    }
   ],
   "source": [
    "find_span_multiple_lines(test_concepts)"
   ]
  },
  {
   "cell_type": "markdown",
   "metadata": {},
   "source": [
    "Now, we have confirmed that no concept spans multiple lines. This makes the job easier. "
   ]
  }
 ],
 "metadata": {
  "kernelspec": {
   "display_name": "Python 3",
   "language": "python",
   "name": "python3"
  },
  "language_info": {
   "codemirror_mode": {
    "name": "ipython",
    "version": 3
   },
   "file_extension": ".py",
   "mimetype": "text/x-python",
   "name": "python",
   "nbconvert_exporter": "python",
   "pygments_lexer": "ipython3",
   "version": "3.6.6"
  }
 },
 "nbformat": 4,
 "nbformat_minor": 2
}
