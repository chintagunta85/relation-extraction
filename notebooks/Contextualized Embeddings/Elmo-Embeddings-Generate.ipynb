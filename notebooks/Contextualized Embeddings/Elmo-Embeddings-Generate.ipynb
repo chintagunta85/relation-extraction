{
 "cells": [
  {
   "cell_type": "code",
   "execution_count": 1,
   "metadata": {},
   "outputs": [],
   "source": [
    "%load_ext autoreload"
   ]
  },
  {
   "cell_type": "code",
   "execution_count": 49,
   "metadata": {},
   "outputs": [],
   "source": [
    "%autoreload\n",
    "\n",
    "from allennlp.commands.elmo import ElmoEmbedder\n",
    "import os\n",
    "from sys import path\n",
    "path.append('../..')\n",
    "from relation_extraction.data import utils\n",
    "import h5py\n",
    "import numpy as np\n",
    "dataset = 'i2b2' #TODO: update this\n",
    "data_path = '/data/medg/misc/geeticka/relation_extraction/' + dataset + '/'\n",
    "def res(path): return os.path.join(data_path, path)\n",
    "out_path = 'pre-processed/original/elmo/'"
   ]
  },
  {
   "cell_type": "code",
   "execution_count": 50,
   "metadata": {},
   "outputs": [],
   "source": [
    "if not os.path.exists(res(out_path)):\n",
    "    os.makedirs(res(out_path))\n",
    "if not os.path.exists(res(out_path + 'input-sentences')):\n",
    "    os.makedirs(res(out_path + 'input-sentences'))"
   ]
  },
  {
   "cell_type": "code",
   "execution_count": 53,
   "metadata": {},
   "outputs": [],
   "source": [
    "elmo = ElmoEmbedder()"
   ]
  },
  {
   "cell_type": "markdown",
   "metadata": {},
   "source": [
    "## Getting all of the ELMo layers"
   ]
  },
  {
   "cell_type": "code",
   "execution_count": 59,
   "metadata": {},
   "outputs": [],
   "source": [
    "border_sizes = [-1, 50, 1, 20]"
   ]
  },
  {
   "cell_type": "code",
   "execution_count": 60,
   "metadata": {},
   "outputs": [],
   "source": [
    "def get_sentences(filename, border_size):\n",
    "    data = open(res('pre-processed/original/' + filename))\n",
    "    data = utils.split_data_cut_sentence(data, border_size)\n",
    "    sentences = data[0]\n",
    "    return sentences"
   ]
  },
  {
   "cell_type": "code",
   "execution_count": 61,
   "metadata": {},
   "outputs": [],
   "source": [
    "def write_sentences_to_txt(sentences, filename):\n",
    "    with open(res(out_path + 'input-sentences/'+filename + '.txt'), 'w') as f:\n",
    "        for sentence in sentences:\n",
    "            sentence_string = \" \".join(sentence)\n",
    "            f.write(sentence_string + \"\\n\")"
   ]
  },
  {
   "cell_type": "code",
   "execution_count": 62,
   "metadata": {},
   "outputs": [],
   "source": [
    "def write_hdf5(filename):\n",
    "    with open(res(out_path + 'input-sentences/' + filename + '.txt')) as file:\n",
    "        elmo.embed_file(input_file=file, \n",
    "                        output_file_path = res(out_path + filename + '.hdf5'))"
   ]
  },
  {
   "cell_type": "code",
   "execution_count": null,
   "metadata": {},
   "outputs": [
    {
     "name": "stderr",
     "output_type": "stream",
     "text": [
      "7833it [15:48,  8.26it/s]\n",
      "14508it [27:16,  8.86it/s]\n",
      "7833it [15:02,  8.68it/s]\n",
      "14508it [29:00,  8.34it/s]\n",
      "6941it [10:59, 10.53it/s]"
     ]
    }
   ],
   "source": [
    "for border_size in border_sizes:\n",
    "    train_sentences = get_sentences('train_original.txt', border_size)\n",
    "    test_sentences = get_sentences('test_original.txt', border_size)\n",
    "    write_sentences_to_txt(train_sentences, 'train_original_border_' + str(border_size))\n",
    "    write_sentences_to_txt(test_sentences, 'test_original_border_' + str(border_size))\n",
    "    write_hdf5('train_original_border_' + str(border_size))\n",
    "    write_hdf5('test_original_border_' + str(border_size))"
   ]
  },
  {
   "cell_type": "code",
   "execution_count": null,
   "metadata": {},
   "outputs": [],
   "source": []
  }
 ],
 "metadata": {
  "kernelspec": {
   "display_name": "Python 3",
   "language": "python",
   "name": "python3"
  },
  "language_info": {
   "codemirror_mode": {
    "name": "ipython",
    "version": 3
   },
   "file_extension": ".py",
   "mimetype": "text/x-python",
   "name": "python",
   "nbconvert_exporter": "python",
   "pygments_lexer": "ipython3",
   "version": "3.6.6"
  }
 },
 "nbformat": 4,
 "nbformat_minor": 2
}
