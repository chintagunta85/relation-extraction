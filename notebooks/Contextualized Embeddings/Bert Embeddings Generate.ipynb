{
 "cells": [
  {
   "cell_type": "markdown",
   "metadata": {},
   "source": [
    "## Treat BERT as a contextualized embedding generator"
   ]
  },
  {
   "cell_type": "markdown",
   "metadata": {},
   "source": [
    "This notebook will get the necessary folders ready and generate the necessary text files for bert"
   ]
  },
  {
   "cell_type": "code",
   "execution_count": 187,
   "metadata": {},
   "outputs": [
    {
     "name": "stdout",
     "output_type": "stream",
     "text": [
      "The autoreload extension is already loaded. To reload it, use:\n",
      "  %reload_ext autoreload\n"
     ]
    }
   ],
   "source": [
    "%load_ext autoreload"
   ]
  },
  {
   "cell_type": "code",
   "execution_count": 188,
   "metadata": {},
   "outputs": [],
   "source": [
    "%autoreload\n",
    "\n",
    "import os\n",
    "from sys import path\n",
    "path.append('../..')\n",
    "from relation_extraction.data import utils\n",
    "# from bert import extract_features\n",
    "# from relation_extraction.data import utils\n",
    "# import h5py\n",
    "# import numpy as np\n",
    "# dataset = 'semeval2010' #TODO: update this\n",
    "preprocessing_type = 'entity_blinding' #TODO: update this; mostly we are only going to be using original\n",
    "# cuda_device=3 #cuda device for the elmo embeddings generator\n",
    "dataset = 'ddi'\n",
    "data_path = '/data/scratch-oc40/geeticka/data/relation_extraction/' + dataset + '/'\n",
    "def res(path): return os.path.join(data_path, path)\n",
    "out_path = 'pre-processed/'+ preprocessing_type +'/bert-CLS/'"
   ]
  },
  {
   "cell_type": "code",
   "execution_count": 189,
   "metadata": {},
   "outputs": [],
   "source": [
    "# if not os.path.exists(res(out_path)):\n",
    "#     os.makedirs(res(out_path))\n",
    "# if not os.path.exists(res(out_path + 'input-sentences')):\n",
    "#     os.makedirs(res(out_path + 'input-sentences'))"
   ]
  },
  {
   "cell_type": "code",
   "execution_count": 190,
   "metadata": {},
   "outputs": [],
   "source": [
    "border_sizes = [-1] # for i2b2"
   ]
  },
  {
   "cell_type": "code",
   "execution_count": 191,
   "metadata": {},
   "outputs": [],
   "source": [
    "def get_sentences(filename, border_size):\n",
    "    data = open(res('pre-processed/'+ preprocessing_type+'/' + filename))\n",
    "    data = utils.split_data_cut_sentence(data, border_size)\n",
    "    sentences = data[0]\n",
    "    return sentences"
   ]
  },
  {
   "cell_type": "code",
   "execution_count": 192,
   "metadata": {},
   "outputs": [],
   "source": [
    "def write_sentences_to_txt(sentences, filename):\n",
    "    with open(res(out_path + 'input-sentences/'+filename + '.txt'), 'w') as f:\n",
    "        for sentence in sentences:\n",
    "            sentence_string = \" \".join(sentence)\n",
    "            f.write(sentence_string + \"\\n\")"
   ]
  },
  {
   "cell_type": "code",
   "execution_count": 193,
   "metadata": {},
   "outputs": [],
   "source": [
    "# for border_size in border_sizes:\n",
    "#     train_sentences = get_sentences('train_'+ preprocessing_type +'.txt', border_size)\n",
    "#     test_sentences = get_sentences('test_'+ preprocessing_type +'.txt', border_size)\n",
    "#     write_sentences_to_txt(train_sentences, 'train_'+ preprocessing_type +'_border_' + str(border_size))\n",
    "#     write_sentences_to_txt(test_sentences, 'test_'+ preprocessing_type +'_border_' + str(border_size))"
   ]
  },
  {
   "cell_type": "markdown",
   "metadata": {},
   "source": [
    "## Now, proceed to generating the BERT embeddings using the scripts provided in pytorch inside the bert folder where these sentences are located"
   ]
  },
  {
   "cell_type": "markdown",
   "metadata": {},
   "source": [
    "### Now, we would like to read these BERT embeddings generated in the BERT folder and generate the json file without the word piece embeddings"
   ]
  },
  {
   "cell_type": "code",
   "execution_count": 194,
   "metadata": {},
   "outputs": [],
   "source": [
    "in_path = 'pre-processed/'+ preprocessing_type +'/bert-CLS/'\n",
    "out_path = 'pre-processed/' + preprocessing_type + '/bert-tokens/'"
   ]
  },
  {
   "cell_type": "code",
   "execution_count": 195,
   "metadata": {},
   "outputs": [],
   "source": [
    "if not os.path.exists(res(out_path)):\n",
    "    os.makedirs(res(out_path))\n",
    "border_size = -1\n",
    "train_filename = 'train_' + preprocessing_type + '_border_' + str(border_size) + '.json'\n",
    "test_filename = 'test_' + preprocessing_type + '_border_' + str(border_size) + '.json'"
   ]
  },
  {
   "cell_type": "code",
   "execution_count": 196,
   "metadata": {},
   "outputs": [],
   "source": [
    "utils.write_bert_tokens_without_word_pieces(res(in_path + train_filename), res(out_path + train_filename))"
   ]
  },
  {
   "cell_type": "code",
   "execution_count": 197,
   "metadata": {},
   "outputs": [],
   "source": [
    "utils.write_bert_tokens_without_word_pieces(res(in_path + test_filename), res(out_path + test_filename))"
   ]
  },
  {
   "cell_type": "code",
   "execution_count": 198,
   "metadata": {},
   "outputs": [],
   "source": [
    "import json\n",
    "with open(res(out_path + train_filename), 'r', encoding='utf-8') as file:\n",
    "    length = 0\n",
    "    for line in file.readlines():\n",
    "        data = json.loads(line)\n",
    "        length += 1"
   ]
  },
  {
   "cell_type": "code",
   "execution_count": 199,
   "metadata": {},
   "outputs": [
    {
     "data": {
      "text/plain": [
       "21233"
      ]
     },
     "execution_count": 199,
     "metadata": {},
     "output_type": "execute_result"
    }
   ],
   "source": [
    "length"
   ]
  },
  {
   "cell_type": "code",
   "execution_count": 200,
   "metadata": {},
   "outputs": [],
   "source": [
    "with open(res(out_path + test_filename), 'r', encoding='utf-8') as file:\n",
    "    length = 0\n",
    "    for line in file.readlines():\n",
    "        data = json.loads(line)\n",
    "        length += 1"
   ]
  },
  {
   "cell_type": "code",
   "execution_count": 201,
   "metadata": {},
   "outputs": [
    {
     "data": {
      "text/plain": [
       "4696"
      ]
     },
     "execution_count": 201,
     "metadata": {},
     "output_type": "execute_result"
    }
   ],
   "source": [
    "length"
   ]
  },
  {
   "cell_type": "code",
   "execution_count": null,
   "metadata": {},
   "outputs": [],
   "source": []
  }
 ],
 "metadata": {
  "kernelspec": {
   "display_name": "Python 3",
   "language": "python",
   "name": "python3"
  },
  "language_info": {
   "codemirror_mode": {
    "name": "ipython",
    "version": 3
   },
   "file_extension": ".py",
   "mimetype": "text/x-python",
   "name": "python",
   "nbconvert_exporter": "python",
   "pygments_lexer": "ipython3",
   "version": "3.6.6"
  }
 },
 "nbformat": 4,
 "nbformat_minor": 2
}
