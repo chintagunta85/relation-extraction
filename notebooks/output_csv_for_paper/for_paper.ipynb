{
 "cells": [
  {
   "cell_type": "code",
   "execution_count": 2,
   "metadata": {
    "collapsed": true
   },
   "outputs": [],
   "source": [
    "%load_ext autoreload"
   ]
  },
  {
   "cell_type": "code",
   "execution_count": 53,
   "metadata": {},
   "outputs": [],
   "source": [
    "%autoreload\n",
    "import os \n",
    "import pandas as pd\n",
    "folder = '/Users/geetickachauhan/relation-extraction/notebooks/'\n",
    "def res(path): return os.path.join(folder, path)"
   ]
  },
  {
   "cell_type": "code",
   "execution_count": 54,
   "metadata": {
    "collapsed": true
   },
   "outputs": [],
   "source": [
    "df = pd.read_csv(res('semeval-eval-metrics.csv'))"
   ]
  },
  {
   "cell_type": "code",
   "execution_count": 55,
   "metadata": {},
   "outputs": [
    {
     "data": {
      "text/html": [
       "<div>\n",
       "<style>\n",
       "    .dataframe thead tr:only-child th {\n",
       "        text-align: right;\n",
       "    }\n",
       "\n",
       "    .dataframe thead th {\n",
       "        text-align: left;\n",
       "    }\n",
       "\n",
       "    .dataframe tbody tr th {\n",
       "        vertical-align: top;\n",
       "    }\n",
       "</style>\n",
       "<table border=\"1\" class=\"dataframe\">\n",
       "  <thead>\n",
       "    <tr style=\"text-align: right;\">\n",
       "      <th></th>\n",
       "      <th>Model/Pre-proc Type</th>\n",
       "      <th>Accuracy</th>\n",
       "      <th>Micro-P</th>\n",
       "      <th>Micro-R</th>\n",
       "      <th>Micro-F1</th>\n",
       "      <th>Macro-P</th>\n",
       "      <th>Macro-R</th>\n",
       "      <th>Macro-F1</th>\n",
       "    </tr>\n",
       "  </thead>\n",
       "  <tbody>\n",
       "    <tr>\n",
       "      <th>0</th>\n",
       "      <td>Baseline</td>\n",
       "      <td>77.11</td>\n",
       "      <td>79.95</td>\n",
       "      <td>85.11</td>\n",
       "      <td>82.45</td>\n",
       "      <td>79.25</td>\n",
       "      <td>84.06</td>\n",
       "      <td>81.55</td>\n",
       "    </tr>\n",
       "    <tr>\n",
       "      <th>1</th>\n",
       "      <td>Entity Blinding</td>\n",
       "      <td>67.94</td>\n",
       "      <td>70.72</td>\n",
       "      <td>77.15</td>\n",
       "      <td>73.80</td>\n",
       "      <td>69.77</td>\n",
       "      <td>76.31</td>\n",
       "      <td>72.73</td>\n",
       "    </tr>\n",
       "    <tr>\n",
       "      <th>2</th>\n",
       "      <td>Punct and Digit</td>\n",
       "      <td>76.48</td>\n",
       "      <td>79.19</td>\n",
       "      <td>85.42</td>\n",
       "      <td>82.19</td>\n",
       "      <td>78.33</td>\n",
       "      <td>84.51</td>\n",
       "      <td>81.23</td>\n",
       "    </tr>\n",
       "    <tr>\n",
       "      <th>3</th>\n",
       "      <td>Punct, Digit and Stop</td>\n",
       "      <td>68.28</td>\n",
       "      <td>73.00</td>\n",
       "      <td>74.78</td>\n",
       "      <td>73.88</td>\n",
       "      <td>72.84</td>\n",
       "      <td>73.48</td>\n",
       "      <td>72.92</td>\n",
       "    </tr>\n",
       "    <tr>\n",
       "      <th>4</th>\n",
       "      <td>NER Blinding</td>\n",
       "      <td>77.25</td>\n",
       "      <td>79.30</td>\n",
       "      <td>86.03</td>\n",
       "      <td>82.53</td>\n",
       "      <td>78.49</td>\n",
       "      <td>85.13</td>\n",
       "      <td>81.63</td>\n",
       "    </tr>\n",
       "    <tr>\n",
       "      <th>5</th>\n",
       "      <td>Piecewise pool</td>\n",
       "      <td>77.00</td>\n",
       "      <td>79.54</td>\n",
       "      <td>85.55</td>\n",
       "      <td>82.44</td>\n",
       "      <td>78.86</td>\n",
       "      <td>84.71</td>\n",
       "      <td>81.59</td>\n",
       "    </tr>\n",
       "    <tr>\n",
       "      <th>6</th>\n",
       "      <td>ELMo</td>\n",
       "      <td>77.77</td>\n",
       "      <td>81.87</td>\n",
       "      <td>84.62</td>\n",
       "      <td>83.22</td>\n",
       "      <td>81.24</td>\n",
       "      <td>83.71</td>\n",
       "      <td>82.42</td>\n",
       "    </tr>\n",
       "    <tr>\n",
       "      <th>7</th>\n",
       "      <td>BERT-CLS</td>\n",
       "      <td>77.77</td>\n",
       "      <td>81.87</td>\n",
       "      <td>84.62</td>\n",
       "      <td>83.22</td>\n",
       "      <td>81.24</td>\n",
       "      <td>83.71</td>\n",
       "      <td>82.42</td>\n",
       "    </tr>\n",
       "    <tr>\n",
       "      <th>8</th>\n",
       "      <td>BERT-tokens</td>\n",
       "      <td>81.30</td>\n",
       "      <td>86.63</td>\n",
       "      <td>86.74</td>\n",
       "      <td>86.69</td>\n",
       "      <td>86.08</td>\n",
       "      <td>85.61</td>\n",
       "      <td>85.67</td>\n",
       "    </tr>\n",
       "  </tbody>\n",
       "</table>\n",
       "</div>"
      ],
      "text/plain": [
       "     Model/Pre-proc Type  Accuracy  Micro-P  Micro-R  Micro-F1  Macro-P  \\\n",
       "0               Baseline     77.11    79.95    85.11     82.45    79.25   \n",
       "1        Entity Blinding     67.94    70.72    77.15     73.80    69.77   \n",
       "2        Punct and Digit     76.48    79.19    85.42     82.19    78.33   \n",
       "3  Punct, Digit and Stop     68.28    73.00    74.78     73.88    72.84   \n",
       "4           NER Blinding     77.25    79.30    86.03     82.53    78.49   \n",
       "5         Piecewise pool     77.00    79.54    85.55     82.44    78.86   \n",
       "6                   ELMo     77.77    81.87    84.62     83.22    81.24   \n",
       "7               BERT-CLS     77.77    81.87    84.62     83.22    81.24   \n",
       "8            BERT-tokens     81.30    86.63    86.74     86.69    86.08   \n",
       "\n",
       "   Macro-R  Macro-F1  \n",
       "0    84.06     81.55  \n",
       "1    76.31     72.73  \n",
       "2    84.51     81.23  \n",
       "3    73.48     72.92  \n",
       "4    85.13     81.63  \n",
       "5    84.71     81.59  \n",
       "6    83.71     82.42  \n",
       "7    83.71     82.42  \n",
       "8    85.61     85.67  "
      ]
     },
     "execution_count": 55,
     "metadata": {},
     "output_type": "execute_result"
    }
   ],
   "source": [
    "df"
   ]
  },
  {
   "cell_type": "code",
   "execution_count": 56,
   "metadata": {
    "collapsed": true
   },
   "outputs": [],
   "source": [
    "# df.to_csv(res('map_for_paper.csv'), index=False)"
   ]
  },
  {
   "cell_type": "code",
   "execution_count": 57,
   "metadata": {
    "collapsed": true
   },
   "outputs": [],
   "source": [
    "# LEVEL2 = list(df['LEVEL2'].unique())"
   ]
  },
  {
   "cell_type": "code",
   "execution_count": null,
   "metadata": {
    "collapsed": true
   },
   "outputs": [],
   "source": [
    "# def pretty_print_semeval(df):\n",
    "# #     string = \n",
    "#     string = ''\n",
    "#     for index, row in df.iterrows():\n",
    "#         string += \"\\n \\\\hline \" \n",
    "#         counter = 0\n",
    "#         for r in row:\n",
    "#             string += '%s ' % r\n",
    "#             counter += 1\n",
    "#             if counter < len(row):\n",
    "#                 string += '& '\n",
    "#             elif counter == len(row):\n",
    "#                 string += ' \\\\\\\\'\n",
    "        \n",
    "# #         string += '''\\n \\\\hline \n",
    "# #         %s & %s & %s & %s & %s & %s & %s & %s  \\\\\\\\\n",
    "# #         '''%(row['Paper'], row['Cited by'], row['Code publicly available'], row['Ablation study'],\n",
    "# #             row['Mention Hyperparam Details'], row['Cross Val method details mentioned'],\n",
    "# #             row['Mention word embedding details'], row['Number of Datasets'])\n",
    "#     return string"
   ]
  },
  {
   "cell_type": "code",
   "execution_count": 58,
   "metadata": {
    "collapsed": true
   },
   "outputs": [],
   "source": [
    "def pretty_print_datasets(df):\n",
    "#     string = \n",
    "    string = ''\n",
    "    for index, row in df.iterrows():\n",
    "        string += \"\\n \\\\hline \" \n",
    "        counter = 0\n",
    "        for r in row:\n",
    "            string += '%s ' % r\n",
    "            counter += 1\n",
    "            if counter < len(row):\n",
    "                string += '& '\n",
    "            elif counter == len(row):\n",
    "                string += ' \\\\\\\\'\n",
    "        \n",
    "#         string += '''\\n \\\\hline \n",
    "#         %s & %s & %s & %s & %s & %s & %s & %s  \\\\\\\\\n",
    "#         '''%(row['Paper'], row['Cited by'], row['Code publicly available'], row['Ablation study'],\n",
    "#             row['Mention Hyperparam Details'], row['Cross Val method details mentioned'],\n",
    "#             row['Mention word embedding details'], row['Number of Datasets'])\n",
    "    return string"
   ]
  },
  {
   "cell_type": "code",
   "execution_count": 59,
   "metadata": {},
   "outputs": [
    {
     "name": "stdout",
     "output_type": "stream",
     "text": [
      "\n",
      " \\hline Baseline & 77.11 & 79.95 & 85.11 & 82.45 & 79.25 & 84.06 & 81.55  \\\\\n",
      " \\hline Entity Blinding & 67.94 & 70.72 & 77.15 & 73.8 & 69.77 & 76.31 & 72.73  \\\\\n",
      " \\hline Punct and Digit & 76.48 & 79.19 & 85.42 & 82.19 & 78.33 & 84.51 & 81.23  \\\\\n",
      " \\hline Punct, Digit and Stop & 68.28 & 73.0 & 74.78 & 73.88 & 72.84 & 73.48 & 72.92  \\\\\n",
      " \\hline NER Blinding & 77.25 & 79.3 & 86.03 & 82.53 & 78.49 & 85.13 & 81.63  \\\\\n",
      " \\hline Piecewise pool & 77.0 & 79.54 & 85.55 & 82.44 & 78.86 & 84.71 & 81.59  \\\\\n",
      " \\hline ELMo & 77.77 & 81.87 & 84.62 & 83.22 & 81.24 & 83.71 & 82.42  \\\\\n",
      " \\hline BERT-CLS & 77.77 & 81.87 & 84.62 & 83.22 & 81.24 & 83.71 & 82.42  \\\\\n",
      " \\hline BERT-tokens & 81.3 & 86.63 & 86.74 & 86.69 & 86.08 & 85.61 & 85.67  \\\\\n"
     ]
    }
   ],
   "source": [
    "print(pretty_print_datasets(df))"
   ]
  },
  {
   "cell_type": "code",
   "execution_count": 50,
   "metadata": {
    "collapsed": true
   },
   "outputs": [],
   "source": [
    "# def pretty_print_quant_review(df):\n",
    "# #     string = \n",
    "#     string = ''\n",
    "#     for index, row in df.iterrows():\n",
    "#         string += '''\\n \\\\hline \n",
    "#         %s & %s & %s & %s & %s & %s & %s & %s  \\\\\\\\\n",
    "#         '''%(row['Paper'], row['Cited by'], row['Code publicly available'], row['Ablation study'],\n",
    "#             row['Mention Hyperparam Details'], row['Cross Val method details mentioned'],\n",
    "#             row['Mention word embedding details'], row['Number of Datasets'])\n",
    "#     return string"
   ]
  },
  {
   "cell_type": "code",
   "execution_count": 52,
   "metadata": {},
   "outputs": [],
   "source": [
    "# print(pretty_print_quant_review(df))"
   ]
  },
  {
   "cell_type": "code",
   "execution_count": 94,
   "metadata": {
    "collapsed": true
   },
   "outputs": [],
   "source": [
    "# def pretty_print_per_LEVEL2(df, level2):\n",
    "#     df_tmp = df.loc[df['LEVEL2'] == level2].reset_index(drop=True)\n",
    "#     num_entries = len(df_tmp)\n",
    "#     row1 = df_tmp.iloc[0]\n",
    "#     string = '''\n",
    "#     \\n    \\\\hline\n",
    "#             \\\\multirow{%s}{5cm}{%s}    & %s    & %s    \\\\\\\\\n",
    "#     '''%(num_entries, row1['LEVEL2'], row1['ITEMID'], row1['LINKSTO'])\n",
    "#     for index, row in df_tmp.iterrows():\n",
    "#         if index == 0:\n",
    "#             continue\n",
    "#         string += '''\n",
    "#         \\n\\t\\t\\t\\t\\t\\t\\t& %s    & %s    \\\\\\\\\n",
    "#         '''%(row['ITEMID'], row['LINKSTO'])\n",
    "#     return string"
   ]
  },
  {
   "cell_type": "code",
   "execution_count": 95,
   "metadata": {
    "collapsed": true
   },
   "outputs": [],
   "source": [
    "# string = ''\n",
    "# for level2 in LEVEL2:\n",
    "#     string += pretty_print_per_LEVEL2(df, level2)"
   ]
  },
  {
   "cell_type": "code",
   "execution_count": 19,
   "metadata": {},
   "outputs": [],
   "source": [
    "# print(string)"
   ]
  },
  {
   "cell_type": "code",
   "execution_count": null,
   "metadata": {
    "collapsed": true
   },
   "outputs": [],
   "source": []
  }
 ],
 "metadata": {
  "kernelspec": {
   "display_name": "Python 2",
   "language": "python",
   "name": "python2"
  },
  "language_info": {
   "codemirror_mode": {
    "name": "ipython",
    "version": 2
   },
   "file_extension": ".py",
   "mimetype": "text/x-python",
   "name": "python",
   "nbconvert_exporter": "python",
   "pygments_lexer": "ipython2",
   "version": "2.7.13"
  }
 },
 "nbformat": 4,
 "nbformat_minor": 2
}
